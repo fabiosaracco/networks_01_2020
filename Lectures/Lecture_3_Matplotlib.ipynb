{
 "cells": [
  {
   "cell_type": "markdown",
   "metadata": {},
   "source": [
    "# Lecture 3: Matplotlib"
   ]
  },
  {
   "cell_type": "markdown",
   "metadata": {},
   "source": [
    "Matplotlib is the standard module for plots in python."
   ]
  },
  {
   "cell_type": "code",
   "execution_count": 2,
   "metadata": {
    "ExecuteTime": {
     "end_time": "2019-12-17T10:34:52.141718Z",
     "start_time": "2019-12-17T10:34:51.187121Z"
    }
   },
   "outputs": [],
   "source": [
    "import matplotlib\n",
    "import matplotlib.pyplot as plt\n",
    "import numpy as np"
   ]
  },
  {
   "cell_type": "code",
   "execution_count": 3,
   "metadata": {
    "ExecuteTime": {
     "end_time": "2019-12-17T10:34:52.148930Z",
     "start_time": "2019-12-17T10:34:52.146477Z"
    }
   },
   "outputs": [],
   "source": [
    "%matplotlib inline"
   ]
  },
  {
   "cell_type": "markdown",
   "metadata": {},
   "source": [
    "The above command makes matplotlib print inside the jupyter notebook"
   ]
  },
  {
   "cell_type": "markdown",
   "metadata": {},
   "source": [
    "## Basic plots"
   ]
  },
  {
   "cell_type": "markdown",
   "metadata": {},
   "source": [
    "We start by using the submodule pyplot of matplotlib. [Here](https://matplotlib.org/tutorials/introductory/pyplot.html) you can find an introduction to its basic functions. Let's summarize some of them."
   ]
  },
  {
   "cell_type": "markdown",
   "metadata": {},
   "source": [
    "matplotlib.pyplot is a collection of command style functions: each pyplot function makes some change to a figure: e.g., creates a figure, creates a plotting area in a figure, plots some lines in a plotting area, decorates the plot with labels, etc.\n",
    "\n",
    "In matplotlib.pyplot various states are preserved across function calls, so that it keeps track of things like the current figure and plotting area, and the plotting functions are directed to the current axes (please note that \"axes\" here and in most places in the documentation refers to the axes part of a figure and not the strict mathematical term for more than one axis)."
   ]
  },
  {
   "cell_type": "markdown",
   "metadata": {},
   "source": [
    "### Basics"
   ]
  },
  {
   "cell_type": "code",
   "execution_count": 5,
   "metadata": {
    "ExecuteTime": {
     "end_time": "2019-12-03T18:27:43.840250Z",
     "start_time": "2019-12-03T18:27:43.837948Z"
    }
   },
   "outputs": [],
   "source": [
    "t = np.arange(0., 5., 0.2)"
   ]
  },
  {
   "cell_type": "code",
   "execution_count": 6,
   "metadata": {},
   "outputs": [
    {
     "data": {
      "text/plain": [
       "array([0. , 0.2, 0.4, 0.6, 0.8, 1. , 1.2, 1.4, 1.6, 1.8, 2. , 2.2, 2.4,\n",
       "       2.6, 2.8, 3. , 3.2, 3.4, 3.6, 3.8, 4. , 4.2, 4.4, 4.6, 4.8])"
      ]
     },
     "execution_count": 6,
     "metadata": {},
     "output_type": "execute_result"
    }
   ],
   "source": [
    "t"
   ]
  },
  {
   "cell_type": "code",
   "execution_count": 7,
   "metadata": {},
   "outputs": [
    {
     "data": {
      "text/plain": [
       "array([0.00000e+00, 8.00000e-03, 6.40000e-02, 2.16000e-01, 5.12000e-01,\n",
       "       1.00000e+00, 1.72800e+00, 2.74400e+00, 4.09600e+00, 5.83200e+00,\n",
       "       8.00000e+00, 1.06480e+01, 1.38240e+01, 1.75760e+01, 2.19520e+01,\n",
       "       2.70000e+01, 3.27680e+01, 3.93040e+01, 4.66560e+01, 5.48720e+01,\n",
       "       6.40000e+01, 7.40880e+01, 8.51840e+01, 9.73360e+01, 1.10592e+02])"
      ]
     },
     "execution_count": 7,
     "metadata": {},
     "output_type": "execute_result"
    }
   ],
   "source": [
    "t**3"
   ]
  },
  {
   "cell_type": "code",
   "execution_count": 9,
   "metadata": {
    "ExecuteTime": {
     "end_time": "2019-12-03T18:27:44.394443Z",
     "start_time": "2019-12-03T18:27:44.245895Z"
    }
   },
   "outputs": [
    {
     "data": {
      "image/png": "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\n",
      "text/plain": [
       "<Figure size 432x288 with 1 Axes>"
      ]
     },
     "metadata": {
      "needs_background": "light"
     },
     "output_type": "display_data"
    }
   ],
   "source": [
    "plt.plot(t, t**3, linewidth=10, color='blue')\n",
    "plt.show()"
   ]
  },
  {
   "cell_type": "markdown",
   "metadata": {},
   "source": [
    "Otherwise you can modify the markers..."
   ]
  },
  {
   "cell_type": "code",
   "execution_count": 10,
   "metadata": {
    "ExecuteTime": {
     "end_time": "2019-12-03T18:28:32.431995Z",
     "start_time": "2019-12-03T18:28:32.311457Z"
    }
   },
   "outputs": [
    {
     "data": {
      "image/png": "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\n",
      "text/plain": [
       "<Figure size 432x288 with 1 Axes>"
      ]
     },
     "metadata": {
      "needs_background": "light"
     },
     "output_type": "display_data"
    }
   ],
   "source": [
    "plt.plot(t, t, 'r--', t, t**2, 'bs', t, t**3, 'g^')\n",
    "plt.show()"
   ]
  },
  {
   "cell_type": "markdown",
   "metadata": {},
   "source": [
    "r--= red dashed\n",
    "<br>bs= blue squares\n",
    "<br>g^= green triangles"
   ]
  },
  {
   "cell_type": "markdown",
   "metadata": {},
   "source": [
    "Anyway, better write few lines more, but make it more readable!"
   ]
  },
  {
   "cell_type": "code",
   "execution_count": 11,
   "metadata": {
    "ExecuteTime": {
     "end_time": "2019-12-03T18:29:50.765364Z",
     "start_time": "2019-12-03T18:29:50.644909Z"
    }
   },
   "outputs": [
    {
     "data": {
      "image/png": "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\n",
      "text/plain": [
       "<Figure size 432x288 with 1 Axes>"
      ]
     },
     "metadata": {
      "needs_background": "light"
     },
     "output_type": "display_data"
    }
   ],
   "source": [
    "plt.plot(t, t, 'r--')\n",
    "plt.plot(t, t**2, 'bs')\n",
    "plt.plot( t, t**3, 'g^')\n",
    "plt.show()"
   ]
  },
  {
   "cell_type": "markdown",
   "metadata": {},
   "source": [
    "But it looks like **scatter**:"
   ]
  },
  {
   "cell_type": "code",
   "execution_count": 12,
   "metadata": {},
   "outputs": [
    {
     "data": {
      "image/png": "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\n",
      "text/plain": [
       "<Figure size 432x288 with 1 Axes>"
      ]
     },
     "metadata": {
      "needs_background": "light"
     },
     "output_type": "display_data"
    }
   ],
   "source": [
    "plt.scatter(t, t**3, marker='^', c='g')\n",
    "plt.show()"
   ]
  },
  {
   "cell_type": "markdown",
   "metadata": {},
   "source": [
    "**bar** instead is the first idea of an histogram."
   ]
  },
  {
   "cell_type": "code",
   "execution_count": 17,
   "metadata": {
    "ExecuteTime": {
     "end_time": "2019-12-03T18:30:07.812922Z",
     "start_time": "2019-12-03T18:30:07.668715Z"
    }
   },
   "outputs": [
    {
     "data": {
      "image/png": "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\n",
      "text/plain": [
       "<Figure size 432x288 with 1 Axes>"
      ]
     },
     "metadata": {
      "needs_background": "light"
     },
     "output_type": "display_data"
    }
   ],
   "source": [
    "plt.bar(t, t**3, color='red', alpha=0.5)\n",
    "plt.scatter(t, t**3, marker='^', c='g')\n",
    "plt.show()"
   ]
  },
  {
   "cell_type": "markdown",
   "metadata": {},
   "source": [
    "**hist** instead makes exactly what an histogram is supposed to do"
   ]
  },
  {
   "cell_type": "code",
   "execution_count": 19,
   "metadata": {
    "ExecuteTime": {
     "end_time": "2019-12-03T18:30:33.551964Z",
     "start_time": "2019-12-03T18:30:33.549284Z"
    }
   },
   "outputs": [],
   "source": [
    "mu, sigma = 100, 15\n",
    "x = mu + sigma * np.random.randn(10000)"
   ]
  },
  {
   "cell_type": "markdown",
   "metadata": {},
   "source": [
    "x are the entries, 50 is the number of bins, _density=1_ means that it is normalised to one (as a probability distribution)"
   ]
  },
  {
   "cell_type": "code",
   "execution_count": 21,
   "metadata": {
    "ExecuteTime": {
     "end_time": "2019-12-03T18:30:35.215722Z",
     "start_time": "2019-12-03T18:30:35.029284Z"
    }
   },
   "outputs": [
    {
     "data": {
      "image/png": "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\n",
      "text/plain": [
       "<Figure size 432x288 with 1 Axes>"
      ]
     },
     "metadata": {
      "needs_background": "light"
     },
     "output_type": "display_data"
    }
   ],
   "source": [
    "plt.hist(x, 50, density=1, facecolor='g', alpha=0.75)\n",
    "plt.show()"
   ]
  },
  {
   "cell_type": "markdown",
   "metadata": {},
   "source": [
    "### Official Matplotlib colors\n",
    "![](../Images/l3_matplotlib_colors.webp)"
   ]
  },
  {
   "cell_type": "markdown",
   "metadata": {},
   "source": [
    "### Making the plots more beautiful (maybe)"
   ]
  },
  {
   "cell_type": "markdown",
   "metadata": {},
   "source": [
    "Adding the axes ticks, as well as zooming the plot and adding some random text."
   ]
  },
  {
   "cell_type": "code",
   "execution_count": 24,
   "metadata": {
    "ExecuteTime": {
     "end_time": "2019-12-03T18:32:01.646183Z",
     "start_time": "2019-12-03T18:32:01.524942Z"
    }
   },
   "outputs": [
    {
     "data": {
      "image/png": "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\n",
      "text/plain": [
       "<Figure size 432x288 with 1 Axes>"
      ]
     },
     "metadata": {
      "needs_background": "light"
     },
     "output_type": "display_data"
    }
   ],
   "source": [
    "plt.bar(t, t**3, color='red')\n",
    "plt.xlabel('x', fontsize=16) # x-label\n",
    "plt.ylabel('y') # y-label\n",
    "plt.title('Wonderful title', fontsize=32) #the title\n",
    "plt.text(3, 25, r'$\\phi$') # write something random somewhere with Latex\n",
    "plt.grid(True) # add a grid (beware! when printed quite always makes the plot unreadable)\n",
    "plt.xlim(2,4)\n",
    "plt.ylim(20,30) # Limit for the plot. For some reasons, you may be interested in zooming on a specific area.\n",
    "plt.xticks(np.linspace(2,4,3,endpoint=True), fontsize=20)\n",
    "plt.yticks(np.linspace(20,30,5,endpoint=False)) # selecting the ticks\n",
    "plt.show()"
   ]
  },
  {
   "cell_type": "markdown",
   "metadata": {},
   "source": [
    "Changing the **dimension of the fonts and the figures**. The ticks can be changed at pleasure."
   ]
  },
  {
   "cell_type": "code",
   "execution_count": 26,
   "metadata": {},
   "outputs": [
    {
     "data": {
      "image/png": "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\n",
      "text/plain": [
       "<Figure size 576x360 with 1 Axes>"
      ]
     },
     "metadata": {
      "needs_background": "light"
     },
     "output_type": "display_data"
    }
   ],
   "source": [
    "plt.figure(figsize=(8, 5)) # change the dimension of the figure\n",
    "plt.bar(t, t**3, color='red')\n",
    "\n",
    "plt.xlabel('x', size='10') # x-label\n",
    "plt.ylabel('y', size='10') # y-label\n",
    "\n",
    "plt.title('Wonderful title', size='16') #the title\n",
    "\n",
    "plt.text(3.5, 25, r'$\\phi$', size='18') # write something random somewhere\n",
    "\n",
    "plt.grid(True) # add a grid (beware! when printed quite always makes the plot unreadable)\n",
    "\n",
    "plt.xlim(2,4)\n",
    "plt.ylim(20,30) # Limit for the plot. For some reasons, you may be interested in zooming on a specific area.\n",
    "\n",
    "plt.xticks(np.linspace(2,4,3,endpoint=True), ['two', 'three', 'four'], size='12', family='sans', color='blue', rotation=15)\n",
    "plt.yticks(np.linspace(20,30,5,endpoint=False), size='8') # selecting the ticks\n",
    "\n",
    "plt.show()"
   ]
  },
  {
   "cell_type": "markdown",
   "metadata": {},
   "source": [
    "**Legend**"
   ]
  },
  {
   "cell_type": "code",
   "execution_count": 32,
   "metadata": {},
   "outputs": [
    {
     "data": {
      "image/png": "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\n",
      "text/plain": [
       "<Figure size 432x288 with 1 Axes>"
      ]
     },
     "metadata": {
      "needs_background": "light"
     },
     "output_type": "display_data"
    }
   ],
   "source": [
    "plt.plot(t, t**3, color=\"red\",linewidth=3., linestyle=\"--\", label=r\"$t^3$\")\n",
    "plt.plot(t, t**2, color=\"blue\", linewidth=2., linestyle=\"-.\", label=r\"$t^2$\")\n",
    "#plt.legend(loc='upper left', title=\"Legendary legend\", shadow=True, fontsize='14',fancybox=True)\n",
    "plt.legend(title=\"Legendary legend\", fontsize='14',fancybox=True)\n",
    "plt.show()"
   ]
  },
  {
   "cell_type": "markdown",
   "metadata": {},
   "source": [
    "Changing the scale"
   ]
  },
  {
   "cell_type": "code",
   "execution_count": 33,
   "metadata": {},
   "outputs": [
    {
     "data": {
      "image/png": "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\n",
      "text/plain": [
       "<Figure size 432x288 with 1 Axes>"
      ]
     },
     "metadata": {
      "needs_background": "light"
     },
     "output_type": "display_data"
    }
   ],
   "source": [
    "plt.plot(t, t**3, color=\"red\",linewidth=3., linestyle=\"--\", label=r\"$t^3$\")\n",
    "plt.plot(t, t**2, color=\"blue\", linewidth=2., linestyle=\"-.\", label=r\"$t^2$\")\n",
    "plt.yscale('log')\n",
    "plt.xscale('log')\n",
    "plt.legend(loc='upper left', title=\"Legendary legend\", shadow=True, fontsize='14',fancybox=True)\n",
    "plt.show()"
   ]
  },
  {
   "cell_type": "markdown",
   "metadata": {},
   "source": [
    "For some [odd reasons](https://stackoverflow.com/questions/12402561/how-to-set-font-size-of-matplotlib-axis-legend) changing the Legend title font size is far from being trivial"
   ]
  },
  {
   "cell_type": "code",
   "execution_count": 34,
   "metadata": {},
   "outputs": [
    {
     "data": {
      "image/png": "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\n",
      "text/plain": [
       "<Figure size 432x288 with 1 Axes>"
      ]
     },
     "metadata": {
      "needs_background": "light"
     },
     "output_type": "display_data"
    }
   ],
   "source": [
    "plt.plot(t, t**3, color=\"red\",linewidth=3., linestyle=\"--\", label=r\"$t^3$\")\n",
    "plt.plot(t, t**2, color=\"blue\", linewidth=2., linestyle=\"-.\", label=r\"$t^2$\")\n",
    "plt.yscale('log')\n",
    "plt.xscale('log')\n",
    "legend=plt.legend(loc='upper left', title=\"Legendary legend\", shadow=True, fontsize='14',fancybox=True)\n",
    "plt.setp(legend.get_title(),fontsize='16')\n",
    "plt.show()"
   ]
  },
  {
   "cell_type": "markdown",
   "metadata": {},
   "source": [
    "### Save me\n",
    "Quite easy!"
   ]
  },
  {
   "cell_type": "code",
   "execution_count": 35,
   "metadata": {
    "ExecuteTime": {
     "end_time": "2019-12-04T07:43:06.015843Z",
     "start_time": "2019-12-04T07:43:05.413029Z"
    }
   },
   "outputs": [
    {
     "data": {
      "image/png": "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\n",
      "text/plain": [
       "<Figure size 432x288 with 1 Axes>"
      ]
     },
     "metadata": {
      "needs_background": "light"
     },
     "output_type": "display_data"
    }
   ],
   "source": [
    "plt.plot(t, t**3, color=\"red\",linewidth=3., linestyle=\"--\", label=r\"$t^3$\")\n",
    "plt.plot(t, t**2, color=\"blue\", linewidth=2., linestyle=\"-.\", label=r\"$t^2$\")\n",
    "plt.yscale('log')\n",
    "plt.xscale('log')\n",
    "legend=plt.legend(loc='upper left', title=\"Legendary legend\", shadow=True, fontsize='14',fancybox=True)\n",
    "plt.setp(legend.get_title(),fontsize='16')\n",
    "plt.savefig('./Legendary.png')\n",
    "plt.show()"
   ]
  },
  {
   "cell_type": "markdown",
   "metadata": {},
   "source": [
    "Check!"
   ]
  },
  {
   "cell_type": "markdown",
   "metadata": {},
   "source": [
    "**Pay attention!** It overwrites! Check!"
   ]
  },
  {
   "cell_type": "code",
   "execution_count": 37,
   "metadata": {
    "ExecuteTime": {
     "end_time": "2019-12-04T07:44:24.800204Z",
     "start_time": "2019-12-04T07:44:24.603931Z"
    }
   },
   "outputs": [
    {
     "data": {
      "image/png": "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\n",
      "text/plain": [
       "<Figure size 432x288 with 1 Axes>"
      ]
     },
     "metadata": {
      "needs_background": "light"
     },
     "output_type": "display_data"
    }
   ],
   "source": [
    "plt.plot(t, t**3, color=\"red\",linewidth=3., linestyle=\"--\", label=r\"$t^3$\")\n",
    "plt.plot(t, t**2, color=\"blue\", linewidth=2., linestyle=\"-.\", label=r\"$t^2$\")\n",
    "plt.legend(loc='upper left', title=\"Legendary legend\", shadow=True, fontsize='14',fancybox=True)\n",
    "plt.savefig('./Legendary.png')\n",
    "plt.show()"
   ]
  },
  {
   "cell_type": "markdown",
   "metadata": {},
   "source": [
    "### Exercise: plot the $k^{nn}_i$ vs. $k_i$ for the Zachary Karate Club network\n",
    "Is the network assortative or disassortative?"
   ]
  },
  {
   "cell_type": "markdown",
   "metadata": {},
   "source": [
    "#### Load data"
   ]
  },
  {
   "cell_type": "code",
<<<<<<< HEAD
   "execution_count": 5,
   "metadata": {
    "ExecuteTime": {
     "end_time": "2019-12-17T10:35:02.702288Z",
     "start_time": "2019-12-17T10:35:02.635839Z"
    }
   },
   "outputs": [],
   "source": [
    "z_ed=np.genfromtxt('../Data/zachary.txt', skip_header=2, dtype='i8')-1"
   ]
  },
  {
   "cell_type": "markdown",
=======
   "execution_count": 38,
>>>>>>> d2099c8247dacd55a9820162054bdca9e48be529
   "metadata": {},
   "source": [
    "#### Degree sequence"
   ]
  },
  {
   "cell_type": "code",
   "execution_count": 27,
   "metadata": {
    "ExecuteTime": {
     "end_time": "2019-12-17T10:45:35.604817Z",
     "start_time": "2019-12-17T10:45:35.602351Z"
    }
   },
   "outputs": [],
   "source": [
<<<<<<< HEAD
    "nodes, k=np.unique(z_ed, return_counts=True)\n",
    "l_z=len(nodes)"
   ]
  },
  {
   "cell_type": "markdown",
   "metadata": {},
   "source": [
    "#### $k^{nn}$"
   ]
  },
  {
   "cell_type": "markdown",
   "metadata": {},
   "source": [
    "Let us calculate the adjacency list from the edge list."
=======
    "zack=np.genfromtxt('../Data/zachary.txt', skip_header=2, dtype='i8')-1"
>>>>>>> d2099c8247dacd55a9820162054bdca9e48be529
   ]
  },
  {
   "cell_type": "code",
<<<<<<< HEAD
   "execution_count": 73,
   "metadata": {
    "ExecuteTime": {
     "end_time": "2019-12-17T11:13:03.656585Z",
     "start_time": "2019-12-17T11:13:03.654156Z"
    }
   },
   "outputs": [],
   "source": [
    "wh_0=np.where(z_ed==0)"
   ]
  },
  {
   "cell_type": "code",
   "execution_count": 74,
   "metadata": {
    "ExecuteTime": {
     "end_time": "2019-12-17T11:13:04.046849Z",
     "start_time": "2019-12-17T11:13:04.043582Z"
    }
   },
   "outputs": [
    {
     "name": "stdout",
     "output_type": "stream",
     "text": [
      "1\n",
      "2\n",
      "3\n",
      "4\n",
      "5\n",
      "6\n",
      "7\n",
      "8\n",
      "10\n",
      "11\n",
      "12\n",
      "13\n",
      "17\n",
      "19\n",
      "21\n",
      "31\n"
     ]
    }
   ],
   "source": [
    "for i_w in range(len(wh_0[0])):\n",
    "    w_0=wh_0[0][i_w]\n",
    "    w_1=wh_0[1][i_w]\n",
    "    print(z_ed[w_0, int(not w_1)])"
   ]
  },
  {
   "cell_type": "code",
   "execution_count": 75,
   "metadata": {
    "ExecuteTime": {
     "end_time": "2019-12-17T11:13:04.497171Z",
     "start_time": "2019-12-17T11:13:04.493663Z"
    }
   },
   "outputs": [],
   "source": [
    "adjl=np.zeros(l_z, dtype='object')\n",
    "for n in nodes:\n",
    "    wh_0=np.where(z_ed==n)\n",
    "    adjl[n]=np.array([z_ed[wh_0[0][i_w], int(not wh_0[1][i_w])] for i_w in range(len(wh_0[0]))])"
   ]
  },
  {
   "cell_type": "markdown",
   "metadata": {},
   "source": [
    "Now, let us use the adjacency list for calculating the $k^{nn}$ (as we did in the Lecture_2)."
   ]
  },
  {
   "cell_type": "code",
   "execution_count": 76,
   "metadata": {
    "ExecuteTime": {
     "end_time": "2019-12-17T11:14:03.205765Z",
     "start_time": "2019-12-17T11:14:03.202855Z"
    }
   },
   "outputs": [],
   "source": [
    "k_nn=np.zeros(l_z)\n",
    "for i_adjl, aa in enumerate(adjl):\n",
    "    k_nn[i_adjl]=np.sum(k[aa])/k[i_adjl]"
   ]
  },
  {
   "cell_type": "code",
   "execution_count": 77,
   "metadata": {
    "ExecuteTime": {
     "end_time": "2019-12-17T11:14:03.658910Z",
     "start_time": "2019-12-17T11:14:03.655640Z"
    }
   },
   "outputs": [
    {
     "data": {
      "text/plain": [
       "array([ 4.3125    ,  5.77777778,  6.6       ,  7.66666667,  7.66666667,\n",
       "        6.25      ,  6.25      , 10.25      , 11.8       , 13.5       ,\n",
       "        7.66666667, 16.        , 11.        , 11.6       , 14.5       ,\n",
       "       14.5       ,  4.        , 12.5       , 14.5       , 14.        ,\n",
       "       14.5       , 12.5       , 14.5       ,  8.        ,  4.33333333,\n",
       "        4.66666667, 10.5       ,  8.75      , 11.        ,  9.        ,\n",
       "       10.75      ,  9.        ,  5.08333333,  3.82352941])"
      ]
     },
     "execution_count": 77,
     "metadata": {},
     "output_type": "execute_result"
    }
   ],
   "source": [
    "k_nn"
   ]
  },
  {
   "cell_type": "code",
   "execution_count": 78,
   "metadata": {
    "ExecuteTime": {
     "end_time": "2019-12-17T11:14:04.170781Z",
     "start_time": "2019-12-17T11:14:04.167507Z"
    }
   },
   "outputs": [
    {
     "data": {
      "text/plain": [
       "4.588235294117647"
      ]
     },
     "execution_count": 78,
     "metadata": {},
     "output_type": "execute_result"
    }
   ],
   "source": [
    "np.sum(k)/l_z"
   ]
  },
  {
   "cell_type": "markdown",
   "metadata": {},
   "source": [
    "#### Plot 0"
=======
   "execution_count": 40,
   "metadata": {},
   "outputs": [],
   "source": [
    "zack_nodes, k_zn=np.unique(zack, return_counts=True)"
>>>>>>> d2099c8247dacd55a9820162054bdca9e48be529
   ]
  },
  {
   "cell_type": "code",
<<<<<<< HEAD
   "execution_count": 79,
   "metadata": {
    "ExecuteTime": {
     "end_time": "2019-12-17T11:14:15.866502Z",
     "start_time": "2019-12-17T11:14:15.682946Z"
    }
   },
   "outputs": [
    {
     "data": {
      "image/png": "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\n",
      "text/plain": [
       "<Figure size 576x576 with 1 Axes>"
      ]
     },
     "metadata": {
      "needs_background": "light"
     },
     "output_type": "display_data"
    }
   ],
   "source": [
    "plt.figure(figsize=(8,8))\n",
    "plt.plot(np.arange(19), np.ones(19)*np.sum(k_nn)/l_z, linestyle='--', color='red')\n",
    "plt.scatter(k, k_nn, color='teal')\n",
    "plt.xlim(0, 18)\n",
    "plt.ylim(3, 17)\n",
    "plt.xlabel(r'$k$', size='18')\n",
    "plt.ylabel(r'$k^{nn}$', size='18')\n",
    "plt.title('Assortativity', fontsize=20)\n",
    "plt.show()"
   ]
  },
  {
   "cell_type": "markdown",
   "metadata": {},
   "source": [
    "#### Plot 1\n",
    "Actually, as Prof. Caldarelli said, the trend is much clearer once we plot $\\langle k^{nn}\\rangle$ vs. $k$."
   ]
  },
  {
   "cell_type": "code",
   "execution_count": 82,
   "metadata": {
    "ExecuteTime": {
     "end_time": "2019-12-17T11:15:09.354252Z",
     "start_time": "2019-12-17T11:15:09.351922Z"
    }
   },
   "outputs": [],
   "source": [
    "k_unique=np.unique(k, return_inverse=True, return_counts=True)"
   ]
  },
  {
   "cell_type": "code",
   "execution_count": 83,
   "metadata": {
    "ExecuteTime": {
     "end_time": "2019-12-17T11:15:09.865164Z",
     "start_time": "2019-12-17T11:15:09.861838Z"
    }
   },
   "outputs": [
    {
     "data": {
      "text/plain": [
       "(array([ 1,  2,  3,  4,  5,  6,  9, 10, 12, 16, 17]),\n",
       " array([ 9,  6,  7,  5,  2,  3,  3,  3,  4,  1,  2,  0,  1,  4,  1,  1,  1,\n",
       "         1,  1,  2,  1,  1,  1,  4,  2,  2,  1,  3,  2,  3,  3,  5,  8, 10]),\n",
       " array([ 1, 11,  6,  6,  3,  2,  1,  1,  1,  1,  1]))"
      ]
     },
     "execution_count": 83,
     "metadata": {},
     "output_type": "execute_result"
    }
   ],
   "source": [
    "k_unique"
=======
   "execution_count": 42,
   "metadata": {},
   "outputs": [],
   "source": [
    "zack_adjl={}\n",
    "for zn in zack:\n",
    "    # first node\n",
    "    if zn[0] in zack_adjl.keys():\n",
    "        zack_adjl[zn[0]].append(zn[1])\n",
    "    else:\n",
    "        zack_adjl[zn[0]]=[zn[1]]\n",
    "    # second node\n",
    "    if zn[1] in zack_adjl.keys():\n",
    "        zack_adjl[zn[1]].append(zn[0])\n",
    "    else:\n",
    "        zack_adjl[zn[1]]=[zn[0]]\n"
>>>>>>> d2099c8247dacd55a9820162054bdca9e48be529
   ]
  },
  {
   "cell_type": "code",
<<<<<<< HEAD
   "execution_count": 84,
   "metadata": {
    "ExecuteTime": {
     "end_time": "2019-12-17T11:15:11.963422Z",
     "start_time": "2019-12-17T11:15:11.960613Z"
    }
   },
   "outputs": [],
   "source": [
    "k_nn_unique=np.zeros(len(k_unique[0]))\n",
    "for i_kk, kk in enumerate(k_unique[0]):\n",
    "    k_nn_unique[i_kk]=np.mean(k_nn[k_unique[1]==i_kk])"
=======
   "execution_count": 44,
   "metadata": {},
   "outputs": [],
   "source": [
    "zack_knn=np.zeros(len(zack_nodes))\n",
    "\n",
    "for i_zn, zn in enumerate(zack_nodes):\n",
    "    zn_conns=zack_adjl[zn]\n",
    "    zn_k=len(zn_conns)\n",
    "    aux=0\n",
    "    for _zn in zn_conns:\n",
    "        aux+=len(zack_adjl[_zn])\n",
    "    zack_knn[i_zn]=aux/zn_k"
>>>>>>> d2099c8247dacd55a9820162054bdca9e48be529
   ]
  },
  {
   "cell_type": "code",
<<<<<<< HEAD
   "execution_count": 89,
   "metadata": {
    "ExecuteTime": {
     "end_time": "2019-12-17T11:15:55.319515Z",
     "start_time": "2019-12-17T11:15:55.132487Z"
    }
   },
   "outputs": [
    {
     "data": {
      "image/png": "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\n",
      "text/plain": [
       "<Figure size 576x576 with 1 Axes>"
=======
   "execution_count": 49,
   "metadata": {},
   "outputs": [
    {
     "data": {
      "image/png": "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\n",
      "text/plain": [
       "<Figure size 432x288 with 1 Axes>"
>>>>>>> d2099c8247dacd55a9820162054bdca9e48be529
      ]
     },
     "metadata": {
      "needs_background": "light"
     },
     "output_type": "display_data"
    }
   ],
   "source": [
<<<<<<< HEAD
    "plt.figure(figsize=(8,8))\n",
    "plt.plot(np.arange(19), np.ones(19)*np.sum(k_nn)/l_z, linestyle='--', color='red')\n",
    "plt.scatter(k_unique[0], k_nn_unique, color='teal')\n",
    "plt.xlim(0, 18)\n",
    "plt.ylim(3, 17)\n",
    "plt.xlabel(r'$k$', size='18')\n",
    "plt.ylabel(r'$\\langle k^{nn}\\rangle$', size='18')\n",
    "plt.title('Assortativity', fontsize=20)\n",
=======
    "plt.scatter(zack_knn, k_zn)\n",
    "plt.xlabel(r'$k$', fontsize=14)\n",
    "plt.ylabel(r'$k^{nn}$', fontsize=14)\n",
>>>>>>> d2099c8247dacd55a9820162054bdca9e48be529
    "plt.show()"
   ]
  },
  {
   "cell_type": "markdown",
   "metadata": {},
   "source": [
    "### Exercise: plot the $C_i$ vs. $k_i$ for the Zachary Karate Club network"
   ]
  },
  {
   "cell_type": "code",
   "execution_count": null,
   "metadata": {},
   "outputs": [],
   "source": []
  },
  {
   "cell_type": "markdown",
   "metadata": {},
   "source": [
    "## Extra: more details about the structure of the plot"
   ]
  },
  {
   "cell_type": "markdown",
   "metadata": {},
   "source": [
    "Actually, matplotlib's a mess. And the original help does not help at all. \n",
    "Before starting, **PAY ATTENTION!!** Instances for pyplot not always are the same for axes. For more details, take a look at [axes official reference](https://matplotlib.org/api/axes_api.html)<br/>\n",
    "The functions we used above are for pyplot (for the moment let us forget about the axes)."
   ]
  },
  {
   "cell_type": "markdown",
   "metadata": {},
   "source": [
    "Indeed, the Matplotlib  plot structure is far from being trivial:\n",
    "![Matplotlib](../Images/l3_structure.webp)\n",
    "[The original post from matplotlib website](https://matplotlib.org/tutorials/introductory/usage.html#sphx-glr-tutorials-introductory-usage-py)"
   ]
  },
  {
   "cell_type": "markdown",
   "metadata": {},
   "source": [
    "**Figure**: The whole figure. The figure keeps track of all the child Axes, a smattering of 'special' artists (titles, figure legends, etc), and the canvas. A figure can have any number of Axes, but to be useful should have at least one."
   ]
  },
  {
   "cell_type": "code",
   "execution_count": 3,
   "metadata": {
    "ExecuteTime": {
     "end_time": "2019-12-03T18:21:53.971487Z",
     "start_time": "2019-12-03T18:21:53.908930Z"
    }
   },
   "outputs": [
    {
     "data": {
      "text/plain": [
       "Text(0.5, 0.98, 'No axes on this figure')"
      ]
     },
     "execution_count": 3,
     "metadata": {},
     "output_type": "execute_result"
    },
    {
     "data": {
      "text/plain": [
       "<Figure size 432x288 with 0 Axes>"
      ]
     },
     "metadata": {},
     "output_type": "display_data"
    }
   ],
   "source": [
    "fig = plt.figure()\n",
    "fig.suptitle('No axes on this figure')"
   ]
  },
  {
   "cell_type": "code",
   "execution_count": 4,
   "metadata": {
    "ExecuteTime": {
     "end_time": "2019-12-03T18:21:55.956390Z",
     "start_time": "2019-12-03T18:21:55.608752Z"
    }
   },
   "outputs": [
    {
     "data": {
      "image/png": "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\n",
      "text/plain": [
       "<Figure size 432x288 with 4 Axes>"
      ]
     },
     "metadata": {
      "needs_background": "light"
     },
     "output_type": "display_data"
    }
   ],
   "source": [
    "fig, ax_lst = plt.subplots(2, 2)\n",
    "fig.suptitle('Bleah')\n",
    "plt.show()"
   ]
  },
  {
   "cell_type": "markdown",
   "metadata": {},
   "source": [
    "**Axes**: This is what you think of as 'a plot', it is the region of the image with the data space. A given figure can contain many Axes, but a given Axes object can only be in one Figure. In the previous plot, Axes are nothing but the four panels and are listed in *ax_lst*.\n",
    "\n",
    "The Matplotlib crew knows how to make things clear: «The Axes contains two […] Axis objects (be aware of the difference between Axes and Axis) which take care of the data limits (the data limits can also be controlled via set via the set_xlim() and set_ylim() Axes methods)».\n",
    "\n",
    "It just means that Axis are axis in the plot, while Axes are the image in which Axis are in."
   ]
  },
  {
   "cell_type": "markdown",
   "metadata": {},
   "source": [
    "Each Axes has a title (set via set_title()), an x-label (set via set_xlabel()), and a y-label set via set_ylabel())."
   ]
  },
  {
   "cell_type": "code",
   "execution_count": 5,
   "metadata": {
    "ExecuteTime": {
     "end_time": "2019-12-03T18:22:12.497371Z",
     "start_time": "2019-12-03T18:22:12.121205Z"
    }
   },
   "outputs": [
    {
     "data": {
      "image/png": "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\n",
      "text/plain": [
       "<Figure size 432x288 with 4 Axes>"
      ]
     },
     "metadata": {
      "needs_background": "light"
     },
     "output_type": "display_data"
    }
   ],
   "source": [
    "fig, ax_lst = plt.subplots(2, 2)\n",
    "fig.suptitle('Bleah')\n",
    "ax_lst[0,1].set_title('cacca')\n",
    "plt.show()"
   ]
  },
  {
   "cell_type": "code",
   "execution_count": 6,
   "metadata": {
    "ExecuteTime": {
     "end_time": "2019-12-03T18:22:18.415338Z",
     "start_time": "2019-12-03T18:22:18.057508Z"
    }
   },
   "outputs": [
    {
     "data": {
      "image/png": "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\n",
      "text/plain": [
       "<Figure size 432x288 with 4 Axes>"
      ]
     },
     "metadata": {
      "needs_background": "light"
     },
     "output_type": "display_data"
    }
   ],
   "source": [
    "fig, ax_lst = plt.subplots(2, 2)\n",
    "fig.suptitle('Bleah')\n",
    "ax_lst[0,1].set_title('cacca')\n",
    "ax_lst[0,1].plot([1, 2,3,4], [1, 2,3,4])\n",
    "plt.show()"
   ]
  },
  {
   "cell_type": "markdown",
   "metadata": {},
   "source": [
    "**Axis**: these are the number-line-like objects. They take care of setting the graph limits and generating the ticks (the marks on the axis) and ticklabels (strings labeling the ticks)."
   ]
  },
  {
   "cell_type": "code",
   "execution_count": 7,
   "metadata": {
    "ExecuteTime": {
     "end_time": "2019-12-03T18:22:27.299053Z",
     "start_time": "2019-12-03T18:22:26.918287Z"
    }
   },
   "outputs": [
    {
     "data": {
      "image/png": "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\n",
      "text/plain": [
       "<Figure size 432x288 with 4 Axes>"
      ]
     },
     "metadata": {
      "needs_background": "light"
     },
     "output_type": "display_data"
    }
   ],
   "source": [
    "fig, ax_lst = plt.subplots(2, 2)\n",
    "fig.suptitle('Bleah')\n",
    "ax_lst[0,1].set_title('cacca')\n",
    "ax_lst[0,1].plot([0, 1, 2,3,4], [0, 1, 2,3,4])\n",
    "ax_lst[0,1].axis([0, 4, 0, 2])\n",
    "plt.show()"
   ]
  },
  {
   "cell_type": "markdown",
   "metadata": {},
   "source": [
    "**Artist**: basically everything you can see on the figure is an artist (even the Figure, Axes, and Axis objects) (*so why calling it artist?*). Most Artists are tied to an Axes; such an Artist cannot be shared by multiple Axes, or moved from one to another."
   ]
  },
  {
   "cell_type": "code",
   "execution_count": null,
   "metadata": {},
   "outputs": [],
   "source": []
  }
 ],
 "metadata": {
  "kernelspec": {
   "display_name": "Python 3",
   "language": "python",
   "name": "python3"
  },
  "language_info": {
   "codemirror_mode": {
    "name": "ipython",
    "version": 3
   },
   "file_extension": ".py",
   "mimetype": "text/x-python",
   "name": "python",
   "nbconvert_exporter": "python",
   "pygments_lexer": "ipython3",
   "version": "3.5.2"
  },
  "latex_envs": {
   "LaTeX_envs_menu_present": true,
   "autoclose": false,
   "autocomplete": true,
   "bibliofile": "biblio.bib",
   "cite_by": "apalike",
   "current_citInitial": 1,
   "eqLabelWithNumbers": true,
   "eqNumInitial": 1,
   "hotkeys": {
    "equation": "Ctrl-E",
    "itemize": "Ctrl-I"
   },
   "labels_anchors": false,
   "latex_user_defs": false,
   "report_style_numbering": false,
   "user_envs_cfg": false
  },
  "toc": {
   "base_numbering": 1,
   "nav_menu": {},
   "number_sections": false,
   "sideBar": true,
   "skip_h1_title": true,
   "title_cell": "Table of Contents",
   "title_sidebar": "Contents",
   "toc_cell": false,
   "toc_position": {},
   "toc_section_display": true,
   "toc_window_display": true
  },
  "varInspector": {
   "cols": {
    "lenName": 16,
    "lenType": 16,
    "lenVar": 40
   },
   "kernels_config": {
    "python": {
     "delete_cmd_postfix": "",
     "delete_cmd_prefix": "del ",
     "library": "var_list.py",
     "varRefreshCmd": "print(var_dic_list())"
    },
    "r": {
     "delete_cmd_postfix": ") ",
     "delete_cmd_prefix": "rm(",
     "library": "var_list.r",
     "varRefreshCmd": "cat(var_dic_list()) "
    }
   },
   "types_to_exclude": [
    "module",
    "function",
    "builtin_function_or_method",
    "instance",
    "_Feature"
   ],
   "window_display": false
  }
 },
 "nbformat": 4,
 "nbformat_minor": 2
}
