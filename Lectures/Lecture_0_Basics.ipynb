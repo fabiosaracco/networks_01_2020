{
 "cells": [
  {
   "cell_type": "markdown",
   "metadata": {},
   "source": [
    "# Lecture 0. Basics"
   ]
  },
  {
   "cell_type": "markdown",
   "metadata": {},
   "source": [
    "## Before Python, what is a Jupyter notebook? "
   ]
  },
  {
   "cell_type": "markdown",
   "metadata": {},
   "source": [
    "[Go to the Documentation](https://jupyter-notebook.readthedocs.io/en/stable/notebook.html)\n",
    "![](../Images/l0_jupy_doc.png)\n",
    "<br/>A part from a lot of blah, blah, blah, the important thing is that it is a\n",
    ">_A web application: a browser-based tool for interactive authoring of documents which combine explanatory text, mathematics, computations and their rich media output._\n",
    "\n",
    "That is still a lot of blah blah blah.  \n",
    "\n",
    "Roughly speaking it is a document that embeds [markdown](https://daringfireball.net/projects/markdown/syntax) cells (like this one), where you can put some texts, image, formulas and comments to your code (see the proper description [here](https://jupyter-notebook.readthedocs.io/en/stable/notebook.html#markdown-cells)) and [code cells](https://jupyter-notebook.readthedocs.io/en/stable/notebook.html#code-cells), i.e. the one in which python run."
   ]
  },
  {
   "cell_type": "markdown",
   "metadata": {},
   "source": [
    "As a general rule, cell with a green edge are in _insert_ mode, while blue are in _navigation_ (no-insert) mode. By pressing **Esc** you pass from insert to navigation, by pressing **Enter** you pass to insert mode."
   ]
  },
  {
   "cell_type": "markdown",
   "metadata": {},
   "source": [
    "### Navigation mode\n",
    "You are in navigation mode when you have a blue bar at left of your cell. Press **h** (*help*) in order to visualize the Navigation mode commands."
   ]
  },
  {
   "cell_type": "markdown",
   "metadata": {},
   "source": [
    "Among others:\n",
    "1. **a**: add a cell above;\n",
    "2. **b**: add a cell below;\n",
    "3. **c**: copy cell;\n",
    "4. **v**: paste copied cell below;\n",
    "5. **V**: paste copied cell above;\n",
    "6. **dd**: delete cell;\n",
    "7. **z**: undo the last delete command.\n",
    "8. **l**: toggle line numbering in the cell."
   ]
  },
  {
   "cell_type": "markdown",
   "metadata": {},
   "source": [
    "In navigation mode, you can decide the type of the cell you selected: **y** for coding, **m** to markdown. "
   ]
  },
  {
   "cell_type": "markdown",
   "metadata": {},
   "source": [
    "### Insert mode"
   ]
  },
  {
   "cell_type": "markdown",
   "metadata": {},
   "source": [
    "#### Markdown"
   ]
  },
  {
   "cell_type": "markdown",
   "metadata": {},
   "source": [
    "Markdown  was invented by John Gruber\n",
    ">to write using an easy-to-read and easy-to-write plain text format, optionally convert it to structurally valid XHTML (or HTML)\n",
    "\n",
    "As you can see, from this cell and from the ones above, there is a [multitude](https://en.wikipedia.org/wiki/Multitude) of **things** that you can write with Markdown, without being too _heavy_ or *squared*. For what its worth, I can even write $\\cos(\\theta)$!"
   ]
  },
  {
   "cell_type": "markdown",
   "metadata": {},
   "source": [
    "#### Code Cell"
   ]
  },
  {
   "cell_type": "markdown",
   "metadata": {},
   "source": [
    "In order to evaluate the code cell: **Shift**+**Enter**. It is not (so) important the order of the code cell, but the order in which you evaluate them. We will focus more on that in the following."
   ]
  },
  {
   "cell_type": "markdown",
   "metadata": {},
   "source": [
    "### More information"
   ]
  },
  {
   "cell_type": "markdown",
   "metadata": {
    "ExecuteTime": {
     "end_time": "2019-11-22T13:18:50.699785Z",
     "start_time": "2019-11-22T13:18:50.696751Z"
    }
   },
   "source": [
    "[The official website of Jupyter](https://jupyter.org/index.html)"
   ]
  },
  {
   "cell_type": "markdown",
   "metadata": {},
   "source": [
    "## Python basics\n",
    "Refer to everything you can find online about python basics. Personally I find this **Automate the boring stuff with Python** [here](https://automatetheboringstuff.com/), by *Al Sweigart* interesting, but it is up to you. All the code of the present lecture is _inspired_ from the first 5 chapters there."
   ]
  },
  {
   "cell_type": "markdown",
   "metadata": {},
   "source": [
    "> Like a wizard-in-training, you might think these concepts seem arcane and tedious, but with some knowledge and practice, you’ll be able to command your computer like a magic wand to perform incredible feats.\n",
    "\n",
    "--_Al Sweigart_"
   ]
  },
  {
   "cell_type": "markdown",
   "metadata": {},
   "source": [
    "We are using **Python 3**."
   ]
  },
  {
   "cell_type": "markdown",
   "metadata": {},
   "source": [
    "#### The cell"
   ]
  },
  {
   "cell_type": "markdown",
   "metadata": {},
   "source": [
    "The most basic use of a code cell is to use it as a calculator."
   ]
  },
  {
   "cell_type": "code",
   "execution_count": 3,
   "metadata": {
    "ExecuteTime": {
     "end_time": "2019-11-22T13:34:46.580676Z",
     "start_time": "2019-11-22T13:34:46.573627Z"
    }
   },
   "outputs": [
    {
     "data": {
      "text/plain": [
       "5"
      ]
     },
     "execution_count": 3,
     "metadata": {},
     "output_type": "execute_result"
    }
   ],
   "source": [
    "2+3"
   ]
  },
  {
   "cell_type": "markdown",
   "metadata": {},
   "source": [
    "Comment (#) something inside the cell in order to avoid its evaluation."
   ]
  },
  {
   "cell_type": "code",
   "execution_count": 4,
   "metadata": {
    "ExecuteTime": {
     "end_time": "2019-11-22T13:35:39.675456Z",
     "start_time": "2019-11-22T13:35:39.672694Z"
    }
   },
   "outputs": [
    {
     "data": {
      "text/plain": [
       "2"
      ]
     },
     "execution_count": 4,
     "metadata": {},
     "output_type": "execute_result"
    }
   ],
   "source": [
    "2#+2"
   ]
  },
  {
   "cell_type": "markdown",
   "metadata": {},
   "source": [
    "So far, the cell makes a calculation and returns the results. Is it true?"
   ]
  },
  {
   "cell_type": "code",
   "execution_count": 5,
   "metadata": {
    "ExecuteTime": {
     "end_time": "2019-11-22T13:36:15.451054Z",
     "start_time": "2019-11-22T13:36:15.448458Z"
    }
   },
   "outputs": [
    {
     "data": {
      "text/plain": [
       "42"
      ]
     },
     "execution_count": 5,
     "metadata": {},
     "output_type": "execute_result"
    }
   ],
   "source": [
    "2+2\n",
    "42"
   ]
  },
  {
   "cell_type": "markdown",
   "metadata": {},
   "source": [
    "Only the output of the last command is shown. Otherwise, use print "
   ]
  },
  {
   "cell_type": "code",
   "execution_count": 6,
   "metadata": {
    "ExecuteTime": {
     "end_time": "2019-11-22T13:36:22.819180Z",
     "start_time": "2019-11-22T13:36:22.816119Z"
    }
   },
   "outputs": [
    {
     "name": "stdout",
     "output_type": "stream",
     "text": [
      "4\n"
     ]
    },
    {
     "data": {
      "text/plain": [
       "42"
      ]
     },
     "execution_count": 6,
     "metadata": {},
     "output_type": "execute_result"
    }
   ],
   "source": [
    "print(2+2)\n",
    "42"
   ]
  },
  {
   "cell_type": "markdown",
   "metadata": {},
   "source": [
    "print is a function (it has the parenthesis). In **Python 2.7** it does not need parenthesis. "
   ]
  },
  {
   "cell_type": "markdown",
   "metadata": {},
   "source": [
    "## Data types, basic operations and variables"
   ]
  },
  {
   "cell_type": "markdown",
   "metadata": {},
   "source": [
    "#### Data type: integers, floating points and strings"
   ]
  },
  {
   "cell_type": "markdown",
   "metadata": {},
   "source": [
    "Integers are integers (it makes sense...), floating points (floats for friends) are number with decimal points (a dot). The function type returns the data type:"
   ]
  },
  {
   "cell_type": "code",
   "execution_count": 7,
   "metadata": {
    "ExecuteTime": {
     "end_time": "2019-11-22T13:37:06.411335Z",
     "start_time": "2019-11-22T13:37:06.408311Z"
    }
   },
   "outputs": [
    {
     "data": {
      "text/plain": [
       "int"
      ]
     },
     "execution_count": 7,
     "metadata": {},
     "output_type": "execute_result"
    }
   ],
   "source": [
    "type(42)"
   ]
  },
  {
   "cell_type": "code",
   "execution_count": 8,
   "metadata": {
    "ExecuteTime": {
     "end_time": "2019-11-22T13:37:06.780376Z",
     "start_time": "2019-11-22T13:37:06.777453Z"
    }
   },
   "outputs": [
    {
     "data": {
      "text/plain": [
       "float"
      ]
     },
     "execution_count": 8,
     "metadata": {},
     "output_type": "execute_result"
    }
   ],
   "source": [
    "type(42.)"
   ]
  },
  {
   "cell_type": "markdown",
   "metadata": {},
   "source": [
    "Strings are text value and are surrounded by ''."
   ]
  },
  {
   "cell_type": "code",
   "execution_count": 9,
   "metadata": {
    "ExecuteTime": {
     "end_time": "2019-11-22T13:37:10.122233Z",
     "start_time": "2019-11-22T13:37:10.119274Z"
    }
   },
   "outputs": [
    {
     "data": {
      "text/plain": [
       "str"
      ]
     },
     "execution_count": 9,
     "metadata": {},
     "output_type": "execute_result"
    }
   ],
   "source": [
    "type('42')"
   ]
  },
  {
   "cell_type": "markdown",
   "metadata": {},
   "source": [
    "#### Basic operations"
   ]
  },
  {
   "cell_type": "markdown",
   "metadata": {},
   "source": [
    "##### Integers and floats  \n",
    "We saw plus that among integers plus works (+), but of course there is minus (-) and times (\\*). \n",
    "Before going to something trickier as the division (o.O), there are other operations as modulus (%) and exponent (\\*\\*)"
   ]
  },
  {
   "cell_type": "code",
   "execution_count": 10,
   "metadata": {
    "ExecuteTime": {
     "end_time": "2019-11-22T13:37:33.681149Z",
     "start_time": "2019-11-22T13:37:33.678457Z"
    }
   },
   "outputs": [
    {
     "data": {
      "text/plain": [
       "16"
      ]
     },
     "execution_count": 10,
     "metadata": {},
     "output_type": "execute_result"
    }
   ],
   "source": [
    "4**2"
   ]
  },
  {
   "cell_type": "code",
   "execution_count": 11,
   "metadata": {
    "ExecuteTime": {
     "end_time": "2019-11-22T13:37:34.236702Z",
     "start_time": "2019-11-22T13:37:34.233986Z"
    }
   },
   "outputs": [
    {
     "data": {
      "text/plain": [
       "2"
      ]
     },
     "execution_count": 11,
     "metadata": {},
     "output_type": "execute_result"
    }
   ],
   "source": [
    "42 % 5"
   ]
  },
  {
   "cell_type": "markdown",
   "metadata": {},
   "source": [
    "Note that above mentioned operations between integers return integers, but operations between an integers and floats returns float:"
   ]
  },
  {
   "cell_type": "code",
   "execution_count": 12,
   "metadata": {
    "ExecuteTime": {
     "end_time": "2019-11-22T13:37:40.577357Z",
     "start_time": "2019-11-22T13:37:40.574568Z"
    }
   },
   "outputs": [
    {
     "data": {
      "text/plain": [
       "16.0"
      ]
     },
     "execution_count": 12,
     "metadata": {},
     "output_type": "execute_result"
    }
   ],
   "source": [
    "4**2."
   ]
  },
  {
   "cell_type": "markdown",
   "metadata": {},
   "source": [
    "The function int() and float() convert respectively to ..."
   ]
  },
  {
   "cell_type": "code",
   "execution_count": 15,
   "metadata": {
    "ExecuteTime": {
     "end_time": "2019-11-22T13:37:42.553890Z",
     "start_time": "2019-11-22T13:37:42.551008Z"
    }
   },
   "outputs": [
    {
     "data": {
      "text/plain": [
       "16"
      ]
     },
     "execution_count": 15,
     "metadata": {},
     "output_type": "execute_result"
    }
   ],
   "source": [
    "int(4**2.)"
   ]
  },
  {
   "cell_type": "code",
   "execution_count": 16,
   "metadata": {
    "ExecuteTime": {
     "end_time": "2019-11-22T13:37:46.265676Z",
     "start_time": "2019-11-22T13:37:46.262876Z"
    }
   },
   "outputs": [
    {
     "data": {
      "text/plain": [
       "2.0"
      ]
     },
     "execution_count": 16,
     "metadata": {},
     "output_type": "execute_result"
    }
   ],
   "source": [
    "float(42% 5)"
   ]
  },
  {
   "cell_type": "markdown",
   "metadata": {},
   "source": [
    "##### Why the division is on its on?\n",
    "Actually, you can make more than a single division in Python. The standard one:"
   ]
  },
  {
   "cell_type": "code",
   "execution_count": 17,
   "metadata": {
    "ExecuteTime": {
     "end_time": "2019-11-22T13:39:17.380772Z",
     "start_time": "2019-11-22T13:39:17.378082Z"
    }
   },
   "outputs": [
    {
     "data": {
      "text/plain": [
       "8.4"
      ]
     },
     "execution_count": 17,
     "metadata": {},
     "output_type": "execute_result"
    }
   ],
   "source": [
    "42/5"
   ]
  },
  {
   "cell_type": "markdown",
   "metadata": {},
   "source": [
    "... and the integer part of a division:"
   ]
  },
  {
   "cell_type": "code",
   "execution_count": 21,
   "metadata": {
    "ExecuteTime": {
     "end_time": "2019-11-22T13:40:22.786877Z",
     "start_time": "2019-11-22T13:40:22.784309Z"
    }
   },
   "outputs": [
    {
     "data": {
      "text/plain": [
       "8"
      ]
     },
     "execution_count": 21,
     "metadata": {},
     "output_type": "execute_result"
    }
   ],
   "source": [
    "42//5"
   ]
  },
  {
   "cell_type": "code",
   "execution_count": 22,
   "metadata": {
    "ExecuteTime": {
     "end_time": "2019-11-22T13:40:23.301509Z",
     "start_time": "2019-11-22T13:40:23.298670Z"
    }
   },
   "outputs": [
    {
     "data": {
      "text/plain": [
       "8.0"
      ]
     },
     "execution_count": 22,
     "metadata": {},
     "output_type": "execute_result"
    }
   ],
   "source": [
    "42.//5."
   ]
  },
  {
   "cell_type": "markdown",
   "metadata": {},
   "source": [
    "**Pay attention!** This does not happen in Python 2! Python 2 is not as deprecated as it seems/should and it is among stablest version ever and its standard division between integers is actually the  \"//\" divisions. In order to have the correct result, in the case of a division between integers, turn one of the two into a float."
   ]
  },
  {
   "cell_type": "markdown",
   "metadata": {},
   "source": [
    "##### Strings"
   ]
  },
  {
   "cell_type": "markdown",
   "metadata": {},
   "source": [
    "String concatenation:"
   ]
  },
  {
   "cell_type": "code",
   "execution_count": 13,
   "metadata": {
    "ExecuteTime": {
     "end_time": "2018-12-06T13:07:37.284015Z",
     "start_time": "2018-12-06T13:07:37.276878Z"
    }
   },
   "outputs": [
    {
     "data": {
      "text/plain": [
       "'How many roads must a man walk down before you call him a man? 42!'"
      ]
     },
     "execution_count": 13,
     "metadata": {},
     "output_type": "execute_result"
    }
   ],
   "source": [
    "'How many roads must a man walk down before you call him a man?'+' 42!'"
   ]
  },
  {
   "cell_type": "markdown",
   "metadata": {},
   "source": [
    "In the following, most of the auxiliary variables are going to be called *cacca*, for the simple reasons that it something quite easy to write (you need just two fingers). "
   ]
  },
  {
   "cell_type": "markdown",
   "metadata": {},
   "source": [
    "Special characters:"
   ]
  },
  {
   "cell_type": "code",
   "execution_count": 1,
   "metadata": {
    "ExecuteTime": {
     "end_time": "2019-11-22T13:44:32.284638Z",
     "start_time": "2019-11-22T13:44:32.282597Z"
    }
   },
   "outputs": [],
   "source": [
    "cacca='cacca\\ncacca\\tcacca'"
   ]
  },
  {
   "cell_type": "code",
   "execution_count": 2,
   "metadata": {
    "ExecuteTime": {
     "end_time": "2019-11-22T13:44:40.833864Z",
     "start_time": "2019-11-22T13:44:40.831537Z"
    }
   },
   "outputs": [
    {
     "name": "stdout",
     "output_type": "stream",
     "text": [
      "cacca\n",
      "cacca\tcacca\n"
     ]
    }
   ],
   "source": [
    "print(cacca)"
   ]
  },
  {
   "cell_type": "markdown",
   "metadata": {},
   "source": [
    "\\t=tab  \n",
    "\\n=paragraph"
   ]
  },
  {
   "cell_type": "markdown",
   "metadata": {},
   "source": [
    "##### .split()"
   ]
  },
  {
   "cell_type": "code",
   "execution_count": 13,
   "metadata": {},
   "outputs": [
    {
     "data": {
      "text/plain": [
       "['cacca', 'cacca', 'cacca']"
      ]
     },
     "execution_count": 13,
     "metadata": {},
     "output_type": "execute_result"
    }
   ],
   "source": [
    "'cacca,cacca,cacca'.split(',')"
   ]
  },
  {
   "cell_type": "markdown",
   "metadata": {},
   "source": [
    "##### .strip()"
   ]
  },
  {
   "cell_type": "code",
   "execution_count": 204,
   "metadata": {
    "ExecuteTime": {
     "end_time": "2019-11-22T18:11:18.029283Z",
     "start_time": "2019-11-22T18:11:18.026568Z"
    }
   },
   "outputs": [
    {
     "data": {
      "text/plain": [
       "'cacca'"
      ]
     },
     "execution_count": 204,
     "metadata": {},
     "output_type": "execute_result"
    }
   ],
   "source": [
    "'                      cacca                '.strip()"
   ]
  },
  {
   "cell_type": "markdown",
   "metadata": {},
   "source": [
    "##### str"
   ]
  },
  {
   "cell_type": "markdown",
   "metadata": {},
   "source": [
    "As in the previous case, str converts to ..."
   ]
  },
  {
   "cell_type": "code",
   "execution_count": 30,
   "metadata": {
    "ExecuteTime": {
     "end_time": "2019-11-22T13:47:02.690385Z",
     "start_time": "2019-11-22T13:47:02.687369Z"
    }
   },
   "outputs": [
    {
     "data": {
      "text/plain": [
       "str"
      ]
     },
     "execution_count": 30,
     "metadata": {},
     "output_type": "execute_result"
    }
   ],
   "source": [
    "type(str(42))"
   ]
  },
  {
   "cell_type": "markdown",
   "metadata": {},
   "source": [
    "#### Variables"
   ]
  },
  {
   "cell_type": "markdown",
   "metadata": {},
   "source": [
    "You can define a variable, i.e. something that has a specific value:"
   ]
  },
  {
   "cell_type": "code",
   "execution_count": 14,
   "metadata": {
    "ExecuteTime": {
     "end_time": "2018-12-06T13:09:36.570565Z",
     "start_time": "2018-12-06T13:09:36.565760Z"
    }
   },
   "outputs": [],
   "source": [
    "cacca=42"
   ]
  },
  {
   "cell_type": "code",
   "execution_count": 26,
   "metadata": {
    "ExecuteTime": {
     "end_time": "2019-11-22T13:46:22.525472Z",
     "start_time": "2019-11-22T13:46:22.522756Z"
    }
   },
   "outputs": [
    {
     "data": {
      "text/plain": [
       "str"
      ]
     },
     "execution_count": 26,
     "metadata": {},
     "output_type": "execute_result"
    }
   ],
   "source": [
    "type(cacca)"
   ]
  },
  {
   "cell_type": "markdown",
   "metadata": {},
   "source": [
    "Single rules for defining a variable:\n",
    "- it must be a single word;\n",
    "- it can have numbers, letters and underscore;\n",
    "- it cannot start with a number."
   ]
  },
  {
   "cell_type": "code",
   "execution_count": 54,
   "metadata": {
    "ExecuteTime": {
     "end_time": "2019-11-22T13:51:09.314779Z",
     "start_time": "2019-11-22T13:51:09.312792Z"
    }
   },
   "outputs": [],
   "source": [
    "del cacca"
   ]
  },
  {
   "cell_type": "markdown",
   "metadata": {},
   "source": [
    "in order to cancel the variable."
   ]
  },
  {
   "cell_type": "markdown",
   "metadata": {},
   "source": [
    "### Booleans and logical operations"
   ]
  },
  {
   "cell_type": "markdown",
   "metadata": {},
   "source": [
    "#### Comparison"
   ]
  },
  {
   "cell_type": "code",
   "execution_count": 27,
   "metadata": {
    "ExecuteTime": {
     "end_time": "2019-11-22T13:46:26.727986Z",
     "start_time": "2019-11-22T13:46:26.725291Z"
    }
   },
   "outputs": [
    {
     "data": {
      "text/plain": [
       "True"
      ]
     },
     "execution_count": 27,
     "metadata": {},
     "output_type": "execute_result"
    }
   ],
   "source": [
    "42.==42"
   ]
  },
  {
   "cell_type": "markdown",
   "metadata": {},
   "source": [
    "Disregarding the (numerical) data type, Python recognizes that the two numbers are equal. That is not true mixing numbers and strings:"
   ]
  },
  {
   "cell_type": "code",
   "execution_count": 29,
   "metadata": {
    "ExecuteTime": {
     "end_time": "2019-11-22T13:46:43.921088Z",
     "start_time": "2019-11-22T13:46:43.918091Z"
    }
   },
   "outputs": [
    {
     "data": {
      "text/plain": [
       "False"
      ]
     },
     "execution_count": 29,
     "metadata": {},
     "output_type": "execute_result"
    }
   ],
   "source": [
    "'42'==42"
   ]
  },
  {
   "cell_type": "code",
   "execution_count": 28,
   "metadata": {
    "ExecuteTime": {
     "end_time": "2019-11-22T13:46:35.579448Z",
     "start_time": "2019-11-22T13:46:35.576489Z"
    }
   },
   "outputs": [
    {
     "data": {
      "text/plain": [
       "True"
      ]
     },
     "execution_count": 28,
     "metadata": {},
     "output_type": "execute_result"
    }
   ],
   "source": [
    "'42'==str(42)"
   ]
  },
  {
   "cell_type": "code",
   "execution_count": 13,
   "metadata": {
    "ExecuteTime": {
     "end_time": "2019-11-22T13:46:35.579448Z",
     "start_time": "2019-11-22T13:46:35.576489Z"
    }
   },
   "outputs": [
    {
     "data": {
      "text/plain": [
       "False"
      ]
     },
     "execution_count": 13,
     "metadata": {},
     "output_type": "execute_result"
    }
   ],
   "source": [
    "'42'==str(42.)"
   ]
  },
  {
   "cell_type": "markdown",
   "metadata": {},
   "source": [
    "Why so?"
   ]
  },
  {
   "cell_type": "markdown",
   "metadata": {},
   "source": [
    "The output of a comparison is a boolean variable. A boolean can only be  True or False. You can define a boolean variable as always:"
   ]
  },
  {
   "cell_type": "code",
   "execution_count": 31,
   "metadata": {
    "ExecuteTime": {
     "end_time": "2019-11-22T13:47:37.240470Z",
     "start_time": "2019-11-22T13:47:37.238496Z"
    }
   },
   "outputs": [],
   "source": [
    "cacca='42'==42"
   ]
  },
  {
   "cell_type": "code",
   "execution_count": 32,
   "metadata": {
    "ExecuteTime": {
     "end_time": "2019-11-22T13:47:37.923982Z",
     "start_time": "2019-11-22T13:47:37.921266Z"
    }
   },
   "outputs": [
    {
     "data": {
      "text/plain": [
       "False"
      ]
     },
     "execution_count": 32,
     "metadata": {},
     "output_type": "execute_result"
    }
   ],
   "source": [
    "cacca"
   ]
  },
  {
   "cell_type": "code",
   "execution_count": 33,
   "metadata": {
    "ExecuteTime": {
     "end_time": "2019-11-22T13:47:38.534959Z",
     "start_time": "2019-11-22T13:47:38.531946Z"
    }
   },
   "outputs": [
    {
     "data": {
      "text/plain": [
       "bool"
      ]
     },
     "execution_count": 33,
     "metadata": {},
     "output_type": "execute_result"
    }
   ],
   "source": [
    "type(cacca)"
   ]
  },
  {
   "cell_type": "markdown",
   "metadata": {},
   "source": [
    "Comparison operators are equal (==, note the difference respect to the assignment =), greater (>), less(<), greater equal (>=), less equal (<=) and not equal (!=)."
   ]
  },
  {
   "cell_type": "code",
   "execution_count": 36,
   "metadata": {
    "ExecuteTime": {
     "end_time": "2019-11-22T13:48:17.822037Z",
     "start_time": "2019-11-22T13:48:17.819291Z"
    }
   },
   "outputs": [
    {
     "data": {
      "text/plain": [
       "True"
      ]
     },
     "execution_count": 36,
     "metadata": {},
     "output_type": "execute_result"
    }
   ],
   "source": [
    "42!=43"
   ]
  },
  {
   "cell_type": "markdown",
   "metadata": {},
   "source": [
    "#### Logical operations"
   ]
  },
  {
   "cell_type": "markdown",
   "metadata": {},
   "source": [
    "And/Or/Not"
   ]
  },
  {
   "cell_type": "markdown",
   "metadata": {},
   "source": [
    "Not"
   ]
  },
  {
   "cell_type": "code",
   "execution_count": 23,
   "metadata": {
    "ExecuteTime": {
     "end_time": "2018-12-06T13:27:05.046690Z",
     "start_time": "2018-12-06T13:27:05.039507Z"
    }
   },
   "outputs": [
    {
     "data": {
      "text/plain": [
       "False"
      ]
     },
     "execution_count": 23,
     "metadata": {},
     "output_type": "execute_result"
    }
   ],
   "source": [
    "not True "
   ]
  },
  {
   "cell_type": "markdown",
   "metadata": {},
   "source": [
    "_Pay attention!_"
   ]
  },
  {
   "cell_type": "code",
   "execution_count": 1,
   "metadata": {
    "ExecuteTime": {
     "end_time": "2019-12-03T16:46:16.990553Z",
     "start_time": "2019-12-03T16:46:16.981082Z"
    }
   },
   "outputs": [
    {
     "data": {
      "text/plain": [
       "False"
      ]
     },
     "execution_count": 1,
     "metadata": {},
     "output_type": "execute_result"
    }
   ],
   "source": [
    "not 1"
   ]
  },
  {
   "cell_type": "code",
   "execution_count": 2,
   "metadata": {
    "ExecuteTime": {
     "end_time": "2019-12-03T16:46:20.100654Z",
     "start_time": "2019-12-03T16:46:20.096647Z"
    }
   },
   "outputs": [
    {
     "data": {
      "text/plain": [
       "True"
      ]
     },
     "execution_count": 2,
     "metadata": {},
     "output_type": "execute_result"
    }
   ],
   "source": [
    "not 0"
   ]
  },
  {
   "cell_type": "code",
   "execution_count": 3,
   "metadata": {
    "ExecuteTime": {
     "end_time": "2019-12-03T16:46:26.773045Z",
     "start_time": "2019-12-03T16:46:26.770049Z"
    }
   },
   "outputs": [
    {
     "data": {
      "text/plain": [
       "False"
      ]
     },
     "execution_count": 3,
     "metadata": {},
     "output_type": "execute_result"
    }
   ],
   "source": [
    "not 42"
   ]
  },
  {
   "cell_type": "markdown",
   "metadata": {},
   "source": [
    "Or"
   ]
  },
  {
   "cell_type": "code",
   "execution_count": 37,
   "metadata": {
    "ExecuteTime": {
     "end_time": "2019-11-22T13:48:36.835871Z",
     "start_time": "2019-11-22T13:48:36.833046Z"
    }
   },
   "outputs": [
    {
     "name": "stdout",
     "output_type": "stream",
     "text": [
      "False\n",
      "True\n",
      "True\n"
     ]
    }
   ],
   "source": [
    "print(False or False)\n",
    "print(True or False)\n",
    "print(True or True)"
   ]
  },
  {
   "cell_type": "markdown",
   "metadata": {},
   "source": [
    "And"
   ]
  },
  {
   "cell_type": "code",
   "execution_count": 38,
   "metadata": {
    "ExecuteTime": {
     "end_time": "2019-11-22T13:48:51.187332Z",
     "start_time": "2019-11-22T13:48:51.184484Z"
    }
   },
   "outputs": [
    {
     "name": "stdout",
     "output_type": "stream",
     "text": [
      "False\n",
      "False\n",
      "True\n"
     ]
    }
   ],
   "source": [
    "print(False and False)\n",
    "print(True and False)\n",
    "print(True and True)"
   ]
  },
  {
   "cell_type": "markdown",
   "metadata": {},
   "source": [
    "#### If"
   ]
  },
  {
   "cell_type": "markdown",
   "metadata": {},
   "source": [
    "Why are we so interested in this?"
   ]
  },
  {
   "cell_type": "code",
   "execution_count": 4,
   "metadata": {
    "ExecuteTime": {
     "end_time": "2018-12-06T13:30:43.570938Z",
     "start_time": "2018-12-06T13:30:43.566936Z"
    }
   },
   "outputs": [],
   "source": [
    "cacca=42"
   ]
  },
  {
   "cell_type": "code",
   "execution_count": 5,
   "metadata": {
    "ExecuteTime": {
     "end_time": "2019-11-22T13:49:11.148240Z",
     "start_time": "2019-11-22T13:49:11.145461Z"
    }
   },
   "outputs": [
    {
     "name": "stdout",
     "output_type": "stream",
     "text": [
      "42\n"
     ]
    }
   ],
   "source": [
    "if cacca>42:\n",
    "    print('yeah!')\n",
    "elif cacca<42:\n",
    "    print('ouch!')\n",
    "else:\n",
    "    print('42')"
   ]
  },
  {
   "cell_type": "code",
   "execution_count": 6,
   "metadata": {
    "ExecuteTime": {
     "end_time": "2019-11-22T13:49:29.517586Z",
     "start_time": "2019-11-22T13:49:29.514731Z"
    }
   },
   "outputs": [
    {
     "data": {
      "text/plain": [
       "42"
      ]
     },
     "execution_count": 6,
     "metadata": {},
     "output_type": "execute_result"
    }
   ],
   "source": [
    "cacca"
   ]
  },
  {
   "cell_type": "markdown",
   "metadata": {},
   "source": [
    "## Lists and tuples"
   ]
  },
  {
   "cell_type": "markdown",
   "metadata": {},
   "source": [
    "#### Lists"
   ]
  },
  {
   "cell_type": "markdown",
   "metadata": {},
   "source": [
    "A list is a list (surprise!) of elements and it is indicated by square brackets []. Elements are divided by a comma ,"
   ]
  },
  {
   "cell_type": "code",
   "execution_count": 15,
   "metadata": {
    "ExecuteTime": {
     "end_time": "2019-11-22T13:54:45.192692Z",
     "start_time": "2019-11-22T13:54:45.190633Z"
    }
   },
   "outputs": [],
   "source": [
    "cacca=[0, 1., 42., 'quarantadue']"
   ]
  },
  {
   "cell_type": "code",
   "execution_count": 16,
   "metadata": {
    "ExecuteTime": {
     "end_time": "2019-11-22T13:54:45.367678Z",
     "start_time": "2019-11-22T13:54:45.364820Z"
    }
   },
   "outputs": [
    {
     "data": {
      "text/plain": [
       "list"
      ]
     },
     "execution_count": 16,
     "metadata": {},
     "output_type": "execute_result"
    }
   ],
   "source": [
    "type(cacca)"
   ]
  },
  {
   "cell_type": "markdown",
   "metadata": {},
   "source": [
    "Get an element from a list (the first element is the 0-th one)"
   ]
  },
  {
   "cell_type": "code",
   "execution_count": 17,
   "metadata": {
    "ExecuteTime": {
     "end_time": "2019-11-22T13:54:45.974652Z",
     "start_time": "2019-11-22T13:54:45.971934Z"
    }
   },
   "outputs": [
    {
     "data": {
      "text/plain": [
       "0"
      ]
     },
     "execution_count": 17,
     "metadata": {},
     "output_type": "execute_result"
    }
   ],
   "source": [
    "cacca[0]"
   ]
  },
  {
   "cell_type": "markdown",
   "metadata": {},
   "source": [
    "The last element is the -1"
   ]
  },
  {
   "cell_type": "code",
   "execution_count": 18,
   "metadata": {
    "ExecuteTime": {
     "end_time": "2019-11-22T13:54:46.467026Z",
     "start_time": "2019-11-22T13:54:46.464176Z"
    }
   },
   "outputs": [
    {
     "data": {
      "text/plain": [
       "'quarantadue'"
      ]
     },
     "execution_count": 18,
     "metadata": {},
     "output_type": "execute_result"
    }
   ],
   "source": [
    "cacca[-1]"
   ]
  },
  {
   "cell_type": "markdown",
   "metadata": {},
   "source": [
    "Get the length of the list"
   ]
  },
  {
   "cell_type": "code",
   "execution_count": 19,
   "metadata": {
    "ExecuteTime": {
     "end_time": "2019-11-22T13:54:47.122236Z",
     "start_time": "2019-11-22T13:54:47.119531Z"
    }
   },
   "outputs": [
    {
     "data": {
      "text/plain": [
       "4"
      ]
     },
     "execution_count": 19,
     "metadata": {},
     "output_type": "execute_result"
    }
   ],
   "source": [
    "len(cacca)"
   ]
  },
  {
   "cell_type": "markdown",
   "metadata": {},
   "source": [
    "Get a subset of the list:"
   ]
  },
  {
   "cell_type": "code",
   "execution_count": 20,
   "metadata": {
    "ExecuteTime": {
     "end_time": "2019-11-22T13:54:47.929829Z",
     "start_time": "2019-11-22T13:54:47.927081Z"
    }
   },
   "outputs": [
    {
     "data": {
      "text/plain": [
       "[0, 1.0]"
      ]
     },
     "execution_count": 20,
     "metadata": {},
     "output_type": "execute_result"
    }
   ],
   "source": [
    "cacca[:2]"
   ]
  },
  {
   "cell_type": "code",
   "execution_count": 21,
   "metadata": {
    "ExecuteTime": {
     "end_time": "2019-11-22T13:54:48.324590Z",
     "start_time": "2019-11-22T13:54:48.321841Z"
    }
   },
   "outputs": [
    {
     "data": {
      "text/plain": [
       "[1.0, 42.0, 'quarantadue']"
      ]
     },
     "execution_count": 21,
     "metadata": {},
     "output_type": "execute_result"
    }
   ],
   "source": [
    "cacca[1:]"
   ]
  },
  {
   "cell_type": "code",
   "execution_count": 22,
   "metadata": {
    "ExecuteTime": {
     "end_time": "2019-11-22T13:54:51.967674Z",
     "start_time": "2019-11-22T13:54:51.965084Z"
    }
   },
   "outputs": [
    {
     "data": {
      "text/plain": [
       "[0, 42.0]"
      ]
     },
     "execution_count": 22,
     "metadata": {},
     "output_type": "execute_result"
    }
   ],
   "source": [
    "cacca[::2]"
   ]
  },
  {
   "cell_type": "code",
   "execution_count": 23,
   "metadata": {
    "ExecuteTime": {
     "end_time": "2019-11-22T13:54:52.097852Z",
     "start_time": "2019-11-22T13:54:51.974759Z"
    }
   },
   "outputs": [
    {
     "data": {
      "text/plain": [
       "[1.0, 'quarantadue']"
      ]
     },
     "execution_count": 23,
     "metadata": {},
     "output_type": "execute_result"
    }
   ],
   "source": [
    "cacca[1::2]"
   ]
  },
  {
   "cell_type": "markdown",
   "metadata": {},
   "source": [
    "Cancel an element from a list"
   ]
  },
  {
   "cell_type": "code",
   "execution_count": 24,
   "metadata": {
    "ExecuteTime": {
     "end_time": "2019-11-22T13:54:52.231696Z",
     "start_time": "2019-11-22T13:54:52.105202Z"
    }
   },
   "outputs": [
    {
     "name": "stdout",
     "output_type": "stream",
     "text": [
      "[1.0, 42.0, 'quarantadue']\n"
     ]
    }
   ],
   "source": [
    "del cacca[0]\n",
    "print(cacca)"
   ]
  },
  {
   "cell_type": "markdown",
   "metadata": {},
   "source": [
    "Glue two lists"
   ]
  },
  {
   "cell_type": "code",
   "execution_count": 25,
   "metadata": {
    "ExecuteTime": {
     "end_time": "2019-11-22T13:54:52.356746Z",
     "start_time": "2019-11-22T13:54:52.239097Z"
    }
   },
   "outputs": [],
   "source": [
    "cacca_2=[0., 546, 'spam']"
   ]
  },
  {
   "cell_type": "code",
   "execution_count": 26,
   "metadata": {
    "ExecuteTime": {
     "end_time": "2019-11-22T13:54:52.534154Z",
     "start_time": "2019-11-22T13:54:52.532119Z"
    }
   },
   "outputs": [],
   "source": [
    "cacca_3=cacca+cacca_2"
   ]
  },
  {
   "cell_type": "code",
   "execution_count": 27,
   "metadata": {
    "ExecuteTime": {
     "end_time": "2019-11-22T13:54:53.179648Z",
     "start_time": "2019-11-22T13:54:53.176868Z"
    }
   },
   "outputs": [
    {
     "data": {
      "text/plain": [
       "[1.0, 42.0, 'quarantadue', 0.0, 546, 'spam']"
      ]
     },
     "execution_count": 27,
     "metadata": {},
     "output_type": "execute_result"
    }
   ],
   "source": [
    "cacca_3"
   ]
  },
  {
   "cell_type": "markdown",
   "metadata": {},
   "source": [
    "##### Strings are lists (almost)"
   ]
  },
  {
   "cell_type": "code",
   "execution_count": 28,
   "metadata": {
    "ExecuteTime": {
     "end_time": "2019-11-22T13:54:55.553989Z",
     "start_time": "2019-11-22T13:54:55.552027Z"
    }
   },
   "outputs": [],
   "source": [
    "cacca=\"hi, it's me, python!\""
   ]
  },
  {
   "cell_type": "code",
   "execution_count": 29,
   "metadata": {
    "ExecuteTime": {
     "end_time": "2019-11-22T13:54:56.504743Z",
     "start_time": "2019-11-22T13:54:56.501946Z"
    }
   },
   "outputs": [
    {
     "data": {
      "text/plain": [
       "'!'"
      ]
     },
     "execution_count": 29,
     "metadata": {},
     "output_type": "execute_result"
    }
   ],
   "source": [
    "cacca[-1]"
   ]
  },
  {
   "cell_type": "code",
   "execution_count": 30,
   "metadata": {
    "ExecuteTime": {
     "end_time": "2019-11-22T13:54:56.846928Z",
     "start_time": "2019-11-22T13:54:56.843935Z"
    }
   },
   "outputs": [
    {
     "data": {
      "text/plain": [
       "\"h,i' e yhn\""
      ]
     },
     "execution_count": 30,
     "metadata": {},
     "output_type": "execute_result"
    }
   ],
   "source": [
    "cacca[::2]"
   ]
  },
  {
   "cell_type": "code",
   "execution_count": 31,
   "metadata": {
    "ExecuteTime": {
     "end_time": "2019-11-22T13:55:13.341096Z",
     "start_time": "2019-11-22T13:55:13.336386Z"
    }
   },
   "outputs": [
    {
     "ename": "TypeError",
     "evalue": "'str' object doesn't support item deletion",
     "output_type": "error",
     "traceback": [
      "\u001b[0;31m---------------------------------------------------------------------------\u001b[0m",
      "\u001b[0;31mTypeError\u001b[0m                                 Traceback (most recent call last)",
      "\u001b[0;32m<ipython-input-31-3a862d444dd0>\u001b[0m in \u001b[0;36m<module>\u001b[0;34m\u001b[0m\n\u001b[0;32m----> 1\u001b[0;31m \u001b[0;32mdel\u001b[0m \u001b[0mcacca\u001b[0m\u001b[0;34m[\u001b[0m\u001b[0;36m0\u001b[0m\u001b[0;34m]\u001b[0m\u001b[0;34m\u001b[0m\u001b[0;34m\u001b[0m\u001b[0m\n\u001b[0m",
      "\u001b[0;31mTypeError\u001b[0m: 'str' object doesn't support item deletion"
     ]
    }
   ],
   "source": [
    "del cacca[0]"
   ]
  },
  {
   "cell_type": "markdown",
   "metadata": {},
   "source": [
    "Strings are **immutable**! We can use a function for strings in order to define a new string:"
   ]
  },
  {
   "cell_type": "code",
   "execution_count": 32,
   "metadata": {
    "ExecuteTime": {
     "end_time": "2019-11-22T14:00:21.675404Z",
     "start_time": "2019-11-22T14:00:21.672622Z"
    }
   },
   "outputs": [
    {
     "data": {
      "text/plain": [
       "'h'"
      ]
     },
     "execution_count": 32,
     "metadata": {},
     "output_type": "execute_result"
    }
   ],
   "source": [
    "cacca[0]"
   ]
  },
  {
   "cell_type": "code",
   "execution_count": 33,
   "metadata": {
    "ExecuteTime": {
     "end_time": "2019-11-22T14:00:22.147082Z",
     "start_time": "2019-11-22T14:00:22.144129Z"
    }
   },
   "outputs": [
    {
     "data": {
      "text/plain": [
       "\"*i, it's me, pyt*on!\""
      ]
     },
     "execution_count": 33,
     "metadata": {},
     "output_type": "execute_result"
    }
   ],
   "source": [
    "cacca.replace(cacca[0], '*')"
   ]
  },
  {
   "cell_type": "markdown",
   "metadata": {},
   "source": [
    "**Pay attention!** It is a copy:"
   ]
  },
  {
   "cell_type": "code",
   "execution_count": 36,
   "metadata": {},
   "outputs": [
    {
     "data": {
      "text/plain": [
       "\"hi, it's me, python!\""
      ]
     },
     "execution_count": 36,
     "metadata": {},
     "output_type": "execute_result"
    }
   ],
   "source": [
    "cacca"
   ]
  },
  {
   "cell_type": "code",
   "execution_count": 38,
   "metadata": {
    "ExecuteTime": {
     "end_time": "2019-11-22T14:00:49.317100Z",
     "start_time": "2019-11-22T14:00:49.314149Z"
    }
   },
   "outputs": [
    {
     "data": {
      "text/plain": [
       "\"*i, it's me, python!\""
      ]
     },
     "execution_count": 38,
     "metadata": {},
     "output_type": "execute_result"
    }
   ],
   "source": [
    "cacca.replace(cacca[0], '*',1)"
   ]
  },
  {
   "cell_type": "markdown",
   "metadata": {},
   "source": [
    "(Use tab) <br/> What does the 1 mean?\n",
    "It seems ok ... but is it? <br/>Not that effective if I want to replace only the second 'h'..."
   ]
  },
  {
   "cell_type": "code",
   "execution_count": 43,
   "metadata": {
    "ExecuteTime": {
     "end_time": "2019-11-22T14:00:58.518709Z",
     "start_time": "2019-11-22T14:00:58.515617Z"
    }
   },
   "outputs": [
    {
     "data": {
      "text/plain": [
       "\"*i, it's me, pyt*on!\""
      ]
     },
     "execution_count": 43,
     "metadata": {},
     "output_type": "execute_result"
    }
   ],
   "source": [
    "cacca.replace(cacca[0], '*',2)"
   ]
  },
  {
   "cell_type": "code",
   "execution_count": 44,
   "metadata": {},
   "outputs": [
    {
     "data": {
      "text/plain": [
       "\"*i, it's me, pyt*on!\""
      ]
     },
     "execution_count": 44,
     "metadata": {},
     "output_type": "execute_result"
    }
   ],
   "source": [
    "cacca.replace(cacca[0], '*',3)"
   ]
  },
  {
   "cell_type": "markdown",
   "metadata": {},
   "source": [
    "Let use some tricks:"
   ]
  },
  {
   "cell_type": "code",
   "execution_count": 45,
   "metadata": {
    "ExecuteTime": {
     "end_time": "2019-11-22T14:08:21.752938Z",
     "start_time": "2019-11-22T14:08:21.750009Z"
    }
   },
   "outputs": [
    {
     "data": {
      "text/plain": [
       "'on!'"
      ]
     },
     "execution_count": 45,
     "metadata": {},
     "output_type": "execute_result"
    }
   ],
   "source": [
    "cacca[-3:]"
   ]
  },
  {
   "cell_type": "code",
   "execution_count": 46,
   "metadata": {
    "ExecuteTime": {
     "end_time": "2019-11-22T14:08:22.282789Z",
     "start_time": "2019-11-22T14:08:22.279781Z"
    }
   },
   "outputs": [
    {
     "data": {
      "text/plain": [
       "\"hi, it's me, pyt\""
      ]
     },
     "execution_count": 46,
     "metadata": {},
     "output_type": "execute_result"
    }
   ],
   "source": [
    "cacca[:-4]"
   ]
  },
  {
   "cell_type": "code",
   "execution_count": 47,
   "metadata": {
    "ExecuteTime": {
     "end_time": "2019-11-22T14:08:35.783650Z",
     "start_time": "2019-11-22T14:08:35.780548Z"
    }
   },
   "outputs": [
    {
     "data": {
      "text/plain": [
       "\"hi, it's me, pyton!\""
      ]
     },
     "execution_count": 47,
     "metadata": {},
     "output_type": "execute_result"
    }
   ],
   "source": [
    "cacca[:-4]+cacca[-3:]"
   ]
  },
  {
   "cell_type": "markdown",
   "metadata": {},
   "source": [
    "##### Functions for lists"
   ]
  },
  {
   "cell_type": "code",
   "execution_count": 49,
   "metadata": {
    "ExecuteTime": {
     "end_time": "2019-11-22T14:09:02.388467Z",
     "start_time": "2019-11-22T14:09:02.385528Z"
    }
   },
   "outputs": [
    {
     "data": {
      "text/plain": [
       "[1.0, 42.0, 'quarantadue', 0.0, 546, 'spam']"
      ]
     },
     "execution_count": 49,
     "metadata": {},
     "output_type": "execute_result"
    }
   ],
   "source": [
    "cacca_3"
   ]
  },
  {
   "cell_type": "markdown",
   "metadata": {},
   "source": [
    "###### .index"
   ]
  },
  {
   "cell_type": "code",
   "execution_count": 50,
   "metadata": {
    "ExecuteTime": {
     "end_time": "2019-11-22T14:09:03.881769Z",
     "start_time": "2019-11-22T14:09:03.878700Z"
    }
   },
   "outputs": [
    {
     "data": {
      "text/plain": [
       "2"
      ]
     },
     "execution_count": 50,
     "metadata": {},
     "output_type": "execute_result"
    }
   ],
   "source": [
    "cacca_3.index('quarantadue')"
   ]
  },
  {
   "cell_type": "code",
   "execution_count": 51,
   "metadata": {
    "ExecuteTime": {
     "end_time": "2019-11-22T14:09:05.617863Z",
     "start_time": "2019-11-22T14:09:05.615013Z"
    }
   },
   "outputs": [
    {
     "data": {
      "text/plain": [
       "'quarantadue'"
      ]
     },
     "execution_count": 51,
     "metadata": {},
     "output_type": "execute_result"
    }
   ],
   "source": [
    "cacca_3[2]"
   ]
  },
  {
   "cell_type": "markdown",
   "metadata": {},
   "source": [
    "**Pay attention!**"
   ]
  },
  {
   "cell_type": "code",
   "execution_count": 52,
   "metadata": {
    "ExecuteTime": {
     "end_time": "2019-11-22T14:13:07.481714Z",
     "start_time": "2019-11-22T14:13:07.479426Z"
    }
   },
   "outputs": [],
   "source": [
    "caccacacca=[1.0, 42.0, 'quarantadue', 0.0, 546, 'spam', 'quarantadue']"
   ]
  },
  {
   "cell_type": "code",
   "execution_count": 53,
   "metadata": {
    "ExecuteTime": {
     "end_time": "2019-11-22T14:13:20.619861Z",
     "start_time": "2019-11-22T14:13:20.616792Z"
    }
   },
   "outputs": [
    {
     "data": {
      "text/plain": [
       "2"
      ]
     },
     "execution_count": 53,
     "metadata": {},
     "output_type": "execute_result"
    }
   ],
   "source": [
    "caccacacca.index('quarantadue')"
   ]
  },
  {
   "cell_type": "markdown",
   "metadata": {},
   "source": [
    "###### .append"
   ]
  },
  {
   "cell_type": "code",
   "execution_count": 54,
   "metadata": {
    "ExecuteTime": {
     "end_time": "2019-11-22T14:14:04.020072Z",
     "start_time": "2019-11-22T14:14:04.018020Z"
    }
   },
   "outputs": [],
   "source": [
    "cacca_3.append('cacca')"
   ]
  },
  {
   "cell_type": "code",
   "execution_count": 55,
   "metadata": {
    "ExecuteTime": {
     "end_time": "2019-11-22T14:14:04.452980Z",
     "start_time": "2019-11-22T14:14:04.449969Z"
    }
   },
   "outputs": [
    {
     "data": {
      "text/plain": [
       "[1.0, 42.0, 'quarantadue', 0.0, 546, 'spam', 'cacca']"
      ]
     },
     "execution_count": 55,
     "metadata": {},
     "output_type": "execute_result"
    }
   ],
   "source": [
    "cacca_3"
   ]
  },
  {
   "cell_type": "markdown",
   "metadata": {},
   "source": [
    "###### .insert"
   ]
  },
  {
   "cell_type": "code",
   "execution_count": 56,
   "metadata": {
    "ExecuteTime": {
     "end_time": "2019-11-22T14:14:07.653392Z",
     "start_time": "2019-11-22T14:14:07.650951Z"
    }
   },
   "outputs": [],
   "source": [
    "cacca_3.insert(0, 'zero')"
   ]
  },
  {
   "cell_type": "code",
   "execution_count": 57,
   "metadata": {
    "ExecuteTime": {
     "end_time": "2019-11-22T14:14:08.222069Z",
     "start_time": "2019-11-22T14:14:08.219300Z"
    }
   },
   "outputs": [
    {
     "data": {
      "text/plain": [
       "['zero', 1.0, 42.0, 'quarantadue', 0.0, 546, 'spam', 'cacca']"
      ]
     },
     "execution_count": 57,
     "metadata": {},
     "output_type": "execute_result"
    }
   ],
   "source": [
    "cacca_3"
   ]
  },
  {
   "cell_type": "code",
   "execution_count": 58,
   "metadata": {},
   "outputs": [],
   "source": [
    "cacca_3.insert(2, 'here!')"
   ]
  },
  {
   "cell_type": "code",
   "execution_count": 59,
   "metadata": {},
   "outputs": [
    {
     "data": {
      "text/plain": [
       "['zero', 1.0, 'here!', 42.0, 'quarantadue', 0.0, 546, 'spam', 'cacca']"
      ]
     },
     "execution_count": 59,
     "metadata": {},
     "output_type": "execute_result"
    }
   ],
   "source": [
    "cacca_3"
   ]
  },
  {
   "cell_type": "markdown",
   "metadata": {},
   "source": [
    "###### .remove"
   ]
  },
  {
   "cell_type": "code",
   "execution_count": 60,
   "metadata": {
    "ExecuteTime": {
     "end_time": "2019-11-22T14:14:35.958243Z",
     "start_time": "2019-11-22T14:14:35.955883Z"
    }
   },
   "outputs": [],
   "source": [
    "cacca_3.remove(1)"
   ]
  },
  {
   "cell_type": "code",
   "execution_count": 61,
   "metadata": {
    "ExecuteTime": {
     "end_time": "2019-11-22T14:14:36.457376Z",
     "start_time": "2019-11-22T14:14:36.454233Z"
    }
   },
   "outputs": [
    {
     "data": {
      "text/plain": [
       "['zero', 'here!', 42.0, 'quarantadue', 0.0, 546, 'spam', 'cacca']"
      ]
     },
     "execution_count": 61,
     "metadata": {},
     "output_type": "execute_result"
    }
   ],
   "source": [
    "cacca_3"
   ]
  },
  {
   "cell_type": "markdown",
   "metadata": {},
   "source": [
    "Not the position, the element! O.O"
   ]
  },
  {
   "cell_type": "code",
   "execution_count": 62,
   "metadata": {},
   "outputs": [],
   "source": [
    "cacca_3.remove('spam')"
   ]
  },
  {
   "cell_type": "code",
   "execution_count": 63,
   "metadata": {},
   "outputs": [
    {
     "data": {
      "text/plain": [
       "['zero', 'here!', 42.0, 'quarantadue', 0.0, 546, 'cacca']"
      ]
     },
     "execution_count": 63,
     "metadata": {},
     "output_type": "execute_result"
    }
   ],
   "source": [
    "cacca_3"
   ]
  },
  {
   "cell_type": "markdown",
   "metadata": {},
   "source": [
    "##### .sort()"
   ]
  },
  {
   "cell_type": "code",
   "execution_count": 64,
   "metadata": {
    "ExecuteTime": {
     "end_time": "2019-11-22T14:15:12.145334Z",
     "start_time": "2019-11-22T14:15:12.143095Z"
    }
   },
   "outputs": [],
   "source": [
    "cacca_4=[1, 42., 2., 11, -2.]"
   ]
  },
  {
   "cell_type": "code",
   "execution_count": 65,
   "metadata": {
    "ExecuteTime": {
     "end_time": "2019-11-22T14:15:12.709619Z",
     "start_time": "2019-11-22T14:15:12.707395Z"
    }
   },
   "outputs": [],
   "source": [
    "cacca_4.sort()"
   ]
  },
  {
   "cell_type": "code",
   "execution_count": 66,
   "metadata": {
    "ExecuteTime": {
     "end_time": "2019-11-22T14:15:13.738729Z",
     "start_time": "2019-11-22T14:15:13.735736Z"
    }
   },
   "outputs": [
    {
     "data": {
      "text/plain": [
       "[-2.0, 1, 2.0, 11, 42.0]"
      ]
     },
     "execution_count": 66,
     "metadata": {},
     "output_type": "execute_result"
    }
   ],
   "source": [
    "cacca_4"
   ]
  },
  {
   "cell_type": "markdown",
   "metadata": {},
   "source": [
    "...but..."
   ]
  },
  {
   "cell_type": "code",
   "execution_count": 67,
   "metadata": {},
   "outputs": [
    {
     "data": {
      "text/plain": [
       "['zero', 'here!', 42.0, 'quarantadue', 0.0, 546, 'cacca']"
      ]
     },
     "execution_count": 67,
     "metadata": {},
     "output_type": "execute_result"
    }
   ],
   "source": [
    "cacca_3"
   ]
  },
  {
   "cell_type": "code",
   "execution_count": 68,
   "metadata": {
    "ExecuteTime": {
     "end_time": "2019-11-22T14:15:18.814481Z",
     "start_time": "2019-11-22T14:15:18.809630Z"
    }
   },
   "outputs": [
    {
     "ename": "TypeError",
     "evalue": "'<' not supported between instances of 'float' and 'str'",
     "output_type": "error",
     "traceback": [
      "\u001b[0;31m---------------------------------------------------------------------------\u001b[0m",
      "\u001b[0;31mTypeError\u001b[0m                                 Traceback (most recent call last)",
      "\u001b[0;32m<ipython-input-68-0c6d699fa064>\u001b[0m in \u001b[0;36m<module>\u001b[0;34m\u001b[0m\n\u001b[0;32m----> 1\u001b[0;31m \u001b[0mcacca_3\u001b[0m\u001b[0;34m.\u001b[0m\u001b[0msort\u001b[0m\u001b[0;34m(\u001b[0m\u001b[0;34m)\u001b[0m\u001b[0;34m\u001b[0m\u001b[0;34m\u001b[0m\u001b[0m\n\u001b[0m",
      "\u001b[0;31mTypeError\u001b[0m: '<' not supported between instances of 'float' and 'str'"
     ]
    }
   ],
   "source": [
    "cacca_3.sort()"
   ]
  },
  {
   "cell_type": "markdown",
   "metadata": {},
   "source": [
    "#### Tuples"
   ]
  },
  {
   "cell_type": "markdown",
   "metadata": {},
   "source": [
    "Tuples are like lists, but immutable, i.e. you cannot change the value in a tuple. Instead of square brackets we use round brackets:"
   ]
  },
  {
   "cell_type": "code",
   "execution_count": 72,
   "metadata": {
    "ExecuteTime": {
     "end_time": "2019-11-22T14:20:28.212016Z",
     "start_time": "2019-11-22T14:20:28.209597Z"
    }
   },
   "outputs": [],
   "source": [
    "tuple_0=(0., 'quarantadue', 42)"
   ]
  },
  {
   "cell_type": "code",
   "execution_count": 73,
   "metadata": {
    "ExecuteTime": {
     "end_time": "2019-11-22T14:20:28.803406Z",
     "start_time": "2019-11-22T14:20:28.798780Z"
    }
   },
   "outputs": [
    {
     "ename": "TypeError",
     "evalue": "'tuple' object does not support item assignment",
     "output_type": "error",
     "traceback": [
      "\u001b[0;31m---------------------------------------------------------------------------\u001b[0m",
      "\u001b[0;31mTypeError\u001b[0m                                 Traceback (most recent call last)",
      "\u001b[0;32m<ipython-input-73-10eab36fbe5c>\u001b[0m in \u001b[0;36m<module>\u001b[0;34m\u001b[0m\n\u001b[0;32m----> 1\u001b[0;31m \u001b[0mtuple_0\u001b[0m\u001b[0;34m[\u001b[0m\u001b[0;36m0\u001b[0m\u001b[0;34m]\u001b[0m\u001b[0;34m=\u001b[0m\u001b[0;36m42.\u001b[0m\u001b[0;34m\u001b[0m\u001b[0;34m\u001b[0m\u001b[0m\n\u001b[0m",
      "\u001b[0;31mTypeError\u001b[0m: 'tuple' object does not support item assignment"
     ]
    }
   ],
   "source": [
    "tuple_0[0]=42."
   ]
  },
  {
   "cell_type": "markdown",
   "metadata": {},
   "source": [
    "Since, under the hood, Python knows that tuple are immutable and optimizes its routines accordingly, using tuple, when lists are not necessary, is a little bit faster."
   ]
  },
  {
   "cell_type": "markdown",
   "metadata": {},
   "source": [
    "#### Conversions"
   ]
  },
  {
   "cell_type": "code",
   "execution_count": 74,
   "metadata": {
    "ExecuteTime": {
     "end_time": "2019-11-22T14:20:58.701648Z",
     "start_time": "2019-11-22T14:20:58.699518Z"
    }
   },
   "outputs": [],
   "source": [
    "cacca=[0, 1., 42., 'quarantadue']"
   ]
  },
  {
   "cell_type": "code",
   "execution_count": 75,
   "metadata": {
    "ExecuteTime": {
     "end_time": "2019-11-22T14:20:33.018247Z",
     "start_time": "2019-11-22T14:20:33.015414Z"
    }
   },
   "outputs": [
    {
     "data": {
      "text/plain": [
       "[0.0, 'quarantadue', 42]"
      ]
     },
     "execution_count": 75,
     "metadata": {},
     "output_type": "execute_result"
    }
   ],
   "source": [
    "list(tuple_0)"
   ]
  },
  {
   "cell_type": "code",
   "execution_count": 76,
   "metadata": {
    "ExecuteTime": {
     "end_time": "2019-11-22T14:21:00.984217Z",
     "start_time": "2019-11-22T14:21:00.981357Z"
    }
   },
   "outputs": [
    {
     "data": {
      "text/plain": [
       "(0, 1.0, 42.0, 'quarantadue')"
      ]
     },
     "execution_count": 76,
     "metadata": {},
     "output_type": "execute_result"
    }
   ],
   "source": [
    "tuple(cacca)"
   ]
  },
  {
   "cell_type": "markdown",
   "metadata": {},
   "source": [
    "#### WARNING!"
   ]
  },
  {
   "cell_type": "code",
   "execution_count": 77,
   "metadata": {
    "ExecuteTime": {
     "end_time": "2019-11-22T14:21:24.196771Z",
     "start_time": "2019-11-22T14:21:24.194615Z"
    }
   },
   "outputs": [],
   "source": [
    "spam=42\n",
    "cheese=spam\n",
    "cheese=2"
   ]
  },
  {
   "cell_type": "code",
   "execution_count": 78,
   "metadata": {
    "ExecuteTime": {
     "end_time": "2019-11-22T14:27:23.541245Z",
     "start_time": "2019-11-22T14:27:23.538775Z"
    }
   },
   "outputs": [
    {
     "name": "stdout",
     "output_type": "stream",
     "text": [
      "42 2\n"
     ]
    }
   ],
   "source": [
    "print(spam, cheese)"
   ]
  },
  {
   "cell_type": "markdown",
   "metadata": {},
   "source": [
    "spam and ham did not change. Lists seem to behave the same..."
   ]
  },
  {
   "cell_type": "code",
   "execution_count": 79,
   "metadata": {
    "ExecuteTime": {
     "end_time": "2019-11-22T14:38:29.754872Z",
     "start_time": "2019-11-22T14:38:29.752478Z"
    }
   },
   "outputs": [],
   "source": [
    "spam=[42, 42, 42]\n",
    "cheese=spam\n",
    "cheese=[2,2,2]"
   ]
  },
  {
   "cell_type": "code",
   "execution_count": 80,
   "metadata": {
    "ExecuteTime": {
     "end_time": "2019-11-22T14:38:38.774216Z",
     "start_time": "2019-11-22T14:38:38.771632Z"
    }
   },
   "outputs": [
    {
     "name": "stdout",
     "output_type": "stream",
     "text": [
      "[42, 42, 42] [2, 2, 2]\n"
     ]
    }
   ],
   "source": [
    "print(spam, cheese)"
   ]
  },
  {
   "cell_type": "markdown",
   "metadata": {},
   "source": [
    "Well, it is not true!"
   ]
  },
  {
   "cell_type": "code",
   "execution_count": 81,
   "metadata": {
    "ExecuteTime": {
     "end_time": "2019-11-22T14:38:47.263217Z",
     "start_time": "2019-11-22T14:38:47.261060Z"
    }
   },
   "outputs": [],
   "source": [
    "spam=[42, 42, 42]\n",
    "cheese=spam\n",
    "cheese[0]=2"
   ]
  },
  {
   "cell_type": "code",
   "execution_count": 82,
   "metadata": {
    "ExecuteTime": {
     "end_time": "2019-11-22T14:38:52.905567Z",
     "start_time": "2019-11-22T14:38:52.903188Z"
    }
   },
   "outputs": [
    {
     "name": "stdout",
     "output_type": "stream",
     "text": [
      "[2, 42, 42] [2, 42, 42]\n"
     ]
    }
   ],
   "source": [
    "print(spam, cheese)"
   ]
  },
  {
   "cell_type": "markdown",
   "metadata": {},
   "source": [
    "Our friend Sweigart says:\n",
    "> Remember that variables are like boxes that contain values. The [...] list variables don’t actually contain lists—they contain references to lists. (These references will have ID numbers that Python uses internally, but you can ignore them.) [...] the reference in spam is copied to cheese. Only a new reference was created and stored in cheese, not a new list. Note how both references refer to the same list. [...] When you alter the list that cheese refers to, the list that spam refers to is also changed, because both cheese and spam refer to the same list.  \n",
    "\n",
    "Is there a way out? Simple as this: use the converter."
   ]
  },
  {
   "cell_type": "code",
   "execution_count": 83,
   "metadata": {
    "ExecuteTime": {
     "end_time": "2019-11-22T14:41:07.353306Z",
     "start_time": "2019-11-22T14:41:07.350442Z"
    }
   },
   "outputs": [
    {
     "name": "stdout",
     "output_type": "stream",
     "text": [
      "[42, 42, 42]\n",
      "[2, 42, 42]\n"
     ]
    }
   ],
   "source": [
    "spam=[42, 42, 42]\n",
    "cheese=list(spam) #LOOK HERE!\n",
    "cheese[0]=2\n",
    "\n",
    "print (spam)\n",
    "print (cheese)"
   ]
  },
  {
   "cell_type": "markdown",
   "metadata": {},
   "source": [
    "Otherwise, you can use the module **copy**, i.e. a library of functions"
   ]
  },
  {
   "cell_type": "code",
   "execution_count": 85,
   "metadata": {
    "ExecuteTime": {
     "end_time": "2019-11-22T14:41:34.854057Z",
     "start_time": "2019-11-22T14:41:34.852106Z"
    }
   },
   "outputs": [],
   "source": [
    "import copy"
   ]
  },
  {
   "cell_type": "markdown",
   "metadata": {},
   "source": [
    "...and use the *copy* function of the package **copy**."
   ]
  },
  {
   "cell_type": "code",
   "execution_count": 87,
   "metadata": {
    "ExecuteTime": {
     "end_time": "2019-11-22T14:41:59.371590Z",
     "start_time": "2019-11-22T14:41:59.368574Z"
    }
   },
   "outputs": [],
   "source": [
    "spam=[42, 42, 42]\n",
    "cheese=copy.copy(spam) #LOOK HERE! \n",
    "# The first \"copy\" is the module, \n",
    "# then second \"copy\" is the function inside the module. \n",
    "# As we will see, it is going to be standard for function inside a module.\n",
    "cheese[0]=2"
   ]
  },
  {
   "cell_type": "code",
   "execution_count": 88,
   "metadata": {
    "ExecuteTime": {
     "end_time": "2019-11-22T14:43:36.611439Z",
     "start_time": "2019-11-22T14:43:36.608824Z"
    }
   },
   "outputs": [
    {
     "name": "stdout",
     "output_type": "stream",
     "text": [
      "[42, 42, 42]\n",
      "[2, 42, 42]\n"
     ]
    }
   ],
   "source": [
    "print (spam) \n",
    "print (cheese)"
   ]
  },
  {
   "cell_type": "markdown",
   "metadata": {},
   "source": [
    "Why using the **copy** module if list itself works properly?"
   ]
  },
  {
   "cell_type": "code",
   "execution_count": 90,
   "metadata": {
    "ExecuteTime": {
     "end_time": "2019-11-22T14:42:57.589701Z",
     "start_time": "2019-11-22T14:42:57.587106Z"
    }
   },
   "outputs": [],
   "source": [
    "spam=[[42, 42, 42],[4,4,4], [2,2]] \n",
    "# spam is a list of list, \n",
    "# i.e. each element in the list, is a list itself\n",
    "cheese=list(spam) #LOOK HERE!\n",
    "cheese[0][0]=2\n",
    "# I am changing the first element in the first (sub-)list"
   ]
  },
  {
   "cell_type": "code",
   "execution_count": 91,
   "metadata": {
    "ExecuteTime": {
     "end_time": "2019-11-22T14:43:36.611439Z",
     "start_time": "2019-11-22T14:43:36.608824Z"
    }
   },
   "outputs": [
    {
     "name": "stdout",
     "output_type": "stream",
     "text": [
      "[[2, 42, 42], [4, 4, 4], [2, 2]]\n",
      "[[2, 42, 42], [4, 4, 4], [2, 2]]\n"
     ]
    }
   ],
   "source": [
    "print (spam) \n",
    "print (cheese)"
   ]
  },
  {
   "cell_type": "markdown",
   "metadata": {},
   "source": [
    "D'oh! Does the function _copy_ solve this problem?"
   ]
  },
  {
   "cell_type": "code",
   "execution_count": 92,
   "metadata": {
    "ExecuteTime": {
     "end_time": "2019-11-22T14:43:17.557804Z",
     "start_time": "2019-11-22T14:43:17.555232Z"
    }
   },
   "outputs": [],
   "source": [
    "spam=[[42, 42, 42],[4,4,4], [2,2]]\n",
    "cheese=copy.copy(spam) #LOOK HERE!\n",
    "cheese[0][0]=2"
   ]
  },
  {
   "cell_type": "code",
   "execution_count": 93,
   "metadata": {
    "ExecuteTime": {
     "end_time": "2019-11-22T14:43:36.611439Z",
     "start_time": "2019-11-22T14:43:36.608824Z"
    }
   },
   "outputs": [
    {
     "name": "stdout",
     "output_type": "stream",
     "text": [
      "[[2, 42, 42], [4, 4, 4], [2, 2]]\n",
      "[[2, 42, 42], [4, 4, 4], [2, 2]]\n"
     ]
    }
   ],
   "source": [
    "print (spam) \n",
    "print (cheese)"
   ]
  },
  {
   "cell_type": "markdown",
   "metadata": {},
   "source": [
    "**No!** Well, the fact is that we used the wrong function:"
   ]
  },
  {
   "cell_type": "code",
   "execution_count": 94,
   "metadata": {
    "ExecuteTime": {
     "end_time": "2019-11-22T14:43:34.372602Z",
     "start_time": "2019-11-22T14:43:34.369934Z"
    }
   },
   "outputs": [],
   "source": [
    "spam=[[42, 42, 42],[4,4,4], [2,2]]\n",
    "cheese=copy.deepcopy(spam) #LOOK HERE!\n",
    "cheese[0][0]=2"
   ]
  },
  {
   "cell_type": "code",
   "execution_count": 95,
   "metadata": {
    "ExecuteTime": {
     "end_time": "2019-11-22T14:43:36.611439Z",
     "start_time": "2019-11-22T14:43:36.608824Z"
    }
   },
   "outputs": [
    {
     "name": "stdout",
     "output_type": "stream",
     "text": [
      "[[42, 42, 42], [4, 4, 4], [2, 2]]\n",
      "[[2, 42, 42], [4, 4, 4], [2, 2]]\n"
     ]
    }
   ],
   "source": [
    "print (spam) \n",
    "print (cheese)"
   ]
  },
  {
   "cell_type": "markdown",
   "metadata": {},
   "source": [
    "## Loops"
   ]
  },
  {
   "cell_type": "markdown",
   "metadata": {},
   "source": [
    "<img src='../Images/l0_loop.jpg' style=\"float:left;width:18cm;height:10cm;\">"
   ]
  },
  {
   "cell_type": "markdown",
   "metadata": {},
   "source": [
    "Some operations are indeed repetitive and boring. So, why should we do them, running the risk of making errors and breaking crazy?\n",
    "<img src='../Images/l0_ax.jpg' style=\"float:left;width:18cm;height:10cm;\">"
   ]
  },
  {
   "cell_type": "markdown",
   "metadata": {},
   "source": [
    "#### While"
   ]
  },
  {
   "cell_type": "code",
   "execution_count": 96,
   "metadata": {
    "ExecuteTime": {
     "end_time": "2019-11-22T14:48:21.532290Z",
     "start_time": "2019-11-22T14:48:21.527341Z"
    }
   },
   "outputs": [
    {
     "name": "stdout",
     "output_type": "stream",
     "text": [
      "All work and no play makes Jack a dull boy\n",
      "All work and no play makes Jack a dull boy\n",
      "All work and no play makes Jack a dull boy\n",
      "All work and no play makes Jack a dull boy\n",
      "All work and no play makes Jack a dull boy\n",
      "All work and no play makes Jack a dull boy\n",
      "All work and no play makes Jack a dull boy\n",
      "All work and no play makes Jack a dull boy\n",
      "All work and no play makes Jack a dull boy\n",
      "All work and no play makes Jack a dull boy\n",
      "All work and no play makes Jack a dull boy\n",
      "All work and no play makes Jack a dull boy\n",
      "All work and no play makes Jack a dull boy\n",
      "All work and no play makes Jack a dull boy\n",
      "All work and no play makes Jack a dull boy\n",
      "All work and no play makes Jack a dull boy\n",
      "All work and no play makes Jack a dull boy\n",
      "All work and no play makes Jack a dull boy\n",
      "All work and no play makes Jack a dull boy\n",
      "All work and no play makes Jack a dull boy\n",
      "All work and no play makes Jack a dull boy\n",
      "All work and no play makes Jack a dull boy\n",
      "All work and no play makes Jack a dull boy\n",
      "All work and no play makes Jack a dull boy\n",
      "All work and no play makes Jack a dull boy\n",
      "All work and no play makes Jack a dull boy\n",
      "All work and no play makes Jack a dull boy\n",
      "All work and no play makes Jack a dull boy\n",
      "All work and no play makes Jack a dull boy\n",
      "All work and no play makes Jack a dull boy\n",
      "All work and no play makes Jack a dull boy\n",
      "All work and no play makes Jack a dull boy\n",
      "All work and no play makes Jack a dull boy\n",
      "All work and no play makes Jack a dull boy\n",
      "All work and no play makes Jack a dull boy\n",
      "All work and no play makes Jack a dull boy\n",
      "All work and no play makes Jack a dull boy\n",
      "All work and no play makes Jack a dull boy\n",
      "All work and no play makes Jack a dull boy\n",
      "All work and no play makes Jack a dull boy\n",
      "All work and no play makes Jack a dull boy\n",
      "All work and no play makes Jack a dull boy\n",
      "Now I fell fine\n"
     ]
    }
   ],
   "source": [
    "crazy=0\n",
    "while crazy<42:\n",
    "    crazy+=1\n",
    "    print('All work and no play makes Jack a dull boy')\n",
    "print('Now I fell fine')"
   ]
  },
  {
   "cell_type": "markdown",
   "metadata": {},
   "source": [
    "#### For"
   ]
  },
  {
   "cell_type": "code",
   "execution_count": 99,
   "metadata": {},
   "outputs": [
    {
     "data": {
      "text/plain": [
       "range(0, 42)"
      ]
     },
     "execution_count": 99,
     "metadata": {},
     "output_type": "execute_result"
    }
   ],
   "source": [
    "range(42)"
   ]
  },
  {
   "cell_type": "markdown",
   "metadata": {},
   "source": [
    "So what?"
   ]
  },
  {
   "cell_type": "code",
   "execution_count": 97,
   "metadata": {
    "ExecuteTime": {
     "end_time": "2019-11-22T14:48:51.677207Z",
     "start_time": "2019-11-22T14:48:51.674074Z"
    }
   },
   "outputs": [
    {
     "data": {
      "text/plain": [
       "range"
      ]
     },
     "execution_count": 97,
     "metadata": {},
     "output_type": "execute_result"
    }
   ],
   "source": [
    "type(range(42))"
   ]
  },
  {
   "cell_type": "code",
   "execution_count": 98,
   "metadata": {
    "ExecuteTime": {
     "end_time": "2019-11-22T14:49:02.096354Z",
     "start_time": "2019-11-22T14:49:02.091346Z"
    }
   },
   "outputs": [
    {
     "name": "stdout",
     "output_type": "stream",
     "text": [
      "0\n",
      "1\n",
      "2\n",
      "3\n",
      "4\n",
      "5\n",
      "6\n",
      "7\n",
      "8\n",
      "9\n",
      "10\n",
      "11\n",
      "12\n",
      "13\n",
      "14\n",
      "15\n",
      "16\n",
      "17\n",
      "18\n",
      "19\n",
      "20\n",
      "21\n",
      "22\n",
      "23\n",
      "24\n",
      "25\n",
      "26\n",
      "27\n",
      "28\n",
      "29\n",
      "30\n",
      "31\n",
      "32\n",
      "33\n",
      "34\n",
      "35\n",
      "36\n",
      "37\n",
      "38\n",
      "39\n",
      "40\n",
      "41\n"
     ]
    }
   ],
   "source": [
    "for i in range(42):\n",
    "    print(i)"
   ]
  },
  {
   "cell_type": "code",
   "execution_count": 156,
   "metadata": {
    "ExecuteTime": {
     "end_time": "2019-11-22T14:49:09.238543Z",
     "start_time": "2019-11-22T14:49:09.235812Z"
    }
   },
   "outputs": [
    {
     "name": "stdout",
     "output_type": "stream",
     "text": [
      "zero\n",
      "42.0\n",
      "quarantadue\n",
      "0.0\n",
      "546\n",
      "spam\n",
      "cacca\n"
     ]
    }
   ],
   "source": [
    "for i in cacca_3:\n",
    "    print(i)"
   ]
  },
  {
   "cell_type": "code",
   "execution_count": 158,
   "metadata": {
    "ExecuteTime": {
     "end_time": "2019-11-22T14:49:52.456634Z",
     "start_time": "2019-11-22T14:49:52.451586Z"
    }
   },
   "outputs": [
    {
     "name": "stdout",
     "output_type": "stream",
     "text": [
      "A\n",
      "l\n",
      "l\n",
      " \n",
      "w\n",
      "o\n",
      "r\n",
      "k\n",
      " \n",
      "a\n",
      "n\n",
      "d\n",
      " \n",
      "n\n",
      "o\n",
      " \n",
      "p\n",
      "l\n",
      "a\n",
      "y\n",
      " \n",
      "m\n",
      "a\n",
      "k\n",
      "e\n",
      "s\n",
      " \n",
      "J\n",
      "a\n",
      "c\n",
      "k\n",
      " \n",
      "a\n",
      " \n",
      "d\n",
      "u\n",
      "l\n",
      "l\n",
      " \n",
      "b\n",
      "o\n",
      "y\n"
     ]
    }
   ],
   "source": [
    "for i in 'All work and no play makes Jack a dull boy':\n",
    "    print(i)"
   ]
  },
  {
   "cell_type": "markdown",
   "metadata": {},
   "source": [
    "#### I want to *break* free! I want to *continue* free!"
   ]
  },
  {
   "cell_type": "markdown",
   "metadata": {},
   "source": [
    "![](../Images/l0_queen.jpg)"
   ]
  },
  {
   "cell_type": "markdown",
   "metadata": {},
   "source": [
    "The Queen from the video of \"I want to break free\" (1984)"
   ]
  },
  {
   "cell_type": "code",
   "execution_count": 160,
   "metadata": {
    "ExecuteTime": {
     "end_time": "2019-11-22T14:50:05.970535Z",
     "start_time": "2019-11-22T14:50:05.966621Z"
    }
   },
   "outputs": [
    {
     "name": "stdout",
     "output_type": "stream",
     "text": [
      "0\n",
      "1\n",
      "2\n",
      "3\n",
      "4\n",
      "5\n",
      "6\n",
      "7\n",
      "8\n",
      "9\n",
      "10\n",
      "11\n",
      "12\n",
      "13\n",
      "14\n",
      "15\n",
      "16\n",
      "17\n",
      "18\n",
      "19\n",
      "20\n",
      "21\n"
     ]
    }
   ],
   "source": [
    "for i in range(42):\n",
    "    print(i)\n",
    "    if i ==21:\n",
    "        break"
   ]
  },
  {
   "cell_type": "code",
   "execution_count": 100,
   "metadata": {
    "ExecuteTime": {
     "end_time": "2019-11-22T14:50:47.751505Z",
     "start_time": "2019-11-22T14:50:47.747085Z"
    }
   },
   "outputs": [
    {
     "name": "stdout",
     "output_type": "stream",
     "text": [
      "0\n",
      "1\n",
      "2\n",
      "3\n",
      "4\n",
      "5\n",
      "6\n",
      "7\n",
      "8\n",
      "9\n",
      "10\n",
      "11\n",
      "12\n",
      "13\n",
      "14\n",
      "15\n",
      "16\n",
      "17\n",
      "18\n",
      "19\n",
      "20\n",
      "22\n",
      "23\n",
      "24\n",
      "25\n",
      "26\n",
      "27\n",
      "28\n",
      "29\n",
      "30\n",
      "31\n",
      "32\n",
      "33\n",
      "34\n",
      "35\n",
      "36\n",
      "37\n",
      "38\n",
      "39\n",
      "40\n",
      "41\n"
     ]
    }
   ],
   "source": [
    "for i in range(42):\n",
    "    if i!=21:\n",
    "        print(i)\n",
    "        continue"
   ]
  },
  {
   "cell_type": "markdown",
   "metadata": {},
   "source": [
    "##### Micro exercise"
   ]
  },
  {
   "cell_type": "code",
   "execution_count": 101,
   "metadata": {
    "ExecuteTime": {
     "end_time": "2019-11-22T14:50:55.578263Z",
     "start_time": "2019-11-22T14:50:55.575982Z"
    }
   },
   "outputs": [],
   "source": [
    "cacca=list(range(42))[::2]"
   ]
  },
  {
   "cell_type": "markdown",
   "metadata": {},
   "source": [
    "Let's say we want to erase the first even integer multiple of 3 from "
   ]
  },
  {
   "cell_type": "code",
   "execution_count": 102,
   "metadata": {
    "ExecuteTime": {
     "end_time": "2019-11-22T14:50:56.360604Z",
     "start_time": "2019-11-22T14:50:56.357388Z"
    }
   },
   "outputs": [
    {
     "data": {
      "text/plain": [
       "[0, 2, 4, 6, 8, 10, 12, 14, 16, 18, 20, 22, 24, 26, 28, 30, 32, 34, 36, 38, 40]"
      ]
     },
     "execution_count": 102,
     "metadata": {},
     "output_type": "execute_result"
    }
   ],
   "source": [
    "cacca"
   ]
  },
  {
   "cell_type": "code",
   "execution_count": 103,
   "metadata": {
    "ExecuteTime": {
     "end_time": "2019-11-22T14:51:01.478569Z",
     "start_time": "2019-11-22T14:51:01.475780Z"
    }
   },
   "outputs": [
    {
     "data": {
      "text/plain": [
       "21"
      ]
     },
     "execution_count": 103,
     "metadata": {},
     "output_type": "execute_result"
    }
   ],
   "source": [
    "len(cacca)"
   ]
  },
  {
   "cell_type": "code",
   "execution_count": 104,
   "metadata": {
    "ExecuteTime": {
     "end_time": "2019-11-22T14:51:10.418343Z",
     "start_time": "2019-11-22T14:51:10.415916Z"
    }
   },
   "outputs": [],
   "source": [
    "for odd in range(21):\n",
    "    if (odd*2) % 3==0 and odd!=0:\n",
    "        del cacca[odd]\n",
    "        break"
   ]
  },
  {
   "cell_type": "code",
   "execution_count": 168,
   "metadata": {
    "ExecuteTime": {
     "end_time": "2019-11-22T14:51:11.528679Z",
     "start_time": "2019-11-22T14:51:11.525680Z"
    }
   },
   "outputs": [
    {
     "data": {
      "text/plain": [
       "[0, 2, 4, 8, 10, 12, 14, 16, 18, 20, 22, 24, 26, 28, 30, 32, 34, 36, 38, 40]"
      ]
     },
     "execution_count": 168,
     "metadata": {},
     "output_type": "execute_result"
    }
   ],
   "source": [
    "cacca"
   ]
  },
  {
   "cell_type": "markdown",
   "metadata": {},
   "source": [
    "### List (again!)\n",
    "#### List comprehension"
   ]
  },
  {
   "cell_type": "markdown",
   "metadata": {},
   "source": [
    "[function(i) for cycle(i)]"
   ]
  },
  {
   "cell_type": "code",
   "execution_count": 105,
   "metadata": {
    "ExecuteTime": {
     "end_time": "2019-11-22T14:54:02.470867Z",
     "start_time": "2019-11-22T14:54:02.468571Z"
    }
   },
   "outputs": [],
   "source": [
    "cacca_x=[i%2 for i in range(42)]"
   ]
  },
  {
   "cell_type": "code",
   "execution_count": 106,
   "metadata": {
    "ExecuteTime": {
     "end_time": "2019-11-22T14:54:07.438075Z",
     "start_time": "2019-11-22T14:54:07.435307Z"
    }
   },
   "outputs": [
    {
     "data": {
      "text/plain": [
       "list"
      ]
     },
     "execution_count": 106,
     "metadata": {},
     "output_type": "execute_result"
    }
   ],
   "source": [
    "type(cacca_x)"
   ]
  },
  {
   "cell_type": "code",
   "execution_count": 107,
   "metadata": {
    "ExecuteTime": {
     "end_time": "2019-11-22T14:52:17.702775Z",
     "start_time": "2019-11-22T14:52:17.700483Z"
    }
   },
   "outputs": [],
   "source": [
    "cacca_x=[i**2 for i in range(42)]"
   ]
  },
  {
   "cell_type": "code",
   "execution_count": 108,
   "metadata": {
    "ExecuteTime": {
     "end_time": "2019-11-22T14:52:23.595435Z",
     "start_time": "2019-11-22T14:52:23.592327Z"
    }
   },
   "outputs": [
    {
     "data": {
      "text/plain": [
       "[0,\n",
       " 1,\n",
       " 4,\n",
       " 9,\n",
       " 16,\n",
       " 25,\n",
       " 36,\n",
       " 49,\n",
       " 64,\n",
       " 81,\n",
       " 100,\n",
       " 121,\n",
       " 144,\n",
       " 169,\n",
       " 196,\n",
       " 225,\n",
       " 256,\n",
       " 289,\n",
       " 324,\n",
       " 361,\n",
       " 400,\n",
       " 441,\n",
       " 484,\n",
       " 529,\n",
       " 576,\n",
       " 625,\n",
       " 676,\n",
       " 729,\n",
       " 784,\n",
       " 841,\n",
       " 900,\n",
       " 961,\n",
       " 1024,\n",
       " 1089,\n",
       " 1156,\n",
       " 1225,\n",
       " 1296,\n",
       " 1369,\n",
       " 1444,\n",
       " 1521,\n",
       " 1600,\n",
       " 1681]"
      ]
     },
     "execution_count": 108,
     "metadata": {},
     "output_type": "execute_result"
    }
   ],
   "source": [
    "cacca_x"
   ]
  },
  {
   "cell_type": "markdown",
   "metadata": {},
   "source": [
    "Not all indices are ok!"
   ]
  },
  {
   "cell_type": "code",
   "execution_count": 109,
   "metadata": {
    "ExecuteTime": {
     "end_time": "2019-11-22T14:53:20.402421Z",
     "start_time": "2019-11-22T14:53:20.400247Z"
    }
   },
   "outputs": [],
   "source": [
    "cacca_x=[i for i in range(42) if i%2==0]"
   ]
  },
  {
   "cell_type": "code",
   "execution_count": 110,
   "metadata": {
    "ExecuteTime": {
     "end_time": "2019-11-22T14:53:20.878548Z",
     "start_time": "2019-11-22T14:53:20.875546Z"
    }
   },
   "outputs": [
    {
     "data": {
      "text/plain": [
       "[0, 2, 4, 6, 8, 10, 12, 14, 16, 18, 20, 22, 24, 26, 28, 30, 32, 34, 36, 38, 40]"
      ]
     },
     "execution_count": 110,
     "metadata": {},
     "output_type": "execute_result"
    }
   ],
   "source": [
    "cacca_x"
   ]
  },
  {
   "cell_type": "code",
   "execution_count": 111,
   "metadata": {
    "ExecuteTime": {
     "end_time": "2019-11-22T14:53:26.513429Z",
     "start_time": "2019-11-22T14:53:26.510961Z"
    }
   },
   "outputs": [],
   "source": [
    "cacca_x=[i if i%2==0 else 0 for i in range(42)]"
   ]
  },
  {
   "cell_type": "code",
   "execution_count": 112,
   "metadata": {
    "ExecuteTime": {
     "end_time": "2019-11-22T14:53:28.259385Z",
     "start_time": "2019-11-22T14:53:28.256213Z"
    }
   },
   "outputs": [
    {
     "data": {
      "text/plain": [
       "[0,\n",
       " 0,\n",
       " 2,\n",
       " 0,\n",
       " 4,\n",
       " 0,\n",
       " 6,\n",
       " 0,\n",
       " 8,\n",
       " 0,\n",
       " 10,\n",
       " 0,\n",
       " 12,\n",
       " 0,\n",
       " 14,\n",
       " 0,\n",
       " 16,\n",
       " 0,\n",
       " 18,\n",
       " 0,\n",
       " 20,\n",
       " 0,\n",
       " 22,\n",
       " 0,\n",
       " 24,\n",
       " 0,\n",
       " 26,\n",
       " 0,\n",
       " 28,\n",
       " 0,\n",
       " 30,\n",
       " 0,\n",
       " 32,\n",
       " 0,\n",
       " 34,\n",
       " 0,\n",
       " 36,\n",
       " 0,\n",
       " 38,\n",
       " 0,\n",
       " 40,\n",
       " 0]"
      ]
     },
     "execution_count": 112,
     "metadata": {},
     "output_type": "execute_result"
    }
   ],
   "source": [
    "cacca_x"
   ]
  },
  {
   "cell_type": "markdown",
   "metadata": {},
   "source": [
    "### Exercise: define  a loop that runs over the list of even integers lower than 42 and erase the first non-zero element divisible  by 3"
   ]
  },
  {
   "cell_type": "code",
   "execution_count": null,
   "metadata": {},
   "outputs": [],
   "source": []
  },
  {
   "cell_type": "markdown",
   "metadata": {},
   "source": [
    "### Exercise: get the list of even integers lower than 42 and without all elements divisible by 3"
   ]
  },
  {
   "cell_type": "code",
   "execution_count": null,
   "metadata": {},
   "outputs": [],
   "source": []
  },
  {
   "cell_type": "markdown",
   "metadata": {},
   "source": [
    "### Exercise: delete the strings from cacca_3 "
   ]
  },
  {
   "cell_type": "code",
   "execution_count": null,
   "metadata": {},
   "outputs": [],
   "source": []
  }
 ],
 "metadata": {
  "kernelspec": {
   "display_name": "Python 3",
   "language": "python",
   "name": "python3"
  },
  "language_info": {
   "codemirror_mode": {
    "name": "ipython",
    "version": 3
   },
   "file_extension": ".py",
   "mimetype": "text/x-python",
   "name": "python",
   "nbconvert_exporter": "python",
   "pygments_lexer": "ipython3",
   "version": "3.9.0"
  },
  "latex_envs": {
   "LaTeX_envs_menu_present": true,
   "autoclose": false,
   "autocomplete": true,
   "bibliofile": "biblio.bib",
   "cite_by": "apalike",
   "current_citInitial": 1,
   "eqLabelWithNumbers": true,
   "eqNumInitial": 1,
   "hotkeys": {
    "equation": "Ctrl-E",
    "itemize": "Ctrl-I"
   },
   "labels_anchors": false,
   "latex_user_defs": false,
   "report_style_numbering": false,
   "user_envs_cfg": false
  },
  "toc": {
   "base_numbering": 1,
   "nav_menu": {
    "height": "118.833px",
    "width": "252px"
   },
   "number_sections": false,
   "sideBar": true,
   "skip_h1_title": true,
   "title_cell": "Table of Contents",
   "title_sidebar": "Contents",
   "toc_cell": false,
   "toc_position": {
    "height": "847.867px",
    "left": "0px",
    "right": "1545px",
    "top": "111.133px",
    "width": "314px"
   },
   "toc_section_display": "block",
   "toc_window_display": true
  },
  "varInspector": {
   "cols": {
    "lenName": 16,
    "lenType": 16,
    "lenVar": 40
   },
   "kernels_config": {
    "python": {
     "delete_cmd_postfix": "",
     "delete_cmd_prefix": "del ",
     "library": "var_list.py",
     "varRefreshCmd": "print(var_dic_list())"
    },
    "r": {
     "delete_cmd_postfix": ") ",
     "delete_cmd_prefix": "rm(",
     "library": "var_list.r",
     "varRefreshCmd": "cat(var_dic_list()) "
    }
   },
   "types_to_exclude": [
    "module",
    "function",
    "builtin_function_or_method",
    "instance",
    "_Feature"
   ],
   "window_display": false
  }
 },
 "nbformat": 4,
 "nbformat_minor": 2
}
