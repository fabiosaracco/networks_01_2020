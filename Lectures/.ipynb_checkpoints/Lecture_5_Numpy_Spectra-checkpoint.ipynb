{
 "cells": [
  {
   "cell_type": "code",
   "execution_count": 1,
   "metadata": {
    "ExecuteTime": {
     "end_time": "2019-12-04T11:45:26.830054Z",
     "start_time": "2019-12-04T11:45:26.725423Z"
    }
   },
   "outputs": [],
   "source": [
    "import numpy as np\n",
    "import matplotlib as plt"
   ]
  },
  {
   "cell_type": "markdown",
   "metadata": {},
   "source": [
    "## Spectral analysis with numpy\n",
    "Numpy has a submodule for the spectral analysis."
   ]
  },
  {
   "cell_type": "code",
   "execution_count": 2,
   "metadata": {
    "ExecuteTime": {
     "end_time": "2019-12-04T11:45:27.235560Z",
     "start_time": "2019-12-04T11:45:27.233460Z"
    }
   },
   "outputs": [],
   "source": [
    "from numpy import linalg as la"
   ]
  },
  {
   "cell_type": "markdown",
   "metadata": {},
   "source": [
    "#### Get the adjacency matrix of the Florentine families"
   ]
  },
  {
   "cell_type": "code",
   "execution_count": 3,
   "metadata": {
    "ExecuteTime": {
     "end_time": "2019-12-04T11:45:27.669152Z",
     "start_time": "2019-12-04T11:45:27.666662Z"
    }
   },
   "outputs": [],
   "source": [
    "with open('../Data/florentine_families.dat', 'r') as file:\n",
    "    all_file=file.readlines()"
   ]
  },
  {
   "cell_type": "code",
   "execution_count": 4,
   "metadata": {
    "ExecuteTime": {
     "end_time": "2019-12-04T11:45:27.875681Z",
     "start_time": "2019-12-04T11:45:27.873516Z"
    }
   },
   "outputs": [],
   "source": [
    "families=np.array(all_file[4:20])"
   ]
  },
  {
   "cell_type": "code",
   "execution_count": 5,
   "metadata": {
    "ExecuteTime": {
     "end_time": "2019-12-04T11:45:28.112789Z",
     "start_time": "2019-12-04T11:45:28.105279Z"
    }
   },
   "outputs": [
    {
     "data": {
      "text/plain": [
       "[' 0 0 0 0 0 0 0 0 1 0 0 0 0 0 0 0\\n',\n",
       " ' 0 0 0 0 0 1 1 0 1 0 0 0 0 0 0 0\\n',\n",
       " ' 0 0 0 0 1 0 0 0 1 0 0 0 0 0 0 0\\n',\n",
       " ' 0 0 0 0 0 0 1 0 0 0 1 0 0 0 1 0\\n',\n",
       " ' 0 0 1 0 0 0 0 0 0 0 1 0 0 0 1 0\\n',\n",
       " ' 0 1 0 0 0 0 0 0 0 0 0 0 0 0 0 0\\n',\n",
       " ' 0 1 0 1 0 0 0 1 0 0 0 0 0 0 0 1\\n',\n",
       " ' 0 0 0 0 0 0 1 0 0 0 0 0 0 0 0 0\\n',\n",
       " ' 1 1 1 0 0 0 0 0 0 0 0 0 1 1 0 1\\n',\n",
       " ' 0 0 0 0 0 0 0 0 0 0 0 0 0 1 0 0\\n',\n",
       " ' 0 0 0 1 1 0 0 0 0 0 0 0 0 0 1 0\\n',\n",
       " ' 0 0 0 0 0 0 0 0 0 0 0 0 0 0 0 0\\n',\n",
       " ' 0 0 0 0 0 0 0 0 1 0 0 0 0 0 1 1\\n',\n",
       " ' 0 0 0 0 0 0 0 0 1 1 0 0 0 0 0 0\\n',\n",
       " ' 0 0 0 1 1 0 0 0 0 0 1 0 1 0 0 0\\n',\n",
       " ' 0 0 0 0 0 0 1 0 1 0 0 0 1 0 0 0\\n',\n",
       " ' 0 0 0 0 0 0 0 0 0 0 0 0 0 0 0 0\\n',\n",
       " ' 0 0 0 0 0 0 0 0 0 0 0 0 0 0 0 0\\n',\n",
       " ' 0 0 0 0 1 1 0 0 1 0 1 0 0 0 0 0\\n',\n",
       " ' 0 0 0 0 0 0 1 1 0 0 1 0 0 0 0 0\\n',\n",
       " ' 0 0 1 0 0 0 0 1 0 0 1 0 0 0 0 0\\n',\n",
       " ' 0 0 1 0 0 0 0 0 1 0 0 0 0 0 0 0\\n',\n",
       " ' 0 0 0 1 0 0 0 1 0 0 0 0 0 0 0 0\\n',\n",
       " ' 0 0 0 1 1 0 1 0 0 0 1 0 0 0 0 0\\n',\n",
       " ' 0 0 1 0 0 1 0 0 0 1 0 0 0 1 0 1\\n',\n",
       " ' 0 0 0 0 0 0 0 0 1 0 0 0 0 0 0 0\\n',\n",
       " ' 0 0 1 1 1 0 0 1 0 0 0 0 0 0 0 0\\n',\n",
       " ' 0 0 0 0 0 0 0 0 0 0 0 0 0 0 0 0\\n',\n",
       " ' 0 0 0 0 0 0 0 0 0 0 0 0 0 0 0 0\\n',\n",
       " ' 0 0 0 0 0 0 0 0 1 0 0 0 0 0 0 0\\n',\n",
       " ' 0 0 0 0 0 0 0 0 0 0 0 0 0 0 0 0\\n',\n",
       " ' 0 0 0 0 0 0 0 0 1 0 0 0 0 0 0 0\\n']"
      ]
     },
     "execution_count": 5,
     "metadata": {},
     "output_type": "execute_result"
    }
   ],
   "source": [
    "all_file[41:]"
   ]
  },
  {
   "cell_type": "markdown",
   "metadata": {},
   "source": [
    "Actually, they are two adjacency matrices: first the one of marriages, then the one of business ties."
   ]
  },
  {
   "cell_type": "code",
   "execution_count": 6,
   "metadata": {
    "ExecuteTime": {
     "end_time": "2019-12-04T11:45:28.582925Z",
     "start_time": "2019-12-04T11:45:28.577833Z"
    }
   },
   "outputs": [],
   "source": [
    "ff_adj=np.genfromtxt('../Data/florentine_families.dat', skip_header=41, dtype='i8')[:16]"
   ]
  },
  {
   "cell_type": "code",
   "execution_count": 7,
   "metadata": {
    "ExecuteTime": {
     "end_time": "2019-12-04T11:45:28.827953Z",
     "start_time": "2019-12-04T11:45:28.825109Z"
    }
   },
   "outputs": [
    {
     "data": {
      "text/plain": [
       "(16, 16)"
      ]
     },
     "execution_count": 7,
     "metadata": {},
     "output_type": "execute_result"
    }
   ],
   "source": [
    "ff_adj.shape"
   ]
  },
  {
   "cell_type": "code",
   "execution_count": 8,
   "metadata": {
    "ExecuteTime": {
     "end_time": "2019-12-04T11:45:29.076678Z",
     "start_time": "2019-12-04T11:45:29.073278Z"
    }
   },
   "outputs": [
    {
     "data": {
      "text/plain": [
       "True"
      ]
     },
     "execution_count": 8,
     "metadata": {},
     "output_type": "execute_result"
    }
   ],
   "source": [
    "np.all(ff_adj.T==ff_adj)"
   ]
  },
  {
   "cell_type": "code",
   "execution_count": 9,
   "metadata": {
    "ExecuteTime": {
     "end_time": "2019-12-04T11:45:29.331098Z",
     "start_time": "2019-12-04T11:45:29.328925Z"
    }
   },
   "outputs": [],
   "source": [
    "del file, all_file"
   ]
  },
  {
   "cell_type": "markdown",
   "metadata": {},
   "source": [
    "### Eigenvalues and eigenvectors"
   ]
  },
  {
   "cell_type": "markdown",
   "metadata": {},
   "source": [
    "For real symmetric or Hermitian matrices use eigh. The first output is the array of eigenvalues (sorted), the second is an array of eigenvectors, in the same order."
   ]
  },
  {
   "cell_type": "code",
   "execution_count": 10,
   "metadata": {
    "ExecuteTime": {
     "end_time": "2019-12-04T11:45:30.121640Z",
     "start_time": "2019-12-04T11:45:30.113585Z"
    }
   },
   "outputs": [
    {
     "data": {
      "text/plain": [
       "(array([-2.69583872e+00, -2.06786891e+00, -1.87072241e+00, -1.19329397e+00,\n",
       "        -8.69346719e-01, -7.65384963e-01, -5.76260635e-01, -2.02434814e-01,\n",
       "         2.07340960e-17,  2.57815118e-01,  6.01990890e-01,  9.38398928e-01,\n",
       "         1.05403772e+00,  1.70899078e+00,  2.42381396e+00,  3.25610375e+00]),\n",
       " array([[-2.09869386e-01,  1.28975702e-01, -9.70956830e-02,\n",
       "          1.32792737e-01, -5.92617579e-02, -2.55792185e-01,\n",
       "         -3.23010027e-01, -2.98719366e-01,  1.57751416e-17,\n",
       "          7.55671318e-01,  3.67809805e-02, -7.60942241e-02,\n",
       "          2.57525003e-02,  1.56127024e-01,  1.70476926e-01,\n",
       "         -1.32154295e-01],\n",
       "        [-4.09905211e-01, -5.75141122e-02,  8.00666776e-02,\n",
       "         -1.74789408e-01, -4.93180824e-01,  1.99774022e-01,\n",
       "          7.50876193e-02,  4.16015878e-02,  1.06459889e-16,\n",
       "         -4.95271890e-02, -2.77554124e-01, -2.30077181e-01,\n",
       "          4.08877272e-01, -2.82922012e-01,  2.49072663e-01,\n",
       "         -2.43956109e-01],\n",
       "        [-2.25106244e-01,  3.48579313e-01,  2.39524745e-02,\n",
       "         -1.38616480e-01,  1.55815521e-01, -3.53437812e-01,\n",
       "          2.78252679e-01,  2.30445572e-01, -1.15070951e-16,\n",
       "         -1.57753051e-01,  4.72232362e-01, -2.94779989e-01,\n",
       "          2.43631242e-01,  2.97593197e-01,  2.79863363e-02,\n",
       "         -2.11705251e-01],\n",
       "        [-1.86058944e-01, -4.58581756e-01, -5.93600697e-02,\n",
       "          2.28755815e-02,  2.10896633e-01, -2.72494594e-01,\n",
       "          3.08357148e-01,  3.56397124e-01, -2.89460150e-17,\n",
       "          3.16312489e-01, -7.07557980e-02,  2.16208750e-01,\n",
       "          1.36084350e-02, -2.74548979e-01, -3.20717603e-01,\n",
       "         -2.82800087e-01],\n",
       "        [ 4.10761119e-02, -4.54111479e-01, -2.26447501e-01,\n",
       "          3.23870982e-01, -1.86976726e-01,  7.47364951e-02,\n",
       "         -3.46484029e-01, -1.07121406e-01, -2.04770091e-17,\n",
       "         -2.35494611e-01,  2.62137765e-01, -2.05214488e-01,\n",
       "          2.29652412e-01,  2.41764385e-01, -3.45370680e-01,\n",
       "         -2.59026167e-01],\n",
       "        [ 1.52051088e-01,  2.78132294e-02, -4.27998709e-02,\n",
       "          1.46476403e-01,  5.67300496e-01, -2.61011166e-01,\n",
       "         -1.30301490e-01, -2.05506093e-01,  1.69415429e-17,\n",
       "         -1.92103510e-01, -4.61060339e-01, -2.45180567e-01,\n",
       "          3.87915219e-01, -1.65549174e-01,  1.02760636e-01,\n",
       "         -7.49227077e-02],\n",
       "        [ 3.87213233e-01,  3.57823259e-01, -2.88621727e-01,\n",
       "          2.20559516e-01, -1.90074379e-01, -8.76723579e-02,\n",
       "         -9.91065126e-02,  1.36613284e-01, -3.73484705e-17,\n",
       "         -1.54888384e-02,  2.71833470e-01,  1.00683125e-01,\n",
       "          1.59127416e-02, -5.84781581e-01,  8.77408093e-02,\n",
       "         -2.89115599e-01],\n",
       "        [-1.43633679e-01, -1.73039625e-01,  1.54283568e-01,\n",
       "         -1.84832507e-01,  2.18640474e-01,  1.14546747e-01,\n",
       "          1.71982097e-01, -6.74850742e-01, -8.55861784e-17,\n",
       "         -6.00773086e-02,  4.51557447e-01,  1.07292456e-01,\n",
       "          1.50969375e-02, -3.42179483e-01,  3.61994818e-02,\n",
       "         -8.87918880e-02],\n",
       "        [ 5.65774018e-01, -2.66704844e-01,  1.81639070e-01,\n",
       "         -1.58460772e-01,  5.15190147e-02,  1.95779492e-01,\n",
       "          1.86137963e-01,  6.04711993e-02, -3.25260652e-19,\n",
       "          1.94823490e-01,  2.21418152e-02, -7.14067383e-02,\n",
       "          2.71441066e-02,  2.66819645e-01,  4.13204353e-01,\n",
       "         -4.30308094e-01],\n",
       "        [ 9.02704155e-02, -8.14097020e-02,  7.26671869e-02,\n",
       "         -3.73771873e-01, -2.10939235e-01, -4.72685119e-01,\n",
       "         -2.78681485e-01, -6.30551918e-02, -4.09458502e-18,\n",
       "         -2.08695173e-01, -3.47264323e-02,  5.98009058e-01,\n",
       "          2.44551389e-01,  1.38921572e-01,  8.47620563e-02,\n",
       "         -4.48134359e-02],\n",
       "        [ 1.80507497e-02,  3.01750091e-01, -1.30765406e-01,\n",
       "         -5.11602890e-01,  2.34605588e-01,  4.19740887e-01,\n",
       "         -2.75439253e-01,  5.07986675e-02,  7.78357364e-18,\n",
       "          1.41401431e-01, -7.68080826e-02,  5.83993292e-02,\n",
       "          1.17666734e-01,  3.05631585e-02, -4.47217318e-01,\n",
       "         -2.75730374e-01],\n",
       "        [ 0.00000000e+00,  0.00000000e+00,  0.00000000e+00,\n",
       "          0.00000000e+00, -1.66533454e-16,  0.00000000e+00,\n",
       "          5.55111512e-17, -5.55111512e-17, -1.00000000e+00,\n",
       "          1.38777878e-17, -1.11022302e-16, -2.77555756e-17,\n",
       "         -1.11022302e-16,  1.73472348e-18,  0.00000000e+00,\n",
       "          2.16840434e-19],\n",
       "        [-1.32733588e-01,  1.39212597e-02, -5.75720571e-01,\n",
       "         -1.49870281e-01, -6.04244112e-02, -1.27453716e-01,\n",
       "          2.00128261e-01, -2.47530580e-01,  5.25934536e-17,\n",
       "         -2.33656619e-01, -2.57618799e-01, -2.82845823e-02,\n",
       "         -4.86606476e-01,  1.47514276e-01,  1.00434241e-01,\n",
       "         -3.41552644e-01],\n",
       "        [-2.43354481e-01,  1.68344591e-01, -1.35940135e-01,\n",
       "          4.46019723e-01,  1.83379332e-01,  3.61786082e-01,\n",
       "          1.60593170e-01,  1.27645660e-02, -2.62763176e-17,\n",
       "         -5.38047707e-02, -2.09049959e-02,  5.61171059e-01,\n",
       "          2.57766389e-01,  2.37415685e-01,  2.05447455e-01,\n",
       "         -1.45917196e-01],\n",
       "        [ 9.63209216e-02,  2.88713604e-01,  5.30433346e-01,\n",
       "          2.63746081e-01, -2.27873505e-01, -1.23505264e-01,\n",
       "          1.96851681e-01, -2.59559137e-01,  6.00693263e-17,\n",
       "         -4.43624508e-02, -2.37619733e-01,  4.38076051e-02,\n",
       "         -1.19235672e-01,  8.50167496e-02, -4.17883294e-01,\n",
       "         -3.55980448e-01],\n",
       "        [-3.04266593e-01, -5.07960995e-02,  3.64940958e-01,\n",
       "          7.35539933e-02,  2.28884254e-01,  2.52769296e-02,\n",
       "         -4.98315682e-01,  2.49196745e-01, -3.49189574e-17,\n",
       "         -2.10701248e-01,  6.03937476e-02,  1.05691148e-03,\n",
       "         -4.20810015e-01, -9.97358571e-02,  2.48112856e-01,\n",
       "         -3.25842301e-01]]))"
      ]
     },
     "execution_count": 10,
     "metadata": {},
     "output_type": "execute_result"
    }
   ],
   "source": [
    "la.eigh(ff_adj)"
   ]
  },
  {
   "cell_type": "markdown",
   "metadata": {},
   "source": [
    "**Pay attention!** Eigenvectors are the columns!"
   ]
  },
  {
   "cell_type": "code",
   "execution_count": 60,
   "metadata": {
    "ExecuteTime": {
     "end_time": "2019-12-04T12:51:22.218925Z",
     "start_time": "2019-12-04T12:51:22.216175Z"
    }
   },
   "outputs": [],
   "source": [
    "ff_eigens=la.eigh(ff_adj)"
   ]
  },
  {
   "cell_type": "markdown",
   "metadata": {},
   "source": [
    "### Perron - Frobenius"
   ]
  },
  {
   "cell_type": "code",
   "execution_count": 61,
   "metadata": {
    "ExecuteTime": {
     "end_time": "2019-12-04T12:51:25.788934Z",
     "start_time": "2019-12-04T12:51:25.785805Z"
    }
   },
   "outputs": [
    {
     "data": {
      "text/plain": [
       "True"
      ]
     },
     "execution_count": 61,
     "metadata": {},
     "output_type": "execute_result"
    }
   ],
   "source": [
    "np.all(ff_adj>=0)"
   ]
  },
  {
   "cell_type": "markdown",
   "metadata": {},
   "source": [
    "The adjacency matrix is non negative (ok, that's easy)"
   ]
  },
  {
   "cell_type": "code",
   "execution_count": 62,
   "metadata": {
    "ExecuteTime": {
     "end_time": "2019-12-04T12:51:26.659063Z",
     "start_time": "2019-12-04T12:51:26.655607Z"
    }
   },
   "outputs": [
    {
     "data": {
      "text/plain": [
       "(array([-2.69583872e+00, -2.06786891e+00, -1.87072241e+00, -1.19329397e+00,\n",
       "        -8.69346719e-01, -7.65384963e-01, -5.76260635e-01, -2.02434814e-01,\n",
       "         2.07340960e-17,  2.57815118e-01,  6.01990890e-01,  9.38398928e-01,\n",
       "         1.05403772e+00,  1.70899078e+00,  2.42381396e+00,  3.25610375e+00]),\n",
       " array([1, 1, 1, 1, 1, 1, 1, 1, 1, 1, 1, 1, 1, 1, 1, 1]))"
      ]
     },
     "execution_count": 62,
     "metadata": {},
     "output_type": "execute_result"
    }
   ],
   "source": [
    "np.unique(ff_eigens[0], return_counts=True)"
   ]
  },
  {
   "cell_type": "markdown",
   "metadata": {},
   "source": [
    "$\\Rightarrow$ All eigenvalues have multiplicity 1, thus the greatest eigenvalue has."
   ]
  },
  {
   "cell_type": "code",
   "execution_count": 63,
   "metadata": {
    "ExecuteTime": {
     "end_time": "2019-12-04T12:51:27.683064Z",
     "start_time": "2019-12-04T12:51:27.680149Z"
    }
   },
   "outputs": [
    {
     "data": {
      "text/plain": [
       "True"
      ]
     },
     "execution_count": 63,
     "metadata": {},
     "output_type": "execute_result"
    }
   ],
   "source": [
    "ff_eigens[0][-1]>-ff_eigens[0][0]"
   ]
  },
  {
   "cell_type": "markdown",
   "metadata": {},
   "source": [
    "$\\lambda>|\\mu|,\\,\\forall\\mu\\in\\sigma(A)$"
   ]
  },
  {
   "cell_type": "code",
   "execution_count": 64,
   "metadata": {
    "ExecuteTime": {
     "end_time": "2019-12-04T12:51:28.522981Z",
     "start_time": "2019-12-04T12:51:28.519543Z"
    }
   },
   "outputs": [
    {
     "data": {
      "text/plain": [
       "3.256103745430858"
      ]
     },
     "execution_count": 64,
     "metadata": {},
     "output_type": "execute_result"
    }
   ],
   "source": [
    "ff_eigens[0][-1]"
   ]
  },
  {
   "cell_type": "code",
   "execution_count": 67,
   "metadata": {
    "ExecuteTime": {
     "end_time": "2019-12-04T12:51:46.861384Z",
     "start_time": "2019-12-04T12:51:46.857988Z"
    }
   },
   "outputs": [
    {
     "data": {
      "text/plain": [
       "array([-1.32154295e-01, -2.43956109e-01, -2.11705251e-01, -2.82800087e-01,\n",
       "       -2.59026167e-01, -7.49227077e-02, -2.89115599e-01, -8.87918880e-02,\n",
       "       -4.30308094e-01, -4.48134359e-02, -2.75730374e-01,  2.16840434e-19,\n",
       "       -3.41552644e-01, -1.45917196e-01, -3.55980448e-01, -3.25842301e-01])"
      ]
     },
     "execution_count": 67,
     "metadata": {},
     "output_type": "execute_result"
    }
   ],
   "source": [
    "ff_eigens[1][:,-1]"
   ]
  },
  {
   "cell_type": "code",
   "execution_count": 68,
   "metadata": {
    "ExecuteTime": {
     "end_time": "2019-12-04T12:51:49.061029Z",
     "start_time": "2019-12-04T12:51:49.057504Z"
    }
   },
   "outputs": [
    {
     "data": {
      "text/plain": [
       "array([False, False, False, False, False, False, False, False, False,\n",
       "       False, False,  True, False, False, False, False])"
      ]
     },
     "execution_count": 68,
     "metadata": {},
     "output_type": "execute_result"
    }
   ],
   "source": [
    "ff_eigens[1][:, -1]>0"
   ]
  },
  {
   "cell_type": "markdown",
   "metadata": {},
   "source": [
    "D'oh! So, what should we conclude?"
   ]
  },
  {
   "cell_type": "code",
   "execution_count": 69,
   "metadata": {
    "ExecuteTime": {
     "end_time": "2019-12-04T12:51:57.973071Z",
     "start_time": "2019-12-04T12:51:57.969953Z"
    }
   },
   "outputs": [
    {
     "name": "stdout",
     "output_type": "stream",
     "text": [
      "[1 3 2 3 3 1 4 1 6 1 3 0 3 2 4 3]\n"
     ]
    }
   ],
   "source": [
    "ff_k=np.sum(ff_adj, axis=1)\n",
    "print(ff_k)"
   ]
  },
  {
   "cell_type": "markdown",
   "metadata": {},
   "source": [
    "A-HA! We got an isolated node!"
   ]
  },
  {
   "cell_type": "code",
   "execution_count": 70,
   "metadata": {
    "ExecuteTime": {
     "end_time": "2019-12-04T12:52:00.029654Z",
     "start_time": "2019-12-04T12:52:00.026181Z"
    }
   },
   "outputs": [
    {
     "data": {
      "text/plain": [
       "'PUCCI\\n'"
      ]
     },
     "execution_count": 70,
     "metadata": {},
     "output_type": "execute_result"
    }
   ],
   "source": [
    "where_iso=np.where(ff_k==0)[0][0]\n",
    "families[where_iso]"
   ]
  },
  {
   "cell_type": "markdown",
   "metadata": {},
   "source": [
    "None got married with the Pucci family! Actually this information was sort of hidden:"
   ]
  },
  {
   "cell_type": "code",
   "execution_count": 71,
   "metadata": {
    "ExecuteTime": {
     "end_time": "2019-12-04T12:52:00.900092Z",
     "start_time": "2019-12-04T12:52:00.896676Z"
    }
   },
   "outputs": [
    {
     "data": {
      "text/plain": [
       "array([-2.69583872e+00, -2.06786891e+00, -1.87072241e+00, -1.19329397e+00,\n",
       "       -8.69346719e-01, -7.65384963e-01, -5.76260635e-01, -2.02434814e-01,\n",
       "        2.07340960e-17,  2.57815118e-01,  6.01990890e-01,  9.38398928e-01,\n",
       "        1.05403772e+00,  1.70899078e+00,  2.42381396e+00,  3.25610375e+00])"
      ]
     },
     "execution_count": 71,
     "metadata": {},
     "output_type": "execute_result"
    }
   ],
   "source": [
    "ff_eigens[0]"
   ]
  },
  {
   "cell_type": "markdown",
   "metadata": {},
   "source": [
    "$10^{-17}$ is actually zero (due to the finite machine precision it is different from zero, but it means zero)."
   ]
  },
  {
   "cell_type": "markdown",
   "metadata": {},
   "source": [
    "np.finfo returns the machine limits for a certain data type"
   ]
  },
  {
   "cell_type": "code",
   "execution_count": 72,
   "metadata": {
    "ExecuteTime": {
     "end_time": "2019-12-04T12:52:09.306823Z",
     "start_time": "2019-12-04T12:52:09.303799Z"
    }
   },
   "outputs": [
    {
     "data": {
      "text/plain": [
       "2.220446049250313e-16"
      ]
     },
     "execution_count": 72,
     "metadata": {},
     "output_type": "execute_result"
    }
   ],
   "source": [
    "np.finfo(np.float64).eps"
   ]
  },
  {
   "cell_type": "markdown",
   "metadata": {},
   "source": [
    "Let's try again, after removing the isolated node."
   ]
  },
  {
   "cell_type": "markdown",
   "metadata": {},
   "source": [
    "#### PF again"
   ]
  },
  {
   "cell_type": "markdown",
   "metadata": {
    "heading_collapsed": true
   },
   "source": [
    "##### Pucci Mask and checks"
   ]
  },
  {
   "cell_type": "code",
   "execution_count": 73,
   "metadata": {
    "ExecuteTime": {
     "end_time": "2019-12-04T12:52:13.949180Z",
     "start_time": "2019-12-04T12:52:13.945594Z"
    },
    "hidden": true
   },
   "outputs": [],
   "source": [
    "pucci_mask=np.ones(len(ff_k), dtype='bool')"
   ]
  },
  {
   "cell_type": "code",
   "execution_count": 74,
   "metadata": {
    "ExecuteTime": {
     "end_time": "2019-12-04T12:52:14.237031Z",
     "start_time": "2019-12-04T12:52:14.234004Z"
    },
    "hidden": true
   },
   "outputs": [
    {
     "data": {
      "text/plain": [
       "array([ True,  True,  True,  True,  True,  True,  True,  True,  True,\n",
       "        True,  True,  True,  True,  True,  True,  True])"
      ]
     },
     "execution_count": 74,
     "metadata": {},
     "output_type": "execute_result"
    }
   ],
   "source": [
    "pucci_mask"
   ]
  },
  {
   "cell_type": "code",
   "execution_count": 75,
   "metadata": {
    "ExecuteTime": {
     "end_time": "2019-12-04T12:52:14.458846Z",
     "start_time": "2019-12-04T12:52:14.456690Z"
    },
    "hidden": true
   },
   "outputs": [],
   "source": [
    "pucci_mask[where_iso]=False"
   ]
  },
  {
   "cell_type": "code",
   "execution_count": 76,
   "metadata": {
    "ExecuteTime": {
     "end_time": "2019-12-04T12:52:14.705846Z",
     "start_time": "2019-12-04T12:52:14.703741Z"
    },
    "hidden": true
   },
   "outputs": [],
   "source": [
    "ff_new_families=families[pucci_mask]"
   ]
  },
  {
   "cell_type": "code",
   "execution_count": 77,
   "metadata": {
    "ExecuteTime": {
     "end_time": "2019-12-04T12:52:14.930141Z",
     "start_time": "2019-12-04T12:52:14.927779Z"
    },
    "hidden": true
   },
   "outputs": [],
   "source": [
    "ff_new_adj=ff_adj[pucci_mask]"
   ]
  },
  {
   "cell_type": "code",
   "execution_count": 78,
   "metadata": {
    "ExecuteTime": {
     "end_time": "2019-12-04T12:52:15.154890Z",
     "start_time": "2019-12-04T12:52:15.152000Z"
    },
    "hidden": true
   },
   "outputs": [
    {
     "data": {
      "text/plain": [
       "(15, 16)"
      ]
     },
     "execution_count": 78,
     "metadata": {},
     "output_type": "execute_result"
    }
   ],
   "source": [
    "ff_new_adj.shape"
   ]
  },
  {
   "cell_type": "code",
   "execution_count": 79,
   "metadata": {
    "ExecuteTime": {
     "end_time": "2019-12-04T12:52:15.475157Z",
     "start_time": "2019-12-04T12:52:15.472541Z"
    },
    "hidden": true
   },
   "outputs": [],
   "source": [
    "ff_new_adj=ff_new_adj.T[pucci_mask]"
   ]
  },
  {
   "cell_type": "code",
   "execution_count": 80,
   "metadata": {
    "ExecuteTime": {
     "end_time": "2019-12-04T12:52:16.546500Z",
     "start_time": "2019-12-04T12:52:16.543628Z"
    },
    "hidden": true
   },
   "outputs": [
    {
     "data": {
      "text/plain": [
       "(15, 15)"
      ]
     },
     "execution_count": 80,
     "metadata": {},
     "output_type": "execute_result"
    }
   ],
   "source": [
    "ff_new_adj.shape"
   ]
  },
  {
   "cell_type": "markdown",
   "metadata": {
    "hidden": true
   },
   "source": [
    "Check!"
   ]
  },
  {
   "cell_type": "code",
   "execution_count": 81,
   "metadata": {
    "ExecuteTime": {
     "end_time": "2019-12-04T12:52:17.338194Z",
     "start_time": "2019-12-04T12:52:17.335434Z"
    },
    "hidden": true
   },
   "outputs": [
    {
     "name": "stdout",
     "output_type": "stream",
     "text": [
      "[1 3 2 3 3 1 4 1 6 1 3 3 2 4 3]\n"
     ]
    }
   ],
   "source": [
    "ff_new_k=np.sum(ff_new_adj, axis=1)\n",
    "print(ff_new_k)"
   ]
  },
  {
   "cell_type": "code",
   "execution_count": 82,
   "metadata": {
    "ExecuteTime": {
     "end_time": "2019-12-04T12:52:17.755599Z",
     "start_time": "2019-12-04T12:52:17.751486Z"
    },
    "hidden": true
   },
   "outputs": [
    {
     "data": {
      "text/plain": [
       "True"
      ]
     },
     "execution_count": 82,
     "metadata": {},
     "output_type": "execute_result"
    }
   ],
   "source": [
    "np.all(np.dot(ff_new_adj,np.dot(ff_new_adj,np.dot(ff_new_adj,np.dot(ff_new_adj,np.dot(ff_new_adj,ff_new_adj)))))>0)"
   ]
  },
  {
   "cell_type": "markdown",
   "metadata": {},
   "source": [
    "##### Let's try again"
   ]
  },
  {
   "cell_type": "markdown",
   "metadata": {},
   "source": [
    "Ok, let's try again. The non-negativity is ok, since we just remove a row and a column filled with zeros. The same is true for the multiplicity (we removed the zero eigenvalue), but let's check."
   ]
  },
  {
   "cell_type": "code",
   "execution_count": 83,
   "metadata": {
    "ExecuteTime": {
     "end_time": "2019-12-04T12:52:19.559201Z",
     "start_time": "2019-12-04T12:52:19.555753Z"
    }
   },
   "outputs": [
    {
     "data": {
      "text/plain": [
       "True"
      ]
     },
     "execution_count": 83,
     "metadata": {},
     "output_type": "execute_result"
    }
   ],
   "source": [
    "np.all(ff_new_adj>=0)"
   ]
  },
  {
   "cell_type": "code",
   "execution_count": 84,
   "metadata": {
    "ExecuteTime": {
     "end_time": "2019-12-04T12:52:20.819284Z",
     "start_time": "2019-12-04T12:52:20.816362Z"
    }
   },
   "outputs": [],
   "source": [
    "ff_new_eigens=la.eigh(ff_new_adj)"
   ]
  },
  {
   "cell_type": "code",
   "execution_count": 85,
   "metadata": {
    "ExecuteTime": {
     "end_time": "2019-12-04T12:52:22.187121Z",
     "start_time": "2019-12-04T12:52:22.183928Z"
    }
   },
   "outputs": [
    {
     "data": {
      "text/plain": [
       "array([-2.69583872, -2.06786891, -1.87072241, -1.19329397, -0.86934672,\n",
       "       -0.76538496, -0.57626063, -0.20243481,  0.25781512,  0.60199089,\n",
       "        0.93839893,  1.05403772,  1.70899078,  2.42381396,  3.25610375])"
      ]
     },
     "execution_count": 85,
     "metadata": {},
     "output_type": "execute_result"
    }
   ],
   "source": [
    "ff_new_eigens[0]"
   ]
  },
  {
   "cell_type": "code",
   "execution_count": 88,
   "metadata": {
    "ExecuteTime": {
     "end_time": "2019-12-04T12:52:55.486029Z",
     "start_time": "2019-12-04T12:52:55.482031Z"
    }
   },
   "outputs": [
    {
     "data": {
      "text/plain": [
       "(array([-2.69583872, -2.06786891, -1.87072241, -1.19329397, -0.86934672,\n",
       "        -0.76538496, -0.57626063, -0.20243481,  0.25781512,  0.60199089,\n",
       "         0.93839893,  1.05403772,  1.70899078,  2.42381396,  3.25610375]),\n",
       " array([1, 1, 1, 1, 1, 1, 1, 1, 1, 1, 1, 1, 1, 1, 1]))"
      ]
     },
     "execution_count": 88,
     "metadata": {},
     "output_type": "execute_result"
    }
   ],
   "source": [
    "np.unique(ff_new_eigens[0], return_counts=True)"
   ]
  },
  {
   "cell_type": "markdown",
   "metadata": {},
   "source": [
    "Nothing should change even for the 2nd implication of the PF-theorem..."
   ]
  },
  {
   "cell_type": "code",
   "execution_count": 89,
   "metadata": {
    "ExecuteTime": {
     "end_time": "2019-12-04T12:53:14.987929Z",
     "start_time": "2019-12-04T12:53:14.984537Z"
    }
   },
   "outputs": [
    {
     "data": {
      "text/plain": [
       "True"
      ]
     },
     "execution_count": 89,
     "metadata": {},
     "output_type": "execute_result"
    }
   ],
   "source": [
    "ff_new_eigens[0][-1]>-ff_new_eigens[0][0]"
   ]
  },
  {
   "cell_type": "code",
   "execution_count": 90,
   "metadata": {
    "ExecuteTime": {
     "end_time": "2019-12-04T12:53:25.477997Z",
     "start_time": "2019-12-04T12:53:25.474376Z"
    }
   },
   "outputs": [
    {
     "data": {
      "text/plain": [
       "array([0.13215429, 0.24395611, 0.21170525, 0.28280009, 0.25902617,\n",
       "       0.07492271, 0.2891156 , 0.08879189, 0.43030809, 0.04481344,\n",
       "       0.27573037, 0.34155264, 0.1459172 , 0.35598045, 0.3258423 ])"
      ]
     },
     "execution_count": 90,
     "metadata": {},
     "output_type": "execute_result"
    }
   ],
   "source": [
    "ff_new_eigens[1][:,-1]"
   ]
  },
  {
   "cell_type": "code",
   "execution_count": 92,
   "metadata": {
    "ExecuteTime": {
     "end_time": "2019-12-04T12:53:40.799316Z",
     "start_time": "2019-12-04T12:53:40.795967Z"
    }
   },
   "outputs": [
    {
     "data": {
      "text/plain": [
       "True"
      ]
     },
     "execution_count": 92,
     "metadata": {},
     "output_type": "execute_result"
    }
   ],
   "source": [
    "np.all(ff_new_eigens[1][:,-1]>0)"
   ]
  },
  {
   "cell_type": "markdown",
   "metadata": {},
   "source": [
    "![](../Images/l4_turk.gif)"
   ]
  },
  {
   "cell_type": "markdown",
   "metadata": {},
   "source": [
    "### Exercise: show that the Perron-Frobenius theorem is valid for the Zachary dataset"
   ]
  },
  {
   "cell_type": "code",
   "execution_count": null,
   "metadata": {},
   "outputs": [],
   "source": []
  },
  {
   "cell_type": "markdown",
   "metadata": {},
   "source": [
    "### Laplacian"
   ]
  },
  {
   "cell_type": "markdown",
   "metadata": {},
   "source": [
    "Go back to the Medici family. Let's forget about Pucci and go to the Laplacian:"
   ]
  },
  {
   "cell_type": "code",
   "execution_count": 106,
   "metadata": {
    "ExecuteTime": {
     "end_time": "2019-12-04T13:02:28.155515Z",
     "start_time": "2019-12-04T13:02:28.153186Z"
    }
   },
   "outputs": [],
   "source": [
    "ff_new_L=np.diag(ff_new_k)-ff_new_adj"
   ]
  },
  {
   "cell_type": "code",
   "execution_count": 107,
   "metadata": {
    "ExecuteTime": {
     "end_time": "2019-12-04T13:02:28.473428Z",
     "start_time": "2019-12-04T13:02:28.469556Z"
    }
   },
   "outputs": [
    {
     "data": {
      "text/plain": [
       "array([[ 1,  0,  0,  0,  0,  0,  0,  0, -1,  0,  0,  0,  0,  0,  0],\n",
       "       [ 0,  3,  0,  0,  0, -1, -1,  0, -1,  0,  0,  0,  0,  0,  0],\n",
       "       [ 0,  0,  2,  0, -1,  0,  0,  0, -1,  0,  0,  0,  0,  0,  0],\n",
       "       [ 0,  0,  0,  3,  0,  0, -1,  0,  0,  0, -1,  0,  0, -1,  0],\n",
       "       [ 0,  0, -1,  0,  3,  0,  0,  0,  0,  0, -1,  0,  0, -1,  0],\n",
       "       [ 0, -1,  0,  0,  0,  1,  0,  0,  0,  0,  0,  0,  0,  0,  0],\n",
       "       [ 0, -1,  0, -1,  0,  0,  4, -1,  0,  0,  0,  0,  0,  0, -1],\n",
       "       [ 0,  0,  0,  0,  0,  0, -1,  1,  0,  0,  0,  0,  0,  0,  0],\n",
       "       [-1, -1, -1,  0,  0,  0,  0,  0,  6,  0,  0, -1, -1,  0, -1],\n",
       "       [ 0,  0,  0,  0,  0,  0,  0,  0,  0,  1,  0,  0, -1,  0,  0],\n",
       "       [ 0,  0,  0, -1, -1,  0,  0,  0,  0,  0,  3,  0,  0, -1,  0],\n",
       "       [ 0,  0,  0,  0,  0,  0,  0,  0, -1,  0,  0,  3,  0, -1, -1],\n",
       "       [ 0,  0,  0,  0,  0,  0,  0,  0, -1, -1,  0,  0,  2,  0,  0],\n",
       "       [ 0,  0,  0, -1, -1,  0,  0,  0,  0,  0, -1, -1,  0,  4,  0],\n",
       "       [ 0,  0,  0,  0,  0,  0, -1,  0, -1,  0,  0, -1,  0,  0,  3]])"
      ]
     },
     "execution_count": 107,
     "metadata": {},
     "output_type": "execute_result"
    }
   ],
   "source": [
    "ff_new_L"
   ]
  },
  {
   "cell_type": "code",
   "execution_count": 108,
   "metadata": {
    "ExecuteTime": {
     "end_time": "2019-12-04T13:02:29.021042Z",
     "start_time": "2019-12-04T13:02:29.009552Z"
    }
   },
   "outputs": [],
   "source": [
    "ff_new_L_eigens=la.eigh(ff_new_L)"
   ]
  },
  {
   "cell_type": "markdown",
   "metadata": {},
   "source": [
    "Some checks: "
   ]
  },
  {
   "cell_type": "code",
   "execution_count": 109,
   "metadata": {
    "ExecuteTime": {
     "end_time": "2019-12-04T13:02:29.734404Z",
     "start_time": "2019-12-04T13:02:29.731237Z"
    }
   },
   "outputs": [
    {
     "data": {
      "text/plain": [
       "True"
      ]
     },
     "execution_count": 109,
     "metadata": {},
     "output_type": "execute_result"
    }
   ],
   "source": [
    "np.all(ff_new_L_eigens[0]>=0)"
   ]
  },
  {
   "cell_type": "code",
   "execution_count": 110,
   "metadata": {
    "ExecuteTime": {
     "end_time": "2019-12-04T13:02:30.181857Z",
     "start_time": "2019-12-04T13:02:30.178926Z"
    }
   },
   "outputs": [
    {
     "data": {
      "text/plain": [
       "1.2423048336908551e-17"
      ]
     },
     "execution_count": 110,
     "metadata": {},
     "output_type": "execute_result"
    }
   ],
   "source": [
    "ff_new_L_eigens[0][0]"
   ]
  },
  {
   "cell_type": "markdown",
   "metadata": {},
   "source": [
    "The smallest eigenvalue is actually zero."
   ]
  },
  {
   "cell_type": "code",
   "execution_count": 111,
   "metadata": {
    "ExecuteTime": {
     "end_time": "2019-12-04T13:02:31.259789Z",
     "start_time": "2019-12-04T13:02:31.256681Z"
    }
   },
   "outputs": [
    {
     "data": {
      "text/plain": [
       "7.2682588444324345"
      ]
     },
     "execution_count": 111,
     "metadata": {},
     "output_type": "execute_result"
    }
   ],
   "source": [
    "ff_new_L_eigens[0][-1]"
   ]
  },
  {
   "cell_type": "code",
   "execution_count": 112,
   "metadata": {
    "ExecuteTime": {
     "end_time": "2019-12-04T13:02:31.772038Z",
     "start_time": "2019-12-04T13:02:31.768791Z"
    }
   },
   "outputs": [
    {
     "data": {
      "text/plain": [
       "6"
      ]
     },
     "execution_count": 112,
     "metadata": {},
     "output_type": "execute_result"
    }
   ],
   "source": [
    "np.max(ff_k)"
   ]
  },
  {
   "cell_type": "markdown",
   "metadata": {},
   "source": [
    "Thus the greatest eigenvalue is greater than the greatest degree!"
   ]
  },
  {
   "cell_type": "code",
   "execution_count": 113,
   "metadata": {
    "ExecuteTime": {
     "end_time": "2019-12-04T13:02:35.643969Z",
     "start_time": "2019-12-04T13:02:35.640740Z"
    }
   },
   "outputs": [
    {
     "data": {
      "text/plain": [
       "0.34592316467322887"
      ]
     },
     "execution_count": 113,
     "metadata": {},
     "output_type": "execute_result"
    }
   ],
   "source": [
    "ff_new_L_eigens[0][1]"
   ]
  },
  {
   "cell_type": "markdown",
   "metadata": {},
   "source": [
    "The network is connected!"
   ]
  },
  {
   "cell_type": "markdown",
   "metadata": {},
   "source": [
    "### Exercise: define a function that calculates the Laplacian"
   ]
  },
  {
   "cell_type": "code",
   "execution_count": null,
   "metadata": {},
   "outputs": [],
   "source": []
  },
  {
   "cell_type": "markdown",
   "metadata": {},
   "source": [
    "### Exercise: show that the Zachary network is connected"
   ]
  },
  {
   "cell_type": "code",
   "execution_count": null,
   "metadata": {},
   "outputs": [],
   "source": []
  },
  {
   "cell_type": "markdown",
   "metadata": {},
   "source": [
    "### Fiedler vector"
   ]
  },
  {
   "cell_type": "markdown",
   "metadata": {},
   "source": [
    "Consider the Fiedler vector with $r=0$ and consider the relative partitions."
   ]
  },
  {
   "cell_type": "code",
   "execution_count": 138,
   "metadata": {
    "ExecuteTime": {
     "end_time": "2019-12-04T13:10:31.409270Z",
     "start_time": "2019-12-04T13:10:31.406588Z"
    }
   },
   "outputs": [],
   "source": [
    "group_0=np.where(ff_new_L_eigens[1][:, 1]>=0)[0]\n",
    "group_1=np.where(ff_new_L_eigens[1][:, 1]<0)[0]"
   ]
  },
  {
   "cell_type": "code",
   "execution_count": 139,
   "metadata": {
    "ExecuteTime": {
     "end_time": "2019-12-04T13:10:32.089842Z",
     "start_time": "2019-12-04T13:10:32.086771Z"
    }
   },
   "outputs": [
    {
     "name": "stdout",
     "output_type": "stream",
     "text": [
      "['ALBIZZI\\n' 'BARBADORI\\n' 'BISCHERI\\n' 'CASTELLAN\\n' 'GINORI\\n'\n",
      " 'GUADAGNI\\n' 'LAMBERTES\\n' 'PERUZZI\\n' 'RIDOLFI\\n' 'STROZZI\\n'\n",
      " 'TORNABUON\\n']\n",
      "['ACCIAIUOL\\n' 'MEDICI\\n' 'PAZZI\\n' 'SALVIATI\\n']\n"
     ]
    }
   ],
   "source": [
    "print(ff_new_families[group_0])\n",
    "print(ff_new_families[group_1])"
   ]
  },
  {
   "cell_type": "markdown",
   "metadata": {},
   "source": [
    "#### What happens reapplying Fiedler partition to the previous partition?"
   ]
  },
  {
   "cell_type": "markdown",
   "metadata": {},
   "source": [
    "##### group_0"
   ]
  },
  {
   "cell_type": "code",
   "execution_count": 140,
   "metadata": {
    "ExecuteTime": {
     "end_time": "2019-12-04T13:17:06.723493Z",
     "start_time": "2019-12-04T13:17:06.720925Z"
    }
   },
   "outputs": [],
   "source": [
    "ff_new_adj_0=ff_new_adj[group_0].T\n",
    "ff_new_adj_0=ff_new_adj_0[group_0]"
   ]
  },
  {
   "cell_type": "markdown",
   "metadata": {},
   "source": [
    "Check!"
   ]
  },
  {
   "cell_type": "code",
   "execution_count": 141,
   "metadata": {
    "ExecuteTime": {
     "end_time": "2019-12-04T13:17:09.684176Z",
     "start_time": "2019-12-04T13:17:09.679825Z"
    }
   },
   "outputs": [
    {
     "data": {
      "text/plain": [
       "(11, 11)"
      ]
     },
     "execution_count": 141,
     "metadata": {},
     "output_type": "execute_result"
    }
   ],
   "source": [
    "ff_new_adj_0.shape"
   ]
  },
  {
   "cell_type": "code",
   "execution_count": 142,
   "metadata": {
    "ExecuteTime": {
     "end_time": "2019-12-04T13:17:13.612509Z",
     "start_time": "2019-12-04T13:17:13.607653Z"
    }
   },
   "outputs": [
    {
     "data": {
      "text/plain": [
       "11"
      ]
     },
     "execution_count": 142,
     "metadata": {},
     "output_type": "execute_result"
    }
   ],
   "source": [
    "len(group_0)"
   ]
  },
  {
   "cell_type": "code",
   "execution_count": 143,
   "metadata": {
    "ExecuteTime": {
     "end_time": "2019-12-04T13:17:19.920960Z",
     "start_time": "2019-12-04T13:17:19.917776Z"
    }
   },
   "outputs": [
    {
     "data": {
      "text/plain": [
       "True"
      ]
     },
     "execution_count": 143,
     "metadata": {},
     "output_type": "execute_result"
    }
   ],
   "source": [
    "np.all(ff_new_adj_0.T==ff_new_adj_0)"
   ]
  },
  {
   "cell_type": "code",
   "execution_count": 148,
   "metadata": {
    "ExecuteTime": {
     "end_time": "2019-12-04T13:17:23.371251Z",
     "start_time": "2019-12-04T13:17:23.367327Z"
    }
   },
   "outputs": [
    {
     "data": {
      "text/plain": [
       "array([2, 1, 3, 3, 1, 4, 1, 3, 2, 4, 2])"
      ]
     },
     "execution_count": 148,
     "metadata": {},
     "output_type": "execute_result"
    }
   ],
   "source": [
    "np.sum(ff_new_adj_0, axis=0)"
   ]
  },
  {
   "cell_type": "code",
   "execution_count": 150,
   "metadata": {
    "ExecuteTime": {
     "end_time": "2019-12-04T13:13:04.173301Z",
     "start_time": "2019-12-04T13:13:04.171200Z"
    }
   },
   "outputs": [],
   "source": [
    "ff_new_families_0=ff_new_families[group_0]"
   ]
  },
  {
   "cell_type": "code",
   "execution_count": 144,
   "metadata": {
    "ExecuteTime": {
     "end_time": "2019-12-04T13:10:47.733268Z",
     "start_time": "2019-12-04T13:10:47.730724Z"
    }
   },
   "outputs": [],
   "source": [
    "def laplacianer(adj):\n",
    "    deg=np.sum(adj, axis=1)\n",
    "    return np.diag(deg)-adj"
   ]
  },
  {
   "cell_type": "code",
   "execution_count": 145,
   "metadata": {
    "ExecuteTime": {
     "end_time": "2019-12-04T13:10:48.051832Z",
     "start_time": "2019-12-04T13:10:48.049645Z"
    }
   },
   "outputs": [],
   "source": [
    "ff_new_L_0=laplacianer(ff_new_adj_0)"
   ]
  },
  {
   "cell_type": "code",
   "execution_count": 146,
   "metadata": {
    "ExecuteTime": {
     "end_time": "2019-12-04T13:10:48.397548Z",
     "start_time": "2019-12-04T13:10:48.395239Z"
    }
   },
   "outputs": [],
   "source": [
    "ff_new_L_0_eigens=la.eigh(ff_new_L_0)"
   ]
  },
  {
   "cell_type": "code",
   "execution_count": 147,
   "metadata": {
    "ExecuteTime": {
     "end_time": "2019-12-04T13:10:48.925104Z",
     "start_time": "2019-12-04T13:10:48.921855Z"
    }
   },
   "outputs": [
    {
     "data": {
      "text/plain": [
       "array([1.38948074e-15, 2.73478502e-01, 5.86440285e-01, 8.69907821e-01,\n",
       "       1.28707587e+00, 2.16569056e+00, 2.74778307e+00, 3.14380590e+00,\n",
       "       4.29207459e+00, 5.11218075e+00, 5.52156266e+00])"
      ]
     },
     "execution_count": 147,
     "metadata": {},
     "output_type": "execute_result"
    }
   ],
   "source": [
    "ff_new_L_0_eigens[0]"
   ]
  },
  {
   "cell_type": "markdown",
   "metadata": {},
   "source": [
    "This cluster is connected."
   ]
  },
  {
   "cell_type": "code",
   "execution_count": 155,
   "metadata": {
    "ExecuteTime": {
     "end_time": "2019-12-04T13:14:36.401027Z",
     "start_time": "2019-12-04T13:14:36.398065Z"
    }
   },
   "outputs": [],
   "source": [
    "group_0_0=np.where(ff_new_L_0_eigens[1][:, 1]>=0)[0]\n",
    "group_0_1=np.where(ff_new_L_0_eigens[1][:, 1]<0)[0]"
   ]
  },
  {
   "cell_type": "code",
   "execution_count": 160,
   "metadata": {
    "ExecuteTime": {
     "end_time": "2019-12-04T13:15:11.686092Z",
     "start_time": "2019-12-04T13:15:11.683298Z"
    }
   },
   "outputs": [
    {
     "data": {
      "text/plain": [
       "array(['ALBIZZI\\n', 'BARBADORI\\n', 'BISCHERI\\n', 'CASTELLAN\\n',\n",
       "       'GINORI\\n', 'GUADAGNI\\n', 'LAMBERTES\\n', 'PERUZZI\\n', 'RIDOLFI\\n',\n",
       "       'STROZZI\\n', 'TORNABUON\\n'], dtype='<U10')"
      ]
     },
     "execution_count": 160,
     "metadata": {},
     "output_type": "execute_result"
    }
   ],
   "source": [
    "ff_new_families_0"
   ]
  },
  {
   "cell_type": "code",
   "execution_count": 159,
   "metadata": {
    "ExecuteTime": {
     "end_time": "2019-12-04T13:15:00.548070Z",
     "start_time": "2019-12-04T13:15:00.542282Z"
    }
   },
   "outputs": [
    {
     "name": "stdout",
     "output_type": "stream",
     "text": [
      "['ALBIZZI\\n' 'GINORI\\n' 'GUADAGNI\\n' 'LAMBERTES\\n' 'TORNABUON\\n']\n",
      "['BARBADORI\\n' 'BISCHERI\\n' 'CASTELLAN\\n' 'PERUZZI\\n' 'RIDOLFI\\n'\n",
      " 'STROZZI\\n']\n"
     ]
    }
   ],
   "source": [
    "print(ff_new_families_0[group_0_0])\n",
    "print(ff_new_families_0[group_0_1])"
   ]
  },
  {
   "cell_type": "markdown",
   "metadata": {},
   "source": [
    "##### group_1"
   ]
  },
  {
   "cell_type": "code",
   "execution_count": 163,
   "metadata": {
    "ExecuteTime": {
     "end_time": "2019-12-04T13:17:06.723493Z",
     "start_time": "2019-12-04T13:17:06.720925Z"
    }
   },
   "outputs": [],
   "source": [
    "ff_new_adj_1=ff_new_adj[group_1].T\n",
    "ff_new_adj_1=ff_new_adj_1[group_1]"
   ]
  },
  {
   "cell_type": "markdown",
   "metadata": {},
   "source": [
    "Check!"
   ]
  },
  {
   "cell_type": "code",
   "execution_count": 164,
   "metadata": {
    "ExecuteTime": {
     "end_time": "2019-12-04T13:17:09.684176Z",
     "start_time": "2019-12-04T13:17:09.679825Z"
    }
   },
   "outputs": [
    {
     "data": {
      "text/plain": [
       "(4, 4)"
      ]
     },
     "execution_count": 164,
     "metadata": {},
     "output_type": "execute_result"
    }
   ],
   "source": [
    "ff_new_adj_1.shape"
   ]
  },
  {
   "cell_type": "code",
   "execution_count": 165,
   "metadata": {
    "ExecuteTime": {
     "end_time": "2019-12-04T13:17:13.612509Z",
     "start_time": "2019-12-04T13:17:13.607653Z"
    }
   },
   "outputs": [
    {
     "data": {
      "text/plain": [
       "4"
      ]
     },
     "execution_count": 165,
     "metadata": {},
     "output_type": "execute_result"
    }
   ],
   "source": [
    "len(group_1)"
   ]
  },
  {
   "cell_type": "code",
   "execution_count": 166,
   "metadata": {
    "ExecuteTime": {
     "end_time": "2019-12-04T13:17:19.920960Z",
     "start_time": "2019-12-04T13:17:19.917776Z"
    }
   },
   "outputs": [
    {
     "data": {
      "text/plain": [
       "True"
      ]
     },
     "execution_count": 166,
     "metadata": {},
     "output_type": "execute_result"
    }
   ],
   "source": [
    "np.all(ff_new_adj_1.T==ff_new_adj_1)"
   ]
  },
  {
   "cell_type": "code",
   "execution_count": 167,
   "metadata": {
    "ExecuteTime": {
     "end_time": "2019-12-04T13:17:23.371251Z",
     "start_time": "2019-12-04T13:17:23.367327Z"
    }
   },
   "outputs": [
    {
     "data": {
      "text/plain": [
       "array([1, 2, 1, 2])"
      ]
     },
     "execution_count": 167,
     "metadata": {},
     "output_type": "execute_result"
    }
   ],
   "source": [
    "np.sum(ff_new_adj_1, axis=0)"
   ]
  },
  {
   "cell_type": "code",
   "execution_count": 168,
   "metadata": {
    "ExecuteTime": {
     "end_time": "2019-12-04T13:17:26.798442Z",
     "start_time": "2019-12-04T13:17:26.796433Z"
    }
   },
   "outputs": [],
   "source": [
    "ff_new_families_1=ff_new_families[group_1]"
   ]
  },
  {
   "cell_type": "code",
   "execution_count": 169,
   "metadata": {
    "ExecuteTime": {
     "end_time": "2019-12-04T13:17:28.535144Z",
     "start_time": "2019-12-04T13:17:28.532878Z"
    }
   },
   "outputs": [],
   "source": [
    "ff_new_L_1=laplacianer(ff_new_adj_1)"
   ]
  },
  {
   "cell_type": "code",
   "execution_count": 170,
   "metadata": {
    "ExecuteTime": {
     "end_time": "2019-12-04T13:17:36.174797Z",
     "start_time": "2019-12-04T13:17:36.172469Z"
    }
   },
   "outputs": [],
   "source": [
    "ff_new_L_1_eigens=la.eigh(ff_new_L_1)"
   ]
  },
  {
   "cell_type": "code",
   "execution_count": 171,
   "metadata": {
    "ExecuteTime": {
     "end_time": "2019-12-04T13:17:40.466388Z",
     "start_time": "2019-12-04T13:17:40.462987Z"
    }
   },
   "outputs": [
    {
     "data": {
      "text/plain": [
       "array([-9.74614466e-17,  5.85786438e-01,  2.00000000e+00,  3.41421356e+00])"
      ]
     },
     "execution_count": 171,
     "metadata": {},
     "output_type": "execute_result"
    }
   ],
   "source": [
    "ff_new_L_1_eigens[0]"
   ]
  },
  {
   "cell_type": "markdown",
   "metadata": {},
   "source": [
    "This cluster is connected."
   ]
  },
  {
   "cell_type": "code",
   "execution_count": 172,
   "metadata": {
    "ExecuteTime": {
     "end_time": "2019-12-04T13:18:16.186912Z",
     "start_time": "2019-12-04T13:18:16.184036Z"
    }
   },
   "outputs": [],
   "source": [
    "group_1_0=np.where(ff_new_L_1_eigens[1][:, 1]>=0)[0]\n",
    "group_1_1=np.where(ff_new_L_1_eigens[1][:, 1]<0)[0]"
   ]
  },
  {
   "cell_type": "code",
   "execution_count": 173,
   "metadata": {
    "ExecuteTime": {
     "end_time": "2019-12-04T13:18:18.505238Z",
     "start_time": "2019-12-04T13:18:18.502079Z"
    }
   },
   "outputs": [
    {
     "data": {
      "text/plain": [
       "array(['ACCIAIUOL\\n', 'MEDICI\\n', 'PAZZI\\n', 'SALVIATI\\n'], dtype='<U10')"
      ]
     },
     "execution_count": 173,
     "metadata": {},
     "output_type": "execute_result"
    }
   ],
   "source": [
    "ff_new_families_1"
   ]
  },
  {
   "cell_type": "code",
   "execution_count": 174,
   "metadata": {
    "ExecuteTime": {
     "end_time": "2019-12-04T13:18:28.911075Z",
     "start_time": "2019-12-04T13:18:28.908469Z"
    }
   },
   "outputs": [
    {
     "name": "stdout",
     "output_type": "stream",
     "text": [
      "['ACCIAIUOL\\n' 'MEDICI\\n']\n",
      "['PAZZI\\n' 'SALVIATI\\n']\n"
     ]
    }
   ],
   "source": [
    "print(ff_new_families_1[group_1_0])\n",
    "print(ff_new_families_1[group_1_1])"
   ]
  },
  {
   "cell_type": "markdown",
   "metadata": {},
   "source": [
    "Actually there is still space for reapplying the Fiedler vector algorithm!"
   ]
  },
  {
   "cell_type": "markdown",
   "metadata": {},
   "source": [
    "### Exercise: define a function that get as input the adjacency matrix and returns the iterated partition in terms of the Fiedler vector\n",
    "**Hint**: "
   ]
  },
  {
   "cell_type": "code",
   "execution_count": null,
   "metadata": {},
   "outputs": [],
   "source": []
  },
  {
   "cell_type": "markdown",
   "metadata": {},
   "source": [
    "### Exercise: apply the above function to the Zachary dataset"
   ]
  },
  {
   "cell_type": "code",
   "execution_count": null,
   "metadata": {},
   "outputs": [],
   "source": []
  }
 ],
 "metadata": {
  "kernelspec": {
   "display_name": "Python 3",
   "language": "python",
   "name": "python3"
  },
  "language_info": {
   "codemirror_mode": {
    "name": "ipython",
    "version": 3
   },
   "file_extension": ".py",
   "mimetype": "text/x-python",
   "name": "python",
   "nbconvert_exporter": "python",
   "pygments_lexer": "ipython3",
   "version": "3.6.3"
  },
  "toc": {
   "colors": {
    "hover_highlight": "#DAA520",
    "navigate_num": "#000000",
    "navigate_text": "#333333",
    "running_highlight": "#FF0000",
    "selected_highlight": "#FFD700",
    "sidebar_border": "#EEEEEE",
    "wrapper_background": "#FFFFFF"
   },
   "moveMenuLeft": true,
   "nav_menu": {
    "height": "12px",
    "width": "252px"
   },
   "navigate_menu": true,
   "number_sections": false,
   "sideBar": true,
   "threshold": "6",
   "toc_cell": false,
   "toc_section_display": "block",
   "toc_window_display": true,
   "widenNotebook": false
  },
  "varInspector": {
   "cols": {
    "lenName": 16,
    "lenType": 16,
    "lenVar": 40
   },
   "kernels_config": {
    "python": {
     "delete_cmd_postfix": "",
     "delete_cmd_prefix": "del ",
     "library": "var_list.py",
     "varRefreshCmd": "print(var_dic_list())"
    },
    "r": {
     "delete_cmd_postfix": ") ",
     "delete_cmd_prefix": "rm(",
     "library": "var_list.r",
     "varRefreshCmd": "cat(var_dic_list()) "
    }
   },
   "types_to_exclude": [
    "module",
    "function",
    "builtin_function_or_method",
    "instance",
    "_Feature"
   ],
   "window_display": false
  }
 },
 "nbformat": 4,
 "nbformat_minor": 2
}
