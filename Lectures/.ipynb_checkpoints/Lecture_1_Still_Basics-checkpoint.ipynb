{
 "cells": [
  {
   "cell_type": "markdown",
   "metadata": {},
   "source": [
    "# Lecture 1. Basics"
   ]
  },
  {
   "cell_type": "markdown",
   "metadata": {},
   "source": [
    "## Dictionaries"
   ]
  },
  {
   "cell_type": "markdown",
   "metadata": {},
   "source": [
    "Dictionaries are sort of list, with different type of indices, as integers, floats, strings and so on. Respect to list and tuples, dictionaries have curly brackets {}."
   ]
  },
  {
   "cell_type": "code",
   "execution_count": 3,
   "metadata": {
    "ExecuteTime": {
     "end_time": "2019-11-22T15:08:27.026112Z",
     "start_time": "2019-11-22T15:08:27.024000Z"
    }
   },
   "outputs": [],
   "source": [
    "dict_0={1: 'something', 'second_key':42., 2.:42}"
   ]
  },
  {
   "cell_type": "code",
   "execution_count": 4,
   "metadata": {
    "ExecuteTime": {
     "end_time": "2019-11-22T15:08:41.867750Z",
     "start_time": "2019-11-22T15:08:41.864935Z"
    }
   },
   "outputs": [
    {
     "name": "stdout",
     "output_type": "stream",
     "text": [
      "something\n",
      "42\n",
      "42.0\n"
     ]
    }
   ],
   "source": [
    "print(dict_0[1])\n",
    "print(dict_0[2.])\n",
    "print(dict_0['second_key'])"
   ]
  },
  {
   "cell_type": "markdown",
   "metadata": {},
   "source": [
    "Anyway, dictionaries are not so strict:"
   ]
  },
  {
   "cell_type": "code",
   "execution_count": 5,
   "metadata": {
    "ExecuteTime": {
     "end_time": "2019-11-22T15:08:51.105018Z",
     "start_time": "2019-11-22T15:08:51.102542Z"
    }
   },
   "outputs": [
    {
     "name": "stdout",
     "output_type": "stream",
     "text": [
      "42\n"
     ]
    }
   ],
   "source": [
    "print(dict_0[2])"
   ]
  },
  {
   "cell_type": "markdown",
   "metadata": {},
   "source": [
    "Since they have different kind of keys, the elements of a dictionary don't have an order."
   ]
  },
  {
   "cell_type": "code",
   "execution_count": 6,
   "metadata": {
    "ExecuteTime": {
     "end_time": "2019-11-22T15:09:11.659248Z",
     "start_time": "2019-11-22T15:09:11.657055Z"
    }
   },
   "outputs": [],
   "source": [
    "dict_1={'second_key':42., 1: 'something',  2.:42}"
   ]
  },
  {
   "cell_type": "code",
   "execution_count": 7,
   "metadata": {
    "ExecuteTime": {
     "end_time": "2019-11-22T15:09:12.037589Z",
     "start_time": "2019-11-22T15:09:12.034632Z"
    }
   },
   "outputs": [
    {
     "data": {
      "text/plain": [
       "True"
      ]
     },
     "execution_count": 7,
     "metadata": {},
     "output_type": "execute_result"
    }
   ],
   "source": [
    "dict_0==dict_1"
   ]
  },
  {
   "cell_type": "markdown",
   "metadata": {},
   "source": [
    "#### zip"
   ]
  },
  {
   "cell_type": "code",
   "execution_count": 8,
   "metadata": {
    "ExecuteTime": {
     "end_time": "2019-11-22T17:46:19.634437Z",
     "start_time": "2019-11-22T17:46:19.632207Z"
    }
   },
   "outputs": [],
   "source": [
    "list_0=['Donatello', 'Raffaello', 'Michelangelo', 'Leonardo']\n",
    "list_1=[0,1,2,3]"
   ]
  },
  {
   "cell_type": "code",
   "execution_count": 9,
   "metadata": {
    "ExecuteTime": {
     "end_time": "2019-11-22T17:46:47.363730Z",
     "start_time": "2019-11-22T17:46:47.360692Z"
    }
   },
   "outputs": [
    {
     "data": {
      "text/plain": [
       "<zip at 0x7f4565fc7d48>"
      ]
     },
     "execution_count": 9,
     "metadata": {},
     "output_type": "execute_result"
    }
   ],
   "source": [
    "zip(list_0, list_1)"
   ]
  },
  {
   "cell_type": "markdown",
   "metadata": {},
   "source": [
    "?!"
   ]
  },
  {
   "cell_type": "code",
   "execution_count": 10,
   "metadata": {
    "ExecuteTime": {
     "end_time": "2019-11-22T17:46:48.616064Z",
     "start_time": "2019-11-22T17:46:48.612779Z"
    }
   },
   "outputs": [
    {
     "data": {
      "text/plain": [
       "[('Donatello', 0), ('Raffaello', 1), ('Michelangelo', 2), ('Leonardo', 3)]"
      ]
     },
     "execution_count": 10,
     "metadata": {},
     "output_type": "execute_result"
    }
   ],
   "source": [
    "list(zip(list_0, list_1))"
   ]
  },
  {
   "cell_type": "markdown",
   "metadata": {},
   "source": [
    "Given several lists of the same length, zip returns a list of tuple containing all elements of the lists in the same position."
   ]
  },
  {
   "cell_type": "code",
   "execution_count": 9,
   "metadata": {
    "ExecuteTime": {
     "end_time": "2019-11-22T17:46:49.645720Z",
     "start_time": "2019-11-22T17:46:49.642687Z"
    }
   },
   "outputs": [
    {
     "data": {
      "text/plain": [
       "[('Donatello', 0, 'Donatello'),\n",
       " ('Raffaello', 1, 'Raffaello'),\n",
       " ('Michelangelo', 2, 'Michelangelo'),\n",
       " ('Leonardo', 3, 'Leonardo')]"
      ]
     },
     "execution_count": 9,
     "metadata": {},
     "output_type": "execute_result"
    }
   ],
   "source": [
    "list(zip(list_0, list_1, list_0))"
   ]
  },
  {
   "cell_type": "markdown",
   "metadata": {},
   "source": [
    "#### dict acts the conversion, as always..."
   ]
  },
  {
   "cell_type": "code",
   "execution_count": 11,
   "metadata": {
    "ExecuteTime": {
     "end_time": "2019-11-22T17:46:50.868725Z",
     "start_time": "2019-11-22T17:46:50.865725Z"
    }
   },
   "outputs": [
    {
     "data": {
      "text/plain": [
       "{'Donatello': 0, 'Leonardo': 3, 'Michelangelo': 2, 'Raffaello': 1}"
      ]
     },
     "execution_count": 11,
     "metadata": {},
     "output_type": "execute_result"
    }
   ],
   "source": [
    "dict(zip(list_0, list_1))"
   ]
  },
  {
   "cell_type": "code",
   "execution_count": 12,
   "metadata": {
    "ExecuteTime": {
     "end_time": "2019-11-22T17:46:53.906846Z",
     "start_time": "2019-11-22T17:46:53.904630Z"
    }
   },
   "outputs": [],
   "source": [
    "dict_ninja=dict(zip(list_0, list_1))"
   ]
  },
  {
   "cell_type": "code",
   "execution_count": 13,
   "metadata": {
    "ExecuteTime": {
     "end_time": "2019-11-22T17:46:54.305320Z",
     "start_time": "2019-11-22T17:46:54.302587Z"
    }
   },
   "outputs": [
    {
     "data": {
      "text/plain": [
       "0"
      ]
     },
     "execution_count": 13,
     "metadata": {},
     "output_type": "execute_result"
    }
   ],
   "source": [
    "dict_ninja['Donatello']"
   ]
  },
  {
   "cell_type": "markdown",
   "metadata": {},
   "source": [
    "#### .items()"
   ]
  },
  {
   "cell_type": "code",
   "execution_count": 15,
   "metadata": {},
   "outputs": [
    {
     "data": {
      "text/plain": [
       "dict_items([('Raffaello', 1), ('Michelangelo', 2), ('Donatello', 0), ('Leonardo', 3)])"
      ]
     },
     "execution_count": 15,
     "metadata": {},
     "output_type": "execute_result"
    }
   ],
   "source": [
    "dict_ninja.items()"
   ]
  },
  {
   "cell_type": "code",
   "execution_count": 14,
   "metadata": {
    "ExecuteTime": {
     "end_time": "2019-11-22T15:11:03.278223Z",
     "start_time": "2019-11-22T15:11:03.275245Z"
    }
   },
   "outputs": [
    {
     "data": {
      "text/plain": [
       "dict_items([(1, 'something'), (2.0, 42), ('second_key', 42.0)])"
      ]
     },
     "execution_count": 14,
     "metadata": {},
     "output_type": "execute_result"
    }
   ],
   "source": [
    "dict_0.items()"
   ]
  },
  {
   "cell_type": "markdown",
   "metadata": {},
   "source": [
    "#### .keys()"
   ]
  },
  {
   "cell_type": "code",
   "execution_count": 16,
   "metadata": {
    "ExecuteTime": {
     "end_time": "2019-11-22T15:11:31.634685Z",
     "start_time": "2019-11-22T15:11:31.631670Z"
    }
   },
   "outputs": [
    {
     "data": {
      "text/plain": [
       "dict_keys(['Raffaello', 'Michelangelo', 'Donatello', 'Leonardo'])"
      ]
     },
     "execution_count": 16,
     "metadata": {},
     "output_type": "execute_result"
    }
   ],
   "source": [
    "dict_ninja.keys()"
   ]
  },
  {
   "cell_type": "code",
   "execution_count": 17,
   "metadata": {
    "ExecuteTime": {
     "end_time": "2019-11-22T15:16:23.367959Z",
     "start_time": "2019-11-22T15:16:23.364782Z"
    }
   },
   "outputs": [
    {
     "ename": "TypeError",
     "evalue": "'dict_keys' object does not support indexing",
     "output_type": "error",
     "traceback": [
      "\u001b[0;31m---------------------------------------------------------------------------\u001b[0m",
      "\u001b[0;31mTypeError\u001b[0m                                 Traceback (most recent call last)",
      "\u001b[0;32m<ipython-input-17-eea849006345>\u001b[0m in \u001b[0;36m<module>\u001b[0;34m\u001b[0m\n\u001b[0;32m----> 1\u001b[0;31m \u001b[0mdict_ninja\u001b[0m\u001b[0;34m.\u001b[0m\u001b[0mkeys\u001b[0m\u001b[0;34m(\u001b[0m\u001b[0;34m)\u001b[0m\u001b[0;34m[\u001b[0m\u001b[0;36m0\u001b[0m\u001b[0;34m]\u001b[0m\u001b[0;34m\u001b[0m\u001b[0m\n\u001b[0m",
      "\u001b[0;31mTypeError\u001b[0m: 'dict_keys' object does not support indexing"
     ]
    }
   ],
   "source": [
    "dict_ninja.keys()[0]"
   ]
  },
  {
   "cell_type": "code",
   "execution_count": 19,
   "metadata": {
    "ExecuteTime": {
     "end_time": "2019-11-22T15:16:23.367959Z",
     "start_time": "2019-11-22T15:16:23.364782Z"
    }
   },
   "outputs": [
    {
     "data": {
      "text/plain": [
       "'Raffaello'"
      ]
     },
     "execution_count": 19,
     "metadata": {},
     "output_type": "execute_result"
    }
   ],
   "source": [
    "list(dict_ninja.keys())[0]"
   ]
  },
  {
   "cell_type": "markdown",
   "metadata": {},
   "source": [
    "#### .values()"
   ]
  },
  {
   "cell_type": "code",
   "execution_count": 20,
   "metadata": {
    "ExecuteTime": {
     "end_time": "2019-11-22T15:11:50.263242Z",
     "start_time": "2019-11-22T15:11:50.260263Z"
    }
   },
   "outputs": [
    {
     "data": {
      "text/plain": [
       "dict_values([1, 2, 0, 3])"
      ]
     },
     "execution_count": 20,
     "metadata": {},
     "output_type": "execute_result"
    }
   ],
   "source": [
    "dict_ninja.values()"
   ]
  },
  {
   "cell_type": "markdown",
   "metadata": {},
   "source": [
    "As it was for keys..."
   ]
  },
  {
   "cell_type": "code",
   "execution_count": 21,
   "metadata": {
    "ExecuteTime": {
     "end_time": "2019-11-22T15:15:19.174980Z",
     "start_time": "2019-11-22T15:15:19.170311Z"
    }
   },
   "outputs": [
    {
     "ename": "TypeError",
     "evalue": "'dict_values' object does not support indexing",
     "output_type": "error",
     "traceback": [
      "\u001b[0;31m---------------------------------------------------------------------------\u001b[0m",
      "\u001b[0;31mTypeError\u001b[0m                                 Traceback (most recent call last)",
      "\u001b[0;32m<ipython-input-21-b5e25e21aebe>\u001b[0m in \u001b[0;36m<module>\u001b[0;34m\u001b[0m\n\u001b[0;32m----> 1\u001b[0;31m \u001b[0mdict_ninja\u001b[0m\u001b[0;34m.\u001b[0m\u001b[0mvalues\u001b[0m\u001b[0;34m(\u001b[0m\u001b[0;34m)\u001b[0m\u001b[0;34m[\u001b[0m\u001b[0;36m0\u001b[0m\u001b[0;34m]\u001b[0m\u001b[0;34m\u001b[0m\u001b[0m\n\u001b[0m",
      "\u001b[0;31mTypeError\u001b[0m: 'dict_values' object does not support indexing"
     ]
    }
   ],
   "source": [
    "dict_ninja.values()[0]"
   ]
  },
  {
   "cell_type": "code",
   "execution_count": 22,
   "metadata": {
    "ExecuteTime": {
     "end_time": "2019-11-22T15:15:45.845334Z",
     "start_time": "2019-11-22T15:15:45.842303Z"
    }
   },
   "outputs": [
    {
     "data": {
      "text/plain": [
       "1"
      ]
     },
     "execution_count": 22,
     "metadata": {},
     "output_type": "execute_result"
    }
   ],
   "source": [
    "list(dict_ninja.values())[0]"
   ]
  },
  {
   "cell_type": "markdown",
   "metadata": {},
   "source": [
    "#### .get()"
   ]
  },
  {
   "cell_type": "code",
   "execution_count": 23,
   "metadata": {},
   "outputs": [
    {
     "data": {
      "text/plain": [
       "{1: 'something', 2.0: 42, 'second_key': 42.0}"
      ]
     },
     "execution_count": 23,
     "metadata": {},
     "output_type": "execute_result"
    }
   ],
   "source": [
    "dict_0"
   ]
  },
  {
   "cell_type": "code",
   "execution_count": 24,
   "metadata": {
    "ExecuteTime": {
     "end_time": "2019-11-22T15:12:01.258352Z",
     "start_time": "2019-11-22T15:12:01.255329Z"
    }
   },
   "outputs": [
    {
     "data": {
      "text/plain": [
       "42.0"
      ]
     },
     "execution_count": 24,
     "metadata": {},
     "output_type": "execute_result"
    }
   ],
   "source": [
    "dict_0.get('second_key', 0)"
   ]
  },
  {
   "cell_type": "markdown",
   "metadata": {},
   "source": [
    "Take the \"second_key\" element; if it is not present, return 0."
   ]
  },
  {
   "cell_type": "code",
   "execution_count": 25,
   "metadata": {
    "ExecuteTime": {
     "end_time": "2019-11-22T15:17:08.790533Z",
     "start_time": "2019-11-22T15:17:08.787525Z"
    }
   },
   "outputs": [
    {
     "data": {
      "text/plain": [
       "0"
      ]
     },
     "execution_count": 25,
     "metadata": {},
     "output_type": "execute_result"
    }
   ],
   "source": [
    "dict_0.get('first_key', 0)"
   ]
  },
  {
   "cell_type": "markdown",
   "metadata": {},
   "source": [
    "### (Almost) your first network"
   ]
  },
  {
   "cell_type": "markdown",
   "metadata": {},
   "source": [
    "A stupid adjacency matrix for a small simple network."
   ]
  },
  {
   "cell_type": "code",
   "execution_count": 26,
   "metadata": {
    "ExecuteTime": {
     "end_time": "2019-11-22T15:20:31.904609Z",
     "start_time": "2019-11-22T15:20:31.902200Z"
    }
   },
   "outputs": [],
   "source": [
    "adj_matrix=[\n",
    "            [0, 1, 0, 1],\n",
    "            [1, 0, 1, 1],\n",
    "            [0, 1, 0, 0],\n",
    "            [1, 1, 0, 0],\n",
    "           ]"
   ]
  },
  {
   "cell_type": "markdown",
   "metadata": {},
   "source": [
    "The degree is the number of connection per node"
   ]
  },
  {
   "cell_type": "code",
   "execution_count": 27,
   "metadata": {
    "ExecuteTime": {
     "end_time": "2019-11-22T15:20:32.931963Z",
     "start_time": "2019-11-22T15:20:32.929689Z"
    }
   },
   "outputs": [],
   "source": [
    "node_names=['Donatello', 'Raffaello', 'Michelangelo', 'Leonardo']"
   ]
  },
  {
   "cell_type": "code",
   "execution_count": 30,
   "metadata": {
    "ExecuteTime": {
     "end_time": "2019-11-22T15:20:43.685636Z",
     "start_time": "2019-11-22T15:20:43.683203Z"
    }
   },
   "outputs": [
    {
     "name": "stdout",
     "output_type": "stream",
     "text": [
      "2\n",
      "3\n",
      "1\n",
      "2\n"
     ]
    }
   ],
   "source": [
    "for i in adj_matrix:\n",
    "    print(sum(i))"
   ]
  },
  {
   "cell_type": "markdown",
   "metadata": {},
   "source": [
    "Calculate the total number of connections."
   ]
  },
  {
   "cell_type": "code",
   "execution_count": 31,
   "metadata": {
    "ExecuteTime": {
     "end_time": "2019-11-22T15:20:48.494153Z",
     "start_time": "2019-11-22T15:20:48.491687Z"
    }
   },
   "outputs": [],
   "source": [
    "m=0\n",
    "for i in adj_matrix:\n",
    "    m+=sum(i)\n",
    "m=m/2"
   ]
  },
  {
   "cell_type": "code",
   "execution_count": 32,
   "metadata": {
    "ExecuteTime": {
     "end_time": "2019-11-22T15:20:49.145821Z",
     "start_time": "2019-11-22T15:20:49.143077Z"
    }
   },
   "outputs": [
    {
     "data": {
      "text/plain": [
       "4.0"
      ]
     },
     "execution_count": 32,
     "metadata": {},
     "output_type": "execute_result"
    }
   ],
   "source": [
    "m"
   ]
  },
  {
   "cell_type": "markdown",
   "metadata": {},
   "source": [
    "Pay attention!"
   ]
  },
  {
   "cell_type": "code",
   "execution_count": 33,
   "metadata": {
    "ExecuteTime": {
     "end_time": "2019-11-22T15:20:51.842714Z",
     "start_time": "2019-11-22T15:20:51.837999Z"
    }
   },
   "outputs": [
    {
     "ename": "TypeError",
     "evalue": "unsupported operand type(s) for +: 'int' and 'list'",
     "output_type": "error",
     "traceback": [
      "\u001b[0;31m---------------------------------------------------------------------------\u001b[0m",
      "\u001b[0;31mTypeError\u001b[0m                                 Traceback (most recent call last)",
      "\u001b[0;32m<ipython-input-33-90cb0c2f26f0>\u001b[0m in \u001b[0;36m<module>\u001b[0;34m\u001b[0m\n\u001b[0;32m----> 1\u001b[0;31m \u001b[0msum\u001b[0m\u001b[0;34m(\u001b[0m\u001b[0madj_matrix\u001b[0m\u001b[0;34m)\u001b[0m\u001b[0;34m\u001b[0m\u001b[0m\n\u001b[0m",
      "\u001b[0;31mTypeError\u001b[0m: unsupported operand type(s) for +: 'int' and 'list'"
     ]
    }
   ],
   "source": [
    "sum(adj_matrix)"
   ]
  },
  {
   "cell_type": "markdown",
   "metadata": {},
   "source": [
    "### Exercise: define the adjacency matrix of the Renaissance Florentine families, given the edge list"
   ]
  },
  {
   "cell_type": "markdown",
   "metadata": {},
   "source": [
    "![](../Images/l1_ff.png)"
   ]
  },
  {
   "cell_type": "code",
   "execution_count": 34,
   "metadata": {
    "ExecuteTime": {
     "end_time": "2019-11-22T18:04:14.573347Z",
     "start_time": "2019-11-22T18:04:14.569748Z"
    }
   },
   "outputs": [],
   "source": [
    "edge_list=[('ACCIAIUOL', 'MEDICI'),\n",
    " ('ALBIZZI', 'GINORI'),\n",
    " ('ALBIZZI', 'GUADAGNI'),\n",
    " ('ALBIZZI', 'MEDICI'),\n",
    " ('BARBADORI', 'CASTELLAN'),\n",
    " ('BARBADORI', 'MEDICI'),\n",
    " ('BISCHERI', 'GUADAGNI'),\n",
    " ('BISCHERI', 'PERUZZI'),\n",
    " ('BISCHERI', 'STROZZI'),\n",
    " ('CASTELLAN', 'PERUZZI'),\n",
    " ('CASTELLAN', 'STROZZI'),\n",
    " ('GUADAGNI', 'LAMBERTES'),\n",
    " ('GUADAGNI', 'TORNABUON'),\n",
    " ('MEDICI', 'RIDOLFI'),\n",
    " ('MEDICI', 'SALVIATI'),\n",
    " ('MEDICI', 'TORNABUON'),\n",
    " ('PAZZI', 'SALVIATI'),\n",
    " ('PERUZZI', 'STROZZI'),\n",
    " ('RIDOLFI', 'STROZZI'),\n",
    " ('RIDOLFI', 'TORNABUON')]"
   ]
  },
  {
   "cell_type": "markdown",
   "metadata": {},
   "source": [
    "Create a list of all families"
   ]
  },
  {
   "cell_type": "code",
   "execution_count": 37,
   "metadata": {
    "ExecuteTime": {
     "end_time": "2019-11-22T18:06:20.031629Z",
     "start_time": "2019-11-22T18:06:20.028903Z"
    }
   },
   "outputs": [],
   "source": [
    "families=[]"
   ]
  },
  {
   "cell_type": "code",
   "execution_count": 41,
   "metadata": {
    "ExecuteTime": {
     "end_time": "2019-11-22T18:06:20.031629Z",
     "start_time": "2019-11-22T18:06:20.028903Z"
    }
   },
   "outputs": [],
   "source": [
    "for el in edge_list:\n",
    "    if el[0] not in families:\n",
    "        families.append(el[0])\n",
    "    if el[1] not in families:\n",
    "        families.append(el[1])"
   ]
  },
  {
   "cell_type": "code",
   "execution_count": 42,
   "metadata": {
    "ExecuteTime": {
     "end_time": "2019-11-22T18:06:25.453247Z",
     "start_time": "2019-11-22T18:06:25.450066Z"
    }
   },
   "outputs": [
    {
     "data": {
      "text/plain": [
       "['ACCIAIUOL',\n",
       " 'MEDICI',\n",
       " 'ALBIZZI',\n",
       " 'GINORI',\n",
       " 'GUADAGNI',\n",
       " 'BARBADORI',\n",
       " 'CASTELLAN',\n",
       " 'BISCHERI',\n",
       " 'PERUZZI',\n",
       " 'STROZZI',\n",
       " 'LAMBERTES',\n",
       " 'TORNABUON',\n",
       " 'RIDOLFI',\n",
       " 'SALVIATI',\n",
       " 'PAZZI']"
      ]
     },
     "execution_count": 42,
     "metadata": {},
     "output_type": "execute_result"
    }
   ],
   "source": [
    "families"
   ]
  },
  {
   "cell_type": "code",
   "execution_count": 43,
   "metadata": {
    "ExecuteTime": {
     "end_time": "2019-11-22T18:07:00.173054Z",
     "start_time": "2019-11-22T18:07:00.170717Z"
    }
   },
   "outputs": [],
   "source": [
    "families.sort()"
   ]
  },
  {
   "cell_type": "code",
   "execution_count": 44,
   "metadata": {
    "ExecuteTime": {
     "end_time": "2019-11-22T18:10:13.094310Z",
     "start_time": "2019-11-22T18:10:13.091428Z"
    }
   },
   "outputs": [
    {
     "data": {
      "text/plain": [
       "['ACCIAIUOL',\n",
       " 'ALBIZZI',\n",
       " 'BARBADORI',\n",
       " 'BISCHERI',\n",
       " 'CASTELLAN',\n",
       " 'GINORI',\n",
       " 'GUADAGNI',\n",
       " 'LAMBERTES',\n",
       " 'MEDICI',\n",
       " 'PAZZI',\n",
       " 'PERUZZI',\n",
       " 'RIDOLFI',\n",
       " 'SALVIATI',\n",
       " 'STROZZI',\n",
       " 'TORNABUON']"
      ]
     },
     "execution_count": 44,
     "metadata": {},
     "output_type": "execute_result"
    }
   ],
   "source": [
    "families"
   ]
  },
  {
   "cell_type": "code",
   "execution_count": 45,
   "metadata": {
    "ExecuteTime": {
     "end_time": "2019-11-22T18:13:58.068464Z",
     "start_time": "2019-11-22T18:13:58.065134Z"
    }
   },
   "outputs": [],
   "source": [
    "adj_mat=[[0 for i in range(len(families))] for j in range(len(families))]\n",
    "for el in edge_list:\n",
    "    i0=families.index(el[0])\n",
    "    i1=families.index(el[1])\n",
    "    # why so?\n",
    "    adj_mat[i0][i1]=1\n",
    "    adj_mat[i1][i0]=1\n",
    "    "
   ]
  },
  {
   "cell_type": "code",
   "execution_count": 46,
   "metadata": {
    "ExecuteTime": {
     "end_time": "2019-11-22T18:14:01.378040Z",
     "start_time": "2019-11-22T18:14:01.372872Z"
    }
   },
   "outputs": [
    {
     "data": {
      "text/plain": [
       "[[0, 0, 0, 0, 0, 0, 0, 0, 1, 0, 0, 0, 0, 0, 0],\n",
       " [0, 0, 0, 0, 0, 1, 1, 0, 1, 0, 0, 0, 0, 0, 0],\n",
       " [0, 0, 0, 0, 1, 0, 0, 0, 1, 0, 0, 0, 0, 0, 0],\n",
       " [0, 0, 0, 0, 0, 0, 1, 0, 0, 0, 1, 0, 0, 1, 0],\n",
       " [0, 0, 1, 0, 0, 0, 0, 0, 0, 0, 1, 0, 0, 1, 0],\n",
       " [0, 1, 0, 0, 0, 0, 0, 0, 0, 0, 0, 0, 0, 0, 0],\n",
       " [0, 1, 0, 1, 0, 0, 0, 1, 0, 0, 0, 0, 0, 0, 1],\n",
       " [0, 0, 0, 0, 0, 0, 1, 0, 0, 0, 0, 0, 0, 0, 0],\n",
       " [1, 1, 1, 0, 0, 0, 0, 0, 0, 0, 0, 1, 1, 0, 1],\n",
       " [0, 0, 0, 0, 0, 0, 0, 0, 0, 0, 0, 0, 1, 0, 0],\n",
       " [0, 0, 0, 1, 1, 0, 0, 0, 0, 0, 0, 0, 0, 1, 0],\n",
       " [0, 0, 0, 0, 0, 0, 0, 0, 1, 0, 0, 0, 0, 1, 1],\n",
       " [0, 0, 0, 0, 0, 0, 0, 0, 1, 1, 0, 0, 0, 0, 0],\n",
       " [0, 0, 0, 1, 1, 0, 0, 0, 0, 0, 1, 1, 0, 0, 0],\n",
       " [0, 0, 0, 0, 0, 0, 1, 0, 1, 0, 0, 1, 0, 0, 0]]"
      ]
     },
     "execution_count": 46,
     "metadata": {},
     "output_type": "execute_result"
    }
   ],
   "source": [
    "adj_mat"
   ]
  },
  {
   "cell_type": "markdown",
   "metadata": {},
   "source": [
    "### Exercise: create a dictionary returning the degree for each node name"
   ]
  },
  {
   "cell_type": "code",
   "execution_count": 35,
   "metadata": {},
   "outputs": [],
   "source": [
    "dict_ff={}\n",
    "lf=len(families)\n",
    "for i_f in range(lf):\n",
    "    dict_ff[families[i_f]]=sum(adj_mat[i_f])"
   ]
  },
  {
   "cell_type": "code",
   "execution_count": 36,
   "metadata": {},
   "outputs": [
    {
     "data": {
      "text/plain": [
       "{'ACCIAIUOL': 1,\n",
       " 'ALBIZZI': 3,\n",
       " 'BARBADORI': 2,\n",
       " 'BISCHERI': 3,\n",
       " 'CASTELLAN': 3,\n",
       " 'GINORI': 1,\n",
       " 'GUADAGNI': 4,\n",
       " 'LAMBERTES': 1,\n",
       " 'MEDICI': 6,\n",
       " 'PAZZI': 1,\n",
       " 'PERUZZI': 3,\n",
       " 'RIDOLFI': 3,\n",
       " 'SALVIATI': 2,\n",
       " 'STROZZI': 4,\n",
       " 'TORNABUON': 3}"
      ]
     },
     "execution_count": 36,
     "metadata": {},
     "output_type": "execute_result"
    }
   ],
   "source": [
    "dict_ff"
   ]
  },
  {
   "cell_type": "markdown",
   "metadata": {},
   "source": [
    "### (Almost) the first DIRECTED network "
   ]
  },
  {
   "cell_type": "markdown",
   "metadata": {},
   "source": [
    "$a_{ij}=1$ describes a link from node $i$ to node $j$. Remember that in a directed network, in general, $a_{ij}\\neq a_{ji}$"
   ]
  },
  {
   "cell_type": "code",
   "execution_count": 47,
   "metadata": {
    "ExecuteTime": {
     "end_time": "2019-11-22T18:19:20.589192Z",
     "start_time": "2019-11-22T18:19:20.586589Z"
    }
   },
   "outputs": [],
   "source": [
    "adj_matrix=[\n",
    "            [0, 1, 0, 1],\n",
    "            [0, 0, 1, 1],\n",
    "            [1, 1, 0, 1],\n",
    "            [0, 0, 1, 0],\n",
    "           ]"
   ]
  },
  {
   "cell_type": "markdown",
   "metadata": {},
   "source": [
    "In- and out- degrees"
   ]
  },
  {
   "cell_type": "code",
   "execution_count": 50,
   "metadata": {
    "ExecuteTime": {
     "end_time": "2019-11-22T18:19:21.528724Z",
     "start_time": "2019-11-22T18:19:21.526603Z"
    }
   },
   "outputs": [],
   "source": [
    "k_out=[sum(i) for i in adj_matrix] "
   ]
  },
  {
   "cell_type": "code",
   "execution_count": 51,
   "metadata": {
    "ExecuteTime": {
     "end_time": "2019-11-22T18:19:21.949212Z",
     "start_time": "2019-11-22T18:19:21.946537Z"
    }
   },
   "outputs": [
    {
     "data": {
      "text/plain": [
       "[2, 2, 3, 1]"
      ]
     },
     "execution_count": 51,
     "metadata": {},
     "output_type": "execute_result"
    }
   ],
   "source": [
    "k_out"
   ]
  },
  {
   "cell_type": "code",
   "execution_count": 52,
   "metadata": {
    "ExecuteTime": {
     "end_time": "2019-11-22T18:19:23.753168Z",
     "start_time": "2019-11-22T18:19:23.750555Z"
    }
   },
   "outputs": [],
   "source": [
    "k_in=[0 for i in range(len(adj_matrix))]"
   ]
  },
  {
   "cell_type": "code",
   "execution_count": 53,
   "metadata": {
    "ExecuteTime": {
     "end_time": "2019-11-22T18:19:23.753168Z",
     "start_time": "2019-11-22T18:19:23.750555Z"
    }
   },
   "outputs": [],
   "source": [
    "for i in adj_matrix:\n",
    "    for j in range(len(adj_matrix)):\n",
    "        k_in[j]+=i[j]"
   ]
  },
  {
   "cell_type": "code",
   "execution_count": 54,
   "metadata": {
    "ExecuteTime": {
     "end_time": "2019-11-22T18:19:24.123461Z",
     "start_time": "2019-11-22T18:19:24.120538Z"
    }
   },
   "outputs": [
    {
     "data": {
      "text/plain": [
       "[1, 2, 2, 3]"
      ]
     },
     "execution_count": 54,
     "metadata": {},
     "output_type": "execute_result"
    }
   ],
   "source": [
    "k_in"
   ]
  },
  {
   "cell_type": "markdown",
   "metadata": {},
   "source": [
    "### Exercise: create a dictionary returning the in- out- degrees for each node name"
   ]
  },
  {
   "cell_type": "code",
   "execution_count": 55,
   "metadata": {},
   "outputs": [
    {
     "data": {
      "text/plain": [
       "['Donatello', 'Raffaello', 'Michelangelo', 'Leonardo']"
      ]
     },
     "execution_count": 55,
     "metadata": {},
     "output_type": "execute_result"
    }
   ],
   "source": [
    "node_names"
   ]
  },
  {
   "cell_type": "code",
   "execution_count": 56,
   "metadata": {},
   "outputs": [
    {
     "data": {
      "text/plain": [
       "[2, 2, 3, 1]"
      ]
     },
     "execution_count": 56,
     "metadata": {},
     "output_type": "execute_result"
    }
   ],
   "source": [
    "k_out"
   ]
  },
  {
   "cell_type": "code",
   "execution_count": 57,
   "metadata": {},
   "outputs": [
    {
     "data": {
      "text/plain": [
       "[1, 2, 2, 3]"
      ]
     },
     "execution_count": 57,
     "metadata": {},
     "output_type": "execute_result"
    }
   ],
   "source": [
    "k_in"
   ]
  },
  {
   "cell_type": "code",
   "execution_count": 60,
   "metadata": {},
   "outputs": [
    {
     "data": {
      "text/plain": [
       "{'Donatello': 1, 'Leonardo': 3, 'Michelangelo': 2, 'Raffaello': 2}"
      ]
     },
     "execution_count": 60,
     "metadata": {},
     "output_type": "execute_result"
    }
   ],
   "source": [
    "dict(zip(node_names, k_in))"
   ]
  },
  {
   "cell_type": "code",
   "execution_count": 61,
   "metadata": {},
   "outputs": [],
   "source": [
    "tmnt_dict_in=dict(zip(node_names, k_in))"
   ]
  },
  {
   "cell_type": "code",
   "execution_count": 62,
   "metadata": {},
   "outputs": [
    {
     "data": {
      "text/plain": [
       "{'Donatello': 1, 'Leonardo': 3, 'Michelangelo': 2, 'Raffaello': 2}"
      ]
     },
     "execution_count": 62,
     "metadata": {},
     "output_type": "execute_result"
    }
   ],
   "source": [
    "tmnt_dict_in"
   ]
  },
  {
   "cell_type": "code",
   "execution_count": 63,
   "metadata": {},
   "outputs": [],
   "source": [
    "tmnt_dict_out=dict(zip(node_names, k_out))"
   ]
  },
  {
   "cell_type": "code",
   "execution_count": 64,
   "metadata": {},
   "outputs": [
    {
     "data": {
      "text/plain": [
       "{'Donatello': 2, 'Leonardo': 1, 'Michelangelo': 3, 'Raffaello': 2}"
      ]
     },
     "execution_count": 64,
     "metadata": {},
     "output_type": "execute_result"
    }
   ],
   "source": [
    "tmnt_dict_out"
   ]
  },
  {
   "cell_type": "code",
   "execution_count": 66,
   "metadata": {},
   "outputs": [
    {
     "data": {
      "text/plain": [
       "{'Donatello': (2, 1),\n",
       " 'Leonardo': (1, 3),\n",
       " 'Michelangelo': (3, 2),\n",
       " 'Raffaello': (2, 2)}"
      ]
     },
     "execution_count": 66,
     "metadata": {},
     "output_type": "execute_result"
    }
   ],
   "source": [
    "dict(zip(node_names, zip(k_out, k_in)))"
   ]
  },
  {
   "cell_type": "markdown",
   "metadata": {},
   "source": [
    "## Functions"
   ]
  },
  {
   "cell_type": "markdown",
   "metadata": {},
   "source": [
    "### \"Hello world!\""
   ]
  },
  {
   "cell_type": "markdown",
   "metadata": {},
   "source": [
    "So far we already saw few functions: conversions (int(), float(), str(), dict(), ...), other relate to the showing the output of the something as print(), other applied to the most disparate things as len() or sum(). It is time to act as protagonist and build our own functions!  \n",
    "![Hello World](../Images/l1_hello_world.png)  \n",
    "Due to some old tradition, the first function is something that print \"Hello world!\""
   ]
  },
  {
   "cell_type": "code",
   "execution_count": 69,
   "metadata": {
    "ExecuteTime": {
     "start_time": "2019-11-22T18:37:54.875Z"
    }
   },
   "outputs": [],
   "source": [
    "def lunatic():\n",
    "    print('Hello, World!')"
   ]
  },
  {
   "cell_type": "code",
   "execution_count": 70,
   "metadata": {
    "ExecuteTime": {
     "start_time": "2019-11-22T18:37:56.999Z"
    }
   },
   "outputs": [
    {
     "name": "stdout",
     "output_type": "stream",
     "text": [
      "Hello, World!\n"
     ]
    }
   ],
   "source": [
    "lunatic()"
   ]
  },
  {
   "cell_type": "code",
   "execution_count": 72,
   "metadata": {
    "ExecuteTime": {
     "start_time": "2019-11-22T18:38:05.762Z"
    }
   },
   "outputs": [],
   "source": [
    "def solaric(argument):\n",
    "    print('Hello, '+argument+'!')"
   ]
  },
  {
   "cell_type": "code",
   "execution_count": 73,
   "metadata": {
    "ExecuteTime": {
     "start_time": "2019-11-22T18:38:06.697Z"
    }
   },
   "outputs": [
    {
     "name": "stdout",
     "output_type": "stream",
     "text": [
      "Hello, Mars!\n"
     ]
    }
   ],
   "source": [
    "solaric('Mars')"
   ]
  },
  {
   "cell_type": "code",
   "execution_count": 75,
   "metadata": {},
   "outputs": [
    {
     "name": "stdout",
     "output_type": "stream",
     "text": [
      "Hello, 42!\n"
     ]
    }
   ],
   "source": [
    "solaric(str(42))"
   ]
  },
  {
   "cell_type": "markdown",
   "metadata": {},
   "source": [
    "Default argument!"
   ]
  },
  {
   "cell_type": "code",
   "execution_count": 76,
   "metadata": {
    "ExecuteTime": {
     "start_time": "2019-11-22T18:39:03.307Z"
    }
   },
   "outputs": [],
   "source": [
    "def my_friends(argument='my friends'):\n",
    "    print('Hello, '+argument+'!')"
   ]
  },
  {
   "cell_type": "code",
   "execution_count": 77,
   "metadata": {
    "ExecuteTime": {
     "start_time": "2019-11-22T18:39:04.171Z"
    }
   },
   "outputs": [
    {
     "name": "stdout",
     "output_type": "stream",
     "text": [
      "Hello, World!\n"
     ]
    }
   ],
   "source": [
    "my_friends('World')"
   ]
  },
  {
   "cell_type": "code",
   "execution_count": 78,
   "metadata": {
    "ExecuteTime": {
     "end_time": "2019-11-22T18:38:18.162147Z",
     "start_time": "2019-11-22T18:38:18.159810Z"
    }
   },
   "outputs": [
    {
     "name": "stdout",
     "output_type": "stream",
     "text": [
      "Hello, my friends!\n"
     ]
    }
   ],
   "source": [
    "my_friends()"
   ]
  },
  {
   "cell_type": "markdown",
   "metadata": {},
   "source": [
    "### Return On Earth: global and local"
   ]
  },
  {
   "cell_type": "markdown",
   "metadata": {},
   "source": [
    "Of course, a function can do something more interesting..."
   ]
  },
  {
   "cell_type": "code",
   "execution_count": 79,
   "metadata": {
    "ExecuteTime": {
     "end_time": "2019-11-22T18:42:20.819014Z",
     "start_time": "2019-11-22T18:42:20.814835Z"
    }
   },
   "outputs": [],
   "source": [
    "def tmnt(turtle):\n",
    "    internal_variable=dict(zip(node_names, zip([sum(i) for i in adj_matrix], k_in)))\n",
    "    print(internal_variable[turtle])"
   ]
  },
  {
   "cell_type": "code",
   "execution_count": 80,
   "metadata": {
    "ExecuteTime": {
     "end_time": "2019-11-22T18:42:21.534990Z",
     "start_time": "2019-11-22T18:42:21.532718Z"
    }
   },
   "outputs": [
    {
     "name": "stdout",
     "output_type": "stream",
     "text": [
      "(3, 2)\n"
     ]
    }
   ],
   "source": [
    "tmnt('Michelangelo')"
   ]
  },
  {
   "cell_type": "markdown",
   "metadata": {},
   "source": [
    "What kind of variable is this?"
   ]
  },
  {
   "cell_type": "code",
   "execution_count": 81,
   "metadata": {
    "ExecuteTime": {
     "end_time": "2019-11-22T18:42:34.027819Z",
     "start_time": "2019-11-22T18:42:34.024531Z"
    }
   },
   "outputs": [
    {
     "name": "stdout",
     "output_type": "stream",
     "text": [
      "(3, 2)\n"
     ]
    },
    {
     "data": {
      "text/plain": [
       "NoneType"
      ]
     },
     "execution_count": 81,
     "metadata": {},
     "output_type": "execute_result"
    }
   ],
   "source": [
    "type(tmnt('Michelangelo'))"
   ]
  },
  {
   "cell_type": "markdown",
   "metadata": {},
   "source": [
    "???"
   ]
  },
  {
   "cell_type": "code",
   "execution_count": 82,
   "metadata": {
    "ExecuteTime": {
     "end_time": "2019-11-22T18:42:38.238876Z",
     "start_time": "2019-11-22T18:42:38.236529Z"
    }
   },
   "outputs": [
    {
     "name": "stdout",
     "output_type": "stream",
     "text": [
      "(3, 2)\n"
     ]
    }
   ],
   "source": [
    "cacca=tmnt('Michelangelo')"
   ]
  },
  {
   "cell_type": "code",
   "execution_count": 83,
   "metadata": {
    "ExecuteTime": {
     "end_time": "2019-11-22T18:42:39.056513Z",
     "start_time": "2019-11-22T18:42:39.054483Z"
    }
   },
   "outputs": [],
   "source": [
    "cacca"
   ]
  },
  {
   "cell_type": "markdown",
   "metadata": {},
   "source": [
    "???"
   ]
  },
  {
   "cell_type": "code",
   "execution_count": 84,
   "metadata": {
    "ExecuteTime": {
     "end_time": "2019-11-22T18:42:43.270280Z",
     "start_time": "2019-11-22T18:42:43.264372Z"
    }
   },
   "outputs": [
    {
     "ename": "NameError",
     "evalue": "name 'internal_variable' is not defined",
     "output_type": "error",
     "traceback": [
      "\u001b[0;31m---------------------------------------------------------------------------\u001b[0m",
      "\u001b[0;31mNameError\u001b[0m                                 Traceback (most recent call last)",
      "\u001b[0;32m<ipython-input-84-c5bada3d2b19>\u001b[0m in \u001b[0;36m<module>\u001b[0;34m\u001b[0m\n\u001b[0;32m----> 1\u001b[0;31m \u001b[0minternal_variable\u001b[0m\u001b[0;34m\u001b[0m\u001b[0m\n\u001b[0m",
      "\u001b[0;31mNameError\u001b[0m: name 'internal_variable' is not defined"
     ]
    }
   ],
   "source": [
    "internal_variable"
   ]
  },
  {
   "cell_type": "code",
   "execution_count": 86,
   "metadata": {
    "ExecuteTime": {
     "end_time": "2019-11-22T18:42:45.317145Z",
     "start_time": "2019-11-22T18:42:45.314392Z"
    }
   },
   "outputs": [
    {
     "data": {
      "text/plain": [
       "[1, 2, 2, 3]"
      ]
     },
     "execution_count": 86,
     "metadata": {},
     "output_type": "execute_result"
    }
   ],
   "source": [
    "k_in"
   ]
  },
  {
   "cell_type": "markdown",
   "metadata": {},
   "source": [
    "What is happening? Several things at the same time:\n",
    "- variables defined inside the function (*local*) live and die inside the function and are not accessible from outside (that's *internal_variable* )\n",
    "- variable defined outside the function (*global*) can be used inside without any problem (that's k_out)\n",
    "- so far, everything that is inside the function cannot escape outside. That's why cacca has a NoneType: its value is empty and has no data type."
   ]
  },
  {
   "cell_type": "code",
   "execution_count": 89,
   "metadata": {
    "ExecuteTime": {
     "end_time": "2019-11-22T18:47:08.342961Z",
     "start_time": "2019-11-22T18:47:08.340247Z"
    }
   },
   "outputs": [],
   "source": [
    "def tmnt_r(turtle):\n",
    "    internal_variable=dict(zip(node_names, zip([sum(i) for i in adj_matrix], k_in)))\n",
    "    return internal_variable[turtle]"
   ]
  },
  {
   "cell_type": "code",
   "execution_count": 90,
   "metadata": {
    "ExecuteTime": {
     "end_time": "2019-11-22T18:47:08.801228Z",
     "start_time": "2019-11-22T18:47:08.798247Z"
    }
   },
   "outputs": [
    {
     "data": {
      "text/plain": [
       "(3, 2)"
      ]
     },
     "execution_count": 90,
     "metadata": {},
     "output_type": "execute_result"
    }
   ],
   "source": [
    "tmnt_r('Michelangelo')"
   ]
  },
  {
   "cell_type": "code",
   "execution_count": 91,
   "metadata": {
    "ExecuteTime": {
     "end_time": "2019-11-22T18:47:09.583115Z",
     "start_time": "2019-11-22T18:47:09.581054Z"
    }
   },
   "outputs": [],
   "source": [
    "cacca=tmnt_r('Michelangelo')"
   ]
  },
  {
   "cell_type": "code",
   "execution_count": 92,
   "metadata": {
    "ExecuteTime": {
     "end_time": "2019-11-22T18:47:11.854922Z",
     "start_time": "2019-11-22T18:47:11.852327Z"
    }
   },
   "outputs": [
    {
     "data": {
      "text/plain": [
       "tuple"
      ]
     },
     "execution_count": 92,
     "metadata": {},
     "output_type": "execute_result"
    }
   ],
   "source": [
    "type(cacca)"
   ]
  },
  {
   "cell_type": "markdown",
   "metadata": {},
   "source": [
    "### Never mix global and local!"
   ]
  },
  {
   "cell_type": "markdown",
   "metadata": {},
   "source": [
    "![shit](../Images/l1_shit.jpg)  "
   ]
  },
  {
   "cell_type": "code",
   "execution_count": 93,
   "metadata": {
    "ExecuteTime": {
     "end_time": "2019-11-22T18:47:52.751868Z",
     "start_time": "2019-11-22T18:47:52.749622Z"
    }
   },
   "outputs": [],
   "source": [
    "cacca=42\n",
    "def big_s():\n",
    "    cacca=20\n",
    "    return cacca"
   ]
  },
  {
   "cell_type": "code",
   "execution_count": 94,
   "metadata": {
    "ExecuteTime": {
     "end_time": "2019-11-22T18:47:55.641399Z",
     "start_time": "2019-11-22T18:47:55.638673Z"
    }
   },
   "outputs": [
    {
     "data": {
      "text/plain": [
       "20"
      ]
     },
     "execution_count": 94,
     "metadata": {},
     "output_type": "execute_result"
    }
   ],
   "source": [
    "big_s()"
   ]
  },
  {
   "cell_type": "code",
   "execution_count": 95,
   "metadata": {
    "ExecuteTime": {
     "end_time": "2019-11-22T18:47:52.751868Z",
     "start_time": "2019-11-22T18:47:52.749622Z"
    }
   },
   "outputs": [],
   "source": [
    "def small_s():\n",
    "    return cacca"
   ]
  },
  {
   "cell_type": "code",
   "execution_count": 96,
   "metadata": {},
   "outputs": [
    {
     "data": {
      "text/plain": [
       "42"
      ]
     },
     "execution_count": 96,
     "metadata": {},
     "output_type": "execute_result"
    }
   ],
   "source": [
    "small_s()"
   ]
  },
  {
   "cell_type": "markdown",
   "metadata": {},
   "source": [
    "Now it's easy to understand which is which, but in something more involved is really a pain in the neck:"
   ]
  },
  {
   "cell_type": "code",
   "execution_count": 97,
   "metadata": {
    "ExecuteTime": {
     "end_time": "2019-11-22T18:48:10.539824Z",
     "start_time": "2019-11-22T18:48:10.534840Z"
    }
   },
   "outputs": [
    {
     "name": "stdout",
     "output_type": "stream",
     "text": [
      "0\n",
      "1\n",
      "2\n",
      "3\n"
     ]
    }
   ],
   "source": [
    "for i in range(4):\n",
    "    cacca=[i%3 for i in range(42)]\n",
    "    print(i)"
   ]
  },
  {
   "cell_type": "markdown",
   "metadata": {},
   "source": [
    "**Pay attention!** Python 2.7 would have returned all 41!"
   ]
  },
  {
   "cell_type": "markdown",
   "metadata": {},
   "source": [
    "### Exercise\n",
    "Define a function that given an edge list (of an undirected network) expressed in terms of lists, it prints the adjacency matrix and the total number of link, and returns a dictionary that given the node position return the degree sequence\n",
    "***Extra:*** set the default arguments to those of the Florentine families, respectively for the adjacency matrix and the node names (surprise surprise!)"
   ]
  },
  {
   "cell_type": "code",
   "execution_count": null,
   "metadata": {},
   "outputs": [],
   "source": [
    "def exercise(edge_list=edge_list):\n",
    "    # family list\n",
    "    families=[]\n",
    "    for el in edge_list:\n",
    "    if el[0] not in families:\n",
    "        families.append(el[0])\n",
    "    if el[1] not in families:\n",
    "        families.append(el[1])\n",
    "    # adjacency matrix\n",
    "    adj_mat=[[0 for i in range(len(families))] for j in range(len(families))]\n",
    "for el in edge_list:\n",
    "    i0=families.index(el[0])\n",
    "    i1=families.index(el[1])\n",
    "    adj_mat[i0][i1]=1\n",
    "    adj_mat[i1][i0]=1\n",
    "    # degree sequence\n",
    "    dict_ff={}\n",
    "    lf=len(families)\n",
    "    for i_f in range(lf):\n",
    "        dict_ff[families[i_f]]=sum(adj_mat[i_f])\n",
    "    # print the adjacacency matrix\n",
    "    print(adj_mat)\n",
    "    # print the number of links\n",
    "    print(len(edge_list))\n",
    "    return dict_ff\n",
    "    \n",
    "    "
   ]
  },
  {
   "cell_type": "markdown",
   "metadata": {},
   "source": [
    "## Files"
   ]
  },
  {
   "cell_type": "markdown",
   "metadata": {},
   "source": [
    "So far everything we have is just _inside_ our jupyter notebook and we cannot communicate it _outside_ more than printing to screen. Of course this is not enough..."
   ]
  },
  {
   "cell_type": "markdown",
   "metadata": {},
   "source": [
    "### First: where are we ?"
   ]
  },
  {
   "cell_type": "code",
   "execution_count": 81,
   "metadata": {
    "ExecuteTime": {
     "end_time": "2019-12-05T07:58:48.867148Z",
     "start_time": "2019-12-05T07:58:48.864980Z"
    }
   },
   "outputs": [],
   "source": [
    "import os"
   ]
  },
  {
   "cell_type": "markdown",
   "metadata": {},
   "source": [
    "Some functions are available in different modules and package. [os](https://docs.python.org/2.7/library/os.html) permits to interact with the operating system. For using functions defined therein, add _.functionname_"
   ]
  },
  {
   "cell_type": "markdown",
   "metadata": {},
   "source": [
    "os.getcwd()"
   ]
  },
  {
   "cell_type": "code",
   "execution_count": 82,
   "metadata": {},
   "outputs": [
    {
     "data": {
      "text/plain": [
       "'/Users/Fabio/anaconda/envs/atnt_py3/networks_01_2020/Lectures'"
      ]
     },
     "execution_count": 82,
     "metadata": {},
     "output_type": "execute_result"
    }
   ],
   "source": [
    "os.getcwd()"
   ]
  },
  {
   "cell_type": "markdown",
   "metadata": {},
   "source": [
    "it gets your _current working directory_ (cwd)"
   ]
  },
  {
   "cell_type": "markdown",
   "metadata": {},
   "source": [
    "os.chdir"
   ]
  },
  {
   "cell_type": "code",
   "execution_count": 84,
   "metadata": {},
   "outputs": [],
   "source": [
    "os.chdir('/Users/Fabio/')"
   ]
  },
  {
   "cell_type": "markdown",
   "metadata": {},
   "source": [
    "it changes the cwd to the folder Fabio"
   ]
  },
  {
   "cell_type": "code",
   "execution_count": 85,
   "metadata": {},
   "outputs": [
    {
     "data": {
      "text/plain": [
       "'/Users/Fabio'"
      ]
     },
     "execution_count": 85,
     "metadata": {},
     "output_type": "execute_result"
    }
   ],
   "source": [
    "os.getcwd()"
   ]
  },
  {
   "cell_type": "code",
   "execution_count": 86,
   "metadata": {},
   "outputs": [],
   "source": [
    "os.chdir('/Users/Fabio/anaconda/envs/atnt_py3/networks_01_2020/Lectures')"
   ]
  },
  {
   "cell_type": "markdown",
   "metadata": {},
   "source": [
    ".path.getsize()"
   ]
  },
  {
   "cell_type": "code",
   "execution_count": 87,
   "metadata": {
    "ExecuteTime": {
     "end_time": "2019-12-05T07:58:58.983770Z",
     "start_time": "2019-12-05T07:58:58.973674Z"
    }
   },
   "outputs": [
    {
     "data": {
      "text/plain": [
       "76110"
      ]
     },
     "execution_count": 87,
     "metadata": {},
     "output_type": "execute_result"
    }
   ],
   "source": [
    "os.path.getsize('Lecture_1_Still_Basics.ipynb')"
   ]
  },
  {
   "cell_type": "markdown",
   "metadata": {},
   "source": [
    "It get the size of a file (by the path) and returns it in bytes."
   ]
  },
  {
   "cell_type": "markdown",
   "metadata": {},
   "source": [
    ".listdir()"
   ]
  },
  {
   "cell_type": "code",
   "execution_count": 88,
   "metadata": {
    "ExecuteTime": {
     "end_time": "2019-12-05T07:59:31.019480Z",
     "start_time": "2019-12-05T07:59:31.016211Z"
    }
   },
   "outputs": [
    {
     "data": {
      "text/plain": [
       "['Lecture_4_NetworkX_Basics.ipynb',\n",
       " 'Lecture_0_Basics.ipynb',\n",
       " 'Lecture_3_Matplotlib.ipynb',\n",
       " 'my_Lecture_0_Basics.ipynb',\n",
       " '.ipynb_checkpoints',\n",
       " 'Lecture_1_Still_Basics.ipynb',\n",
       " 'Lecture_5_Numpy_Spectra.ipynb',\n",
       " 'Lecture_2_Numpy.ipynb']"
      ]
     },
     "execution_count": 88,
     "metadata": {},
     "output_type": "execute_result"
    }
   ],
   "source": [
    "os.listdir('./')"
   ]
  },
  {
   "cell_type": "markdown",
   "metadata": {},
   "source": [
    "it lists all files in the folder."
   ]
  },
  {
   "cell_type": "markdown",
   "metadata": {},
   "source": [
    "#### Exercise: calculate the total size of all files contained in your *../Data/* folder"
   ]
  },
  {
   "cell_type": "code",
   "execution_count": 89,
   "metadata": {},
   "outputs": [
    {
     "data": {
      "text/plain": [
       "224"
      ]
     },
     "execution_count": 89,
     "metadata": {},
     "output_type": "execute_result"
    }
   ],
   "source": [
    "os.path.getsize('../Data/')"
   ]
  },
  {
   "cell_type": "code",
   "execution_count": 90,
   "metadata": {},
   "outputs": [
    {
     "data": {
      "text/plain": [
       "1508"
      ]
     },
     "execution_count": 90,
     "metadata": {},
     "output_type": "execute_result"
    }
   ],
   "source": [
    "os.path.getsize('../Data/florentine_families.dat')"
   ]
  },
  {
   "cell_type": "code",
   "execution_count": 91,
   "metadata": {},
   "outputs": [
    {
     "data": {
      "text/plain": [
       "435"
      ]
     },
     "execution_count": 91,
     "metadata": {},
     "output_type": "execute_result"
    }
   ],
   "source": [
    "os.path.getsize('../Data/zachary.txt')"
   ]
  },
  {
   "cell_type": "code",
   "execution_count": 92,
   "metadata": {},
   "outputs": [
    {
     "data": {
      "text/plain": [
       "2093"
      ]
     },
     "execution_count": 92,
     "metadata": {},
     "output_type": "execute_result"
    }
   ],
   "source": [
    "os.path.getsize('../Data/highschool.txt')"
   ]
  },
  {
   "cell_type": "code",
   "execution_count": 93,
   "metadata": {},
   "outputs": [
    {
     "data": {
      "text/plain": [
       "534"
      ]
     },
     "execution_count": 93,
     "metadata": {},
     "output_type": "execute_result"
    }
   ],
   "source": [
    "os.path.getsize('../Data/southern_women.txt')"
   ]
  },
  {
   "cell_type": "code",
   "execution_count": 94,
   "metadata": {},
   "outputs": [
    {
     "data": {
      "text/plain": [
       "476"
      ]
     },
     "execution_count": 94,
     "metadata": {},
     "output_type": "execute_result"
    }
   ],
   "source": [
    "os.path.getsize('../Data/mysterious_dataset.txt')"
   ]
  },
  {
   "cell_type": "markdown",
   "metadata": {},
   "source": [
    "#### Exercise: list all files contained in the ../Data/ folder"
   ]
  },
  {
   "cell_type": "code",
   "execution_count": 95,
   "metadata": {},
   "outputs": [
    {
     "data": {
      "text/plain": [
       "['florentine_families.dat',\n",
       " 'highschool.txt',\n",
       " 'zachary.txt',\n",
       " 'mysterious_dataset.txt',\n",
       " 'southern_women.txt']"
      ]
     },
     "execution_count": 95,
     "metadata": {},
     "output_type": "execute_result"
    }
   ],
   "source": [
    "os.listdir('../Data/')"
   ]
  },
  {
   "cell_type": "markdown",
   "metadata": {},
   "source": [
    "### Open/Close/Read/Write Files"
   ]
  },
  {
   "cell_type": "markdown",
   "metadata": {},
   "source": [
    "In the present lectures we are not going to work with something really different from .txt files. Nevertheless, it is enough for doing some crazy stuff!  \n",
    "The action on files is divided in 3 steps, essentially:\n",
    "1. Open a file;\n",
    "2. Read/write something on the file;\n",
    "3. Close the file.\n",
    "\n",
    "If you miss the last step, you are going to mess up something. Anyway, no worry!  \n",
    "Let's start with writing... ('w')"
   ]
  },
  {
   "cell_type": "code",
   "execution_count": 96,
   "metadata": {},
   "outputs": [],
   "source": [
    "cacca=open('something.txt', 'w')"
   ]
  },
  {
   "cell_type": "code",
   "execution_count": 97,
   "metadata": {},
   "outputs": [
    {
     "data": {
      "text/plain": [
       "5"
      ]
     },
     "execution_count": 97,
     "metadata": {},
     "output_type": "execute_result"
    }
   ],
   "source": [
    "cacca.write('cacca')"
   ]
  },
  {
   "cell_type": "code",
   "execution_count": 98,
   "metadata": {},
   "outputs": [],
   "source": [
    "cacca.close()"
   ]
  },
  {
   "cell_type": "markdown",
   "metadata": {},
   "source": [
    "You can copy just strings!"
   ]
  },
  {
   "cell_type": "code",
   "execution_count": 99,
   "metadata": {},
   "outputs": [
    {
     "ename": "TypeError",
     "evalue": "write() argument must be str, not int",
     "output_type": "error",
     "traceback": [
      "\u001b[0;31m---------------------------------------------------------------------------\u001b[0m",
      "\u001b[0;31mTypeError\u001b[0m                                 Traceback (most recent call last)",
      "\u001b[0;32m<ipython-input-99-3a77aceca82f>\u001b[0m in \u001b[0;36m<module>\u001b[0;34m\u001b[0m\n\u001b[1;32m      1\u001b[0m \u001b[0mcacca\u001b[0m\u001b[0;34m=\u001b[0m\u001b[0mopen\u001b[0m\u001b[0;34m(\u001b[0m\u001b[0;34m'something.txt'\u001b[0m\u001b[0;34m,\u001b[0m \u001b[0;34m'w'\u001b[0m\u001b[0;34m)\u001b[0m\u001b[0;34m\u001b[0m\u001b[0;34m\u001b[0m\u001b[0m\n\u001b[0;32m----> 2\u001b[0;31m \u001b[0mcacca\u001b[0m\u001b[0;34m.\u001b[0m\u001b[0mwrite\u001b[0m\u001b[0;34m(\u001b[0m\u001b[0;36m2\u001b[0m\u001b[0;34m)\u001b[0m\u001b[0;34m\u001b[0m\u001b[0;34m\u001b[0m\u001b[0m\n\u001b[0m\u001b[1;32m      3\u001b[0m \u001b[0mcacca\u001b[0m\u001b[0;34m.\u001b[0m\u001b[0mclose\u001b[0m\u001b[0;34m(\u001b[0m\u001b[0;34m)\u001b[0m\u001b[0;34m\u001b[0m\u001b[0;34m\u001b[0m\u001b[0m\n",
      "\u001b[0;31mTypeError\u001b[0m: write() argument must be str, not int"
     ]
    }
   ],
   "source": [
    "cacca=open('something.txt', 'w')\n",
    "cacca.write(2)\n",
    "cacca.close()"
   ]
  },
  {
   "cell_type": "markdown",
   "metadata": {},
   "source": [
    "What happen to close?"
   ]
  },
  {
   "cell_type": "code",
   "execution_count": 100,
   "metadata": {},
   "outputs": [
    {
     "data": {
      "text/plain": [
       "5"
      ]
     },
     "execution_count": 100,
     "metadata": {},
     "output_type": "execute_result"
    }
   ],
   "source": [
    "cacca.write('cacca')"
   ]
  },
  {
   "cell_type": "markdown",
   "metadata": {},
   "source": [
    "How can we check that we wrote something? Let's read ('r')"
   ]
  },
  {
   "cell_type": "code",
   "execution_count": 101,
   "metadata": {},
   "outputs": [],
   "source": [
    "cacca_0=open('something.txt', 'r')"
   ]
  },
  {
   "cell_type": "code",
   "execution_count": 102,
   "metadata": {},
   "outputs": [
    {
     "data": {
      "text/plain": [
       "''"
      ]
     },
     "execution_count": 102,
     "metadata": {},
     "output_type": "execute_result"
    }
   ],
   "source": [
    "cacca_0.read()"
   ]
  },
  {
   "cell_type": "code",
   "execution_count": 103,
   "metadata": {},
   "outputs": [],
   "source": [
    "cacca_0.close()"
   ]
  },
  {
   "cell_type": "code",
   "execution_count": 104,
   "metadata": {},
   "outputs": [
    {
     "ename": "ValueError",
     "evalue": "I/O operation on closed file.",
     "output_type": "error",
     "traceback": [
      "\u001b[0;31m---------------------------------------------------------------------------\u001b[0m",
      "\u001b[0;31mValueError\u001b[0m                                Traceback (most recent call last)",
      "\u001b[0;32m<ipython-input-104-67c63743100f>\u001b[0m in \u001b[0;36m<module>\u001b[0;34m\u001b[0m\n\u001b[0;32m----> 1\u001b[0;31m \u001b[0mcacca_0\u001b[0m\u001b[0;34m.\u001b[0m\u001b[0mread\u001b[0m\u001b[0;34m(\u001b[0m\u001b[0;34m)\u001b[0m\u001b[0;34m\u001b[0m\u001b[0;34m\u001b[0m\u001b[0m\n\u001b[0m",
      "\u001b[0;31mValueError\u001b[0m: I/O operation on closed file."
     ]
    }
   ],
   "source": [
    "cacca_0.read()"
   ]
  },
  {
   "cell_type": "markdown",
   "metadata": {},
   "source": [
    "Anyway, I could have forgotten something! How can I do? Let's append ('a') the missing line"
   ]
  },
  {
   "cell_type": "code",
   "execution_count": 105,
   "metadata": {},
   "outputs": [],
   "source": [
    "cacca_1=open('something.txt', 'a')"
   ]
  },
  {
   "cell_type": "code",
   "execution_count": 106,
   "metadata": {},
   "outputs": [
    {
     "data": {
      "text/plain": [
       "5"
      ]
     },
     "execution_count": 106,
     "metadata": {},
     "output_type": "execute_result"
    }
   ],
   "source": [
    "cacca_1.write('cacca')"
   ]
  },
  {
   "cell_type": "code",
   "execution_count": 107,
   "metadata": {},
   "outputs": [],
   "source": [
    "cacca_1.close()"
   ]
  },
  {
   "cell_type": "markdown",
   "metadata": {},
   "source": [
    "Let's check!"
   ]
  },
  {
   "cell_type": "code",
   "execution_count": 108,
   "metadata": {},
   "outputs": [
    {
     "name": "stdout",
     "output_type": "stream",
     "text": [
      "cacca\n"
     ]
    }
   ],
   "source": [
    "cacca_0=open('something.txt', 'r')\n",
    "print(cacca_0.read())\n",
    "cacca_0.close()"
   ]
  },
  {
   "cell_type": "markdown",
   "metadata": {},
   "source": [
    "There is not something really interesting in gluing string... "
   ]
  },
  {
   "cell_type": "code",
   "execution_count": 109,
   "metadata": {},
   "outputs": [],
   "source": [
    "cacca_1=open('something.txt', 'a')\n",
    "cacca_1.write('\\tcacca\\n')\n",
    "cacca_1.write('cacca\\n')\n",
    "cacca_1.close()"
   ]
  },
  {
   "cell_type": "code",
   "execution_count": 110,
   "metadata": {},
   "outputs": [],
   "source": [
    "cacca_0=open('something.txt', 'r')"
   ]
  },
  {
   "cell_type": "code",
   "execution_count": 111,
   "metadata": {},
   "outputs": [
    {
     "name": "stdout",
     "output_type": "stream",
     "text": [
      "cacca\tcacca\n",
      "cacca\n",
      "\n"
     ]
    }
   ],
   "source": [
    "print(cacca_0.read())"
   ]
  },
  {
   "cell_type": "code",
   "execution_count": 112,
   "metadata": {},
   "outputs": [],
   "source": [
    "cacca_0.close()"
   ]
  },
  {
   "cell_type": "markdown",
   "metadata": {},
   "source": [
    "#### \"With\": forget to close"
   ]
  },
  {
   "cell_type": "markdown",
   "metadata": {},
   "source": [
    "Avoid to remember to close"
   ]
  },
  {
   "cell_type": "code",
   "execution_count": 113,
   "metadata": {},
   "outputs": [
    {
     "name": "stdout",
     "output_type": "stream",
     "text": [
      "cacca\tcacca\n",
      "cacca\n",
      "\n"
     ]
    }
   ],
   "source": [
    "with open('something.txt', 'r') as smt:  # Use file to refer to the file object\n",
    "    print(smt.read())"
   ]
  },
  {
   "cell_type": "code",
   "execution_count": 114,
   "metadata": {},
   "outputs": [
    {
     "data": {
      "text/plain": [
       "<_io.TextIOWrapper name='something.txt' mode='r' encoding='UTF-8'>"
      ]
     },
     "execution_count": 114,
     "metadata": {},
     "output_type": "execute_result"
    }
   ],
   "source": [
    "smt"
   ]
  },
  {
   "cell_type": "markdown",
   "metadata": {},
   "source": [
    "#### Exercise: save to file the adjacency matrix, line by line, element by element"
   ]
  },
  {
   "cell_type": "code",
   "execution_count": 122,
   "metadata": {},
   "outputs": [],
   "source": [
    "l_am=len(adj_mat)\n",
    "with open('something.txt', 'w') as am:\n",
    "    for i_a, a in enumerate(adj_mat):\n",
    "        for j_aa, aa in enumerate(a): \n",
    "            if j_aa<l_am-1:\n",
    "                am.write(str(aa)+',')\n",
    "            else:\n",
    "                am.write(str(aa)+'\\n')"
   ]
  },
  {
   "cell_type": "code",
   "execution_count": 123,
   "metadata": {},
   "outputs": [],
   "source": [
    "with open('something.txt', 'r') as smt:  \n",
    "    cacca=smt.read()"
   ]
  },
  {
   "cell_type": "code",
   "execution_count": 124,
   "metadata": {},
   "outputs": [
    {
     "name": "stdout",
     "output_type": "stream",
     "text": [
      "0,0,0,0,0,0,0,0,1,0,0,0,0,0,0\n",
      "0,0,0,0,0,1,1,0,1,0,0,0,0,0,0\n",
      "0,0,0,0,1,0,0,0,1,0,0,0,0,0,0\n",
      "0,0,0,0,0,0,1,0,0,0,1,0,0,1,0\n",
      "0,0,1,0,0,0,0,0,0,0,1,0,0,1,0\n",
      "0,1,0,0,0,0,0,0,0,0,0,0,0,0,0\n",
      "0,1,0,1,0,0,0,1,0,0,0,0,0,0,1\n",
      "0,0,0,0,0,0,1,0,0,0,0,0,0,0,0\n",
      "1,1,1,0,0,0,0,0,0,0,0,1,1,0,1\n",
      "0,0,0,0,0,0,0,0,0,0,0,0,1,0,0\n",
      "0,0,0,1,1,0,0,0,0,0,0,0,0,1,0\n",
      "0,0,0,0,0,0,0,0,1,0,0,0,0,1,1\n",
      "0,0,0,0,0,0,0,0,1,1,0,0,0,0,0\n",
      "0,0,0,1,1,0,0,0,0,0,1,1,0,0,0\n",
      "0,0,0,0,0,0,1,0,1,0,0,1,0,0,0\n",
      "\n"
     ]
    }
   ],
   "source": [
    "print(cacca)"
   ]
  },
  {
   "cell_type": "markdown",
   "metadata": {},
   "source": [
    "#### readline"
   ]
  },
  {
   "cell_type": "code",
   "execution_count": 125,
   "metadata": {},
   "outputs": [],
   "source": [
    "with open('something.txt', 'r') as smt:  # Use file to refer to the file object\n",
    "    adj_read=[]\n",
    "    sr=smt.readline()\n",
    "    while len(sr)>0:\n",
    "        adj_read.append([int(i) for i in sr.split(',')])\n",
    "        sr=smt.readline()"
   ]
  },
  {
   "cell_type": "code",
   "execution_count": 127,
   "metadata": {},
   "outputs": [
    {
     "data": {
      "text/plain": [
       "[[0, 0, 0, 0, 0, 0, 0, 0, 1, 0, 0, 0, 0, 0, 0],\n",
       " [0, 0, 0, 0, 0, 1, 1, 0, 1, 0, 0, 0, 0, 0, 0],\n",
       " [0, 0, 0, 0, 1, 0, 0, 0, 1, 0, 0, 0, 0, 0, 0],\n",
       " [0, 0, 0, 0, 0, 0, 1, 0, 0, 0, 1, 0, 0, 1, 0],\n",
       " [0, 0, 1, 0, 0, 0, 0, 0, 0, 0, 1, 0, 0, 1, 0],\n",
       " [0, 1, 0, 0, 0, 0, 0, 0, 0, 0, 0, 0, 0, 0, 0],\n",
       " [0, 1, 0, 1, 0, 0, 0, 1, 0, 0, 0, 0, 0, 0, 1],\n",
       " [0, 0, 0, 0, 0, 0, 1, 0, 0, 0, 0, 0, 0, 0, 0],\n",
       " [1, 1, 1, 0, 0, 0, 0, 0, 0, 0, 0, 1, 1, 0, 1],\n",
       " [0, 0, 0, 0, 0, 0, 0, 0, 0, 0, 0, 0, 1, 0, 0],\n",
       " [0, 0, 0, 1, 1, 0, 0, 0, 0, 0, 0, 0, 0, 1, 0],\n",
       " [0, 0, 0, 0, 0, 0, 0, 0, 1, 0, 0, 0, 0, 1, 1],\n",
       " [0, 0, 0, 0, 0, 0, 0, 0, 1, 1, 0, 0, 0, 0, 0],\n",
       " [0, 0, 0, 1, 1, 0, 0, 0, 0, 0, 1, 1, 0, 0, 0],\n",
       " [0, 0, 0, 0, 0, 0, 1, 0, 1, 0, 0, 1, 0, 0, 0]]"
      ]
     },
     "execution_count": 127,
     "metadata": {},
     "output_type": "execute_result"
    }
   ],
   "source": [
    "adj_read"
   ]
  },
  {
   "cell_type": "markdown",
   "metadata": {},
   "source": [
    "#### readlines"
   ]
  },
  {
   "cell_type": "code",
   "execution_count": 128,
   "metadata": {},
   "outputs": [],
   "source": [
    "with open('something.txt', 'r') as smt:  # Use file to refer to the file object\n",
    "    adj_read=[]\n",
    "    sr=smt.readlines()"
   ]
  },
  {
   "cell_type": "code",
   "execution_count": 129,
   "metadata": {},
   "outputs": [
    {
     "data": {
      "text/plain": [
       "['0,0,0,0,0,0,0,0,1,0,0,0,0,0,0\\n',\n",
       " '0,0,0,0,0,1,1,0,1,0,0,0,0,0,0\\n',\n",
       " '0,0,0,0,1,0,0,0,1,0,0,0,0,0,0\\n',\n",
       " '0,0,0,0,0,0,1,0,0,0,1,0,0,1,0\\n',\n",
       " '0,0,1,0,0,0,0,0,0,0,1,0,0,1,0\\n',\n",
       " '0,1,0,0,0,0,0,0,0,0,0,0,0,0,0\\n',\n",
       " '0,1,0,1,0,0,0,1,0,0,0,0,0,0,1\\n',\n",
       " '0,0,0,0,0,0,1,0,0,0,0,0,0,0,0\\n',\n",
       " '1,1,1,0,0,0,0,0,0,0,0,1,1,0,1\\n',\n",
       " '0,0,0,0,0,0,0,0,0,0,0,0,1,0,0\\n',\n",
       " '0,0,0,1,1,0,0,0,0,0,0,0,0,1,0\\n',\n",
       " '0,0,0,0,0,0,0,0,1,0,0,0,0,1,1\\n',\n",
       " '0,0,0,0,0,0,0,0,1,1,0,0,0,0,0\\n',\n",
       " '0,0,0,1,1,0,0,0,0,0,1,1,0,0,0\\n',\n",
       " '0,0,0,0,0,0,1,0,1,0,0,1,0,0,0\\n']"
      ]
     },
     "execution_count": 129,
     "metadata": {},
     "output_type": "execute_result"
    }
   ],
   "source": [
    "sr"
   ]
  },
  {
   "cell_type": "code",
   "execution_count": 130,
   "metadata": {},
   "outputs": [],
   "source": [
    "adj_read=[]\n",
    "for s in sr:\n",
    "    adj_read.append([int(ss) for ss in s.split(',')])"
   ]
  },
  {
   "cell_type": "code",
   "execution_count": 131,
   "metadata": {},
   "outputs": [
    {
     "data": {
      "text/plain": [
       "[[0, 0, 0, 0, 0, 0, 0, 0, 1, 0, 0, 0, 0, 0, 0],\n",
       " [0, 0, 0, 0, 0, 1, 1, 0, 1, 0, 0, 0, 0, 0, 0],\n",
       " [0, 0, 0, 0, 1, 0, 0, 0, 1, 0, 0, 0, 0, 0, 0],\n",
       " [0, 0, 0, 0, 0, 0, 1, 0, 0, 0, 1, 0, 0, 1, 0],\n",
       " [0, 0, 1, 0, 0, 0, 0, 0, 0, 0, 1, 0, 0, 1, 0],\n",
       " [0, 1, 0, 0, 0, 0, 0, 0, 0, 0, 0, 0, 0, 0, 0],\n",
       " [0, 1, 0, 1, 0, 0, 0, 1, 0, 0, 0, 0, 0, 0, 1],\n",
       " [0, 0, 0, 0, 0, 0, 1, 0, 0, 0, 0, 0, 0, 0, 0],\n",
       " [1, 1, 1, 0, 0, 0, 0, 0, 0, 0, 0, 1, 1, 0, 1],\n",
       " [0, 0, 0, 0, 0, 0, 0, 0, 0, 0, 0, 0, 1, 0, 0],\n",
       " [0, 0, 0, 1, 1, 0, 0, 0, 0, 0, 0, 0, 0, 1, 0],\n",
       " [0, 0, 0, 0, 0, 0, 0, 0, 1, 0, 0, 0, 0, 1, 1],\n",
       " [0, 0, 0, 0, 0, 0, 0, 0, 1, 1, 0, 0, 0, 0, 0],\n",
       " [0, 0, 0, 1, 1, 0, 0, 0, 0, 0, 1, 1, 0, 0, 0],\n",
       " [0, 0, 0, 0, 0, 0, 1, 0, 1, 0, 0, 1, 0, 0, 0]]"
      ]
     },
     "execution_count": 131,
     "metadata": {},
     "output_type": "execute_result"
    }
   ],
   "source": [
    "adj_read"
   ]
  },
  {
   "cell_type": "markdown",
   "metadata": {},
   "source": [
    "### Exercise: open the file \"./Data/florentine_families.dat\" and check that the adjacency matrix you got is the one in the data."
   ]
  },
  {
   "cell_type": "code",
   "execution_count": 132,
   "metadata": {
    "ExecuteTime": {
     "start_time": "2019-11-27T13:50:30.839Z"
    }
   },
   "outputs": [],
   "source": [
    "with open ('../Data/florentine_families.dat', 'r') as f:\n",
    "    cacca=f.readlines()"
   ]
  },
  {
   "cell_type": "code",
   "execution_count": 133,
   "metadata": {
    "ExecuteTime": {
     "start_time": "2019-11-27T13:50:32.460Z"
    }
   },
   "outputs": [],
   "source": [
    "c=0\n",
    "rows=[]\n",
    "columns=[]\n",
    "adj_mat=[]\n",
    "while c<len(cacca):\n",
    "    if cacca[c]=='ROW LABELS:\\n':\n",
    "        c+=1\n",
    "        while cacca[c]!='COLUMN LABELS:\\n':\n",
    "            rows.append(cacca[c].split('\\n')[0])\n",
    "            c+=1\n",
    "        c+=1\n",
    "        while cacca[c]!='LEVEL LABELS:\\n':\n",
    "            columns.append(cacca[c].split('\\n')[0])\n",
    "            c+=1\n",
    "        c+=4\n",
    "        aux_c=0\n",
    "        while aux_c<len(rows):\n",
    "            adj_mat.append(cacca[c].split('\\n')[0])\n",
    "            aux_c+=1\n",
    "            c+=1\n",
    "        \n",
    "            \n",
    "    else:\n",
    "        c+=1\n",
    "        "
   ]
  },
  {
   "cell_type": "code",
   "execution_count": 134,
   "metadata": {
    "ExecuteTime": {
     "start_time": "2019-11-27T13:50:32.865Z"
    }
   },
   "outputs": [
    {
     "data": {
      "text/plain": [
       "True"
      ]
     },
     "execution_count": 134,
     "metadata": {},
     "output_type": "execute_result"
    }
   ],
   "source": [
    "columns==rows"
   ]
  },
  {
   "cell_type": "code",
   "execution_count": 135,
   "metadata": {
    "ExecuteTime": {
     "start_time": "2019-11-27T13:50:33.299Z"
    }
   },
   "outputs": [],
   "source": [
    "adj_mat=[am.strip().split(' ') for am in adj_mat]"
   ]
  },
  {
   "cell_type": "code",
   "execution_count": 136,
   "metadata": {
    "ExecuteTime": {
     "start_time": "2019-11-27T13:50:33.754Z"
    }
   },
   "outputs": [
    {
     "data": {
      "text/plain": [
       "[16, 16, 16, 16, 16, 16, 16, 16, 16, 16, 16, 16, 16, 16, 16, 16]"
      ]
     },
     "execution_count": 136,
     "metadata": {},
     "output_type": "execute_result"
    }
   ],
   "source": [
    "[len(am) for am in adj_mat]"
   ]
  },
  {
   "cell_type": "code",
   "execution_count": 137,
   "metadata": {
    "ExecuteTime": {
     "start_time": "2019-11-27T13:50:39.983Z"
    }
   },
   "outputs": [],
   "source": [
    "adj=[[int(aamm) for aamm in am] for am in adj_mat]"
   ]
  },
  {
   "cell_type": "code",
   "execution_count": 138,
   "metadata": {
    "ExecuteTime": {
     "start_time": "2019-11-27T13:50:40.408Z"
    }
   },
   "outputs": [
    {
     "data": {
      "text/plain": [
       "[[0, 0, 0, 0, 0, 0, 0, 0, 1, 0, 0, 0, 0, 0, 0, 0],\n",
       " [0, 0, 0, 0, 0, 1, 1, 0, 1, 0, 0, 0, 0, 0, 0, 0],\n",
       " [0, 0, 0, 0, 1, 0, 0, 0, 1, 0, 0, 0, 0, 0, 0, 0],\n",
       " [0, 0, 0, 0, 0, 0, 1, 0, 0, 0, 1, 0, 0, 0, 1, 0],\n",
       " [0, 0, 1, 0, 0, 0, 0, 0, 0, 0, 1, 0, 0, 0, 1, 0],\n",
       " [0, 1, 0, 0, 0, 0, 0, 0, 0, 0, 0, 0, 0, 0, 0, 0],\n",
       " [0, 1, 0, 1, 0, 0, 0, 1, 0, 0, 0, 0, 0, 0, 0, 1],\n",
       " [0, 0, 0, 0, 0, 0, 1, 0, 0, 0, 0, 0, 0, 0, 0, 0],\n",
       " [1, 1, 1, 0, 0, 0, 0, 0, 0, 0, 0, 0, 1, 1, 0, 1],\n",
       " [0, 0, 0, 0, 0, 0, 0, 0, 0, 0, 0, 0, 0, 1, 0, 0],\n",
       " [0, 0, 0, 1, 1, 0, 0, 0, 0, 0, 0, 0, 0, 0, 1, 0],\n",
       " [0, 0, 0, 0, 0, 0, 0, 0, 0, 0, 0, 0, 0, 0, 0, 0],\n",
       " [0, 0, 0, 0, 0, 0, 0, 0, 1, 0, 0, 0, 0, 0, 1, 1],\n",
       " [0, 0, 0, 0, 0, 0, 0, 0, 1, 1, 0, 0, 0, 0, 0, 0],\n",
       " [0, 0, 0, 1, 1, 0, 0, 0, 0, 0, 1, 0, 1, 0, 0, 0],\n",
       " [0, 0, 0, 0, 0, 0, 1, 0, 1, 0, 0, 0, 1, 0, 0, 0]]"
      ]
     },
     "execution_count": 138,
     "metadata": {},
     "output_type": "execute_result"
    }
   ],
   "source": [
    "adj"
   ]
  },
  {
   "cell_type": "code",
   "execution_count": 139,
   "metadata": {
    "ExecuteTime": {
     "end_time": "2019-11-27T13:50:42.021152Z",
     "start_time": "2019-11-27T13:50:42.018278Z"
    }
   },
   "outputs": [],
   "source": [
    "edge_list=[]\n",
    "for i_a, a in enumerate(adj):\n",
    "    for i_aa, aa in enumerate(a):\n",
    "        if aa==1 and i_aa>i_a:\n",
    "            edge_list.append((rows[i_a], rows[i_aa]))"
   ]
  },
  {
   "cell_type": "code",
   "execution_count": 140,
   "metadata": {},
   "outputs": [
    {
     "data": {
      "text/plain": [
       "[('ACCIAIUOL', 'MEDICI'),\n",
       " ('ALBIZZI', 'GINORI'),\n",
       " ('ALBIZZI', 'GUADAGNI'),\n",
       " ('ALBIZZI', 'MEDICI'),\n",
       " ('BARBADORI', 'CASTELLAN'),\n",
       " ('BARBADORI', 'MEDICI'),\n",
       " ('BISCHERI', 'GUADAGNI'),\n",
       " ('BISCHERI', 'PERUZZI'),\n",
       " ('BISCHERI', 'STROZZI'),\n",
       " ('CASTELLAN', 'PERUZZI'),\n",
       " ('CASTELLAN', 'STROZZI'),\n",
       " ('GUADAGNI', 'LAMBERTES'),\n",
       " ('GUADAGNI', 'TORNABUON'),\n",
       " ('MEDICI', 'RIDOLFI'),\n",
       " ('MEDICI', 'SALVIATI'),\n",
       " ('MEDICI', 'TORNABUON'),\n",
       " ('PAZZI', 'SALVIATI'),\n",
       " ('PERUZZI', 'STROZZI'),\n",
       " ('RIDOLFI', 'STROZZI'),\n",
       " ('RIDOLFI', 'TORNABUON')]"
      ]
     },
     "execution_count": 140,
     "metadata": {},
     "output_type": "execute_result"
    }
   ],
   "source": [
    "edge_list"
   ]
  },
  {
   "cell_type": "markdown",
   "metadata": {},
   "source": [
    "## Errors happen"
   ]
  },
  {
   "cell_type": "markdown",
   "metadata": {},
   "source": [
    "Errors and mistakes happen. The problem is in finding the correct way to handle them.\n",
    ">Your computer will do only what you tell it to do; it won’t read your mind and do what you intended it to do. Even professional programmers create bugs all the time, so don’t feel discouraged if your program has a problem.\n",
    "\n",
    "--Al Sweigart\n",
    "![Soap](../Images/l1_a_bug_s_life.jpg)"
   ]
  },
  {
   "cell_type": "markdown",
   "metadata": {},
   "source": [
    "### What usually happens?"
   ]
  },
  {
   "cell_type": "code",
   "execution_count": 141,
   "metadata": {
    "ExecuteTime": {
     "end_time": "2019-11-27T14:05:30.351008Z",
     "start_time": "2019-11-27T14:05:30.262902Z"
    }
   },
   "outputs": [
    {
     "ename": "ZeroDivisionError",
     "evalue": "division by zero",
     "output_type": "error",
     "traceback": [
      "\u001b[0;31m---------------------------------------------------------------------------\u001b[0m",
      "\u001b[0;31mZeroDivisionError\u001b[0m                         Traceback (most recent call last)",
      "\u001b[0;32m<ipython-input-141-9e1622b385b6>\u001b[0m in \u001b[0;36m<module>\u001b[0;34m\u001b[0m\n\u001b[0;32m----> 1\u001b[0;31m \u001b[0;36m1\u001b[0m\u001b[0;34m/\u001b[0m\u001b[0;36m0\u001b[0m\u001b[0;34m\u001b[0m\u001b[0;34m\u001b[0m\u001b[0m\n\u001b[0m",
      "\u001b[0;31mZeroDivisionError\u001b[0m: division by zero"
     ]
    }
   ],
   "source": [
    "1/0"
   ]
  },
  {
   "cell_type": "code",
   "execution_count": 142,
   "metadata": {
    "ExecuteTime": {
     "end_time": "2019-11-27T14:05:30.787360Z",
     "start_time": "2019-11-27T14:05:30.781379Z"
    }
   },
   "outputs": [
    {
     "ename": "TypeError",
     "evalue": "unsupported operand type(s) for /: 'str' and 'int'",
     "output_type": "error",
     "traceback": [
      "\u001b[0;31m---------------------------------------------------------------------------\u001b[0m",
      "\u001b[0;31mTypeError\u001b[0m                                 Traceback (most recent call last)",
      "\u001b[0;32m<ipython-input-142-6169d073cd12>\u001b[0m in \u001b[0;36m<module>\u001b[0;34m\u001b[0m\n\u001b[0;32m----> 1\u001b[0;31m \u001b[0;34m'1'\u001b[0m\u001b[0;34m/\u001b[0m\u001b[0;36m12\u001b[0m\u001b[0;34m\u001b[0m\u001b[0;34m\u001b[0m\u001b[0m\n\u001b[0m",
      "\u001b[0;31mTypeError\u001b[0m: unsupported operand type(s) for /: 'str' and 'int'"
     ]
    }
   ],
   "source": [
    "'1'/12"
   ]
  },
  {
   "cell_type": "markdown",
   "metadata": {},
   "source": [
    "There are many of these, but for nothing really changes in considering something different."
   ]
  },
  {
   "cell_type": "markdown",
   "metadata": {},
   "source": [
    "### Raise "
   ]
  },
  {
   "cell_type": "markdown",
   "metadata": {},
   "source": [
    "What happens under the hood is that somewhere there is a raise statement that make the program crash. It works like this"
   ]
  },
  {
   "cell_type": "code",
   "execution_count": 143,
   "metadata": {
    "ExecuteTime": {
     "end_time": "2019-11-27T14:05:47.480131Z",
     "start_time": "2019-11-27T14:05:47.478077Z"
    }
   },
   "outputs": [],
   "source": [
    "i='0'"
   ]
  },
  {
   "cell_type": "code",
   "execution_count": 144,
   "metadata": {
    "ExecuteTime": {
     "end_time": "2019-11-27T14:05:52.896838Z",
     "start_time": "2019-11-27T14:05:52.894251Z"
    }
   },
   "outputs": [
    {
     "name": "stdout",
     "output_type": "stream",
     "text": [
      "<class 'str'>\n"
     ]
    }
   ],
   "source": [
    "print(type(i))"
   ]
  },
  {
   "cell_type": "code",
   "execution_count": 145,
   "metadata": {
    "ExecuteTime": {
     "end_time": "2019-11-27T14:06:06.465881Z",
     "start_time": "2019-11-27T14:06:06.460671Z"
    }
   },
   "outputs": [
    {
     "ename": "Exception",
     "evalue": "wrong data type",
     "output_type": "error",
     "traceback": [
      "\u001b[0;31m---------------------------------------------------------------------------\u001b[0m",
      "\u001b[0;31mException\u001b[0m                                 Traceback (most recent call last)",
      "\u001b[0;32m<ipython-input-145-9d3972b0f810>\u001b[0m in \u001b[0;36m<module>\u001b[0;34m\u001b[0m\n\u001b[1;32m      1\u001b[0m \u001b[0;32mif\u001b[0m \u001b[0mstr\u001b[0m\u001b[0;34m(\u001b[0m\u001b[0mtype\u001b[0m\u001b[0;34m(\u001b[0m\u001b[0mi\u001b[0m\u001b[0;34m)\u001b[0m\u001b[0;34m)\u001b[0m\u001b[0;34m==\u001b[0m\u001b[0;34m\"<class 'str'>\"\u001b[0m\u001b[0;34m:\u001b[0m\u001b[0;34m\u001b[0m\u001b[0;34m\u001b[0m\u001b[0m\n\u001b[0;32m----> 2\u001b[0;31m     \u001b[0;32mraise\u001b[0m \u001b[0mException\u001b[0m\u001b[0;34m(\u001b[0m\u001b[0;34m'wrong data type'\u001b[0m\u001b[0;34m)\u001b[0m\u001b[0;34m\u001b[0m\u001b[0;34m\u001b[0m\u001b[0m\n\u001b[0m",
      "\u001b[0;31mException\u001b[0m: wrong data type"
     ]
    }
   ],
   "source": [
    "if str(type(i))==\"<class 'str'>\": \n",
    "    raise Exception('wrong data type')"
   ]
  },
  {
   "cell_type": "markdown",
   "metadata": {},
   "source": [
    "... and the program crashes."
   ]
  },
  {
   "cell_type": "markdown",
   "metadata": {},
   "source": [
    "### Try/Except"
   ]
  },
  {
   "cell_type": "markdown",
   "metadata": {},
   "source": [
    "The difference is that it continues the evaluation."
   ]
  },
  {
   "cell_type": "code",
   "execution_count": 146,
   "metadata": {
    "ExecuteTime": {
     "end_time": "2019-11-27T14:07:08.414521Z",
     "start_time": "2019-11-27T14:07:08.411595Z"
    }
   },
   "outputs": [
    {
     "name": "stdout",
     "output_type": "stream",
     "text": [
      "error!\n"
     ]
    }
   ],
   "source": [
    "try:\n",
    "    cacca=i/12\n",
    "except:\n",
    "    print('error!')"
   ]
  },
  {
   "cell_type": "markdown",
   "metadata": {},
   "source": [
    "It can be set for different type of errors."
   ]
  },
  {
   "cell_type": "code",
   "execution_count": 147,
   "metadata": {
    "ExecuteTime": {
     "end_time": "2019-11-27T14:07:11.365221Z",
     "start_time": "2019-11-27T14:07:11.363216Z"
    }
   },
   "outputs": [],
   "source": [
    "i='0'"
   ]
  },
  {
   "cell_type": "code",
   "execution_count": 148,
   "metadata": {
    "ExecuteTime": {
     "end_time": "2019-11-27T14:07:12.020436Z",
     "start_time": "2019-11-27T14:07:12.018532Z"
    }
   },
   "outputs": [],
   "source": [
    "i=12"
   ]
  },
  {
   "cell_type": "code",
   "execution_count": 149,
   "metadata": {
    "ExecuteTime": {
     "end_time": "2019-11-27T14:07:39.887835Z",
     "start_time": "2019-11-27T14:07:39.884940Z"
    }
   },
   "outputs": [
    {
     "name": "stdout",
     "output_type": "stream",
     "text": [
      "zero division!\n"
     ]
    }
   ],
   "source": [
    "try:\n",
    "    cacca=i/0\n",
    "except TypeError:\n",
    "    print( 'error!')\n",
    "except ZeroDivisionError:\n",
    "    print( 'zero division!')"
   ]
  },
  {
   "cell_type": "code",
   "execution_count": 150,
   "metadata": {
    "ExecuteTime": {
     "end_time": "2019-11-27T14:08:00.797418Z",
     "start_time": "2019-11-27T14:08:00.794546Z"
    }
   },
   "outputs": [
    {
     "name": "stdout",
     "output_type": "stream",
     "text": [
      "zero division!\n"
     ]
    }
   ],
   "source": [
    "try:\n",
    "    cacca=i/0\n",
    "except TypeError:\n",
    "    print( 'error!')\n",
    "except:\n",
    "    # all errors but the previously cited one\n",
    "    print('zero division!')"
   ]
  },
  {
   "cell_type": "markdown",
   "metadata": {},
   "source": [
    "### Traceback"
   ]
  },
  {
   "cell_type": "markdown",
   "metadata": {},
   "source": [
    "There is an interesting module that traces all the tracebacks back and it's call traceback."
   ]
  },
  {
   "cell_type": "code",
   "execution_count": 151,
   "metadata": {
    "ExecuteTime": {
     "end_time": "2019-11-27T14:08:10.637266Z",
     "start_time": "2019-11-27T14:08:10.635094Z"
    }
   },
   "outputs": [],
   "source": [
    "import traceback"
   ]
  },
  {
   "cell_type": "code",
   "execution_count": 152,
   "metadata": {
    "ExecuteTime": {
     "end_time": "2019-11-27T14:08:10.909751Z",
     "start_time": "2019-11-27T14:08:10.907359Z"
    }
   },
   "outputs": [],
   "source": [
    "i=42"
   ]
  },
  {
   "cell_type": "code",
   "execution_count": 153,
   "metadata": {
    "ExecuteTime": {
     "end_time": "2019-11-27T14:08:18.606999Z",
     "start_time": "2019-11-27T14:08:18.603845Z"
    }
   },
   "outputs": [
    {
     "name": "stdout",
     "output_type": "stream",
     "text": [
      "Traceback (most recent call last):\n",
      "  File \"<ipython-input-153-2f89ff413d1e>\", line 2, in <module>\n",
      "    cacca=i/0\n",
      "ZeroDivisionError: division by zero\n",
      "\n"
     ]
    }
   ],
   "source": [
    "try:\n",
    "    cacca=i/0\n",
    "except TypeError:\n",
    "    print('error!')\n",
    "except:\n",
    "    # all errors but the previously cited one\n",
    "    print(traceback.format_exc())"
   ]
  },
  {
   "cell_type": "markdown",
   "metadata": {},
   "source": [
    "The different respect to the previous case is that the program did not crash but you still have the traceback."
   ]
  },
  {
   "cell_type": "markdown",
   "metadata": {},
   "source": [
    "### Assert"
   ]
  },
  {
   "cell_type": "markdown",
   "metadata": {},
   "source": [
    "Assert is similar to raise. They both crash the script, but assert is philosophically different in the sense that it is intended for debugging and spotting easily where is the problem. According to Al:\n",
    "> Assertions are for programmer errors, not user errors. For errors that can be recovered from (such as a file not being found or the user entering invalid data), raise an exception instead of detecting it with an assert statement."
   ]
  },
  {
   "cell_type": "code",
   "execution_count": 154,
   "metadata": {
    "ExecuteTime": {
     "end_time": "2019-11-27T14:09:21.092849Z",
     "start_time": "2019-11-27T14:09:21.090803Z"
    }
   },
   "outputs": [],
   "source": [
    "i='i'"
   ]
  },
  {
   "cell_type": "code",
   "execution_count": 155,
   "metadata": {
    "ExecuteTime": {
     "end_time": "2019-11-27T14:09:27.311533Z",
     "start_time": "2019-11-27T14:09:27.306366Z"
    }
   },
   "outputs": [
    {
     "ename": "AssertionError",
     "evalue": "i is a string!",
     "output_type": "error",
     "traceback": [
      "\u001b[0;31m---------------------------------------------------------------------------\u001b[0m",
      "\u001b[0;31mAssertionError\u001b[0m                            Traceback (most recent call last)",
      "\u001b[0;32m<ipython-input-155-cc25d72a2d06>\u001b[0m in \u001b[0;36m<module>\u001b[0;34m\u001b[0m\n\u001b[0;32m----> 1\u001b[0;31m \u001b[0;32massert\u001b[0m \u001b[0mstr\u001b[0m\u001b[0;34m(\u001b[0m\u001b[0mtype\u001b[0m\u001b[0;34m(\u001b[0m\u001b[0mi\u001b[0m\u001b[0;34m)\u001b[0m\u001b[0;34m)\u001b[0m\u001b[0;34m!=\u001b[0m\u001b[0;34m\"<class 'str'>\"\u001b[0m\u001b[0;34m,\u001b[0m \u001b[0;34m'i is a string!'\u001b[0m\u001b[0;34m\u001b[0m\u001b[0;34m\u001b[0m\u001b[0m\n\u001b[0m",
      "\u001b[0;31mAssertionError\u001b[0m: i is a string!"
     ]
    }
   ],
   "source": [
    "assert str(type(i))!=\"<class 'str'>\", 'i is a string!'"
   ]
  }
 ],
 "metadata": {
  "kernelspec": {
   "display_name": "Python 3",
   "language": "python",
   "name": "python3"
  },
  "language_info": {
   "codemirror_mode": {
    "name": "ipython",
    "version": 3
   },
   "file_extension": ".py",
   "mimetype": "text/x-python",
   "name": "python",
   "nbconvert_exporter": "python",
   "pygments_lexer": "ipython3",
   "version": "3.5.2"
  },
  "latex_envs": {
   "LaTeX_envs_menu_present": true,
   "autoclose": false,
   "autocomplete": true,
   "bibliofile": "biblio.bib",
   "cite_by": "apalike",
   "current_citInitial": 1,
   "eqLabelWithNumbers": true,
   "eqNumInitial": 1,
   "hotkeys": {
    "equation": "Ctrl-E",
    "itemize": "Ctrl-I"
   },
   "labels_anchors": false,
   "latex_user_defs": false,
   "report_style_numbering": false,
   "user_envs_cfg": false
  },
  "toc": {
   "base_numbering": 1,
   "nav_menu": {
    "height": "118.833px",
    "width": "252px"
   },
   "number_sections": false,
   "sideBar": true,
   "skip_h1_title": true,
   "title_cell": "Table of Contents",
   "title_sidebar": "Contents",
   "toc_cell": false,
   "toc_position": {
    "height": "847.867px",
    "left": "0px",
    "right": "1545px",
    "top": "111.133px",
    "width": "314px"
   },
   "toc_section_display": "block",
   "toc_window_display": true
  },
  "varInspector": {
   "cols": {
    "lenName": 16,
    "lenType": 16,
    "lenVar": 40
   },
   "kernels_config": {
    "python": {
     "delete_cmd_postfix": "",
     "delete_cmd_prefix": "del ",
     "library": "var_list.py",
     "varRefreshCmd": "print(var_dic_list())"
    },
    "r": {
     "delete_cmd_postfix": ") ",
     "delete_cmd_prefix": "rm(",
     "library": "var_list.r",
     "varRefreshCmd": "cat(var_dic_list()) "
    }
   },
   "types_to_exclude": [
    "module",
    "function",
    "builtin_function_or_method",
    "instance",
    "_Feature"
   ],
   "window_display": false
  }
 },
 "nbformat": 4,
 "nbformat_minor": 2
}
