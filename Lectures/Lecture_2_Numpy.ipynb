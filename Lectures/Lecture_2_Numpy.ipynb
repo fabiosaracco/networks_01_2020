{
 "cells": [
  {
   "cell_type": "markdown",
   "metadata": {},
   "source": [
    "# Lecture 2: Numpy"
   ]
  },
  {
   "cell_type": "markdown",
   "metadata": {},
   "source": [
    "![](../Images/l2_numpy.png) [numpy](http://www.numpy.org/) is cool for a lot of reasons, but mostly because it is the python module for playing with big (or almost big) array and embedding non trivial mathematical functions."
   ]
  },
  {
   "cell_type": "code",
   "execution_count": 2,
   "metadata": {
    "ExecuteTime": {
     "end_time": "2019-12-04T15:46:36.538289Z",
     "start_time": "2019-12-04T15:46:36.299410Z"
    }
   },
   "outputs": [],
   "source": [
    "import numpy as np"
   ]
  },
  {
   "cell_type": "markdown",
   "metadata": {},
   "source": [
    "## numpy arrays"
   ]
  },
  {
   "cell_type": "code",
   "execution_count": 4,
   "metadata": {
    "ExecuteTime": {
     "end_time": "2019-11-27T14:21:31.848364Z",
     "start_time": "2019-11-27T14:21:31.845483Z"
    }
   },
   "outputs": [],
   "source": [
    "cacca=np.array([[1, 2, 3], [4,5,6]])"
   ]
  },
  {
   "cell_type": "code",
   "execution_count": 5,
   "metadata": {
    "ExecuteTime": {
     "end_time": "2019-11-27T14:21:32.090396Z",
     "start_time": "2019-11-27T14:21:32.082601Z"
    }
   },
   "outputs": [
    {
     "data": {
      "text/plain": [
       "array([[1, 2, 3],\n",
       "       [4, 5, 6]])"
      ]
     },
     "execution_count": 5,
     "metadata": {},
     "output_type": "execute_result"
    }
   ],
   "source": [
    "cacca"
   ]
  },
  {
   "cell_type": "markdown",
   "metadata": {},
   "source": [
    "#### .size"
   ]
  },
  {
   "cell_type": "code",
   "execution_count": 4,
   "metadata": {},
   "outputs": [
    {
     "data": {
      "text/plain": [
       "6"
      ]
     },
     "execution_count": 4,
     "metadata": {},
     "output_type": "execute_result"
    }
   ],
   "source": [
    "cacca.size"
   ]
  },
  {
   "cell_type": "markdown",
   "metadata": {},
   "source": [
    "#### .shape"
   ]
  },
  {
   "cell_type": "code",
   "execution_count": 29,
   "metadata": {
    "ExecuteTime": {
     "end_time": "2019-11-27T14:27:19.559942Z",
     "start_time": "2019-11-27T14:27:19.557197Z"
    }
   },
   "outputs": [
    {
     "data": {
      "text/plain": [
       "(2, 3)"
      ]
     },
     "execution_count": 29,
     "metadata": {},
     "output_type": "execute_result"
    }
   ],
   "source": [
    "cacca.shape"
   ]
  },
  {
   "cell_type": "markdown",
   "metadata": {},
   "source": [
    "#### Accessing elements"
   ]
  },
  {
   "cell_type": "code",
   "execution_count": 30,
   "metadata": {
    "ExecuteTime": {
     "end_time": "2019-11-27T14:27:20.784171Z",
     "start_time": "2019-11-27T14:27:20.781146Z"
    }
   },
   "outputs": [
    {
     "data": {
      "text/plain": [
       "array([1, 2, 3])"
      ]
     },
     "execution_count": 30,
     "metadata": {},
     "output_type": "execute_result"
    }
   ],
   "source": [
    "cacca[0]"
   ]
  },
  {
   "cell_type": "code",
   "execution_count": 31,
   "metadata": {
    "ExecuteTime": {
     "end_time": "2019-11-27T14:27:21.193461Z",
     "start_time": "2019-11-27T14:27:21.189552Z"
    }
   },
   "outputs": [
    {
     "data": {
      "text/plain": [
       "2"
      ]
     },
     "execution_count": 31,
     "metadata": {},
     "output_type": "execute_result"
    }
   ],
   "source": [
    "cacca[0,1]"
   ]
  },
  {
   "cell_type": "code",
   "execution_count": 32,
   "metadata": {
    "ExecuteTime": {
     "end_time": "2019-11-27T14:27:21.477563Z",
     "start_time": "2019-11-27T14:27:21.474570Z"
    }
   },
   "outputs": [
    {
     "data": {
      "text/plain": [
       "array([1, 4])"
      ]
     },
     "execution_count": 32,
     "metadata": {},
     "output_type": "execute_result"
    }
   ],
   "source": [
    "cacca[:,0]"
   ]
  },
  {
   "cell_type": "markdown",
   "metadata": {},
   "source": [
    "#### Operation on arrays\n",
    "Operation element by element!"
   ]
  },
  {
   "cell_type": "code",
   "execution_count": 33,
   "metadata": {
    "ExecuteTime": {
     "end_time": "2019-11-27T14:27:22.461847Z",
     "start_time": "2019-11-27T14:27:22.458465Z"
    }
   },
   "outputs": [
    {
     "data": {
      "text/plain": [
       "array([[ 2.,  4.,  6.],\n",
       "       [ 8., 10., 12.]])"
      ]
     },
     "execution_count": 33,
     "metadata": {},
     "output_type": "execute_result"
    }
   ],
   "source": [
    "cacca *2."
   ]
  },
  {
   "cell_type": "code",
   "execution_count": 34,
   "metadata": {
    "ExecuteTime": {
     "end_time": "2019-11-27T14:27:22.822042Z",
     "start_time": "2019-11-27T14:27:22.818960Z"
    }
   },
   "outputs": [
    {
     "data": {
      "text/plain": [
       "array([[1, 0, 1],\n",
       "       [0, 1, 0]])"
      ]
     },
     "execution_count": 34,
     "metadata": {},
     "output_type": "execute_result"
    }
   ],
   "source": [
    "cacca %2"
   ]
  },
  {
   "cell_type": "markdown",
   "metadata": {},
   "source": [
    "#### Mask\n",
    "You can access the elements of an numpy array even with a boolean numpy array"
   ]
  },
  {
   "cell_type": "code",
   "execution_count": 35,
   "metadata": {
    "ExecuteTime": {
     "end_time": "2019-11-27T14:27:24.381663Z",
     "start_time": "2019-11-27T14:27:24.378752Z"
    }
   },
   "outputs": [
    {
     "data": {
      "text/plain": [
       "array([[False,  True, False],\n",
       "       [ True, False,  True]])"
      ]
     },
     "execution_count": 35,
     "metadata": {},
     "output_type": "execute_result"
    }
   ],
   "source": [
    "cacca %2==0"
   ]
  },
  {
   "cell_type": "code",
   "execution_count": 36,
   "metadata": {
    "ExecuteTime": {
     "end_time": "2019-11-27T14:27:26.591190Z",
     "start_time": "2019-11-27T14:27:26.587970Z"
    }
   },
   "outputs": [
    {
     "data": {
      "text/plain": [
       "array([2, 4, 6])"
      ]
     },
     "execution_count": 36,
     "metadata": {},
     "output_type": "execute_result"
    }
   ],
   "source": [
    "cacca[cacca %2==0]"
   ]
  },
  {
   "cell_type": "markdown",
   "metadata": {},
   "source": [
    "#### Data types and structured data types"
   ]
  },
  {
   "cell_type": "code",
   "execution_count": 37,
   "metadata": {
    "ExecuteTime": {
     "end_time": "2019-11-27T14:27:27.909853Z",
     "start_time": "2019-11-27T14:27:27.906268Z"
    }
   },
   "outputs": [
    {
     "data": {
      "text/plain": [
       "array([[1., 2., 3.],\n",
       "       [4., 5., 6.]])"
      ]
     },
     "execution_count": 37,
     "metadata": {},
     "output_type": "execute_result"
    }
   ],
   "source": [
    "np.array([[1, 2, 3], [4,5,6]], dtype=float)"
   ]
  },
  {
   "cell_type": "code",
   "execution_count": 38,
   "metadata": {
    "ExecuteTime": {
     "end_time": "2019-11-27T14:27:28.165852Z",
     "start_time": "2019-11-27T14:27:28.162147Z"
    }
   },
   "outputs": [
    {
     "data": {
      "text/plain": [
       "array([[1.0, 'cacca', 42],\n",
       "       [0, 'bad', 1.4]], dtype=object)"
      ]
     },
     "execution_count": 38,
     "metadata": {},
     "output_type": "execute_result"
    }
   ],
   "source": [
    "np.array([[1., 'cacca', 42], [0,'bad',1.4]], dtype=object)"
   ]
  },
  {
   "cell_type": "code",
   "execution_count": 39,
   "metadata": {
    "ExecuteTime": {
     "end_time": "2019-11-27T14:27:28.393337Z",
     "start_time": "2019-11-27T14:27:28.387060Z"
    }
   },
   "outputs": [
    {
     "ename": "ValueError",
     "evalue": "could not convert string to float: 'cacca'",
     "output_type": "error",
     "traceback": [
      "\u001b[0;31m---------------------------------------------------------------------------\u001b[0m",
      "\u001b[0;31mValueError\u001b[0m                                Traceback (most recent call last)",
      "\u001b[0;32m<ipython-input-39-3b2924ff78d0>\u001b[0m in \u001b[0;36m<module>\u001b[0;34m\u001b[0m\n\u001b[0;32m----> 1\u001b[0;31m \u001b[0mnp\u001b[0m\u001b[0;34m.\u001b[0m\u001b[0marray\u001b[0m\u001b[0;34m(\u001b[0m\u001b[0;34m[\u001b[0m\u001b[0;34m[\u001b[0m\u001b[0;36m1.\u001b[0m\u001b[0;34m,\u001b[0m \u001b[0;34m'cacca'\u001b[0m\u001b[0;34m,\u001b[0m \u001b[0;36m42\u001b[0m\u001b[0;34m]\u001b[0m\u001b[0;34m,\u001b[0m \u001b[0;34m[\u001b[0m\u001b[0;36m0\u001b[0m\u001b[0;34m,\u001b[0m\u001b[0;34m'bad'\u001b[0m\u001b[0;34m,\u001b[0m\u001b[0;36m1.4\u001b[0m\u001b[0;34m]\u001b[0m\u001b[0;34m]\u001b[0m\u001b[0;34m,\u001b[0m \u001b[0mdtype\u001b[0m\u001b[0;34m=\u001b[0m\u001b[0mfloat\u001b[0m\u001b[0;34m)\u001b[0m\u001b[0;34m\u001b[0m\u001b[0m\n\u001b[0m",
      "\u001b[0;31mValueError\u001b[0m: could not convert string to float: 'cacca'"
     ]
    }
   ],
   "source": [
    "np.array([[1., 'cacca', 42], [0,'bad',1.4]], dtype=float)"
   ]
  },
  {
   "cell_type": "markdown",
   "metadata": {},
   "source": [
    "##### Structured data type"
   ]
  },
  {
   "cell_type": "code",
   "execution_count": 40,
   "metadata": {
    "ExecuteTime": {
     "end_time": "2019-11-27T14:27:30.620376Z",
     "start_time": "2019-11-27T14:27:30.618031Z"
    }
   },
   "outputs": [],
   "source": [
    "tmnt_list=['Donatello', 'Raffaello', 'Michelangelo', 'Leonardo']\n",
    "tmnt_ages=[14, 15, 13, 16]"
   ]
  },
  {
   "cell_type": "code",
   "execution_count": 41,
   "metadata": {
    "ExecuteTime": {
     "end_time": "2019-11-27T14:27:30.917419Z",
     "start_time": "2019-11-27T14:27:30.914856Z"
    }
   },
   "outputs": [],
   "source": [
    "tmnt_np=np.array(list(zip(tmnt_ages,tmnt_list)), dtype=[('age', 'i8'), ('name','S20')])"
   ]
  },
  {
   "cell_type": "code",
   "execution_count": 42,
   "metadata": {
    "ExecuteTime": {
     "end_time": "2019-11-27T14:27:31.157209Z",
     "start_time": "2019-11-27T14:27:31.154212Z"
    }
   },
   "outputs": [
    {
     "data": {
      "text/plain": [
       "array([(14, b'Donatello'), (15, b'Raffaello'), (13, b'Michelangelo'),\n",
       "       (16, b'Leonardo')], dtype=[('age', '<i8'), ('name', 'S20')])"
      ]
     },
     "execution_count": 42,
     "metadata": {},
     "output_type": "execute_result"
    }
   ],
   "source": [
    "tmnt_np"
   ]
  },
  {
   "cell_type": "code",
   "execution_count": 43,
   "metadata": {
    "ExecuteTime": {
     "end_time": "2019-11-27T14:27:31.430286Z",
     "start_time": "2019-11-27T14:27:31.427379Z"
    }
   },
   "outputs": [
    {
     "data": {
      "text/plain": [
       "array([b'Donatello', b'Raffaello', b'Michelangelo', b'Leonardo'],\n",
       "      dtype='|S20')"
      ]
     },
     "execution_count": 43,
     "metadata": {},
     "output_type": "execute_result"
    }
   ],
   "source": [
    "tmnt_np['name']"
   ]
  },
  {
   "cell_type": "code",
   "execution_count": 44,
   "metadata": {
    "ExecuteTime": {
     "end_time": "2019-11-27T14:27:36.014572Z",
     "start_time": "2019-11-27T14:27:36.010604Z"
    }
   },
   "outputs": [
    {
     "data": {
      "text/plain": [
       "(14, b'Donatello')"
      ]
     },
     "execution_count": 44,
     "metadata": {},
     "output_type": "execute_result"
    }
   ],
   "source": [
    "tmnt_np[0]"
   ]
  },
  {
   "cell_type": "markdown",
   "metadata": {
    "ExecuteTime": {
     "end_time": "2019-12-03T16:51:18.135316Z",
     "start_time": "2019-12-03T16:51:18.024994Z"
    }
   },
   "source": [
    "![](../Images/l2_ninja_turtle.jpg)"
   ]
  },
  {
   "cell_type": "markdown",
   "metadata": {},
   "source": [
    "###### Searching on array with structured data type"
   ]
  },
  {
   "cell_type": "code",
   "execution_count": 45,
   "metadata": {
    "ExecuteTime": {
     "end_time": "2019-11-27T14:27:36.509042Z",
     "start_time": "2019-11-27T14:27:36.506087Z"
    }
   },
   "outputs": [
    {
     "data": {
      "text/plain": [
       "array([], shape=(0, 4), dtype=[('age', '<i8'), ('name', 'S20')])"
      ]
     },
     "execution_count": 45,
     "metadata": {},
     "output_type": "execute_result"
    }
   ],
   "source": [
    "tmnt_np[tmnt_np['name']=='Leonardo']"
   ]
  },
  {
   "cell_type": "code",
   "execution_count": 46,
   "metadata": {
    "ExecuteTime": {
     "end_time": "2019-11-27T14:27:36.719377Z",
     "start_time": "2019-11-27T14:27:36.716386Z"
    }
   },
   "outputs": [
    {
     "data": {
      "text/plain": [
       "array([], shape=(0, 4), dtype=int64)"
      ]
     },
     "execution_count": 46,
     "metadata": {},
     "output_type": "execute_result"
    }
   ],
   "source": [
    "tmnt_np[tmnt_np['name']=='Leonardo']['age']"
   ]
  },
  {
   "cell_type": "markdown",
   "metadata": {},
   "source": [
    "### Operation among array"
   ]
  },
  {
   "cell_type": "code",
   "execution_count": 47,
   "metadata": {
    "ExecuteTime": {
     "end_time": "2019-11-27T14:27:53.517628Z",
     "start_time": "2019-11-27T14:27:53.514553Z"
    }
   },
   "outputs": [
    {
     "data": {
      "text/plain": [
       "array([[1, 2, 3],\n",
       "       [4, 5, 6]])"
      ]
     },
     "execution_count": 47,
     "metadata": {},
     "output_type": "execute_result"
    }
   ],
   "source": [
    "cacca"
   ]
  },
  {
   "cell_type": "markdown",
   "metadata": {},
   "source": [
    "#### Transpose"
   ]
  },
  {
   "cell_type": "code",
   "execution_count": 48,
   "metadata": {
    "ExecuteTime": {
     "end_time": "2019-11-27T14:28:01.121438Z",
     "start_time": "2019-11-27T14:28:01.118260Z"
    }
   },
   "outputs": [
    {
     "data": {
      "text/plain": [
       "array([[1, 4],\n",
       "       [2, 5],\n",
       "       [3, 6]])"
      ]
     },
     "execution_count": 48,
     "metadata": {},
     "output_type": "execute_result"
    }
   ],
   "source": [
    "cacca.T"
   ]
  },
  {
   "cell_type": "markdown",
   "metadata": {},
   "source": [
    "#### np.dot"
   ]
  },
  {
   "cell_type": "code",
   "execution_count": 27,
   "metadata": {},
   "outputs": [
    {
     "data": {
      "text/plain": [
       "array([[14, 32],\n",
       "       [32, 77]])"
      ]
     },
     "execution_count": 27,
     "metadata": {},
     "output_type": "execute_result"
    }
   ],
   "source": [
    "np.dot(cacca, cacca.T)"
   ]
  },
  {
   "cell_type": "markdown",
   "metadata": {},
   "source": [
    "#### Reading/writing from/to file"
   ]
  },
  {
   "cell_type": "code",
   "execution_count": 50,
   "metadata": {
    "ExecuteTime": {
     "end_time": "2019-11-27T14:29:07.902203Z",
     "start_time": "2019-11-27T14:29:07.899665Z"
    }
   },
   "outputs": [],
   "source": [
    "adjacency_matrix=np.array([[0, 1, 0, 1],\n",
    "       [0, 0, 1, 1],\n",
    "       [1, 1, 0, 1],\n",
    "       [0, 0, 1, 0]])"
   ]
  },
  {
   "cell_type": "code",
   "execution_count": 51,
   "metadata": {
    "ExecuteTime": {
     "end_time": "2019-11-27T14:29:17.592633Z",
     "start_time": "2019-11-27T14:29:17.589589Z"
    }
   },
   "outputs": [],
   "source": [
    "np.savetxt('something_new.txt',adjacency_matrix, fmt='%u', delimiter=',')"
   ]
  },
  {
   "cell_type": "code",
   "execution_count": 52,
   "metadata": {
    "ExecuteTime": {
     "end_time": "2019-11-27T14:29:18.262023Z",
     "start_time": "2019-11-27T14:29:18.256735Z"
    }
   },
   "outputs": [
    {
     "data": {
      "text/plain": [
       "array([[0, 1, 0, 1],\n",
       "       [0, 0, 1, 1],\n",
       "       [1, 1, 0, 1],\n",
       "       [0, 0, 1, 0]])"
      ]
     },
     "execution_count": 52,
     "metadata": {},
     "output_type": "execute_result"
    }
   ],
   "source": [
    "np.genfromtxt('something_new.txt', delimiter=',', dtype='i8')"
   ]
  },
  {
   "cell_type": "markdown",
   "metadata": {
    "ExecuteTime": {
     "end_time": "2019-11-27T14:34:38.233324Z",
     "start_time": "2019-11-27T14:34:38.230066Z"
    }
   },
   "source": [
    "Actually, there are multiple ways to read from/save to file in numpy\n",
    "\n",
    "| file type | save | read | pro | con |\n",
    "|:---:|:---:|:---:|:---:|:---:|\n",
    "| .txt, .csv | np.savetxt  | np.genfromtxt, np.loadtxt  | files can be read by anyone | it is not memory efficient |\n",
    "| .npy, .npz | np.save, np.savez | np.load  | it is memory efficient; it conserves the array data structure | file can be read only by numpy |\n"
   ]
  },
  {
   "cell_type": "markdown",
   "metadata": {},
   "source": [
    "#### Note on Jupyter notebooks\n",
    "You do not know either what the function is doing, what are the inputs, the outputs or even if there are any crucial options? No worry! **Shift+Tab** inside the parentheses!"
   ]
  },
  {
   "cell_type": "code",
   "execution_count": null,
   "metadata": {},
   "outputs": [],
   "source": [
    "np.genfromtxt()"
   ]
  },
  {
   "cell_type": "markdown",
   "metadata": {},
   "source": [
    "### Interesting stuff and functions"
   ]
  },
  {
   "cell_type": "markdown",
   "metadata": {},
   "source": [
    "#### np.zeros()"
   ]
  },
  {
   "cell_type": "code",
   "execution_count": 57,
   "metadata": {
    "ExecuteTime": {
     "end_time": "2019-11-27T14:47:10.512438Z",
     "start_time": "2019-11-27T14:47:10.503540Z"
    }
   },
   "outputs": [
    {
     "data": {
      "text/plain": [
       "array([0., 0., 0., 0., 0., 0., 0., 0., 0., 0., 0., 0., 0., 0., 0., 0., 0.,\n",
       "       0., 0., 0., 0., 0., 0., 0., 0., 0., 0., 0., 0., 0., 0., 0., 0., 0.,\n",
       "       0., 0., 0., 0., 0., 0., 0., 0.])"
      ]
     },
     "execution_count": 57,
     "metadata": {},
     "output_type": "execute_result"
    }
   ],
   "source": [
    "np.zeros(42)"
   ]
  },
  {
   "cell_type": "code",
   "execution_count": 55,
   "metadata": {
    "ExecuteTime": {
     "end_time": "2019-11-27T14:46:56.730839Z",
     "start_time": "2019-11-27T14:46:56.726565Z"
    }
   },
   "outputs": [
    {
     "data": {
      "text/plain": [
       "array([0, 0, 0, 0, 0, 0, 0, 0, 0, 0, 0, 0, 0, 0, 0, 0, 0, 0, 0, 0, 0, 0,\n",
       "       0, 0, 0, 0, 0, 0, 0, 0, 0, 0, 0, 0, 0, 0, 0, 0, 0, 0, 0, 0])"
      ]
     },
     "execution_count": 55,
     "metadata": {},
     "output_type": "execute_result"
    }
   ],
   "source": [
    "np.zeros(42, dtype='int')"
   ]
  },
  {
   "cell_type": "code",
   "execution_count": 56,
   "metadata": {
    "ExecuteTime": {
     "end_time": "2019-11-27T14:46:57.196614Z",
     "start_time": "2019-11-27T14:46:57.193372Z"
    }
   },
   "outputs": [
    {
     "data": {
      "text/plain": [
       "array(['', '', '', '', '', '', '', '', '', '', '', '', '', '', '', '', '',\n",
       "       '', '', '', '', '', '', '', '', '', '', '', '', '', '', '', '', '',\n",
       "       '', '', '', '', '', '', '', ''], dtype='<U1')"
      ]
     },
     "execution_count": 56,
     "metadata": {},
     "output_type": "execute_result"
    }
   ],
   "source": [
    "np.zeros(42, dtype=str)"
   ]
  },
  {
   "cell_type": "markdown",
   "metadata": {},
   "source": [
    "#### np.ones()"
   ]
  },
  {
   "cell_type": "code",
   "execution_count": 59,
   "metadata": {
    "ExecuteTime": {
     "end_time": "2019-11-27T14:47:58.640095Z",
     "start_time": "2019-11-27T14:47:58.633516Z"
    }
   },
   "outputs": [
    {
     "data": {
      "text/plain": [
       "array([1., 1., 1., 1., 1., 1., 1., 1., 1., 1., 1., 1., 1., 1., 1., 1., 1.,\n",
       "       1., 1., 1., 1., 1., 1., 1., 1., 1., 1., 1., 1., 1., 1., 1., 1., 1.,\n",
       "       1., 1., 1., 1., 1., 1., 1., 1.])"
      ]
     },
     "execution_count": 59,
     "metadata": {},
     "output_type": "execute_result"
    }
   ],
   "source": [
    "np.ones(42)"
   ]
  },
  {
   "cell_type": "code",
   "execution_count": 60,
   "metadata": {
    "ExecuteTime": {
     "end_time": "2019-11-27T14:48:03.272970Z",
     "start_time": "2019-11-27T14:48:03.269476Z"
    }
   },
   "outputs": [
    {
     "data": {
      "text/plain": [
       "array([1, 1, 1, 1, 1, 1, 1, 1, 1, 1, 1, 1, 1, 1, 1, 1, 1, 1, 1, 1, 1, 1,\n",
       "       1, 1, 1, 1, 1, 1, 1, 1, 1, 1, 1, 1, 1, 1, 1, 1, 1, 1, 1, 1])"
      ]
     },
     "execution_count": 60,
     "metadata": {},
     "output_type": "execute_result"
    }
   ],
   "source": [
    "np.ones(42, dtype='int')"
   ]
  },
  {
   "cell_type": "code",
   "execution_count": 61,
   "metadata": {
    "ExecuteTime": {
     "end_time": "2019-11-27T14:48:03.920588Z",
     "start_time": "2019-11-27T14:48:03.916546Z"
    }
   },
   "outputs": [
    {
     "data": {
      "text/plain": [
       "array(['1', '1', '1', '1', '1', '1', '1', '1', '1', '1', '1', '1', '1',\n",
       "       '1', '1', '1', '1', '1', '1', '1', '1', '1', '1', '1', '1', '1',\n",
       "       '1', '1', '1', '1', '1', '1', '1', '1', '1', '1', '1', '1', '1',\n",
       "       '1', '1', '1'], dtype='<U1')"
      ]
     },
     "execution_count": 61,
     "metadata": {},
     "output_type": "execute_result"
    }
   ],
   "source": [
    "np.ones(42, dtype=str)"
   ]
  },
  {
   "cell_type": "markdown",
   "metadata": {},
   "source": [
    "#### np.arange()"
   ]
  },
  {
   "cell_type": "code",
   "execution_count": 62,
   "metadata": {
    "ExecuteTime": {
     "end_time": "2019-11-27T14:48:10.904554Z",
     "start_time": "2019-11-27T14:48:10.901015Z"
    }
   },
   "outputs": [
    {
     "data": {
      "text/plain": [
       "array([ 0,  1,  2,  3,  4,  5,  6,  7,  8,  9, 10, 11, 12, 13, 14, 15, 16,\n",
       "       17, 18, 19, 20, 21, 22, 23, 24, 25, 26, 27, 28, 29, 30, 31, 32, 33,\n",
       "       34, 35, 36, 37, 38, 39, 40, 41])"
      ]
     },
     "execution_count": 62,
     "metadata": {},
     "output_type": "execute_result"
    }
   ],
   "source": [
    "np.arange(42)"
   ]
  },
  {
   "cell_type": "code",
   "execution_count": 63,
   "metadata": {
    "ExecuteTime": {
     "end_time": "2019-11-27T14:48:13.016891Z",
     "start_time": "2019-11-27T14:48:13.009280Z"
    }
   },
   "outputs": [
    {
     "data": {
      "text/plain": [
       "array([ 4,  5,  6,  7,  8,  9, 10, 11, 12, 13, 14, 15, 16, 17, 18, 19, 20,\n",
       "       21, 22, 23, 24, 25, 26, 27, 28, 29, 30, 31, 32, 33, 34, 35, 36, 37,\n",
       "       38, 39, 40, 41])"
      ]
     },
     "execution_count": 63,
     "metadata": {},
     "output_type": "execute_result"
    }
   ],
   "source": [
    "np.arange(4,42)"
   ]
  },
  {
   "cell_type": "markdown",
   "metadata": {},
   "source": [
    "#### np.unique()"
   ]
  },
  {
   "cell_type": "code",
   "execution_count": 64,
   "metadata": {
    "ExecuteTime": {
     "end_time": "2019-11-27T14:48:21.023756Z",
     "start_time": "2019-11-27T14:48:21.020648Z"
    }
   },
   "outputs": [],
   "source": [
    "cacca=np.array([1,2,4,1,2,4,12,42])"
   ]
  },
  {
   "cell_type": "code",
   "execution_count": 65,
   "metadata": {
    "ExecuteTime": {
     "end_time": "2019-11-27T14:48:21.603991Z",
     "start_time": "2019-11-27T14:48:21.600818Z"
    }
   },
   "outputs": [
    {
     "data": {
      "text/plain": [
       "array([ 1,  2,  4, 12, 42])"
      ]
     },
     "execution_count": 65,
     "metadata": {},
     "output_type": "execute_result"
    }
   ],
   "source": [
    "np.unique(cacca)"
   ]
  },
  {
   "cell_type": "code",
   "execution_count": 66,
   "metadata": {
    "ExecuteTime": {
     "end_time": "2019-11-27T14:48:22.155717Z",
     "start_time": "2019-11-27T14:48:22.152318Z"
    }
   },
   "outputs": [
    {
     "data": {
      "text/plain": [
       "(array([ 1,  2,  4, 12, 42]), array([2, 2, 2, 1, 1]))"
      ]
     },
     "execution_count": 66,
     "metadata": {},
     "output_type": "execute_result"
    }
   ],
   "source": [
    "np.unique(cacca, return_counts=True)"
   ]
  },
  {
   "cell_type": "markdown",
   "metadata": {},
   "source": [
    "#### np.sum()"
   ]
  },
  {
   "cell_type": "code",
   "execution_count": 67,
   "metadata": {
    "ExecuteTime": {
     "end_time": "2019-11-27T14:48:32.073992Z",
     "start_time": "2019-11-27T14:48:32.069825Z"
    }
   },
   "outputs": [
    {
     "data": {
      "text/plain": [
       "array([[0, 1, 0, 1],\n",
       "       [0, 0, 1, 1],\n",
       "       [1, 1, 0, 1],\n",
       "       [0, 0, 1, 0]])"
      ]
     },
     "execution_count": 67,
     "metadata": {},
     "output_type": "execute_result"
    }
   ],
   "source": [
    "adjacency_matrix"
   ]
  },
  {
   "cell_type": "code",
   "execution_count": 68,
   "metadata": {
    "ExecuteTime": {
     "end_time": "2019-11-27T14:48:32.613243Z",
     "start_time": "2019-11-27T14:48:32.610207Z"
    }
   },
   "outputs": [
    {
     "data": {
      "text/plain": [
       "8"
      ]
     },
     "execution_count": 68,
     "metadata": {},
     "output_type": "execute_result"
    }
   ],
   "source": [
    "np.sum(adjacency_matrix)"
   ]
  },
  {
   "cell_type": "code",
   "execution_count": 69,
   "metadata": {
    "ExecuteTime": {
     "end_time": "2019-11-27T14:48:33.128424Z",
     "start_time": "2019-11-27T14:48:33.125269Z"
    }
   },
   "outputs": [
    {
     "data": {
      "text/plain": [
       "array([1, 2, 2, 3])"
      ]
     },
     "execution_count": 69,
     "metadata": {},
     "output_type": "execute_result"
    }
   ],
   "source": [
    "np.sum(adjacency_matrix, axis=0)"
   ]
  },
  {
   "cell_type": "code",
   "execution_count": 70,
   "metadata": {
    "ExecuteTime": {
     "end_time": "2019-11-27T14:48:33.680638Z",
     "start_time": "2019-11-27T14:48:33.677518Z"
    }
   },
   "outputs": [
    {
     "data": {
      "text/plain": [
       "array([2, 2, 3, 1])"
      ]
     },
     "execution_count": 70,
     "metadata": {},
     "output_type": "execute_result"
    }
   ],
   "source": [
    "np.sum(adjacency_matrix, axis=1)"
   ]
  },
  {
   "cell_type": "markdown",
   "metadata": {},
   "source": [
    "#### np.where()"
   ]
  },
  {
   "cell_type": "code",
   "execution_count": 71,
   "metadata": {
    "ExecuteTime": {
     "end_time": "2019-11-27T14:48:42.899651Z",
     "start_time": "2019-11-27T14:48:42.896258Z"
    }
   },
   "outputs": [
    {
     "data": {
      "text/plain": [
       "(array([0, 3]),)"
      ]
     },
     "execution_count": 71,
     "metadata": {},
     "output_type": "execute_result"
    }
   ],
   "source": [
    "np.where(cacca==1)"
   ]
  },
  {
   "cell_type": "code",
   "execution_count": 72,
   "metadata": {
    "ExecuteTime": {
     "end_time": "2019-11-27T14:48:43.566319Z",
     "start_time": "2019-11-27T14:48:43.562890Z"
    }
   },
   "outputs": [
    {
     "data": {
      "text/plain": [
       "(array([0, 0, 1, 1, 2, 2, 2, 3]), array([1, 3, 2, 3, 0, 1, 3, 2]))"
      ]
     },
     "execution_count": 72,
     "metadata": {},
     "output_type": "execute_result"
    }
   ],
   "source": [
    "np.where(adjacency_matrix==1)"
   ]
  },
  {
   "cell_type": "markdown",
   "metadata": {},
   "source": [
    "#### np.max"
   ]
  },
  {
   "cell_type": "code",
   "execution_count": 3,
   "metadata": {
    "ExecuteTime": {
     "end_time": "2019-12-04T15:46:41.795615Z",
     "start_time": "2019-12-04T15:46:41.787376Z"
    }
   },
   "outputs": [
    {
     "data": {
      "text/plain": [
       "4"
      ]
     },
     "execution_count": 3,
     "metadata": {},
     "output_type": "execute_result"
    }
   ],
   "source": [
    "np.max([0,1,2,3,4])"
   ]
  },
  {
   "cell_type": "markdown",
   "metadata": {},
   "source": [
    "#### np.min"
   ]
  },
  {
   "cell_type": "code",
   "execution_count": 4,
   "metadata": {
    "ExecuteTime": {
     "end_time": "2019-12-04T15:46:43.519091Z",
     "start_time": "2019-12-04T15:46:43.515911Z"
    }
   },
   "outputs": [
    {
     "data": {
      "text/plain": [
       "0"
      ]
     },
     "execution_count": 4,
     "metadata": {},
     "output_type": "execute_result"
    }
   ],
   "source": [
    "np.min([0,1,2,3,4])"
   ]
  },
  {
   "cell_type": "markdown",
   "metadata": {},
   "source": [
    "### Exercise:\n",
    "![](../Images/l2_zachary.jpg)\n",
    "1. **load the file ./zachary.txt** It is an edge list of a monopartite undirected network. \n",
    "\n",
    ">This is the well-known and much-used Zachary karate club network. The data was collected from the members of a university karate club by Wayne Zachary in 1977. Each node represents a member of the club, and each edge represents a tie between two members of the club. The network is undirected. An often discussed problem using this dataset is to find the two groups of people into which the karate club split after an argument between two teachers.\n",
    "\n",
    "\n",
    "--[Konect website](http://konect.uni-koblenz.de/networks/)\n",
    "<br/>**Pay attention!** Those data were downloaded from the web and do not use the Python form for indices: the first element here is 1 and not 0! **Pay attention 2!** the first two lines contains other uninteresting data regarding the network, you can safely skip them. \n",
    "2. **calculate the degree sequence** \n",
    "3. **build the adjacency matrix**\n",
    "4. **build the adjacency list**\n",
    "5. **calculate the nearest neighbours degree** "
   ]
  },
  {
   "cell_type": "markdown",
   "metadata": {
    "heading_collapsed": true
   },
   "source": [
    "#### 1. Load the file"
   ]
  },
  {
   "cell_type": "code",
   "execution_count": 92,
   "metadata": {
    "ExecuteTime": {
     "end_time": "2019-11-27T15:11:30.299731Z",
     "start_time": "2019-11-27T15:11:30.296624Z"
    },
    "hidden": true
   },
   "outputs": [],
   "source": [
    "z_ed=np.genfromtxt('./Data/zachary.txt', skip_header=2, dtype='i8')-1"
   ]
  },
  {
   "cell_type": "markdown",
   "metadata": {
    "heading_collapsed": true
   },
   "source": [
    "#### 2. The degree sequence"
   ]
  },
  {
   "cell_type": "code",
   "execution_count": 111,
   "metadata": {
    "ExecuteTime": {
     "end_time": "2019-11-27T15:14:24.270418Z",
     "start_time": "2019-11-27T15:14:24.267787Z"
    },
    "hidden": true
   },
   "outputs": [],
   "source": [
    "nodes, k=np.unique(z_ed, return_counts=True)"
   ]
  },
  {
   "cell_type": "code",
   "execution_count": 112,
   "metadata": {
    "ExecuteTime": {
     "end_time": "2019-11-27T15:14:26.468363Z",
     "start_time": "2019-11-27T15:14:26.465055Z"
    },
    "hidden": true
   },
   "outputs": [
    {
     "data": {
      "text/plain": [
       "array([16,  9, 10,  6,  3,  4,  4,  4,  5,  2,  3,  1,  2,  5,  2,  2,  2,\n",
       "        2,  2,  3,  2,  2,  2,  5,  3,  3,  2,  4,  3,  4,  4,  6, 12, 17])"
      ]
     },
     "execution_count": 112,
     "metadata": {},
     "output_type": "execute_result"
    }
   ],
   "source": [
    "k"
   ]
  },
  {
   "cell_type": "markdown",
   "metadata": {
    "heading_collapsed": true
   },
   "source": [
    "#### 3. The adjacency matrix"
   ]
  },
  {
   "cell_type": "code",
   "execution_count": 94,
   "metadata": {
    "ExecuteTime": {
     "end_time": "2019-11-27T15:11:34.719464Z",
     "start_time": "2019-11-27T15:11:34.713905Z"
    },
    "hidden": true
   },
   "outputs": [],
   "source": [
    "l_z=len(np.unique(z_ed))"
   ]
  },
  {
   "cell_type": "code",
   "execution_count": 107,
   "metadata": {
    "ExecuteTime": {
     "end_time": "2019-11-27T15:13:16.443147Z",
     "start_time": "2019-11-27T15:13:16.439976Z"
    },
    "hidden": true
   },
   "outputs": [],
   "source": [
    "adjm=np.zeros((l_z, l_z), dtype='i8')\n",
    "for e in z_ed:\n",
    "    adjm[e[0],e[1]]=1\n",
    "    adjm[e[1],e[0]]=1"
   ]
  },
  {
   "cell_type": "markdown",
   "metadata": {
    "heading_collapsed": true
   },
   "source": [
    "#### 4. The adjacency list"
   ]
  },
  {
   "cell_type": "code",
   "execution_count": 108,
   "metadata": {
    "ExecuteTime": {
     "end_time": "2019-11-27T15:13:17.273418Z",
     "start_time": "2019-11-27T15:13:17.271090Z"
    },
    "hidden": true
   },
   "outputs": [],
   "source": [
    "l_z=len(np.unique(z_ed))"
   ]
  },
  {
   "cell_type": "code",
   "execution_count": 109,
   "metadata": {
    "ExecuteTime": {
     "end_time": "2019-11-27T15:13:17.521866Z",
     "start_time": "2019-11-27T15:13:17.519192Z"
    },
    "hidden": true
   },
   "outputs": [],
   "source": [
    "adjl=np.zeros(l_z, dtype=object)\n",
    "for i in range(l_z):\n",
    "    adjl[i]=np.where(adjm[i]==1)[0]"
   ]
  },
  {
   "cell_type": "code",
   "execution_count": 110,
   "metadata": {
    "ExecuteTime": {
     "end_time": "2019-11-27T15:13:17.884715Z",
     "start_time": "2019-11-27T15:13:17.880337Z"
    },
    "hidden": true
   },
   "outputs": [
    {
     "data": {
      "text/plain": [
       "array([array([ 1,  2,  3,  4,  5,  6,  7,  8, 10, 11, 12, 13, 17, 19, 21, 31]),\n",
       "       array([ 0,  2,  3,  7, 13, 17, 19, 21, 30]),\n",
       "       array([ 0,  1,  3,  7,  8,  9, 13, 27, 28, 32]),\n",
       "       array([ 0,  1,  2,  7, 12, 13]), array([ 0,  6, 10]),\n",
       "       array([ 0,  6, 10, 16]), array([ 0,  4,  5, 16]),\n",
       "       array([0, 1, 2, 3]), array([ 0,  2, 30, 32, 33]), array([ 2, 33]),\n",
       "       array([0, 4, 5]), array([0]), array([0, 3]),\n",
       "       array([ 0,  1,  2,  3, 33]), array([32, 33]), array([32, 33]),\n",
       "       array([5, 6]), array([0, 1]), array([32, 33]), array([ 0,  1, 33]),\n",
       "       array([32, 33]), array([0, 1]), array([32, 33]),\n",
       "       array([25, 27, 29, 32, 33]), array([25, 27, 31]),\n",
       "       array([23, 24, 31]), array([29, 33]), array([ 2, 23, 24, 33]),\n",
       "       array([ 2, 31, 33]), array([23, 26, 32, 33]),\n",
       "       array([ 1,  8, 32, 33]), array([ 0, 24, 25, 28, 32, 33]),\n",
       "       array([ 2,  8, 14, 15, 18, 20, 22, 23, 29, 30, 31, 33]),\n",
       "       array([ 8,  9, 13, 14, 15, 18, 19, 20, 22, 23, 26, 27, 28, 29, 30, 31, 32])],\n",
       "      dtype=object)"
      ]
     },
     "execution_count": 110,
     "metadata": {},
     "output_type": "execute_result"
    }
   ],
   "source": [
    "adjl"
   ]
  },
  {
   "cell_type": "markdown",
   "metadata": {
    "heading_collapsed": true
   },
   "source": [
    "#### 5. The Average Nearest Neighbour Degree"
   ]
  },
  {
   "cell_type": "code",
   "execution_count": 138,
   "metadata": {
    "ExecuteTime": {
     "end_time": "2019-12-03T16:06:39.487888Z",
     "start_time": "2019-12-03T16:06:39.484872Z"
    },
    "hidden": true
   },
   "outputs": [],
   "source": [
    "k_nn=np.zeros(l_z)\n",
    "for i_adjl, aa in enumerate(adjl):\n",
    "    k_nn[i_adjl]=np.sum(k[aa])/k[i_adjl]"
   ]
  },
  {
   "cell_type": "code",
   "execution_count": 139,
   "metadata": {
    "ExecuteTime": {
     "end_time": "2019-12-03T16:06:39.846671Z",
     "start_time": "2019-12-03T16:06:39.841432Z"
    },
    "hidden": true
   },
   "outputs": [
    {
     "data": {
      "text/plain": [
       "array([ 4.3125    ,  5.77777778,  6.6       ,  7.66666667,  7.66666667,\n",
       "        6.25      ,  6.25      , 10.25      , 11.8       , 13.5       ,\n",
       "        7.66666667, 16.        , 11.        , 11.6       , 14.5       ,\n",
       "       14.5       ,  4.        , 12.5       , 14.5       , 14.        ,\n",
       "       14.5       , 12.5       , 14.5       ,  8.        ,  4.33333333,\n",
       "        4.66666667, 10.5       ,  8.75      , 11.        ,  9.        ,\n",
       "       10.75      ,  9.        ,  5.08333333,  3.82352941])"
      ]
     },
     "execution_count": 139,
     "metadata": {},
     "output_type": "execute_result"
    }
   ],
   "source": [
    "k_nn"
   ]
  },
  {
   "cell_type": "markdown",
   "metadata": {
    "heading_collapsed": true
   },
   "source": [
    "#### 5.bis Calculate the $k^{nn}$ from the edge list"
   ]
  },
  {
   "cell_type": "code",
   "execution_count": 158,
   "metadata": {
    "ExecuteTime": {
     "end_time": "2019-12-03T16:08:37.458499Z",
     "start_time": "2019-12-03T16:08:37.454022Z"
    },
    "hidden": true
   },
   "outputs": [],
   "source": [
    "k_nn_el=np.zeros(np.max(z_ed)+1)\n",
    "for n in range(np.max(z_ed)+1):\n",
    "    cacca=np.where(z_ed==n)\n",
    "    for c in range(len(cacca[0])):\n",
    "        x=cacca[0][c]\n",
    "        y=int(not cacca[1][c])\n",
    "        who=z_ed[x][y]\n",
    "        k_nn_el[n]+=k[who]\n",
    "    k_nn_el[n]/=k[n]"
   ]
  },
  {
   "cell_type": "code",
   "execution_count": 159,
   "metadata": {
    "ExecuteTime": {
     "end_time": "2019-12-03T16:08:38.382388Z",
     "start_time": "2019-12-03T16:08:38.377791Z"
    },
    "hidden": true
   },
   "outputs": [
    {
     "data": {
      "text/plain": [
       "array([ 4.3125    ,  5.77777778,  6.6       ,  7.66666667,  7.66666667,\n",
       "        6.25      ,  6.25      , 10.25      , 11.8       , 13.5       ,\n",
       "        7.66666667, 16.        , 11.        , 11.6       , 14.5       ,\n",
       "       14.5       ,  4.        , 12.5       , 14.5       , 14.        ,\n",
       "       14.5       , 12.5       , 14.5       ,  8.        ,  4.33333333,\n",
       "        4.66666667, 10.5       ,  8.75      , 11.        ,  9.        ,\n",
       "       10.75      ,  9.        ,  5.08333333,  3.82352941])"
      ]
     },
     "execution_count": 159,
     "metadata": {},
     "output_type": "execute_result"
    }
   ],
   "source": [
    "k_nn_el"
   ]
  },
  {
   "cell_type": "code",
   "execution_count": 162,
   "metadata": {
    "ExecuteTime": {
     "end_time": "2019-12-03T16:09:02.501687Z",
     "start_time": "2019-12-03T16:09:02.498693Z"
    },
    "hidden": true
   },
   "outputs": [
    {
     "data": {
      "text/plain": [
       "True"
      ]
     },
     "execution_count": 162,
     "metadata": {},
     "output_type": "execute_result"
    }
   ],
   "source": [
    "np.all(k_nn==k_nn_el)"
   ]
  },
  {
   "cell_type": "code",
   "execution_count": 163,
   "metadata": {
    "ExecuteTime": {
     "end_time": "2019-12-03T16:10:04.049901Z",
     "start_time": "2019-12-03T16:10:04.045747Z"
    },
    "hidden": true
   },
   "outputs": [],
   "source": [
    "def k_nn_edgelist():\n",
    "    k_nn_el=np.zeros(np.max(z_ed)+1)\n",
    "    for n in range(np.max(z_ed)+1):\n",
    "        cacca=np.where(z_ed==n)\n",
    "        for c in range(len(cacca[0])):\n",
    "            x=cacca[0][c]\n",
    "            y=int(not cacca[1][c])\n",
    "            who=z_ed[x][y]\n",
    "            k_nn_el[n]+=k[who]\n",
    "        k_nn_el[n]/=k[n]\n",
    "    return k_nn_el"
   ]
  },
  {
   "cell_type": "code",
   "execution_count": 164,
   "metadata": {
    "ExecuteTime": {
     "end_time": "2019-12-03T16:10:16.447764Z",
     "start_time": "2019-12-03T16:10:13.965606Z"
    },
    "hidden": true
   },
   "outputs": [
    {
     "name": "stdout",
     "output_type": "stream",
     "text": [
      "301 µs ± 3.43 µs per loop (mean ± std. dev. of 7 runs, 1000 loops each)\n"
     ]
    }
   ],
   "source": [
    "%timeit k_nn_edgelist()"
   ]
  },
  {
   "cell_type": "code",
   "execution_count": 165,
   "metadata": {
    "ExecuteTime": {
     "end_time": "2019-12-03T16:10:59.656685Z",
     "start_time": "2019-12-03T16:10:59.652858Z"
    },
    "hidden": true
   },
   "outputs": [],
   "source": [
    "def k_nn_adj():\n",
    "    k_nn=np.zeros(l_z)\n",
    "    for i_adjl, aa in enumerate(adjl):\n",
    "        k_nn[i_adjl]=np.sum(k[aa])/k[i_adjl]\n",
    "    return k_nn"
   ]
  },
  {
   "cell_type": "code",
   "execution_count": 166,
   "metadata": {
    "ExecuteTime": {
     "end_time": "2019-12-03T16:11:27.800386Z",
     "start_time": "2019-12-03T16:11:16.742958Z"
    },
    "hidden": true
   },
   "outputs": [
    {
     "name": "stdout",
     "output_type": "stream",
     "text": [
      "136 µs ± 412 ns per loop (mean ± std. dev. of 7 runs, 10000 loops each)\n"
     ]
    }
   ],
   "source": [
    "%timeit k_nn_adj()"
   ]
  },
  {
   "cell_type": "markdown",
   "metadata": {},
   "source": [
    "### Other interesting function of numpy"
   ]
  },
  {
   "cell_type": "markdown",
   "metadata": {},
   "source": [
    "#### np.diag()"
   ]
  },
  {
   "cell_type": "code",
   "execution_count": 116,
   "metadata": {
    "ExecuteTime": {
     "end_time": "2019-11-27T15:17:10.860208Z",
     "start_time": "2019-11-27T15:17:10.857191Z"
    }
   },
   "outputs": [
    {
     "data": {
      "text/plain": [
       "array([0, 0, 0, 0])"
      ]
     },
     "execution_count": 116,
     "metadata": {},
     "output_type": "execute_result"
    }
   ],
   "source": [
    "np.diag(adjacency_matrix)"
   ]
  },
  {
   "cell_type": "markdown",
   "metadata": {},
   "source": [
    "extracts the diagonal from a square matrix or"
   ]
  },
  {
   "cell_type": "code",
   "execution_count": 64,
   "metadata": {},
   "outputs": [
    {
     "data": {
      "text/plain": [
       "array([[1, 0, 0, 0],\n",
       "       [0, 2, 0, 0],\n",
       "       [0, 0, 3, 0],\n",
       "       [0, 0, 0, 4]])"
      ]
     },
     "execution_count": 64,
     "metadata": {},
     "output_type": "execute_result"
    }
   ],
   "source": [
    "np.diag([1,2,3,4])"
   ]
  },
  {
   "cell_type": "markdown",
   "metadata": {},
   "source": [
    "builds a diagonal matrix from the array in the argument."
   ]
  },
  {
   "cell_type": "markdown",
   "metadata": {},
   "source": [
    "#### np.vstack()"
   ]
  },
  {
   "cell_type": "code",
   "execution_count": 203,
   "metadata": {
    "ExecuteTime": {
     "end_time": "2019-12-03T16:30:34.569209Z",
     "start_time": "2019-12-03T16:30:34.565434Z"
    }
   },
   "outputs": [
    {
     "data": {
      "text/plain": [
       "array([[0, 1, 2, 3],\n",
       "       [4, 5, 6, 7]])"
      ]
     },
     "execution_count": 203,
     "metadata": {},
     "output_type": "execute_result"
    }
   ],
   "source": [
    "np.vstack((np.arange(4), np.arange(4,8)))"
   ]
  },
  {
   "cell_type": "code",
   "execution_count": 202,
   "metadata": {
    "ExecuteTime": {
     "end_time": "2019-12-03T16:30:32.407400Z",
     "start_time": "2019-12-03T16:30:32.402047Z"
    }
   },
   "outputs": [
    {
     "data": {
      "text/plain": [
       "array([[0, 4],\n",
       "       [1, 5],\n",
       "       [2, 6],\n",
       "       [3, 7]])"
      ]
     },
     "execution_count": 202,
     "metadata": {},
     "output_type": "execute_result"
    }
   ],
   "source": [
    "np.vstack((np.arange(4), np.arange(4,8))).T"
   ]
  },
  {
   "cell_type": "markdown",
   "metadata": {},
   "source": [
    "it stacks the two arrays one over the other."
   ]
  },
  {
   "cell_type": "markdown",
   "metadata": {},
   "source": [
    "#### np.isin()"
   ]
  },
  {
   "cell_type": "code",
   "execution_count": 66,
   "metadata": {},
   "outputs": [],
   "source": [
    "cacca=np.array([0,1,3,4,5,42])"
   ]
  },
  {
   "cell_type": "code",
   "execution_count": 67,
   "metadata": {},
   "outputs": [
    {
     "data": {
      "text/plain": [
       "array([ True, False,  True, False, False,  True])"
      ]
     },
     "execution_count": 67,
     "metadata": {},
     "output_type": "execute_result"
    }
   ],
   "source": [
    "np.isin(cacca, np.array([0,42,3]))"
   ]
  },
  {
   "cell_type": "code",
   "execution_count": 68,
   "metadata": {},
   "outputs": [
    {
     "data": {
      "text/plain": [
       "array([ 0,  3, 42])"
      ]
     },
     "execution_count": 68,
     "metadata": {},
     "output_type": "execute_result"
    }
   ],
   "source": [
    "cacca[np.isin(cacca, np.array([0,42,3]))]"
   ]
  },
  {
   "cell_type": "code",
   "execution_count": 69,
   "metadata": {},
   "outputs": [
    {
     "data": {
      "text/plain": [
       "array([ True,  True,  True])"
      ]
     },
     "execution_count": 69,
     "metadata": {},
     "output_type": "execute_result"
    }
   ],
   "source": [
    "np.isin(np.array([0,42,3]),cacca)"
   ]
  },
  {
   "cell_type": "markdown",
   "metadata": {},
   "source": [
    "### Exercise: \n",
    "6. **calculate the clustering coefficient**\n",
    "6.bis **qualitatively behaviour of the clustering with the degree**\n",
    "7. **qualitatively the network is assortative or disassortative?"
   ]
  },
  {
   "cell_type": "markdown",
   "metadata": {
    "heading_collapsed": true
   },
   "source": [
    "#### 6. The clustering coefficient"
   ]
  },
  {
   "cell_type": "code",
   "execution_count": 171,
   "metadata": {
    "ExecuteTime": {
     "end_time": "2019-12-03T16:17:06.658208Z",
     "start_time": "2019-12-03T16:17:06.654134Z"
    },
    "hidden": true
   },
   "outputs": [
    {
     "data": {
      "text/plain": [
       "True"
      ]
     },
     "execution_count": 171,
     "metadata": {},
     "output_type": "execute_result"
    }
   ],
   "source": [
    "np.all(adjm==adjm**3)"
   ]
  },
  {
   "cell_type": "code",
   "execution_count": 178,
   "metadata": {
    "ExecuteTime": {
     "end_time": "2019-12-03T16:20:39.498106Z",
     "start_time": "2019-12-03T16:20:39.495433Z"
    },
    "hidden": true
   },
   "outputs": [],
   "source": [
    "three_cycles=np.diag(np.dot(np.dot(adjm,adjm),adjm))/2\n",
    "couple_of_k=k*(k-1)/2"
   ]
  },
  {
   "cell_type": "code",
   "execution_count": 179,
   "metadata": {
    "ExecuteTime": {
     "end_time": "2019-12-03T16:20:39.965555Z",
     "start_time": "2019-12-03T16:20:39.962330Z"
    },
    "hidden": true
   },
   "outputs": [
    {
     "data": {
      "text/plain": [
       "array([120.,  36.,  45.,  15.,   3.,   6.,   6.,   6.,  10.,   1.,   3.,\n",
       "         0.,   1.,  10.,   1.,   1.,   1.,   1.,   1.,   3.,   1.,   1.,\n",
       "         1.,  10.,   3.,   3.,   1.,   6.,   3.,   6.,   6.,  15.,  66.,\n",
       "       136.])"
      ]
     },
     "execution_count": 179,
     "metadata": {},
     "output_type": "execute_result"
    }
   ],
   "source": [
    "couple_of_k"
   ]
  },
  {
   "cell_type": "markdown",
   "metadata": {
    "hidden": true
   },
   "source": [
    "Actually there is a zero! How does Python answer this?"
   ]
  },
  {
   "cell_type": "code",
   "execution_count": 183,
   "metadata": {
    "ExecuteTime": {
     "end_time": "2019-12-03T16:21:46.545894Z",
     "start_time": "2019-12-03T16:21:46.541583Z"
    },
    "hidden": true
   },
   "outputs": [
    {
     "name": "stderr",
     "output_type": "stream",
     "text": [
      "/home/fabio/Documents/Lavoro/PythonFiles/networks_01_2020/lib/python3.6/site-packages/ipykernel_launcher.py:1: RuntimeWarning: invalid value encountered in true_divide\n",
      "  \"\"\"Entry point for launching an IPython kernel.\n"
     ]
    },
    {
     "data": {
      "text/plain": [
       "array([0.15      , 0.33333333, 0.24444444, 0.66666667, 0.66666667,\n",
       "       0.5       , 0.5       , 1.        , 0.5       , 0.        ,\n",
       "       0.66666667,        nan, 1.        , 0.6       , 1.        ,\n",
       "       1.        , 1.        , 1.        , 1.        , 0.33333333,\n",
       "       1.        , 1.        , 1.        , 0.4       , 0.33333333,\n",
       "       0.33333333, 1.        , 0.16666667, 0.33333333, 0.66666667,\n",
       "       0.5       , 0.2       , 0.1969697 , 0.11029412])"
      ]
     },
     "execution_count": 183,
     "metadata": {},
     "output_type": "execute_result"
    }
   ],
   "source": [
    "three_cycles/couple_of_k"
   ]
  },
  {
   "cell_type": "markdown",
   "metadata": {
    "hidden": true
   },
   "source": [
    "Nan!"
   ]
  },
  {
   "cell_type": "code",
   "execution_count": 184,
   "metadata": {
    "ExecuteTime": {
     "end_time": "2019-12-03T16:23:06.616302Z",
     "start_time": "2019-12-03T16:23:06.613415Z"
    },
    "hidden": true
   },
   "outputs": [],
   "source": [
    "clus=np.zeros(len(k))\n",
    "for i in range(len(k)):\n",
    "    if couple_of_k[i]>0:\n",
    "        clus[i]=three_cycles[i]/couple_of_k[i]"
   ]
  },
  {
   "cell_type": "code",
   "execution_count": 185,
   "metadata": {
    "ExecuteTime": {
     "end_time": "2019-12-03T16:23:09.718891Z",
     "start_time": "2019-12-03T16:23:09.715651Z"
    },
    "hidden": true
   },
   "outputs": [
    {
     "data": {
      "text/plain": [
       "array([0.15      , 0.33333333, 0.24444444, 0.66666667, 0.66666667,\n",
       "       0.5       , 0.5       , 1.        , 0.5       , 0.        ,\n",
       "       0.66666667, 0.        , 1.        , 0.6       , 1.        ,\n",
       "       1.        , 1.        , 1.        , 1.        , 0.33333333,\n",
       "       1.        , 1.        , 1.        , 0.4       , 0.33333333,\n",
       "       0.33333333, 1.        , 0.16666667, 0.33333333, 0.66666667,\n",
       "       0.5       , 0.2       , 0.1969697 , 0.11029412])"
      ]
     },
     "execution_count": 185,
     "metadata": {},
     "output_type": "execute_result"
    }
   ],
   "source": [
    "clus"
   ]
  },
  {
   "cell_type": "code",
   "execution_count": 186,
   "metadata": {
    "ExecuteTime": {
     "end_time": "2019-12-03T16:23:45.744854Z",
     "start_time": "2019-12-03T16:23:45.741652Z"
    },
    "hidden": true
   },
   "outputs": [
    {
     "data": {
      "text/plain": [
       "0.5706384782076823"
      ]
     },
     "execution_count": 186,
     "metadata": {},
     "output_type": "execute_result"
    }
   ],
   "source": [
    "np.sum(clus)/len(k)"
   ]
  },
  {
   "cell_type": "markdown",
   "metadata": {
    "heading_collapsed": true
   },
   "source": [
    "#### 6.bis What is qualitatively the relation between the degree and the clustering?"
   ]
  },
  {
   "cell_type": "code",
   "execution_count": 204,
   "metadata": {
    "ExecuteTime": {
     "end_time": "2019-12-03T16:30:46.410325Z",
     "start_time": "2019-12-03T16:30:46.406089Z"
    },
    "hidden": true
   },
   "outputs": [
    {
     "data": {
      "text/plain": [
       "array([[16.        ,  0.15      ],\n",
       "       [ 9.        ,  0.33333333],\n",
       "       [10.        ,  0.24444444],\n",
       "       [ 6.        ,  0.66666667],\n",
       "       [ 3.        ,  0.66666667],\n",
       "       [ 4.        ,  0.5       ],\n",
       "       [ 4.        ,  0.5       ],\n",
       "       [ 4.        ,  1.        ],\n",
       "       [ 5.        ,  0.5       ],\n",
       "       [ 2.        ,  0.        ],\n",
       "       [ 3.        ,  0.66666667],\n",
       "       [ 1.        ,  0.        ],\n",
       "       [ 2.        ,  1.        ],\n",
       "       [ 5.        ,  0.6       ],\n",
       "       [ 2.        ,  1.        ],\n",
       "       [ 2.        ,  1.        ],\n",
       "       [ 2.        ,  1.        ],\n",
       "       [ 2.        ,  1.        ],\n",
       "       [ 2.        ,  1.        ],\n",
       "       [ 3.        ,  0.33333333],\n",
       "       [ 2.        ,  1.        ],\n",
       "       [ 2.        ,  1.        ],\n",
       "       [ 2.        ,  1.        ],\n",
       "       [ 5.        ,  0.4       ],\n",
       "       [ 3.        ,  0.33333333],\n",
       "       [ 3.        ,  0.33333333],\n",
       "       [ 2.        ,  1.        ],\n",
       "       [ 4.        ,  0.16666667],\n",
       "       [ 3.        ,  0.33333333],\n",
       "       [ 4.        ,  0.66666667],\n",
       "       [ 4.        ,  0.5       ],\n",
       "       [ 6.        ,  0.2       ],\n",
       "       [12.        ,  0.1969697 ],\n",
       "       [17.        ,  0.11029412]])"
      ]
     },
     "execution_count": 204,
     "metadata": {},
     "output_type": "execute_result"
    }
   ],
   "source": [
    "np.vstack((k, clus)).T"
   ]
  },
  {
   "cell_type": "code",
   "execution_count": 207,
   "metadata": {
    "ExecuteTime": {
     "end_time": "2019-12-03T16:31:53.734261Z",
     "start_time": "2019-12-03T16:31:53.728055Z"
    },
    "hidden": true
   },
   "outputs": [
    {
     "data": {
      "text/plain": [
       "array([[ 1.        ,  0.        ],\n",
       "       [ 2.        ,  1.        ],\n",
       "       [ 2.        ,  1.        ],\n",
       "       [ 2.        ,  1.        ],\n",
       "       [ 2.        ,  1.        ],\n",
       "       [ 2.        ,  1.        ],\n",
       "       [ 2.        ,  1.        ],\n",
       "       [ 2.        ,  1.        ],\n",
       "       [ 2.        ,  1.        ],\n",
       "       [ 2.        ,  1.        ],\n",
       "       [ 2.        ,  1.        ],\n",
       "       [ 2.        ,  0.        ],\n",
       "       [ 3.        ,  0.33333333],\n",
       "       [ 3.        ,  0.66666667],\n",
       "       [ 3.        ,  0.66666667],\n",
       "       [ 3.        ,  0.33333333],\n",
       "       [ 3.        ,  0.33333333],\n",
       "       [ 3.        ,  0.33333333],\n",
       "       [ 4.        ,  1.        ],\n",
       "       [ 4.        ,  0.5       ],\n",
       "       [ 4.        ,  0.66666667],\n",
       "       [ 4.        ,  0.5       ],\n",
       "       [ 4.        ,  0.5       ],\n",
       "       [ 4.        ,  0.16666667],\n",
       "       [ 5.        ,  0.5       ],\n",
       "       [ 5.        ,  0.6       ],\n",
       "       [ 5.        ,  0.4       ],\n",
       "       [ 6.        ,  0.66666667],\n",
       "       [ 6.        ,  0.2       ],\n",
       "       [ 9.        ,  0.33333333],\n",
       "       [10.        ,  0.24444444],\n",
       "       [12.        ,  0.1969697 ],\n",
       "       [16.        ,  0.15      ],\n",
       "       [17.        ,  0.11029412]])"
      ]
     },
     "execution_count": 207,
     "metadata": {},
     "output_type": "execute_result"
    }
   ],
   "source": [
    "np.vstack((k[np.argsort(k)],clus[np.argsort(k)])).T"
   ]
  },
  {
   "cell_type": "markdown",
   "metadata": {},
   "source": [
    "#### 7. Assortativity"
   ]
  },
  {
   "cell_type": "code",
   "execution_count": 208,
   "metadata": {
    "ExecuteTime": {
     "end_time": "2019-12-03T16:34:41.775896Z",
     "start_time": "2019-12-03T16:34:41.771474Z"
    }
   },
   "outputs": [
    {
     "data": {
      "text/plain": [
       "array([[ 1.        , 16.        ],\n",
       "       [ 2.        ,  4.        ],\n",
       "       [ 2.        , 10.5       ],\n",
       "       [ 2.        , 14.5       ],\n",
       "       [ 2.        , 12.5       ],\n",
       "       [ 2.        , 14.5       ],\n",
       "       [ 2.        , 14.5       ],\n",
       "       [ 2.        , 12.5       ],\n",
       "       [ 2.        , 14.5       ],\n",
       "       [ 2.        , 11.        ],\n",
       "       [ 2.        , 14.5       ],\n",
       "       [ 2.        , 13.5       ],\n",
       "       [ 3.        , 14.        ],\n",
       "       [ 3.        ,  7.66666667],\n",
       "       [ 3.        ,  7.66666667],\n",
       "       [ 3.        , 11.        ],\n",
       "       [ 3.        ,  4.33333333],\n",
       "       [ 3.        ,  4.66666667],\n",
       "       [ 4.        , 10.25      ],\n",
       "       [ 4.        , 10.75      ],\n",
       "       [ 4.        ,  9.        ],\n",
       "       [ 4.        ,  6.25      ],\n",
       "       [ 4.        ,  6.25      ],\n",
       "       [ 4.        ,  8.75      ],\n",
       "       [ 5.        , 11.8       ],\n",
       "       [ 5.        , 11.6       ],\n",
       "       [ 5.        ,  8.        ],\n",
       "       [ 6.        ,  7.66666667],\n",
       "       [ 6.        ,  9.        ],\n",
       "       [ 9.        ,  5.77777778],\n",
       "       [10.        ,  6.6       ],\n",
       "       [12.        ,  5.08333333],\n",
       "       [16.        ,  4.3125    ],\n",
       "       [17.        ,  3.82352941]])"
      ]
     },
     "execution_count": 208,
     "metadata": {},
     "output_type": "execute_result"
    }
   ],
   "source": [
    "np.vstack((k[np.argsort(k)],k_nn[np.argsort(k)])).T"
   ]
  },
  {
   "cell_type": "code",
   "execution_count": null,
   "metadata": {},
   "outputs": [],
   "source": []
  },
  {
   "cell_type": "markdown",
   "metadata": {},
   "source": [
    "### Exercise:\n",
    "1. **load the file ../Data/highschool.txt** It is an edge list of a monopartite directed network. \n",
    ">This directed network contains friendships between boys in a small highschool in Illinois. Each boy was asked once in the fall of 1957 and the spring of 1958. This dataset aggregates the results from both dates. A node represents a boy and an edge between two boys shows that the left boy chose the right boy as a friend.\n",
    "\n",
    "--[Konect website](http://konect.uni-koblenz.de/networks/)\n",
    "<br/>**Pay attention!** Those data were downloaded from the web and do not use the Python form for indices: the first element here is 1 and not 0! **Pay attention 2!** the first two lines contains other uninteresting data regarding the network, you can safely skip them. \n",
    "2. **calculate the in- and out-degree sequences** \n",
    "3. **build the adjacency matrix**\n",
    "4. **calculate the in- and out- nearest neighbours degrees**\n",
    "5. **calculate the in- and out-clustering coefficients**"
   ]
  },
  {
   "cell_type": "code",
   "execution_count": null,
   "metadata": {},
   "outputs": [],
   "source": []
  }
 ],
 "metadata": {
  "kernelspec": {
   "display_name": "Python 3",
   "language": "python",
   "name": "python3"
  },
  "language_info": {
   "codemirror_mode": {
    "name": "ipython",
    "version": 3
   },
   "file_extension": ".py",
   "mimetype": "text/x-python",
   "name": "python",
   "nbconvert_exporter": "python",
   "pygments_lexer": "ipython3",
   "version": "3.5.2"
  },
  "latex_envs": {
   "LaTeX_envs_menu_present": true,
   "autoclose": false,
   "autocomplete": true,
   "bibliofile": "biblio.bib",
   "cite_by": "apalike",
   "current_citInitial": 1,
   "eqLabelWithNumbers": true,
   "eqNumInitial": 1,
   "hotkeys": {
    "equation": "Ctrl-E",
    "itemize": "Ctrl-I"
   },
   "labels_anchors": false,
   "latex_user_defs": false,
   "report_style_numbering": false,
   "user_envs_cfg": false
  },
  "toc": {
   "base_numbering": 1,
   "nav_menu": {},
   "number_sections": false,
   "sideBar": true,
   "skip_h1_title": true,
   "title_cell": "Table of Contents",
   "title_sidebar": "Contents",
   "toc_cell": false,
   "toc_position": {},
   "toc_section_display": true,
   "toc_window_display": true
  },
  "varInspector": {
   "cols": {
    "lenName": 16,
    "lenType": 16,
    "lenVar": 40
   },
   "kernels_config": {
    "python": {
     "delete_cmd_postfix": "",
     "delete_cmd_prefix": "del ",
     "library": "var_list.py",
     "varRefreshCmd": "print(var_dic_list())"
    },
    "r": {
     "delete_cmd_postfix": ") ",
     "delete_cmd_prefix": "rm(",
     "library": "var_list.r",
     "varRefreshCmd": "cat(var_dic_list()) "
    }
   },
   "types_to_exclude": [
    "module",
    "function",
    "builtin_function_or_method",
    "instance",
    "_Feature"
   ],
   "window_display": false
  }
 },
 "nbformat": 4,
 "nbformat_minor": 2
}
