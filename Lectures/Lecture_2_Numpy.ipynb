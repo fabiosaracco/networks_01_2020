{
 "cells": [
  {
   "cell_type": "markdown",
   "metadata": {},
   "source": [
    "# Lecture 2: Numpy"
   ]
  },
  {
   "cell_type": "markdown",
   "metadata": {},
   "source": [
    "![](../Images/l2_numpy.png) [numpy](http://www.numpy.org/) is cool for a lot of reasons, but mostly because it is the python module for playing with big (or almost big) array and embedding non trivial mathematical functions. **Evaluate the following cell!**"
   ]
  },
  {
   "cell_type": "code",
   "execution_count": 1,
   "metadata": {
    "ExecuteTime": {
     "end_time": "2021-03-02T13:52:41.966968Z",
     "start_time": "2021-03-02T13:52:41.270048Z"
    }
   },
   "outputs": [],
   "source": [
    "import numpy as np"
   ]
  },
  {
   "cell_type": "markdown",
   "metadata": {},
   "source": [
    "## numpy arrays"
   ]
  },
  {
   "cell_type": "code",
   "execution_count": 2,
   "metadata": {
    "ExecuteTime": {
     "end_time": "2019-11-27T14:21:31.848364Z",
     "start_time": "2019-11-27T14:21:31.845483Z"
    }
   },
   "outputs": [],
   "source": [
    "cacca=np.array([[1, 2, 3], [4,5,6]])"
   ]
  },
  {
   "cell_type": "code",
   "execution_count": 3,
   "metadata": {
    "ExecuteTime": {
     "end_time": "2019-11-27T14:21:32.090396Z",
     "start_time": "2019-11-27T14:21:32.082601Z"
    }
   },
   "outputs": [
    {
     "data": {
      "text/plain": [
       "array([[1, 2, 3],\n",
       "       [4, 5, 6]])"
      ]
     },
     "execution_count": 3,
     "metadata": {},
     "output_type": "execute_result"
    }
   ],
   "source": [
    "cacca"
   ]
  },
  {
   "cell_type": "markdown",
   "metadata": {},
   "source": [
    "#### .size"
   ]
  },
  {
   "cell_type": "code",
   "execution_count": 4,
   "metadata": {},
   "outputs": [
    {
     "data": {
      "text/plain": [
       "6"
      ]
     },
     "execution_count": 4,
     "metadata": {},
     "output_type": "execute_result"
    }
   ],
   "source": [
    "cacca.size"
   ]
  },
  {
   "cell_type": "markdown",
   "metadata": {},
   "source": [
    "#### .shape"
   ]
  },
  {
   "cell_type": "code",
   "execution_count": 5,
   "metadata": {
    "ExecuteTime": {
     "end_time": "2019-11-27T14:27:19.559942Z",
     "start_time": "2019-11-27T14:27:19.557197Z"
    }
   },
   "outputs": [
    {
     "data": {
      "text/plain": [
       "(2, 3)"
      ]
     },
     "execution_count": 5,
     "metadata": {},
     "output_type": "execute_result"
    }
   ],
   "source": [
    "cacca.shape"
   ]
  },
  {
   "cell_type": "markdown",
   "metadata": {},
   "source": [
    "#### Accessing elements"
   ]
  },
  {
   "cell_type": "code",
   "execution_count": 6,
   "metadata": {
    "ExecuteTime": {
     "end_time": "2019-11-27T14:27:20.784171Z",
     "start_time": "2019-11-27T14:27:20.781146Z"
    }
   },
   "outputs": [
    {
     "data": {
      "text/plain": [
       "array([1, 2, 3])"
      ]
     },
     "execution_count": 6,
     "metadata": {},
     "output_type": "execute_result"
    }
   ],
   "source": [
    "cacca[0]"
   ]
  },
  {
   "cell_type": "code",
   "execution_count": 7,
   "metadata": {
    "ExecuteTime": {
     "end_time": "2019-11-27T14:27:21.193461Z",
     "start_time": "2019-11-27T14:27:21.189552Z"
    }
   },
   "outputs": [
    {
     "data": {
      "text/plain": [
       "2"
      ]
     },
     "execution_count": 7,
     "metadata": {},
     "output_type": "execute_result"
    }
   ],
   "source": [
    "cacca[0,1]"
   ]
  },
  {
   "cell_type": "code",
   "execution_count": 8,
   "metadata": {
    "ExecuteTime": {
     "end_time": "2019-11-27T14:27:21.477563Z",
     "start_time": "2019-11-27T14:27:21.474570Z"
    }
   },
   "outputs": [
    {
     "data": {
      "text/plain": [
       "array([1, 4])"
      ]
     },
     "execution_count": 8,
     "metadata": {},
     "output_type": "execute_result"
    }
   ],
   "source": [
    "cacca[:,0]"
   ]
  },
  {
   "cell_type": "markdown",
   "metadata": {},
   "source": [
    "#### Operation on arrays\n",
    "Operation element by element!"
   ]
  },
  {
   "cell_type": "code",
   "execution_count": 10,
   "metadata": {},
   "outputs": [
    {
     "data": {
      "text/plain": [
       "array([[1, 2, 3],\n",
       "       [4, 5, 6]])"
      ]
     },
     "execution_count": 10,
     "metadata": {},
     "output_type": "execute_result"
    }
   ],
   "source": [
    "cacca"
   ]
  },
  {
   "cell_type": "code",
   "execution_count": 11,
   "metadata": {
    "ExecuteTime": {
     "end_time": "2019-11-27T14:27:22.461847Z",
     "start_time": "2019-11-27T14:27:22.458465Z"
    }
   },
   "outputs": [
    {
     "data": {
      "text/plain": [
       "array([[ 2.,  4.,  6.],\n",
       "       [ 8., 10., 12.]])"
      ]
     },
     "execution_count": 11,
     "metadata": {},
     "output_type": "execute_result"
    }
   ],
   "source": [
    "cacca *2."
   ]
  },
  {
   "cell_type": "code",
   "execution_count": 12,
   "metadata": {
    "ExecuteTime": {
     "end_time": "2019-11-27T14:27:22.822042Z",
     "start_time": "2019-11-27T14:27:22.818960Z"
    }
   },
   "outputs": [
    {
     "data": {
      "text/plain": [
       "array([[1, 0, 1],\n",
       "       [0, 1, 0]])"
      ]
     },
     "execution_count": 12,
     "metadata": {},
     "output_type": "execute_result"
    }
   ],
   "source": [
    "cacca %2"
   ]
  },
  {
   "cell_type": "markdown",
   "metadata": {},
   "source": [
    "#### Mask\n",
    "You can access the elements of an numpy array even with a boolean numpy array"
   ]
  },
  {
   "cell_type": "code",
   "execution_count": 15,
   "metadata": {
    "ExecuteTime": {
     "end_time": "2019-11-27T14:27:24.381663Z",
     "start_time": "2019-11-27T14:27:24.378752Z"
    }
   },
   "outputs": [],
   "source": [
    "np_mask=cacca %2==0"
   ]
  },
  {
   "cell_type": "code",
   "execution_count": 17,
   "metadata": {},
   "outputs": [
    {
     "data": {
      "text/plain": [
       "array([[False,  True, False],\n",
       "       [ True, False,  True]])"
      ]
     },
     "execution_count": 17,
     "metadata": {},
     "output_type": "execute_result"
    }
   ],
   "source": [
    "np_mask"
   ]
  },
  {
   "cell_type": "code",
   "execution_count": 16,
   "metadata": {
    "ExecuteTime": {
     "end_time": "2019-11-27T14:27:26.591190Z",
     "start_time": "2019-11-27T14:27:26.587970Z"
    }
   },
   "outputs": [
    {
     "data": {
      "text/plain": [
       "array([2, 4, 6])"
      ]
     },
     "execution_count": 16,
     "metadata": {},
     "output_type": "execute_result"
    }
   ],
   "source": [
    "cacca[np_mask]"
   ]
  },
  {
   "cell_type": "markdown",
   "metadata": {},
   "source": [
    "#### Data types and structured data types"
   ]
  },
  {
   "cell_type": "code",
   "execution_count": 18,
   "metadata": {
    "ExecuteTime": {
     "end_time": "2019-11-27T14:27:27.909853Z",
     "start_time": "2019-11-27T14:27:27.906268Z"
    }
   },
   "outputs": [
    {
     "data": {
      "text/plain": [
       "array([[1., 2., 3.],\n",
       "       [4., 5., 6.]])"
      ]
     },
     "execution_count": 18,
     "metadata": {},
     "output_type": "execute_result"
    }
   ],
   "source": [
    "np.array([[1, 2, 3], [4,5,6]], dtype=float)"
   ]
  },
  {
   "cell_type": "code",
   "execution_count": 19,
   "metadata": {
    "ExecuteTime": {
     "end_time": "2019-11-27T14:27:28.165852Z",
     "start_time": "2019-11-27T14:27:28.162147Z"
    }
   },
   "outputs": [
    {
     "data": {
      "text/plain": [
       "array([[1.0, 'cacca', 42],\n",
       "       [0, 'bad', 1.4]], dtype=object)"
      ]
     },
     "execution_count": 19,
     "metadata": {},
     "output_type": "execute_result"
    }
   ],
   "source": [
    "np.array([[1., 'cacca', 42], [0,'bad',1.4]], dtype=object)"
   ]
  },
  {
   "cell_type": "code",
   "execution_count": 20,
   "metadata": {
    "ExecuteTime": {
     "end_time": "2019-11-27T14:27:28.393337Z",
     "start_time": "2019-11-27T14:27:28.387060Z"
    }
   },
   "outputs": [
    {
     "ename": "ValueError",
     "evalue": "could not convert string to float: 'cacca'",
     "output_type": "error",
     "traceback": [
      "\u001b[0;31m---------------------------------------------------------------------------\u001b[0m",
      "\u001b[0;31mValueError\u001b[0m                                Traceback (most recent call last)",
      "\u001b[0;32m<ipython-input-20-3b2924ff78d0>\u001b[0m in \u001b[0;36m<module>\u001b[0;34m\u001b[0m\n\u001b[0;32m----> 1\u001b[0;31m \u001b[0mnp\u001b[0m\u001b[0;34m.\u001b[0m\u001b[0marray\u001b[0m\u001b[0;34m(\u001b[0m\u001b[0;34m[\u001b[0m\u001b[0;34m[\u001b[0m\u001b[0;36m1.\u001b[0m\u001b[0;34m,\u001b[0m \u001b[0;34m'cacca'\u001b[0m\u001b[0;34m,\u001b[0m \u001b[0;36m42\u001b[0m\u001b[0;34m]\u001b[0m\u001b[0;34m,\u001b[0m \u001b[0;34m[\u001b[0m\u001b[0;36m0\u001b[0m\u001b[0;34m,\u001b[0m\u001b[0;34m'bad'\u001b[0m\u001b[0;34m,\u001b[0m\u001b[0;36m1.4\u001b[0m\u001b[0;34m]\u001b[0m\u001b[0;34m]\u001b[0m\u001b[0;34m,\u001b[0m \u001b[0mdtype\u001b[0m\u001b[0;34m=\u001b[0m\u001b[0mfloat\u001b[0m\u001b[0;34m)\u001b[0m\u001b[0;34m\u001b[0m\u001b[0m\n\u001b[0m",
      "\u001b[0;31mValueError\u001b[0m: could not convert string to float: 'cacca'"
     ]
    }
   ],
   "source": [
    "np.array([[1., 'cacca', 42], [0,'bad',1.4]], dtype=float)"
   ]
  },
  {
   "cell_type": "markdown",
   "metadata": {},
   "source": [
    "##### Structured data type"
   ]
  },
  {
   "cell_type": "code",
<<<<<<< HEAD
   "execution_count": 2,
=======
   "execution_count": 21,
>>>>>>> d2099c8247dacd55a9820162054bdca9e48be529
   "metadata": {
    "ExecuteTime": {
     "end_time": "2021-03-02T13:52:48.604201Z",
     "start_time": "2021-03-02T13:52:48.598033Z"
    }
   },
   "outputs": [],
   "source": [
    "tmnt_list=['Donatello', 'Raffaello', 'Michelangelo', 'Leonardo']\n",
    "tmnt_ages=[14, 15, 13, 16]"
   ]
  },
  {
   "cell_type": "markdown",
   "metadata": {},
   "source": [
    "*En passant*, a matter of elegance:"
   ]
  },
  {
   "cell_type": "code",
<<<<<<< HEAD
   "execution_count": 9,
=======
   "execution_count": 28,
>>>>>>> d2099c8247dacd55a9820162054bdca9e48be529
   "metadata": {
    "ExecuteTime": {
     "end_time": "2021-03-02T13:53:17.145907Z",
     "start_time": "2021-03-02T13:53:17.141255Z"
    }
   },
   "outputs": [],
   "source": [
<<<<<<< HEAD
    "tmnt_np=np.array(list(zip(tmnt_ages,tmnt_list)), dtype=[('age', 'i8'), ('name','U20')])"
=======
    "tmnt_ugly=np.array(list(zip(tmnt_ages,tmnt_list)), dtype=[('age', 'i8'), ('name','U20')])"
   ]
  },
  {
   "cell_type": "markdown",
   "metadata": {},
   "source": [
    "'i8' is a 8 byte (quite long, indeed), while 'U20' is a 20-characters string in unicode:\n",
    "![](../Images/l2_dtype.png)\n",
    "[Check the link to numpy's manual](https://numpy.org/doc/stable/reference/arrays.dtypes.html)"
   ]
  },
  {
   "cell_type": "code",
   "execution_count": 22,
   "metadata": {},
   "outputs": [],
   "source": [
    "ages_and_names_zip=zip(tmnt_ages,tmnt_list)"
>>>>>>> d2099c8247dacd55a9820162054bdca9e48be529
   ]
  },
  {
   "cell_type": "code",
<<<<<<< HEAD
   "execution_count": 10,
=======
   "execution_count": 23,
   "metadata": {},
   "outputs": [
    {
     "data": {
      "text/plain": [
       "<zip at 0x7f516002a6c8>"
      ]
     },
     "execution_count": 23,
     "metadata": {},
     "output_type": "execute_result"
    }
   ],
   "source": [
    "ages_and_names_zip"
   ]
  },
  {
   "cell_type": "code",
   "execution_count": 24,
   "metadata": {},
   "outputs": [],
   "source": [
    "ages_and_names_list=list(ages_and_names_zip)"
   ]
  },
  {
   "cell_type": "code",
   "execution_count": 25,
   "metadata": {},
   "outputs": [
    {
     "data": {
      "text/plain": [
       "[(14, 'Donatello'), (15, 'Raffaello'), (13, 'Michelangelo'), (16, 'Leonardo')]"
      ]
     },
     "execution_count": 25,
     "metadata": {},
     "output_type": "execute_result"
    }
   ],
   "source": [
    "ages_and_names_list"
   ]
  },
  {
   "cell_type": "code",
   "execution_count": 26,
   "metadata": {},
   "outputs": [],
   "source": [
    "tmnt_np=np.array(ages_and_names_list, dtype=[('age', 'i8'), ('name','U20')])"
   ]
  },
  {
   "cell_type": "code",
   "execution_count": 29,
   "metadata": {},
   "outputs": [
    {
     "data": {
      "text/plain": [
       "array([ True,  True,  True,  True])"
      ]
     },
     "execution_count": 29,
     "metadata": {},
     "output_type": "execute_result"
    }
   ],
   "source": [
    "tmnt_np==tmnt_ugly"
   ]
  },
  {
   "cell_type": "markdown",
   "metadata": {},
   "source": [
    "With the _ugly_ versions is much easier to encounter in mistakes, which are even harder to find. Nevertheless, let's go back to our point: "
   ]
  },
  {
   "cell_type": "code",
   "execution_count": 30,
>>>>>>> d2099c8247dacd55a9820162054bdca9e48be529
   "metadata": {
    "ExecuteTime": {
     "end_time": "2021-03-02T13:53:18.668203Z",
     "start_time": "2021-03-02T13:53:18.660471Z"
    }
   },
   "outputs": [
    {
     "data": {
      "text/plain": [
       "array([(14, 'Donatello'), (15, 'Raffaello'), (13, 'Michelangelo'),\n",
       "       (16, 'Leonardo')], dtype=[('age', '<i8'), ('name', '<U20')])"
      ]
     },
<<<<<<< HEAD
     "execution_count": 10,
=======
     "execution_count": 30,
>>>>>>> d2099c8247dacd55a9820162054bdca9e48be529
     "metadata": {},
     "output_type": "execute_result"
    }
   ],
   "source": [
    "tmnt_np"
   ]
  },
  {
   "cell_type": "code",
<<<<<<< HEAD
   "execution_count": 11,
=======
   "execution_count": 31,
>>>>>>> d2099c8247dacd55a9820162054bdca9e48be529
   "metadata": {
    "ExecuteTime": {
     "end_time": "2021-03-02T13:53:19.513546Z",
     "start_time": "2021-03-02T13:53:19.509155Z"
    }
   },
   "outputs": [
    {
     "data": {
      "text/plain": [
       "array(['Donatello', 'Raffaello', 'Michelangelo', 'Leonardo'], dtype='<U20')"
      ]
     },
<<<<<<< HEAD
     "execution_count": 11,
=======
     "execution_count": 31,
>>>>>>> d2099c8247dacd55a9820162054bdca9e48be529
     "metadata": {},
     "output_type": "execute_result"
    }
   ],
   "source": [
    "tmnt_np['name']"
   ]
  },
  {
   "cell_type": "code",
<<<<<<< HEAD
   "execution_count": 12,
=======
   "execution_count": 32,
>>>>>>> d2099c8247dacd55a9820162054bdca9e48be529
   "metadata": {
    "ExecuteTime": {
     "end_time": "2021-03-02T13:53:20.081014Z",
     "start_time": "2021-03-02T13:53:20.077074Z"
    }
   },
   "outputs": [
    {
     "data": {
      "text/plain": [
       "(14, 'Donatello')"
      ]
     },
<<<<<<< HEAD
     "execution_count": 12,
=======
     "execution_count": 32,
>>>>>>> d2099c8247dacd55a9820162054bdca9e48be529
     "metadata": {},
     "output_type": "execute_result"
    }
   ],
   "source": [
    "tmnt_np[0]"
   ]
  },
  {
   "cell_type": "markdown",
   "metadata": {
    "ExecuteTime": {
     "end_time": "2019-12-03T16:51:18.135316Z",
     "start_time": "2019-12-03T16:51:18.024994Z"
    }
   },
   "source": [
    "![](../Images/l2_ninja_turtle.jpg)"
   ]
  },
  {
   "cell_type": "markdown",
   "metadata": {},
   "source": [
    "###### Searching on array with structured data type"
   ]
  },
  {
   "cell_type": "code",
<<<<<<< HEAD
   "execution_count": 14,
=======
   "execution_count": 33,
   "metadata": {
    "ExecuteTime": {
     "end_time": "2019-11-27T14:27:36.509042Z",
     "start_time": "2019-11-27T14:27:36.506087Z"
    }
   },
   "outputs": [],
   "source": [
    "Leonardo_mask=tmnt_np['name']=='Leonardo'"
   ]
  },
  {
   "cell_type": "code",
   "execution_count": 34,
   "metadata": {},
   "outputs": [
    {
     "data": {
      "text/plain": [
       "array([False, False, False,  True])"
      ]
     },
     "execution_count": 34,
     "metadata": {},
     "output_type": "execute_result"
    }
   ],
   "source": [
    "tmnt_np['name']=='Leonardo'"
   ]
  },
  {
   "cell_type": "code",
   "execution_count": 35,
>>>>>>> d2099c8247dacd55a9820162054bdca9e48be529
   "metadata": {
    "ExecuteTime": {
     "end_time": "2021-03-02T13:53:25.452308Z",
     "start_time": "2021-03-02T13:53:25.446898Z"
    }
   },
   "outputs": [
    {
     "data": {
      "text/plain": [
       "array([(16, 'Leonardo')], dtype=[('age', '<i8'), ('name', '<U20')])"
      ]
     },
<<<<<<< HEAD
     "execution_count": 14,
=======
     "execution_count": 35,
>>>>>>> d2099c8247dacd55a9820162054bdca9e48be529
     "metadata": {},
     "output_type": "execute_result"
    }
   ],
   "source": [
    "tmnt_np[Leonardo_mask]"
   ]
  },
  {
   "cell_type": "code",
<<<<<<< HEAD
   "execution_count": 15,
=======
   "execution_count": 36,
>>>>>>> d2099c8247dacd55a9820162054bdca9e48be529
   "metadata": {
    "ExecuteTime": {
     "end_time": "2021-03-02T13:53:26.619298Z",
     "start_time": "2021-03-02T13:53:26.612486Z"
    }
   },
   "outputs": [
    {
     "data": {
      "text/plain": [
       "array([16])"
      ]
     },
<<<<<<< HEAD
     "execution_count": 15,
=======
     "execution_count": 36,
>>>>>>> d2099c8247dacd55a9820162054bdca9e48be529
     "metadata": {},
     "output_type": "execute_result"
    }
   ],
   "source": [
    "tmnt_np[Leonardo_mask]['age']"
   ]
  },
  {
   "cell_type": "markdown",
   "metadata": {},
   "source": [
    "### Operation among arrays"
   ]
  },
  {
   "cell_type": "code",
   "execution_count": 37,
   "metadata": {
    "ExecuteTime": {
     "end_time": "2019-11-27T14:27:53.517628Z",
     "start_time": "2019-11-27T14:27:53.514553Z"
    }
   },
   "outputs": [
    {
     "data": {
      "text/plain": [
       "array([[1, 2, 3],\n",
       "       [4, 5, 6]])"
      ]
     },
     "execution_count": 37,
     "metadata": {},
     "output_type": "execute_result"
    }
   ],
   "source": [
    "cacca"
   ]
  },
  {
   "cell_type": "markdown",
   "metadata": {},
   "source": [
    "#### Transpose"
   ]
  },
  {
   "cell_type": "code",
   "execution_count": 38,
   "metadata": {
    "ExecuteTime": {
     "end_time": "2019-11-27T14:28:01.121438Z",
     "start_time": "2019-11-27T14:28:01.118260Z"
    }
   },
   "outputs": [
    {
     "data": {
      "text/plain": [
       "array([[1, 4],\n",
       "       [2, 5],\n",
       "       [3, 6]])"
      ]
     },
     "execution_count": 38,
     "metadata": {},
     "output_type": "execute_result"
    }
   ],
   "source": [
    "cacca.T"
   ]
  },
  {
   "cell_type": "markdown",
   "metadata": {},
   "source": [
    "#### np.dot"
   ]
  },
  {
   "cell_type": "code",
   "execution_count": 39,
   "metadata": {},
   "outputs": [
    {
     "data": {
      "text/plain": [
       "array([[14, 32],\n",
       "       [32, 77]])"
      ]
     },
     "execution_count": 39,
     "metadata": {},
     "output_type": "execute_result"
    }
   ],
   "source": [
    "np.dot(cacca, cacca.T)"
   ]
  },
  {
   "cell_type": "markdown",
   "metadata": {},
   "source": [
    "#### Reading/writing from/to file"
   ]
  },
  {
   "cell_type": "code",
   "execution_count": 40,
   "metadata": {
    "ExecuteTime": {
     "end_time": "2019-11-27T14:29:07.902203Z",
     "start_time": "2019-11-27T14:29:07.899665Z"
    }
   },
   "outputs": [],
   "source": [
    "adjacency_matrix=np.array([[0, 1, 0, 1],\n",
    "       [0, 0, 1, 1],\n",
    "       [1, 1, 0, 1],\n",
    "       [0, 0, 1, 0]])"
   ]
  },
  {
   "cell_type": "code",
   "execution_count": 41,
   "metadata": {
    "ExecuteTime": {
     "end_time": "2019-11-27T14:29:17.592633Z",
     "start_time": "2019-11-27T14:29:17.589589Z"
    }
   },
   "outputs": [],
   "source": [
    "np.savetxt('something_new.txt',adjacency_matrix, fmt='%u', delimiter=',')"
   ]
  },
  {
   "cell_type": "markdown",
   "metadata": {},
   "source": [
    "fmt=format of the saved data. 'u' stays for _unsigned decimal integer_. You can choose among 'd' (_signed decimal integer_), 's' (_string of characters_), 'e' or 'E' (_scientific notation with e or E_), or 'f' (_decimal floating point_), the default one.\n"
   ]
  },
  {
   "cell_type": "code",
   "execution_count": 42,
   "metadata": {
    "ExecuteTime": {
     "end_time": "2019-11-27T14:29:18.262023Z",
     "start_time": "2019-11-27T14:29:18.256735Z"
    }
   },
   "outputs": [
    {
     "data": {
      "text/plain": [
       "array([[0, 1, 0, 1],\n",
       "       [0, 0, 1, 1],\n",
       "       [1, 1, 0, 1],\n",
       "       [0, 0, 1, 0]])"
      ]
     },
     "execution_count": 42,
     "metadata": {},
     "output_type": "execute_result"
    }
   ],
   "source": [
    "np.genfromtxt('something_new.txt', delimiter=',', dtype='i8')"
   ]
  },
  {
   "cell_type": "markdown",
   "metadata": {},
   "source": [
    "dtype is the analogous of fmt: 'i8' is a 8 bit integer."
   ]
  },
  {
   "cell_type": "markdown",
   "metadata": {
    "ExecuteTime": {
     "end_time": "2019-11-27T14:34:38.233324Z",
     "start_time": "2019-11-27T14:34:38.230066Z"
    }
   },
   "source": [
    "Actually, there are multiple ways to read from/save to file in numpy\n",
    "\n",
    "| file type | save | read | pro | con |\n",
    "|:---:|:---:|:---:|:---:|:---:|\n",
    "| .txt, .csv | np.savetxt  | np.genfromtxt, np.loadtxt  | files can be read by anyone | it is not memory efficient |\n",
    "| .npy, .npz | np.save, np.savez | np.load  | it is memory efficient; it conserves the array data structure | files can be read only by numpy |\n"
   ]
  },
  {
   "cell_type": "markdown",
   "metadata": {},
   "source": [
    "#### Note on Jupyter notebooks\n",
    "You do not know either what the function is doing, what are the inputs, the outputs or even if there are any crucial options? No worry! **Shift+Tab** inside the parentheses!"
   ]
  },
  {
   "cell_type": "code",
   "execution_count": null,
   "metadata": {},
   "outputs": [],
   "source": [
    "np.genfromtxt()"
   ]
  },
  {
   "cell_type": "markdown",
   "metadata": {},
   "source": [
    "### Interesting stuff and functions"
   ]
  },
  {
   "cell_type": "markdown",
   "metadata": {},
   "source": [
    "#### np.zeros()"
   ]
  },
  {
   "cell_type": "code",
   "execution_count": 43,
   "metadata": {
    "ExecuteTime": {
     "end_time": "2019-11-27T14:47:10.512438Z",
     "start_time": "2019-11-27T14:47:10.503540Z"
    }
   },
   "outputs": [
    {
     "data": {
      "text/plain": [
       "array([0., 0., 0., 0., 0., 0., 0., 0., 0., 0., 0., 0., 0., 0., 0., 0., 0.,\n",
       "       0., 0., 0., 0., 0., 0., 0., 0., 0., 0., 0., 0., 0., 0., 0., 0., 0.,\n",
       "       0., 0., 0., 0., 0., 0., 0., 0.])"
      ]
     },
     "execution_count": 43,
     "metadata": {},
     "output_type": "execute_result"
    }
   ],
   "source": [
    "np.zeros(42)"
   ]
  },
  {
   "cell_type": "code",
   "execution_count": 45,
   "metadata": {
    "ExecuteTime": {
     "end_time": "2019-11-27T14:46:56.730839Z",
     "start_time": "2019-11-27T14:46:56.726565Z"
    }
   },
   "outputs": [
    {
     "data": {
      "text/plain": [
       "array([0, 0, 0, 0, 0, 0, 0, 0, 0, 0, 0, 0, 0, 0, 0, 0, 0, 0, 0, 0, 0, 0,\n",
       "       0, 0, 0, 0, 0, 0, 0, 0, 0, 0, 0, 0, 0, 0, 0, 0, 0, 0, 0, 0])"
      ]
     },
     "execution_count": 45,
     "metadata": {},
     "output_type": "execute_result"
    }
   ],
   "source": [
    "np.zeros(42, dtype='i8')"
   ]
  },
  {
   "cell_type": "code",
   "execution_count": 46,
   "metadata": {
    "ExecuteTime": {
     "end_time": "2019-11-27T14:46:57.196614Z",
     "start_time": "2019-11-27T14:46:57.193372Z"
    }
   },
   "outputs": [
    {
     "data": {
      "text/plain": [
       "array(['', '', '', '', '', '', '', '', '', '', '', '', '', '', '', '', '',\n",
       "       '', '', '', '', '', '', '', '', '', '', '', '', '', '', '', '', '',\n",
       "       '', '', '', '', '', '', '', ''], dtype='<U1')"
      ]
     },
     "execution_count": 46,
     "metadata": {},
     "output_type": "execute_result"
    }
   ],
   "source": [
    "np.zeros(42, dtype=str)"
   ]
  },
  {
   "cell_type": "markdown",
   "metadata": {},
   "source": [
    "#### np.ones()"
   ]
  },
  {
   "cell_type": "code",
   "execution_count": 47,
   "metadata": {
    "ExecuteTime": {
     "end_time": "2019-11-27T14:47:58.640095Z",
     "start_time": "2019-11-27T14:47:58.633516Z"
    }
   },
   "outputs": [
    {
     "data": {
      "text/plain": [
       "array([1., 1., 1., 1., 1., 1., 1., 1., 1., 1., 1., 1., 1., 1., 1., 1., 1.,\n",
       "       1., 1., 1., 1., 1., 1., 1., 1., 1., 1., 1., 1., 1., 1., 1., 1., 1.,\n",
       "       1., 1., 1., 1., 1., 1., 1., 1.])"
      ]
     },
     "execution_count": 47,
     "metadata": {},
     "output_type": "execute_result"
    }
   ],
   "source": [
    "np.ones(42)"
   ]
  },
  {
   "cell_type": "code",
   "execution_count": 48,
   "metadata": {
    "ExecuteTime": {
     "end_time": "2019-11-27T14:48:03.272970Z",
     "start_time": "2019-11-27T14:48:03.269476Z"
    }
   },
   "outputs": [
    {
     "data": {
      "text/plain": [
       "array([1, 1, 1, 1, 1, 1, 1, 1, 1, 1, 1, 1, 1, 1, 1, 1, 1, 1, 1, 1, 1, 1,\n",
       "       1, 1, 1, 1, 1, 1, 1, 1, 1, 1, 1, 1, 1, 1, 1, 1, 1, 1, 1, 1])"
      ]
     },
     "execution_count": 48,
     "metadata": {},
     "output_type": "execute_result"
    }
   ],
   "source": [
    "np.ones(42, dtype='int')"
   ]
  },
  {
   "cell_type": "code",
   "execution_count": 49,
   "metadata": {
    "ExecuteTime": {
     "end_time": "2019-11-27T14:48:03.920588Z",
     "start_time": "2019-11-27T14:48:03.916546Z"
    }
   },
   "outputs": [
    {
     "data": {
      "text/plain": [
       "array(['1', '1', '1', '1', '1', '1', '1', '1', '1', '1', '1', '1', '1',\n",
       "       '1', '1', '1', '1', '1', '1', '1', '1', '1', '1', '1', '1', '1',\n",
       "       '1', '1', '1', '1', '1', '1', '1', '1', '1', '1', '1', '1', '1',\n",
       "       '1', '1', '1'], dtype='<U1')"
      ]
     },
     "execution_count": 49,
     "metadata": {},
     "output_type": "execute_result"
    }
   ],
   "source": [
    "np.ones(42, dtype=str)"
   ]
  },
  {
   "cell_type": "markdown",
   "metadata": {},
   "source": [
    "#### np.arange()"
   ]
  },
  {
   "cell_type": "code",
   "execution_count": 50,
   "metadata": {
    "ExecuteTime": {
     "end_time": "2019-11-27T14:48:10.904554Z",
     "start_time": "2019-11-27T14:48:10.901015Z"
    }
   },
   "outputs": [
    {
     "data": {
      "text/plain": [
       "array([ 0,  1,  2,  3,  4,  5,  6,  7,  8,  9, 10, 11, 12, 13, 14, 15, 16,\n",
       "       17, 18, 19, 20, 21, 22, 23, 24, 25, 26, 27, 28, 29, 30, 31, 32, 33,\n",
       "       34, 35, 36, 37, 38, 39, 40, 41])"
      ]
     },
     "execution_count": 50,
     "metadata": {},
     "output_type": "execute_result"
    }
   ],
   "source": [
    "np.arange(42)"
   ]
  },
  {
   "cell_type": "code",
   "execution_count": 51,
   "metadata": {
    "ExecuteTime": {
     "end_time": "2019-11-27T14:48:13.016891Z",
     "start_time": "2019-11-27T14:48:13.009280Z"
    }
   },
   "outputs": [
    {
     "data": {
      "text/plain": [
       "array([ 4,  5,  6,  7,  8,  9, 10, 11, 12, 13, 14, 15, 16, 17, 18, 19, 20,\n",
       "       21, 22, 23, 24, 25, 26, 27, 28, 29, 30, 31, 32, 33, 34, 35, 36, 37,\n",
       "       38, 39, 40, 41])"
      ]
     },
     "execution_count": 51,
     "metadata": {},
     "output_type": "execute_result"
    }
   ],
   "source": [
    "np.arange(4,42)"
   ]
  },
  {
   "cell_type": "markdown",
   "metadata": {},
   "source": [
    "#### np.unique()"
   ]
  },
  {
   "cell_type": "code",
   "execution_count": 52,
   "metadata": {
    "ExecuteTime": {
     "end_time": "2019-11-27T14:48:21.023756Z",
     "start_time": "2019-11-27T14:48:21.020648Z"
    }
   },
   "outputs": [],
   "source": [
    "cacca=np.array([1,2,4,1,2,4,12,42])"
   ]
  },
  {
   "cell_type": "code",
   "execution_count": 53,
   "metadata": {
    "ExecuteTime": {
     "end_time": "2019-11-27T14:48:21.603991Z",
     "start_time": "2019-11-27T14:48:21.600818Z"
    }
   },
   "outputs": [
    {
     "data": {
      "text/plain": [
       "array([ 1,  2,  4, 12, 42])"
      ]
     },
     "execution_count": 53,
     "metadata": {},
     "output_type": "execute_result"
    }
   ],
   "source": [
    "np.unique(cacca)"
   ]
  },
  {
   "cell_type": "code",
   "execution_count": 54,
   "metadata": {
    "ExecuteTime": {
     "end_time": "2019-11-27T14:48:22.155717Z",
     "start_time": "2019-11-27T14:48:22.152318Z"
    }
   },
   "outputs": [
    {
     "data": {
      "text/plain": [
       "(array([ 1,  2,  4, 12, 42]), array([2, 2, 2, 1, 1]))"
      ]
     },
     "execution_count": 54,
     "metadata": {},
     "output_type": "execute_result"
    }
   ],
   "source": [
    "np.unique(cacca, return_counts=True)"
   ]
  },
  {
   "cell_type": "markdown",
   "metadata": {},
   "source": [
    "#### np.sum()"
   ]
  },
  {
   "cell_type": "code",
   "execution_count": 55,
   "metadata": {
    "ExecuteTime": {
     "end_time": "2019-11-27T14:48:32.073992Z",
     "start_time": "2019-11-27T14:48:32.069825Z"
    }
   },
   "outputs": [
    {
     "data": {
      "text/plain": [
       "array([[0, 1, 0, 1],\n",
       "       [0, 0, 1, 1],\n",
       "       [1, 1, 0, 1],\n",
       "       [0, 0, 1, 0]])"
      ]
     },
     "execution_count": 55,
     "metadata": {},
     "output_type": "execute_result"
    }
   ],
   "source": [
    "adjacency_matrix"
   ]
  },
  {
   "cell_type": "code",
   "execution_count": 56,
   "metadata": {
    "ExecuteTime": {
     "end_time": "2019-11-27T14:48:32.613243Z",
     "start_time": "2019-11-27T14:48:32.610207Z"
    }
   },
   "outputs": [
    {
     "data": {
      "text/plain": [
       "8"
      ]
     },
     "execution_count": 56,
     "metadata": {},
     "output_type": "execute_result"
    }
   ],
   "source": [
    "np.sum(adjacency_matrix)"
   ]
  },
  {
   "cell_type": "code",
   "execution_count": 57,
   "metadata": {
    "ExecuteTime": {
     "end_time": "2019-11-27T14:48:33.128424Z",
     "start_time": "2019-11-27T14:48:33.125269Z"
    }
   },
   "outputs": [
    {
     "data": {
      "text/plain": [
       "array([1, 2, 2, 3])"
      ]
     },
     "execution_count": 57,
     "metadata": {},
     "output_type": "execute_result"
    }
   ],
   "source": [
    "np.sum(adjacency_matrix, axis=0)"
   ]
  },
  {
   "cell_type": "code",
   "execution_count": 58,
   "metadata": {
    "ExecuteTime": {
     "end_time": "2019-11-27T14:48:33.680638Z",
     "start_time": "2019-11-27T14:48:33.677518Z"
    }
   },
   "outputs": [
    {
     "data": {
      "text/plain": [
       "array([2, 2, 3, 1])"
      ]
     },
     "execution_count": 58,
     "metadata": {},
     "output_type": "execute_result"
    }
   ],
   "source": [
    "np.sum(adjacency_matrix, axis=1)"
   ]
  },
  {
   "cell_type": "markdown",
   "metadata": {},
   "source": [
    "#### np.where()"
   ]
  },
  {
   "cell_type": "code",
   "execution_count": 59,
   "metadata": {},
   "outputs": [
    {
     "data": {
      "text/plain": [
       "array([ 1,  2,  4,  1,  2,  4, 12, 42])"
      ]
     },
     "execution_count": 59,
     "metadata": {},
     "output_type": "execute_result"
    }
   ],
   "source": [
    "cacca"
   ]
  },
  {
   "cell_type": "markdown",
   "metadata": {},
   "source": [
    "This is a wonderful note :)"
   ]
  },
  {
   "cell_type": "code",
   "execution_count": 61,
   "metadata": {
    "ExecuteTime": {
     "end_time": "2019-11-27T14:48:42.899651Z",
     "start_time": "2019-11-27T14:48:42.896258Z"
    }
   },
   "outputs": [],
   "source": [
    "_cacca=np.where(cacca==1)"
   ]
  },
  {
   "cell_type": "code",
   "execution_count": 64,
   "metadata": {},
   "outputs": [
    {
     "data": {
      "text/plain": [
       "(array([0, 3]),)"
      ]
     },
     "execution_count": 64,
     "metadata": {},
     "output_type": "execute_result"
    }
   ],
   "source": [
    "_cacca"
   ]
  },
  {
   "cell_type": "code",
   "execution_count": 63,
   "metadata": {},
   "outputs": [
    {
     "data": {
      "text/plain": [
       "1"
      ]
     },
     "execution_count": 63,
     "metadata": {},
     "output_type": "execute_result"
    }
   ],
   "source": [
    "len(_cacca)"
   ]
  },
  {
   "cell_type": "code",
   "execution_count": 66,
   "metadata": {
    "ExecuteTime": {
     "end_time": "2019-11-27T14:48:43.566319Z",
     "start_time": "2019-11-27T14:48:43.562890Z"
    }
   },
   "outputs": [],
   "source": [
    "_edli=np.where(adjacency_matrix==1)"
   ]
  },
  {
   "cell_type": "code",
   "execution_count": 67,
   "metadata": {},
   "outputs": [
    {
     "data": {
      "text/plain": [
       "2"
      ]
     },
     "execution_count": 67,
     "metadata": {},
     "output_type": "execute_result"
    }
   ],
   "source": [
    "len(_edli)"
   ]
  },
  {
   "cell_type": "code",
   "execution_count": 69,
   "metadata": {},
   "outputs": [
    {
     "data": {
      "text/plain": [
       "(array([0, 0, 1, 1, 2, 2, 2, 3]), array([1, 3, 2, 3, 0, 1, 3, 2]))"
      ]
     },
     "execution_count": 69,
     "metadata": {},
     "output_type": "execute_result"
    }
   ],
   "source": [
    "_edli"
   ]
  },
  {
   "cell_type": "code",
   "execution_count": 70,
   "metadata": {},
   "outputs": [
    {
     "data": {
      "text/plain": [
       "array([[0, 1, 0, 1],\n",
       "       [0, 0, 1, 1],\n",
       "       [1, 1, 0, 1],\n",
       "       [0, 0, 1, 0]])"
      ]
     },
     "execution_count": 70,
     "metadata": {},
     "output_type": "execute_result"
    }
   ],
   "source": [
    "adjacency_matrix"
   ]
  },
  {
   "cell_type": "markdown",
   "metadata": {},
   "source": [
    "#### np.max"
   ]
  },
  {
   "cell_type": "code",
   "execution_count": 71,
   "metadata": {
    "ExecuteTime": {
     "end_time": "2019-12-04T15:46:41.795615Z",
     "start_time": "2019-12-04T15:46:41.787376Z"
    }
   },
   "outputs": [
    {
     "data": {
      "text/plain": [
       "4"
      ]
     },
     "execution_count": 71,
     "metadata": {},
     "output_type": "execute_result"
    }
   ],
   "source": [
    "np.max([0,1,2,3,4])"
   ]
  },
  {
   "cell_type": "markdown",
   "metadata": {},
   "source": [
    "#### np.min"
   ]
  },
  {
   "cell_type": "code",
   "execution_count": 72,
   "metadata": {
    "ExecuteTime": {
     "end_time": "2019-12-04T15:46:43.519091Z",
     "start_time": "2019-12-04T15:46:43.515911Z"
    }
   },
   "outputs": [
    {
     "data": {
      "text/plain": [
       "0"
      ]
     },
     "execution_count": 72,
     "metadata": {},
     "output_type": "execute_result"
    }
   ],
   "source": [
    "np.min([0,1,2,3,4])"
   ]
  },
  {
   "cell_type": "markdown",
   "metadata": {},
   "source": [
    "### Exercise:\n",
    "![](../Images/l2_zachary.jpg)\n",
    "1. **load the file ../Data/zachary.txt** It is an edge list of a monopartite undirected network. \n",
    "\n",
    ">This is the well-known and much-used Zachary karate club network. The data was collected from the members of a university karate club by Wayne Zachary in 1977. Each node represents a member of the club, and each edge represents a tie between two members of the club. The network is undirected. An often discussed problem using this dataset is to find the two groups of people into which the karate club split after an argument between two teachers.\n",
    "\n",
    "\n",
    "--[Konect website](http://konect.uni-koblenz.de/networks/)\n",
    "<br/>**Pay attention!** Those data were downloaded from the web and do not use the Python form for indices: the first element here is 1 and not 0! **Pay attention 2!** the first two lines contains other uninteresting data regarding the network, you can safely skip them. \n",
    "2. **calculate the degree sequence** \n",
    "3. **build the adjacency matrix**\n",
    "4. **build the adjacency list**\n",
    "5. **calculate the nearest neighbours degree** "
   ]
  },
  {
<<<<<<< HEAD
   "cell_type": "markdown",
   "metadata": {},
   "source": [
    "#### 1. Load the file"
   ]
  },
  {
   "cell_type": "code",
   "execution_count": 92,
   "metadata": {
    "ExecuteTime": {
     "end_time": "2019-11-27T15:11:30.299731Z",
     "start_time": "2019-11-27T15:11:30.296624Z"
    }
   },
   "outputs": [],
   "source": [
    "z_ed=np.genfromtxt('../Data/zachary.txt', skip_header=2, dtype='i8')-1"
=======
   "cell_type": "code",
   "execution_count": 73,
   "metadata": {},
   "outputs": [
    {
     "data": {
      "text/plain": [
       "['florentine_families.dat',\n",
       " 'zachary.txt',\n",
       " 'highschool.txt',\n",
       " 'southern_women.txt',\n",
       " 'mysterious_dataset.txt']"
      ]
     },
     "execution_count": 73,
     "metadata": {},
     "output_type": "execute_result"
    }
   ],
   "source": [
    "import os\n",
    "os.listdir('../Data/')"
>>>>>>> d2099c8247dacd55a9820162054bdca9e48be529
   ]
  },
  {
   "cell_type": "markdown",
   "metadata": {},
   "source": [
    "#### 1. Load the file"
   ]
  },
  {
   "cell_type": "code",
<<<<<<< HEAD
   "execution_count": 111,
   "metadata": {
    "ExecuteTime": {
     "end_time": "2019-11-27T15:14:24.270418Z",
     "start_time": "2019-11-27T15:14:24.267787Z"
    }
   },
=======
   "execution_count": 87,
   "metadata": {},
>>>>>>> d2099c8247dacd55a9820162054bdca9e48be529
   "outputs": [],
   "source": [
    "zack=np.genfromtxt('../Data/zachary.txt', skip_header=2, dtype='i8')-1"
   ]
  },
  {
   "cell_type": "code",
<<<<<<< HEAD
   "execution_count": 112,
   "metadata": {
    "ExecuteTime": {
     "end_time": "2019-11-27T15:14:26.468363Z",
     "start_time": "2019-11-27T15:14:26.465055Z"
    }
   },
=======
   "execution_count": 106,
   "metadata": {},
>>>>>>> d2099c8247dacd55a9820162054bdca9e48be529
   "outputs": [
    {
     "data": {
      "text/plain": [
       "array([[ 0,  1],\n",
       "       [ 0,  2],\n",
       "       [ 1,  2],\n",
       "       [ 0,  3],\n",
       "       [ 1,  3],\n",
       "       [ 2,  3],\n",
       "       [ 0,  4],\n",
       "       [ 0,  5],\n",
       "       [ 0,  6],\n",
       "       [ 4,  6],\n",
       "       [ 5,  6],\n",
       "       [ 0,  7],\n",
       "       [ 1,  7],\n",
       "       [ 2,  7],\n",
       "       [ 3,  7],\n",
       "       [ 0,  8],\n",
       "       [ 2,  8],\n",
       "       [ 2,  9],\n",
       "       [ 0, 10],\n",
       "       [ 4, 10],\n",
       "       [ 5, 10],\n",
       "       [ 0, 11],\n",
       "       [ 0, 12],\n",
       "       [ 3, 12],\n",
       "       [ 0, 13],\n",
       "       [ 1, 13],\n",
       "       [ 2, 13],\n",
       "       [ 3, 13],\n",
       "       [ 5, 16],\n",
       "       [ 6, 16],\n",
       "       [ 0, 17],\n",
       "       [ 1, 17],\n",
       "       [ 0, 19],\n",
       "       [ 1, 19],\n",
       "       [ 0, 21],\n",
       "       [ 1, 21],\n",
       "       [23, 25],\n",
       "       [24, 25],\n",
       "       [ 2, 27],\n",
       "       [23, 27],\n",
       "       [24, 27],\n",
       "       [ 2, 28],\n",
       "       [23, 29],\n",
       "       [26, 29],\n",
       "       [ 1, 30],\n",
       "       [ 8, 30],\n",
       "       [ 0, 31],\n",
       "       [24, 31],\n",
       "       [25, 31],\n",
       "       [28, 31],\n",
       "       [ 2, 32],\n",
       "       [ 8, 32],\n",
       "       [14, 32],\n",
       "       [15, 32],\n",
       "       [18, 32],\n",
       "       [20, 32],\n",
       "       [22, 32],\n",
       "       [23, 32],\n",
       "       [29, 32],\n",
       "       [30, 32],\n",
       "       [31, 32],\n",
       "       [ 8, 33],\n",
       "       [ 9, 33],\n",
       "       [13, 33],\n",
       "       [14, 33],\n",
       "       [15, 33],\n",
       "       [18, 33],\n",
       "       [19, 33],\n",
       "       [20, 33],\n",
       "       [22, 33],\n",
       "       [23, 33],\n",
       "       [26, 33],\n",
       "       [27, 33],\n",
       "       [28, 33],\n",
       "       [29, 33],\n",
       "       [30, 33],\n",
       "       [31, 33],\n",
       "       [32, 33]])"
      ]
     },
     "execution_count": 106,
     "metadata": {},
     "output_type": "execute_result"
    }
   ],
   "source": [
    "zack"
   ]
  },
  {
<<<<<<< HEAD
   "cell_type": "markdown",
   "metadata": {},
=======
   "cell_type": "code",
   "execution_count": 90,
   "metadata": {},
   "outputs": [],
>>>>>>> d2099c8247dacd55a9820162054bdca9e48be529
   "source": [
    "for z in zack:\n",
    "    if z[0]>=z[1]:\n",
    "        print('ouch!')"
   ]
  },
  {
<<<<<<< HEAD
   "cell_type": "code",
   "execution_count": 1,
   "metadata": {
    "ExecuteTime": {
     "end_time": "2019-12-17T11:47:36.873812Z",
     "start_time": "2019-12-17T11:47:36.831579Z"
    }
   },
   "outputs": [
    {
     "ename": "NameError",
     "evalue": "name 'np' is not defined",
     "output_type": "error",
     "traceback": [
      "\u001b[0;31m---------------------------------------------------------------------\u001b[0m",
      "\u001b[0;31mNameError\u001b[0m                           Traceback (most recent call last)",
      "\u001b[0;32m<ipython-input-1-7c24b8ae1ae8>\u001b[0m in \u001b[0;36m<module>\u001b[0;34m\u001b[0m\n\u001b[0;32m----> 1\u001b[0;31m \u001b[0ml_z\u001b[0m\u001b[0;34m=\u001b[0m\u001b[0mlen\u001b[0m\u001b[0;34m(\u001b[0m\u001b[0mnp\u001b[0m\u001b[0;34m.\u001b[0m\u001b[0munique\u001b[0m\u001b[0;34m(\u001b[0m\u001b[0mz_ed\u001b[0m\u001b[0;34m)\u001b[0m\u001b[0;34m)\u001b[0m\u001b[0;34m\u001b[0m\u001b[0m\n\u001b[0m",
      "\u001b[0;31mNameError\u001b[0m: name 'np' is not defined"
     ]
    }
   ],
=======
   "cell_type": "markdown",
   "metadata": {},
>>>>>>> d2099c8247dacd55a9820162054bdca9e48be529
   "source": [
    "#### 2. The degree sequence"
   ]
  },
  {
   "cell_type": "code",
<<<<<<< HEAD
   "execution_count": 107,
   "metadata": {
    "ExecuteTime": {
     "end_time": "2019-11-27T15:13:16.443147Z",
     "start_time": "2019-11-27T15:13:16.439976Z"
    }
   },
=======
   "execution_count": 91,
   "metadata": {},
>>>>>>> d2099c8247dacd55a9820162054bdca9e48be529
   "outputs": [],
   "source": [
    "zack_nodes, k_zack_nodes =np.unique(zack, return_counts=True)"
   ]
  },
  {
   "cell_type": "markdown",
   "metadata": {},
   "source": [
    "#### 3. The adjacency matrix"
   ]
  },
  {
   "cell_type": "code",
   "execution_count": 92,
   "metadata": {},
   "outputs": [],
   "source": [
    "zack_adj=np.zeros((len(zack_nodes),len(zack_nodes)), dtype='i8')"
   ]
  },
  {
   "cell_type": "code",
   "execution_count": 94,
   "metadata": {},
   "outputs": [],
   "source": [
    "for z in zack:\n",
    "    zack_adj[z[0], z[1]]=1\n",
    "    zack_adj[z[1], z[0]]=1"
   ]
  },
  {
   "cell_type": "code",
   "execution_count": 97,
   "metadata": {},
   "outputs": [
    {
     "data": {
      "text/plain": [
       "True"
      ]
     },
     "execution_count": 97,
     "metadata": {},
     "output_type": "execute_result"
    }
   ],
   "source": [
    "np.all(zack_adj.T==zack_adj)"
   ]
  },
  {
   "cell_type": "markdown",
   "metadata": {},
   "source": [
    "#### 4. The adjacency list"
   ]
  },
  {
   "cell_type": "code",
<<<<<<< HEAD
   "execution_count": 138,
   "metadata": {
    "ExecuteTime": {
     "end_time": "2019-12-03T16:06:39.487888Z",
     "start_time": "2019-12-03T16:06:39.484872Z"
    }
   },
=======
   "execution_count": 99,
   "metadata": {},
>>>>>>> d2099c8247dacd55a9820162054bdca9e48be529
   "outputs": [],
   "source": [
    "zack_adjl={}\n",
    "for zn in zack_nodes:\n",
    "    zn_conn=np.where(zack_adj[zn]==1)[0]\n",
    "    zack_adjl[zn]=zn_conn"
   ]
  },
  {
   "cell_type": "code",
<<<<<<< HEAD
   "execution_count": 139,
   "metadata": {
    "ExecuteTime": {
     "end_time": "2019-12-03T16:06:39.846671Z",
     "start_time": "2019-12-03T16:06:39.841432Z"
    }
   },
=======
   "execution_count": 100,
   "metadata": {},
>>>>>>> d2099c8247dacd55a9820162054bdca9e48be529
   "outputs": [
    {
     "data": {
      "text/plain": [
       "{0: array([ 1,  2,  3,  4,  5,  6,  7,  8, 10, 11, 12, 13, 17, 19, 21, 31]),\n",
       " 1: array([ 0,  2,  3,  7, 13, 17, 19, 21, 30]),\n",
       " 2: array([ 0,  1,  3,  7,  8,  9, 13, 27, 28, 32]),\n",
       " 3: array([ 0,  1,  2,  7, 12, 13]),\n",
       " 4: array([ 0,  6, 10]),\n",
       " 5: array([ 0,  6, 10, 16]),\n",
       " 6: array([ 0,  4,  5, 16]),\n",
       " 7: array([0, 1, 2, 3]),\n",
       " 8: array([ 0,  2, 30, 32, 33]),\n",
       " 9: array([ 2, 33]),\n",
       " 10: array([0, 4, 5]),\n",
       " 11: array([0]),\n",
       " 12: array([0, 3]),\n",
       " 13: array([ 0,  1,  2,  3, 33]),\n",
       " 14: array([32, 33]),\n",
       " 15: array([32, 33]),\n",
       " 16: array([5, 6]),\n",
       " 17: array([0, 1]),\n",
       " 18: array([32, 33]),\n",
       " 19: array([ 0,  1, 33]),\n",
       " 20: array([32, 33]),\n",
       " 21: array([0, 1]),\n",
       " 22: array([32, 33]),\n",
       " 23: array([25, 27, 29, 32, 33]),\n",
       " 24: array([25, 27, 31]),\n",
       " 25: array([23, 24, 31]),\n",
       " 26: array([29, 33]),\n",
       " 27: array([ 2, 23, 24, 33]),\n",
       " 28: array([ 2, 31, 33]),\n",
       " 29: array([23, 26, 32, 33]),\n",
       " 30: array([ 1,  8, 32, 33]),\n",
       " 31: array([ 0, 24, 25, 28, 32, 33]),\n",
       " 32: array([ 2,  8, 14, 15, 18, 20, 22, 23, 29, 30, 31, 33]),\n",
       " 33: array([ 8,  9, 13, 14, 15, 18, 19, 20, 22, 23, 26, 27, 28, 29, 30, 31, 32])}"
      ]
     },
     "execution_count": 100,
     "metadata": {},
     "output_type": "execute_result"
    }
   ],
   "source": [
    "zack_adjl"
   ]
  },
  {
   "cell_type": "markdown",
   "metadata": {},
   "source": [
    "#### 5. The Average Nearest Neighbour Degree"
   ]
  },
  {
   "cell_type": "code",
   "execution_count": 102,
   "metadata": {},
   "outputs": [],
   "source": [
    "zack_knn=np.zeros(len(zack_nodes))\n",
    "\n",
    "for i_zn, zn in enumerate(zack_nodes):\n",
    "    zn_conns=zack_adjl[zn]\n",
    "    zn_k=len(zn_conns)\n",
    "    aux=0\n",
    "    for _zn in zn_conns:\n",
    "        aux+=len(zack_adjl[_zn])\n",
    "    zack_knn[i_zn]=aux/zn_k"
   ]
  },
  {
   "cell_type": "code",
   "execution_count": 105,
   "metadata": {},
   "outputs": [
    {
     "data": {
      "text/plain": [
       "array([ 4.3125    ,  5.77777778,  6.6       ,  7.66666667,  7.66666667,\n",
       "        6.25      ,  6.25      , 10.25      , 11.8       , 13.5       ,\n",
       "        7.66666667, 16.        , 11.        , 11.6       , 14.5       ,\n",
       "       14.5       ,  4.        , 12.5       , 14.5       , 14.        ,\n",
       "       14.5       , 12.5       , 14.5       ,  8.        ,  4.33333333,\n",
       "        4.66666667, 10.5       ,  8.75      , 11.        ,  9.        ,\n",
       "       10.75      ,  9.        ,  5.08333333,  3.82352941])"
      ]
     },
     "execution_count": 105,
     "metadata": {},
     "output_type": "execute_result"
    }
   ],
   "source": [
    "zack_knn"
   ]
  },
  {
   "cell_type": "markdown",
   "metadata": {},
   "source": [
    "#### 5.bis Calculate the $k^{nn}$ from the edge list"
   ]
  },
  {
   "cell_type": "code",
   "execution_count": null,
   "metadata": {},
   "outputs": [],
   "source": []
  },
  {
   "cell_type": "markdown",
   "metadata": {},
   "source": [
    "### Other interesting function of numpy"
   ]
  },
  {
   "cell_type": "markdown",
   "metadata": {},
   "source": [
    "#### np.diag()"
   ]
  },
  {
   "cell_type": "code",
   "execution_count": 107,
   "metadata": {
    "ExecuteTime": {
     "end_time": "2019-11-27T15:17:10.860208Z",
     "start_time": "2019-11-27T15:17:10.857191Z"
    }
   },
   "outputs": [
    {
     "data": {
      "text/plain": [
       "array([0, 0, 0, 0])"
      ]
     },
     "execution_count": 107,
     "metadata": {},
     "output_type": "execute_result"
    }
   ],
   "source": [
    "np.diag(adjacency_matrix)"
   ]
  },
  {
   "cell_type": "code",
   "execution_count": 108,
   "metadata": {},
   "outputs": [
    {
     "data": {
      "text/plain": [
       "array([0, 0, 0, 0, 0, 0, 0, 0, 0, 0, 0, 0, 0, 0, 0, 0, 0, 0, 0, 0, 0, 0,\n",
       "       0, 0, 0, 0, 0, 0, 0, 0, 0, 0, 0, 0])"
      ]
     },
     "execution_count": 108,
     "metadata": {},
     "output_type": "execute_result"
    }
   ],
   "source": [
    "np.diag(zack_adj)"
   ]
  },
  {
   "cell_type": "markdown",
   "metadata": {},
   "source": [
    "extracts the diagonal from a square matrix or"
   ]
  },
  {
   "cell_type": "code",
   "execution_count": 109,
   "metadata": {},
   "outputs": [
    {
     "data": {
      "text/plain": [
       "array([[1, 0, 0, 0],\n",
       "       [0, 2, 0, 0],\n",
       "       [0, 0, 3, 0],\n",
       "       [0, 0, 0, 4]])"
      ]
     },
     "execution_count": 109,
     "metadata": {},
     "output_type": "execute_result"
    }
   ],
   "source": [
    "np.diag([1,2,3,4])"
   ]
  },
  {
   "cell_type": "markdown",
   "metadata": {},
   "source": [
    "builds a diagonal matrix from the array in the argument."
   ]
  },
  {
   "cell_type": "markdown",
   "metadata": {},
   "source": [
    "#### np.vstack()"
   ]
  },
  {
   "cell_type": "code",
   "execution_count": 110,
   "metadata": {},
   "outputs": [
    {
     "data": {
      "text/plain": [
       "array([0, 1, 2, 3])"
      ]
     },
     "execution_count": 110,
     "metadata": {},
     "output_type": "execute_result"
    }
   ],
   "source": [
    "np.arange(4)"
   ]
  },
  {
   "cell_type": "code",
   "execution_count": 112,
   "metadata": {
    "ExecuteTime": {
     "end_time": "2019-12-03T16:30:34.569209Z",
     "start_time": "2019-12-03T16:30:34.565434Z"
    }
   },
   "outputs": [
    {
     "data": {
      "text/plain": [
       "(2, 4)"
      ]
     },
     "execution_count": 112,
     "metadata": {},
     "output_type": "execute_result"
    }
   ],
   "source": [
    "np.vstack((np.arange(4), np.arange(4,8))).shape"
   ]
  },
  {
   "cell_type": "code",
   "execution_count": 113,
   "metadata": {
    "ExecuteTime": {
     "end_time": "2019-12-03T16:30:32.407400Z",
     "start_time": "2019-12-03T16:30:32.402047Z"
    }
   },
   "outputs": [
    {
     "data": {
      "text/plain": [
       "array([[0, 4],\n",
       "       [1, 5],\n",
       "       [2, 6],\n",
       "       [3, 7]])"
      ]
     },
     "execution_count": 113,
     "metadata": {},
     "output_type": "execute_result"
    }
   ],
   "source": [
    "np.vstack((np.arange(4), np.arange(4,8))).T"
   ]
  },
  {
   "cell_type": "markdown",
   "metadata": {},
   "source": [
    "it stacks the two arrays one over the other."
   ]
  },
  {
   "cell_type": "markdown",
   "metadata": {},
   "source": [
    "#### np.isin()"
   ]
  },
  {
   "cell_type": "code",
   "execution_count": 114,
   "metadata": {},
   "outputs": [],
   "source": [
    "cacca=np.array([0,1,3,4,5,42])"
   ]
  },
  {
   "cell_type": "code",
   "execution_count": 115,
   "metadata": {},
   "outputs": [
    {
     "data": {
      "text/plain": [
       "array([ True, False,  True, False, False,  True])"
      ]
     },
     "execution_count": 115,
     "metadata": {},
     "output_type": "execute_result"
    }
   ],
   "source": [
    "np.isin(cacca, np.array([0,42,3]))"
   ]
  },
  {
   "cell_type": "code",
   "execution_count": 116,
   "metadata": {},
   "outputs": [
    {
     "data": {
      "text/plain": [
       "array([ 0,  3, 42])"
      ]
     },
     "execution_count": 116,
     "metadata": {},
     "output_type": "execute_result"
    }
   ],
   "source": [
    "cacca[np.isin(cacca, np.array([0,42,3]))]"
   ]
  },
  {
   "cell_type": "code",
   "execution_count": 117,
   "metadata": {},
   "outputs": [
    {
     "data": {
      "text/plain": [
       "array([ True,  True,  True])"
      ]
     },
     "execution_count": 117,
     "metadata": {},
     "output_type": "execute_result"
    }
   ],
   "source": [
    "np.isin(np.array([0,42,3]),cacca)"
   ]
  },
  {
   "cell_type": "markdown",
   "metadata": {},
   "source": [
    "### Exercise: \n",
    "6. **calculate the clustering coefficient**<br/>\n",
    "6.bis **qualitatively behaviour of the clustering with the degree**<br/>\n",
    "7. **qualitatively the network is assortative or disassortative?**"
   ]
  },
  {
   "cell_type": "markdown",
   "metadata": {},
   "source": [
    "#### 6. The clustering coefficient"
   ]
  },
  {
   "cell_type": "code",
   "execution_count": null,
   "metadata": {},
   "outputs": [],
   "source": []
  },
  {
   "cell_type": "markdown",
   "metadata": {},
   "source": [
    "#### 6.bis What is qualitatively the relation between the degree and the clustering?"
   ]
  },
  {
   "cell_type": "code",
   "execution_count": null,
   "metadata": {},
   "outputs": [],
   "source": []
  },
  {
   "cell_type": "markdown",
   "metadata": {},
   "source": [
    "#### 7. Assortativity"
   ]
  },
  {
   "cell_type": "code",
   "execution_count": null,
   "metadata": {},
   "outputs": [],
   "source": []
  },
  {
   "cell_type": "markdown",
   "metadata": {},
   "source": [
    "### Exercise:\n",
    "1. **load the file ../Data/highschool.txt** It is an edge list of a monopartite directed network. \n",
    ">This directed network contains friendships between boys in a small highschool in Illinois. Each boy was asked once in the fall of 1957 and the spring of 1958. This dataset aggregates the results from both dates. A node represents a boy and an edge between two boys shows that the left boy chose the right boy as a friend.\n",
    "\n",
    "--[Konect website](http://konect.uni-koblenz.de/networks/)\n",
    "<br/>**Pay attention!** Those data were downloaded from the web and do not use the Python form for indices: the first element here is 1 and not 0! \n",
    "<br/>**Pay attention 2!** the first two lines contains other uninteresting data regarding the network, you can safely skip them.  \n",
    "\n",
    "2. **calculate the in- and out-degree sequences** <br/>\n",
    "3. **build the adjacency matrix**<br/>\n",
    "4. **calculate the in- and out- nearest neighbours degrees**<br/>\n",
    "5. **calculate the in- and out-clustering coefficients**<br/>"
   ]
  },
  {
   "cell_type": "code",
   "execution_count": null,
   "metadata": {},
   "outputs": [],
   "source": []
  }
 ],
 "metadata": {
  "kernelspec": {
   "display_name": "Python 3",
   "language": "python",
   "name": "python3"
  },
  "language_info": {
   "codemirror_mode": {
    "name": "ipython",
    "version": 3
   },
   "file_extension": ".py",
   "mimetype": "text/x-python",
   "name": "python",
   "nbconvert_exporter": "python",
   "pygments_lexer": "ipython3",
   "version": "3.6.3"
  },
  "latex_envs": {
   "LaTeX_envs_menu_present": true,
   "autoclose": false,
   "autocomplete": true,
   "bibliofile": "biblio.bib",
   "cite_by": "apalike",
   "current_citInitial": 1,
   "eqLabelWithNumbers": true,
   "eqNumInitial": 1,
   "hotkeys": {
    "equation": "Ctrl-E",
    "itemize": "Ctrl-I"
   },
   "labels_anchors": false,
   "latex_user_defs": false,
   "report_style_numbering": false,
   "user_envs_cfg": false
  },
  "toc": {
   "base_numbering": 1,
   "nav_menu": {},
   "number_sections": false,
   "sideBar": true,
   "skip_h1_title": true,
   "title_cell": "Table of Contents",
   "title_sidebar": "Contents",
   "toc_cell": false,
   "toc_position": {},
   "toc_section_display": true,
   "toc_window_display": true
  },
  "varInspector": {
   "cols": {
    "lenName": 16,
    "lenType": 16,
    "lenVar": 40
   },
   "kernels_config": {
    "python": {
     "delete_cmd_postfix": "",
     "delete_cmd_prefix": "del ",
     "library": "var_list.py",
     "varRefreshCmd": "print(var_dic_list())"
    },
    "r": {
     "delete_cmd_postfix": ") ",
     "delete_cmd_prefix": "rm(",
     "library": "var_list.r",
     "varRefreshCmd": "cat(var_dic_list()) "
    }
   },
   "types_to_exclude": [
    "module",
    "function",
    "builtin_function_or_method",
    "instance",
    "_Feature"
   ],
   "window_display": false
  }
 },
 "nbformat": 4,
 "nbformat_minor": 2
}
