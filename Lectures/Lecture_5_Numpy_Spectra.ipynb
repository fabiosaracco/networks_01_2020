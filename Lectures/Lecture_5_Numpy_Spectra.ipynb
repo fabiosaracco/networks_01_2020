{
 "cells": [
  {
   "cell_type": "code",
   "execution_count": 1,
   "metadata": {
    "ExecuteTime": {
     "end_time": "2019-12-04T17:16:17.791140Z",
     "start_time": "2019-12-04T17:16:17.789105Z"
    }
   },
   "outputs": [],
   "source": [
    "import numpy as np\n",
    "import matplotlib as plt"
   ]
  },
  {
   "cell_type": "markdown",
   "metadata": {},
   "source": [
    "## Spectral analysis with numpy\n",
    "Numpy has a submodule for the spectral analysis."
   ]
  },
  {
   "cell_type": "code",
   "execution_count": 2,
   "metadata": {
    "ExecuteTime": {
     "end_time": "2019-12-04T17:16:18.895773Z",
     "start_time": "2019-12-04T17:16:18.893239Z"
    }
   },
   "outputs": [],
   "source": [
    "from numpy import linalg as la"
   ]
  },
  {
   "cell_type": "markdown",
   "metadata": {},
   "source": [
    "#### Get the adjacency matrix of the Florentine families"
   ]
  },
  {
   "cell_type": "markdown",
   "metadata": {},
   "source": [
    "![](../Images/ff_network.png)"
   ]
  },
  {
   "cell_type": "code",
   "execution_count": 3,
   "metadata": {
    "ExecuteTime": {
     "end_time": "2019-12-04T11:45:27.669152Z",
     "start_time": "2019-12-04T11:45:27.666662Z"
    }
   },
   "outputs": [],
   "source": [
    "with open('../Data/florentine_families.dat', 'r') as file:\n",
    "    all_file=file.readlines()"
   ]
  },
  {
   "cell_type": "code",
   "execution_count": 4,
   "metadata": {
    "ExecuteTime": {
     "end_time": "2019-12-04T11:45:27.875681Z",
     "start_time": "2019-12-04T11:45:27.873516Z"
    }
   },
   "outputs": [],
   "source": [
    "families=np.array(all_file[4:20])"
   ]
  },
  {
   "cell_type": "code",
   "execution_count": 5,
   "metadata": {
    "ExecuteTime": {
     "end_time": "2019-12-04T11:45:28.582925Z",
     "start_time": "2019-12-04T11:45:28.577833Z"
    }
   },
   "outputs": [],
   "source": [
    "ff_adj=np.genfromtxt('../Data/florentine_families.dat', skip_header=41, dtype='i8')[:16]"
   ]
  },
  {
   "cell_type": "code",
   "execution_count": 6,
   "metadata": {
    "ExecuteTime": {
     "end_time": "2019-12-04T11:45:28.827953Z",
     "start_time": "2019-12-04T11:45:28.825109Z"
    }
   },
   "outputs": [
    {
     "data": {
      "text/plain": [
       "(16, 16)"
      ]
     },
     "execution_count": 6,
     "metadata": {},
     "output_type": "execute_result"
    }
   ],
   "source": [
    "ff_adj.shape"
   ]
  },
  {
   "cell_type": "code",
   "execution_count": 7,
   "metadata": {
    "ExecuteTime": {
     "end_time": "2019-12-04T11:45:29.076678Z",
     "start_time": "2019-12-04T11:45:29.073278Z"
    }
   },
   "outputs": [
    {
     "data": {
      "text/plain": [
       "True"
      ]
     },
     "execution_count": 7,
     "metadata": {},
     "output_type": "execute_result"
    }
   ],
   "source": [
    "np.all(ff_adj.T==ff_adj)"
   ]
  },
  {
   "cell_type": "code",
   "execution_count": 8,
   "metadata": {
    "ExecuteTime": {
     "end_time": "2019-12-04T11:45:29.331098Z",
     "start_time": "2019-12-04T11:45:29.328925Z"
    }
   },
   "outputs": [],
   "source": [
    "del file, all_file"
   ]
  },
  {
   "cell_type": "markdown",
   "metadata": {},
   "source": [
    "### Eigenvalues and eigenvectors"
   ]
  },
  {
   "cell_type": "markdown",
   "metadata": {},
   "source": [
    "For real symmetric or Hermitian matrices use eigh. The first output is the array of eigenvalues (sorted), the second is an array of eigenvectors, in the same order."
   ]
  },
  {
   "cell_type": "code",
   "execution_count": 9,
   "metadata": {
    "ExecuteTime": {
     "end_time": "2019-12-04T11:45:30.121640Z",
     "start_time": "2019-12-04T11:45:30.113585Z"
    }
   },
   "outputs": [],
   "source": [
    "cacca=la.eigh(ff_adj)"
   ]
  },
  {
   "cell_type": "code",
   "execution_count": 10,
   "metadata": {},
   "outputs": [
    {
     "data": {
      "text/plain": [
       "2"
      ]
     },
     "execution_count": 10,
     "metadata": {},
     "output_type": "execute_result"
    }
   ],
   "source": [
    "len(cacca)"
   ]
  },
  {
   "cell_type": "code",
   "execution_count": 12,
   "metadata": {},
   "outputs": [
    {
     "data": {
      "text/plain": [
       "16"
      ]
     },
     "execution_count": 12,
     "metadata": {},
     "output_type": "execute_result"
    }
   ],
   "source": [
    "len(cacca[0])"
   ]
  },
  {
   "cell_type": "code",
   "execution_count": 15,
   "metadata": {},
   "outputs": [
    {
     "data": {
      "text/plain": [
       "(16, 16)"
      ]
     },
     "execution_count": 15,
     "metadata": {},
     "output_type": "execute_result"
    }
   ],
   "source": [
    "cacca[1].shape"
   ]
  },
  {
   "cell_type": "markdown",
   "metadata": {},
   "source": [
    "**Pay attention!** Eigenvectors are the columns!"
   ]
  },
  {
   "cell_type": "code",
   "execution_count": 16,
   "metadata": {
    "ExecuteTime": {
     "end_time": "2019-12-04T12:51:22.218925Z",
     "start_time": "2019-12-04T12:51:22.216175Z"
    }
   },
   "outputs": [],
   "source": [
    "ff_eigens=la.eigh(ff_adj)"
   ]
  },
  {
   "cell_type": "code",
   "execution_count": 17,
   "metadata": {},
   "outputs": [],
   "source": [
    "del cacca"
   ]
  },
  {
   "cell_type": "markdown",
   "metadata": {},
   "source": [
    "### Perron - Frobenius and connected components"
   ]
  },
  {
   "cell_type": "code",
   "execution_count": 18,
   "metadata": {
    "ExecuteTime": {
     "end_time": "2019-12-04T12:51:25.788934Z",
     "start_time": "2019-12-04T12:51:25.785805Z"
    }
   },
   "outputs": [
    {
     "data": {
      "text/plain": [
       "True"
      ]
     },
     "execution_count": 18,
     "metadata": {},
     "output_type": "execute_result"
    }
   ],
   "source": [
    "np.all(ff_adj>=0)"
   ]
  },
  {
   "cell_type": "markdown",
   "metadata": {},
   "source": [
    "The adjacency matrix is non negative (ok, that's easy)"
   ]
  },
  {
   "cell_type": "code",
   "execution_count": 19,
   "metadata": {
    "ExecuteTime": {
     "end_time": "2019-12-04T12:51:26.659063Z",
     "start_time": "2019-12-04T12:51:26.655607Z"
    }
   },
   "outputs": [
    {
     "data": {
      "text/plain": [
       "(array([-2.69583872e+00, -2.06786891e+00, -1.87072241e+00, -1.19329397e+00,\n",
       "        -8.69346719e-01, -7.65384963e-01, -5.76260635e-01, -2.02434814e-01,\n",
       "         3.12243294e-17,  2.57815118e-01,  6.01990890e-01,  9.38398928e-01,\n",
       "         1.05403772e+00,  1.70899078e+00,  2.42381396e+00,  3.25610375e+00]),\n",
       " array([1, 1, 1, 1, 1, 1, 1, 1, 1, 1, 1, 1, 1, 1, 1, 1]))"
      ]
     },
     "execution_count": 19,
     "metadata": {},
     "output_type": "execute_result"
    }
   ],
   "source": [
    "np.unique(ff_eigens[0], return_counts=True)"
   ]
  },
  {
   "cell_type": "markdown",
   "metadata": {},
   "source": [
    "$\\Rightarrow$ All eigenvalues have multiplicity 1, thus the greatest eigenvalue has."
   ]
  },
  {
   "cell_type": "code",
   "execution_count": 13,
   "metadata": {
    "ExecuteTime": {
     "end_time": "2019-12-04T12:51:27.683064Z",
     "start_time": "2019-12-04T12:51:27.680149Z"
    }
   },
   "outputs": [
    {
     "data": {
      "text/plain": [
       "True"
      ]
     },
     "execution_count": 13,
     "metadata": {},
     "output_type": "execute_result"
    }
   ],
   "source": [
    "ff_eigens[0][-1]>-ff_eigens[0][0]"
   ]
  },
  {
   "cell_type": "markdown",
   "metadata": {},
   "source": [
    "$\\lambda>|\\mu|,\\,\\forall\\mu\\in\\sigma(A)$"
   ]
  },
  {
   "cell_type": "code",
   "execution_count": 20,
   "metadata": {
    "ExecuteTime": {
     "end_time": "2019-12-04T12:51:28.522981Z",
     "start_time": "2019-12-04T12:51:28.519543Z"
    }
   },
   "outputs": [
    {
     "data": {
      "text/plain": [
       "3.256103745430859"
      ]
     },
     "execution_count": 20,
     "metadata": {},
     "output_type": "execute_result"
    }
   ],
   "source": [
    "ff_eigens[0][-1]"
   ]
  },
  {
   "cell_type": "code",
   "execution_count": 21,
   "metadata": {
    "ExecuteTime": {
     "end_time": "2019-12-04T12:51:46.861384Z",
     "start_time": "2019-12-04T12:51:46.857988Z"
    }
   },
   "outputs": [
    {
     "data": {
      "text/plain": [
       "array([1.32154295e-01, 2.43956109e-01, 2.11705251e-01, 2.82800087e-01,\n",
       "       2.59026167e-01, 7.49227077e-02, 2.89115599e-01, 8.87918880e-02,\n",
       "       4.30308094e-01, 4.48134359e-02, 2.75730374e-01, 1.89735380e-19,\n",
       "       3.41552644e-01, 1.45917196e-01, 3.55980448e-01, 3.25842301e-01])"
      ]
     },
     "execution_count": 21,
     "metadata": {},
     "output_type": "execute_result"
    }
   ],
   "source": [
    "ff_eigens[1][:,-1]"
   ]
  },
  {
   "cell_type": "code",
   "execution_count": 16,
   "metadata": {
    "ExecuteTime": {
     "end_time": "2019-12-04T12:51:49.061029Z",
     "start_time": "2019-12-04T12:51:49.057504Z"
    }
   },
   "outputs": [
    {
     "data": {
      "text/plain": [
       "array([ True,  True,  True,  True,  True,  True,  True,  True,  True,\n",
       "        True,  True,  True,  True,  True,  True,  True])"
      ]
     },
     "execution_count": 16,
     "metadata": {},
     "output_type": "execute_result"
    }
   ],
   "source": [
    "ff_eigens[1][:, -1]>0"
   ]
  },
  {
   "cell_type": "markdown",
   "metadata": {},
   "source": [
    "D'oh! So, what should we conclude?"
   ]
  },
  {
   "cell_type": "code",
   "execution_count": 22,
   "metadata": {
    "ExecuteTime": {
     "end_time": "2019-12-04T12:51:57.973071Z",
     "start_time": "2019-12-04T12:51:57.969953Z"
    }
   },
   "outputs": [
    {
     "name": "stdout",
     "output_type": "stream",
     "text": [
      "[1 3 2 3 3 1 4 1 6 1 3 0 3 2 4 3]\n"
     ]
    }
   ],
   "source": [
    "ff_k=np.sum(ff_adj, axis=1)\n",
    "print(ff_k)"
   ]
  },
  {
   "cell_type": "markdown",
   "metadata": {},
   "source": [
    "A-HA! We got an isolated node!"
   ]
  },
  {
   "cell_type": "code",
   "execution_count": 29,
   "metadata": {},
   "outputs": [
    {
     "data": {
      "text/plain": [
       "(array([11]),)"
      ]
     },
     "execution_count": 29,
     "metadata": {},
     "output_type": "execute_result"
    }
   ],
   "source": [
    "np.where(ff_k==0)"
   ]
  },
  {
   "cell_type": "code",
   "execution_count": 23,
   "metadata": {
    "ExecuteTime": {
     "end_time": "2019-12-04T12:52:00.029654Z",
     "start_time": "2019-12-04T12:52:00.026181Z"
    }
   },
   "outputs": [
    {
     "data": {
      "text/plain": [
       "'PUCCI\\n'"
      ]
     },
     "execution_count": 23,
     "metadata": {},
     "output_type": "execute_result"
    }
   ],
   "source": [
    "where_iso=np.where(ff_k==0)[0][0]\n",
    "families[where_iso]"
   ]
  },
  {
   "cell_type": "markdown",
   "metadata": {},
   "source": [
    "None got married with the Pucci family! Actually this information was sort of hidden:"
   ]
  },
  {
   "cell_type": "code",
   "execution_count": 24,
   "metadata": {
    "ExecuteTime": {
     "end_time": "2019-12-04T12:52:00.900092Z",
     "start_time": "2019-12-04T12:52:00.896676Z"
    }
   },
   "outputs": [
    {
     "data": {
      "text/plain": [
       "array([-2.69583872e+00, -2.06786891e+00, -1.87072241e+00, -1.19329397e+00,\n",
       "       -8.69346719e-01, -7.65384963e-01, -5.76260635e-01, -2.02434814e-01,\n",
       "        3.12243294e-17,  2.57815118e-01,  6.01990890e-01,  9.38398928e-01,\n",
       "        1.05403772e+00,  1.70899078e+00,  2.42381396e+00,  3.25610375e+00])"
      ]
     },
     "execution_count": 24,
     "metadata": {},
     "output_type": "execute_result"
    }
   ],
   "source": [
    "ff_eigens[0]"
   ]
  },
  {
   "cell_type": "markdown",
   "metadata": {},
   "source": [
    "$10^{-17}$ is actually zero (due to the finite machine precision it is different from zero, but it means zero)."
   ]
  },
  {
   "cell_type": "markdown",
   "metadata": {},
   "source": [
    "np.finfo returns the machine limits for a certain data type"
   ]
  },
  {
   "cell_type": "code",
   "execution_count": 25,
   "metadata": {
    "ExecuteTime": {
     "end_time": "2019-12-04T12:52:09.306823Z",
     "start_time": "2019-12-04T12:52:09.303799Z"
    }
   },
   "outputs": [
    {
     "data": {
      "text/plain": [
       "2.220446049250313e-16"
      ]
     },
     "execution_count": 25,
     "metadata": {},
     "output_type": "execute_result"
    }
   ],
   "source": [
    "np.finfo(np.float64).eps"
   ]
  },
  {
   "cell_type": "markdown",
   "metadata": {},
   "source": [
    "Let's try again, after removing the isolated node."
   ]
  },
  {
   "cell_type": "markdown",
   "metadata": {},
   "source": [
    "#### PF again"
   ]
  },
  {
   "cell_type": "markdown",
   "metadata": {},
   "source": [
    "##### Pucci Mask and checks"
   ]
  },
  {
   "cell_type": "code",
   "execution_count": 26,
   "metadata": {
    "ExecuteTime": {
     "end_time": "2019-12-04T12:52:13.949180Z",
     "start_time": "2019-12-04T12:52:13.945594Z"
    }
   },
   "outputs": [],
   "source": [
    "pucci_mask=np.ones(len(ff_k), dtype='bool')"
   ]
  },
  {
   "cell_type": "code",
   "execution_count": 27,
   "metadata": {
    "ExecuteTime": {
     "end_time": "2019-12-04T12:52:14.237031Z",
     "start_time": "2019-12-04T12:52:14.234004Z"
    }
   },
   "outputs": [
    {
     "data": {
      "text/plain": [
       "array([ True,  True,  True,  True,  True,  True,  True,  True,  True,\n",
       "        True,  True,  True,  True,  True,  True,  True])"
      ]
     },
     "execution_count": 27,
     "metadata": {},
     "output_type": "execute_result"
    }
   ],
   "source": [
    "pucci_mask"
   ]
  },
  {
   "cell_type": "code",
   "execution_count": 28,
   "metadata": {
    "ExecuteTime": {
     "end_time": "2019-12-04T12:52:14.458846Z",
     "start_time": "2019-12-04T12:52:14.456690Z"
    }
   },
   "outputs": [],
   "source": [
    "pucci_mask[where_iso]=False"
   ]
  },
  {
   "cell_type": "code",
   "execution_count": 30,
   "metadata": {},
   "outputs": [
    {
     "data": {
      "text/plain": [
       "array([ True,  True,  True,  True,  True,  True,  True,  True,  True,\n",
       "        True,  True, False,  True,  True,  True,  True])"
      ]
     },
     "execution_count": 30,
     "metadata": {},
     "output_type": "execute_result"
    }
   ],
   "source": [
    "pucci_mask"
   ]
  },
  {
   "cell_type": "code",
   "execution_count": 37,
   "metadata": {
    "ExecuteTime": {
     "end_time": "2019-12-04T12:52:14.705846Z",
     "start_time": "2019-12-04T12:52:14.703741Z"
    }
   },
   "outputs": [],
   "source": [
    "ff_new_families=families[pucci_mask]"
   ]
  },
  {
   "cell_type": "code",
   "execution_count": 38,
   "metadata": {
    "ExecuteTime": {
     "end_time": "2019-12-04T12:52:14.930141Z",
     "start_time": "2019-12-04T12:52:14.927779Z"
    }
   },
   "outputs": [],
   "source": [
    "ff_new_adj=ff_adj[pucci_mask]"
   ]
  },
  {
   "cell_type": "code",
   "execution_count": 39,
   "metadata": {
    "ExecuteTime": {
     "end_time": "2019-12-04T12:52:15.154890Z",
     "start_time": "2019-12-04T12:52:15.152000Z"
    }
   },
   "outputs": [
    {
     "data": {
      "text/plain": [
       "(15, 16)"
      ]
     },
     "execution_count": 39,
     "metadata": {},
     "output_type": "execute_result"
    }
   ],
   "source": [
    "ff_new_adj.shape"
   ]
  },
  {
   "cell_type": "code",
   "execution_count": 40,
   "metadata": {
    "ExecuteTime": {
     "end_time": "2019-12-04T12:52:15.475157Z",
     "start_time": "2019-12-04T12:52:15.472541Z"
    }
   },
   "outputs": [],
   "source": [
    "ff_new_adj=ff_new_adj.T[pucci_mask]"
   ]
  },
  {
   "cell_type": "code",
   "execution_count": 41,
   "metadata": {
    "ExecuteTime": {
     "end_time": "2019-12-04T12:52:16.546500Z",
     "start_time": "2019-12-04T12:52:16.543628Z"
    }
   },
   "outputs": [
    {
     "data": {
      "text/plain": [
       "(15, 15)"
      ]
     },
     "execution_count": 41,
     "metadata": {},
     "output_type": "execute_result"
    }
   ],
   "source": [
    "ff_new_adj.shape"
   ]
  },
  {
   "cell_type": "markdown",
   "metadata": {},
   "source": [
    "Check!"
   ]
  },
  {
   "cell_type": "code",
   "execution_count": 42,
   "metadata": {
    "ExecuteTime": {
     "end_time": "2019-12-04T12:52:17.338194Z",
     "start_time": "2019-12-04T12:52:17.335434Z"
    }
   },
   "outputs": [
    {
     "name": "stdout",
     "output_type": "stream",
     "text": [
      "[1 3 2 3 3 1 4 1 6 1 3 3 2 4 3]\n"
     ]
    }
   ],
   "source": [
    "ff_new_k=np.sum(ff_new_adj, axis=1)\n",
    "print(ff_new_k)"
   ]
  },
  {
   "cell_type": "code",
   "execution_count": 30,
   "metadata": {
    "ExecuteTime": {
     "end_time": "2019-12-04T12:52:17.755599Z",
     "start_time": "2019-12-04T12:52:17.751486Z"
    }
   },
   "outputs": [
    {
     "data": {
      "text/plain": [
       "True"
      ]
     },
     "execution_count": 30,
     "metadata": {},
     "output_type": "execute_result"
    }
   ],
   "source": [
    "np.all(np.dot(ff_new_adj,np.dot(ff_new_adj,np.dot(ff_new_adj,np.dot(ff_new_adj,np.dot(ff_new_adj,ff_new_adj)))))>0)"
   ]
  },
  {
   "cell_type": "markdown",
   "metadata": {},
   "source": [
    "##### Let's try again"
   ]
  },
  {
   "cell_type": "markdown",
   "metadata": {},
   "source": [
    "Ok, let's try again. The non-negativity is ok, since we just remove a row and a column filled with zeros. The same is true for the multiplicity (we removed the zero eigenvalue), but let's check."
   ]
  },
  {
   "cell_type": "code",
   "execution_count": 43,
   "metadata": {
    "ExecuteTime": {
     "end_time": "2019-12-04T12:52:19.559201Z",
     "start_time": "2019-12-04T12:52:19.555753Z"
    }
   },
   "outputs": [
    {
     "data": {
      "text/plain": [
       "True"
      ]
     },
     "execution_count": 43,
     "metadata": {},
     "output_type": "execute_result"
    }
   ],
   "source": [
    "np.all(ff_new_adj>=0)"
   ]
  },
  {
   "cell_type": "code",
   "execution_count": 44,
   "metadata": {
    "ExecuteTime": {
     "end_time": "2019-12-04T12:52:20.819284Z",
     "start_time": "2019-12-04T12:52:20.816362Z"
    }
   },
   "outputs": [],
   "source": [
    "ff_new_eigens=la.eigh(ff_new_adj)"
   ]
  },
  {
   "cell_type": "code",
   "execution_count": 45,
   "metadata": {
    "ExecuteTime": {
     "end_time": "2019-12-04T12:52:22.187121Z",
     "start_time": "2019-12-04T12:52:22.183928Z"
    }
   },
   "outputs": [
    {
     "data": {
      "text/plain": [
       "array([-2.69583872, -2.06786891, -1.87072241, -1.19329397, -0.86934672,\n",
       "       -0.76538496, -0.57626063, -0.20243481,  0.25781512,  0.60199089,\n",
       "        0.93839893,  1.05403772,  1.70899078,  2.42381396,  3.25610375])"
      ]
     },
     "execution_count": 45,
     "metadata": {},
     "output_type": "execute_result"
    }
   ],
   "source": [
    "ff_new_eigens[0]"
   ]
  },
  {
   "cell_type": "code",
   "execution_count": 46,
   "metadata": {
    "ExecuteTime": {
     "end_time": "2019-12-04T12:52:55.486029Z",
     "start_time": "2019-12-04T12:52:55.482031Z"
    }
   },
   "outputs": [
    {
     "data": {
      "text/plain": [
       "(array([-2.69583872, -2.06786891, -1.87072241, -1.19329397, -0.86934672,\n",
       "        -0.76538496, -0.57626063, -0.20243481,  0.25781512,  0.60199089,\n",
       "         0.93839893,  1.05403772,  1.70899078,  2.42381396,  3.25610375]),\n",
       " array([1, 1, 1, 1, 1, 1, 1, 1, 1, 1, 1, 1, 1, 1, 1]))"
      ]
     },
     "execution_count": 46,
     "metadata": {},
     "output_type": "execute_result"
    }
   ],
   "source": [
    "np.unique(ff_new_eigens[0], return_counts=True)"
   ]
  },
  {
   "cell_type": "markdown",
   "metadata": {},
   "source": [
    "Nothing should change even for the 2nd implication of the PF-theorem..."
   ]
  },
  {
   "cell_type": "code",
   "execution_count": 47,
   "metadata": {
    "ExecuteTime": {
     "end_time": "2019-12-04T12:53:14.987929Z",
     "start_time": "2019-12-04T12:53:14.984537Z"
    }
   },
   "outputs": [
    {
     "data": {
      "text/plain": [
       "True"
      ]
     },
     "execution_count": 47,
     "metadata": {},
     "output_type": "execute_result"
    }
   ],
   "source": [
    "ff_new_eigens[0][-1]>-ff_new_eigens[0][0]"
   ]
  },
  {
   "cell_type": "code",
   "execution_count": 48,
   "metadata": {
    "ExecuteTime": {
     "end_time": "2019-12-04T12:53:25.477997Z",
     "start_time": "2019-12-04T12:53:25.474376Z"
    }
   },
   "outputs": [
    {
     "data": {
      "text/plain": [
       "array([0.13215429, 0.24395611, 0.21170525, 0.28280009, 0.25902617,\n",
       "       0.07492271, 0.2891156 , 0.08879189, 0.43030809, 0.04481344,\n",
       "       0.27573037, 0.34155264, 0.1459172 , 0.35598045, 0.3258423 ])"
      ]
     },
     "execution_count": 48,
     "metadata": {},
     "output_type": "execute_result"
    }
   ],
   "source": [
    "ff_new_eigens[1][:,-1]"
   ]
  },
  {
   "cell_type": "code",
   "execution_count": 49,
   "metadata": {
    "ExecuteTime": {
     "end_time": "2019-12-04T12:53:40.799316Z",
     "start_time": "2019-12-04T12:53:40.795967Z"
    }
   },
   "outputs": [
    {
     "data": {
      "text/plain": [
       "True"
      ]
     },
     "execution_count": 49,
     "metadata": {},
     "output_type": "execute_result"
    }
   ],
   "source": [
    "np.all(ff_new_eigens[1][:,-1]>0)"
   ]
  },
  {
   "cell_type": "markdown",
   "metadata": {},
   "source": [
    "![](../Images/l4_turk.gif)"
   ]
  },
  {
   "cell_type": "markdown",
   "metadata": {},
   "source": [
    "### Exercise: show that the Perron-Frobenius hypotheses are valid for the Zachary dataset"
   ]
  },
  {
   "cell_type": "code",
   "execution_count": null,
   "metadata": {},
   "outputs": [],
   "source": []
  },
  {
   "cell_type": "markdown",
   "metadata": {},
   "source": [
    "### Exercise: show that the (undirected) network represented by the edge ../Data/mysterious_dataset.txt is bipartite"
   ]
  },
  {
   "cell_type": "code",
   "execution_count": 38,
   "metadata": {
    "ExecuteTime": {
     "end_time": "2019-12-04T17:12:06.977176Z",
     "start_time": "2019-12-04T17:12:06.974026Z"
    }
   },
   "outputs": [],
   "source": [
    "roy=np.genfromtxt('../Data/mysterious_dataset.txt', dtype='i8')"
   ]
  },
  {
   "cell_type": "code",
   "execution_count": 39,
   "metadata": {
    "ExecuteTime": {
     "end_time": "2019-12-04T17:13:53.118114Z",
     "start_time": "2019-12-04T17:13:53.115153Z"
    }
   },
   "outputs": [],
   "source": [
    "len_matrix=np.max(roy)+1"
   ]
  },
  {
   "cell_type": "code",
   "execution_count": 40,
   "metadata": {
    "ExecuteTime": {
     "end_time": "2019-12-04T17:15:10.550516Z",
     "start_time": "2019-12-04T17:15:10.547606Z"
    }
   },
   "outputs": [],
   "source": [
    "matrix=np.zeros((len_matrix,len_matrix))\n",
    "for r in roy:\n",
    "    matrix[r[0], r[1]]=1\n",
    "    matrix[r[1], r[0]]=1"
   ]
  },
  {
   "cell_type": "code",
   "execution_count": 41,
   "metadata": {
    "ExecuteTime": {
     "end_time": "2019-12-04T17:15:27.316119Z",
     "start_time": "2019-12-04T17:15:27.312825Z"
    }
   },
   "outputs": [
    {
     "data": {
      "text/plain": [
       "True"
      ]
     },
     "execution_count": 41,
     "metadata": {},
     "output_type": "execute_result"
    }
   ],
   "source": [
    "np.all(matrix==matrix.T)"
   ]
  },
  {
   "cell_type": "code",
   "execution_count": 42,
   "metadata": {
    "ExecuteTime": {
     "end_time": "2019-12-04T17:16:33.836982Z",
     "start_time": "2019-12-04T17:16:33.803635Z"
    }
   },
   "outputs": [
    {
     "data": {
      "text/plain": [
       "(array([-6.74190812e+00, -4.38009830e+00, -2.44726084e+00, -2.11991083e+00,\n",
       "        -1.98367917e+00, -1.73494800e+00, -1.53465722e+00, -1.23602800e+00,\n",
       "        -1.01907939e+00, -9.80168425e-01, -7.07127953e-01, -6.25614086e-01,\n",
       "        -3.99580655e-01, -8.50014503e-16, -7.25458711e-17,  0.00000000e+00,\n",
       "         0.00000000e+00,  0.00000000e+00,  7.25458711e-17,  3.99580655e-01,\n",
       "         6.25614086e-01,  7.07127953e-01,  9.80168425e-01,  1.01907939e+00,\n",
       "         1.23602800e+00,  1.53465722e+00,  1.73494800e+00,  1.98367917e+00,\n",
       "         2.11991083e+00,  2.44726084e+00,  4.38009830e+00,  6.74190812e+00]),\n",
       " array([[-0.23669268,  0.18540913, -0.24016878, ...,  0.24016878,\n",
       "         -0.18540913,  0.23669268],\n",
       "        [ 0.10036894, -0.13614462, -0.00529482, ..., -0.00529482,\n",
       "         -0.13614462,  0.10036894],\n",
       "        [-0.2186549 ,  0.20138354,  0.10429389, ..., -0.10429389,\n",
       "         -0.20138354,  0.2186549 ],\n",
       "        ...,\n",
       "        [-0.09293883, -0.05959234, -0.26044164, ...,  0.26044164,\n",
       "          0.05959234,  0.09293883],\n",
       "        [-0.04919385, -0.08413191, -0.17669121, ...,  0.17669121,\n",
       "          0.08413191,  0.04919385],\n",
       "        [-0.04919385, -0.08413191, -0.17669121, ...,  0.17669121,\n",
       "          0.08413191,  0.04919385]]))"
      ]
     },
     "execution_count": 42,
     "metadata": {},
     "output_type": "execute_result"
    }
   ],
   "source": [
    "la.eigh(matrix)"
   ]
  },
  {
   "cell_type": "markdown",
   "metadata": {},
   "source": [
    "### Laplacian"
   ]
  },
  {
   "cell_type": "markdown",
   "metadata": {},
   "source": [
    "Go back to the Medici family. Let's forget about Pucci and go to the Laplacian:"
   ]
  },
  {
   "cell_type": "code",
   "execution_count": 43,
   "metadata": {
    "ExecuteTime": {
     "end_time": "2019-12-04T13:02:28.155515Z",
     "start_time": "2019-12-04T13:02:28.153186Z"
    }
   },
   "outputs": [],
   "source": [
    "ff_new_L=np.diag(ff_new_k)-ff_new_adj"
   ]
  },
  {
   "cell_type": "code",
   "execution_count": 44,
   "metadata": {
    "ExecuteTime": {
     "end_time": "2019-12-04T13:02:28.473428Z",
     "start_time": "2019-12-04T13:02:28.469556Z"
    }
   },
   "outputs": [
    {
     "data": {
      "text/plain": [
       "array([[ 1,  0,  0,  0,  0,  0,  0,  0, -1,  0,  0,  0,  0,  0,  0],\n",
       "       [ 0,  3,  0,  0,  0, -1, -1,  0, -1,  0,  0,  0,  0,  0,  0],\n",
       "       [ 0,  0,  2,  0, -1,  0,  0,  0, -1,  0,  0,  0,  0,  0,  0],\n",
       "       [ 0,  0,  0,  3,  0,  0, -1,  0,  0,  0, -1,  0,  0, -1,  0],\n",
       "       [ 0,  0, -1,  0,  3,  0,  0,  0,  0,  0, -1,  0,  0, -1,  0],\n",
       "       [ 0, -1,  0,  0,  0,  1,  0,  0,  0,  0,  0,  0,  0,  0,  0],\n",
       "       [ 0, -1,  0, -1,  0,  0,  4, -1,  0,  0,  0,  0,  0,  0, -1],\n",
       "       [ 0,  0,  0,  0,  0,  0, -1,  1,  0,  0,  0,  0,  0,  0,  0],\n",
       "       [-1, -1, -1,  0,  0,  0,  0,  0,  6,  0,  0, -1, -1,  0, -1],\n",
       "       [ 0,  0,  0,  0,  0,  0,  0,  0,  0,  1,  0,  0, -1,  0,  0],\n",
       "       [ 0,  0,  0, -1, -1,  0,  0,  0,  0,  0,  3,  0,  0, -1,  0],\n",
       "       [ 0,  0,  0,  0,  0,  0,  0,  0, -1,  0,  0,  3,  0, -1, -1],\n",
       "       [ 0,  0,  0,  0,  0,  0,  0,  0, -1, -1,  0,  0,  2,  0,  0],\n",
       "       [ 0,  0,  0, -1, -1,  0,  0,  0,  0,  0, -1, -1,  0,  4,  0],\n",
       "       [ 0,  0,  0,  0,  0,  0, -1,  0, -1,  0,  0, -1,  0,  0,  3]])"
      ]
     },
     "execution_count": 44,
     "metadata": {},
     "output_type": "execute_result"
    }
   ],
   "source": [
    "ff_new_L"
   ]
  },
  {
   "cell_type": "code",
   "execution_count": 45,
   "metadata": {
    "ExecuteTime": {
     "end_time": "2019-12-04T13:02:29.021042Z",
     "start_time": "2019-12-04T13:02:29.009552Z"
    }
   },
   "outputs": [],
   "source": [
    "ff_new_L_eigens=la.eigh(ff_new_L)"
   ]
  },
  {
   "cell_type": "markdown",
   "metadata": {},
   "source": [
    "Some checks: "
   ]
  },
  {
   "cell_type": "code",
   "execution_count": 46,
   "metadata": {
    "ExecuteTime": {
     "end_time": "2019-12-04T13:02:29.734404Z",
     "start_time": "2019-12-04T13:02:29.731237Z"
    }
   },
   "outputs": [
    {
     "data": {
      "text/plain": [
       "True"
      ]
     },
     "execution_count": 46,
     "metadata": {},
     "output_type": "execute_result"
    }
   ],
   "source": [
    "np.all(ff_new_L_eigens[0]>=0)"
   ]
  },
  {
   "cell_type": "code",
   "execution_count": 47,
   "metadata": {
    "ExecuteTime": {
     "end_time": "2019-12-04T13:02:30.181857Z",
     "start_time": "2019-12-04T13:02:30.178926Z"
    }
   },
   "outputs": [
    {
     "data": {
      "text/plain": [
       "1.048703484575426e-15"
      ]
     },
     "execution_count": 47,
     "metadata": {},
     "output_type": "execute_result"
    }
   ],
   "source": [
    "ff_new_L_eigens[0][0]"
   ]
  },
  {
   "cell_type": "markdown",
   "metadata": {},
   "source": [
    "The smallest eigenvalue is actually zero."
   ]
  },
  {
   "cell_type": "code",
   "execution_count": 48,
   "metadata": {
    "ExecuteTime": {
     "end_time": "2019-12-04T13:02:31.259789Z",
     "start_time": "2019-12-04T13:02:31.256681Z"
    }
   },
   "outputs": [
    {
     "data": {
      "text/plain": [
       "7.2682588444324345"
      ]
     },
     "execution_count": 48,
     "metadata": {},
     "output_type": "execute_result"
    }
   ],
   "source": [
    "ff_new_L_eigens[0][-1]"
   ]
  },
  {
   "cell_type": "code",
   "execution_count": 49,
   "metadata": {
    "ExecuteTime": {
     "end_time": "2019-12-04T13:02:31.772038Z",
     "start_time": "2019-12-04T13:02:31.768791Z"
    }
   },
   "outputs": [
    {
     "data": {
      "text/plain": [
       "6"
      ]
     },
     "execution_count": 49,
     "metadata": {},
     "output_type": "execute_result"
    }
   ],
   "source": [
    "np.max(ff_k)"
   ]
  },
  {
   "cell_type": "markdown",
   "metadata": {},
   "source": [
    "Thus the greatest eigenvalue is greater than the greatest degree!"
   ]
  },
  {
   "cell_type": "code",
   "execution_count": 50,
   "metadata": {
    "ExecuteTime": {
     "end_time": "2019-12-04T13:02:35.643969Z",
     "start_time": "2019-12-04T13:02:35.640740Z"
    }
   },
   "outputs": [
    {
     "data": {
      "text/plain": [
       "0.34592316467323053"
      ]
     },
     "execution_count": 50,
     "metadata": {},
     "output_type": "execute_result"
    }
   ],
   "source": [
    "ff_new_L_eigens[0][1]"
   ]
  },
  {
   "cell_type": "markdown",
   "metadata": {},
   "source": [
    "The network is connected!"
   ]
  },
  {
   "cell_type": "markdown",
   "metadata": {},
   "source": [
    "### Exercise: define a function that calculates the Laplacian"
   ]
  },
  {
   "cell_type": "code",
   "execution_count": null,
   "metadata": {},
   "outputs": [],
   "source": []
  },
  {
   "cell_type": "markdown",
   "metadata": {},
   "source": [
    "### Exercise: show that the Zachary network is connected"
   ]
  },
  {
   "cell_type": "code",
   "execution_count": null,
   "metadata": {},
   "outputs": [],
   "source": []
  },
  {
   "cell_type": "markdown",
   "metadata": {},
   "source": [
    "### Fiedler vector"
   ]
  },
  {
   "cell_type": "markdown",
   "metadata": {},
   "source": [
    "Consider the Fiedler vector with $r=0$ and consider the relative partitions."
   ]
  },
  {
   "cell_type": "code",
   "execution_count": 138,
   "metadata": {
    "ExecuteTime": {
     "end_time": "2019-12-04T13:10:31.409270Z",
     "start_time": "2019-12-04T13:10:31.406588Z"
    }
   },
   "outputs": [],
   "source": [
    "group_0=np.where(ff_new_L_eigens[1][:, 1]>=0)[0]\n",
    "group_1=np.where(ff_new_L_eigens[1][:, 1]<0)[0]"
   ]
  },
  {
   "cell_type": "code",
   "execution_count": 139,
   "metadata": {
    "ExecuteTime": {
     "end_time": "2019-12-04T13:10:32.089842Z",
     "start_time": "2019-12-04T13:10:32.086771Z"
    }
   },
   "outputs": [
    {
     "name": "stdout",
     "output_type": "stream",
     "text": [
      "['ALBIZZI\\n' 'BARBADORI\\n' 'BISCHERI\\n' 'CASTELLAN\\n' 'GINORI\\n'\n",
      " 'GUADAGNI\\n' 'LAMBERTES\\n' 'PERUZZI\\n' 'RIDOLFI\\n' 'STROZZI\\n'\n",
      " 'TORNABUON\\n']\n",
      "['ACCIAIUOL\\n' 'MEDICI\\n' 'PAZZI\\n' 'SALVIATI\\n']\n"
     ]
    }
   ],
   "source": [
    "print(ff_new_families[group_0])\n",
    "print(ff_new_families[group_1])"
   ]
  },
  {
   "cell_type": "markdown",
   "metadata": {},
   "source": [
    "#### What happens reapplying Fiedler partition to the previous partition?"
   ]
  },
  {
   "cell_type": "markdown",
   "metadata": {},
   "source": [
    "##### group_0"
   ]
  },
  {
   "cell_type": "code",
   "execution_count": 140,
   "metadata": {
    "ExecuteTime": {
     "end_time": "2019-12-04T13:17:06.723493Z",
     "start_time": "2019-12-04T13:17:06.720925Z"
    }
   },
   "outputs": [],
   "source": [
    "ff_new_adj_0=ff_new_adj[group_0].T\n",
    "ff_new_adj_0=ff_new_adj_0[group_0]"
   ]
  },
  {
   "cell_type": "markdown",
   "metadata": {},
   "source": [
    "Check!"
   ]
  },
  {
   "cell_type": "code",
   "execution_count": 141,
   "metadata": {
    "ExecuteTime": {
     "end_time": "2019-12-04T13:17:09.684176Z",
     "start_time": "2019-12-04T13:17:09.679825Z"
    }
   },
   "outputs": [
    {
     "data": {
      "text/plain": [
       "(11, 11)"
      ]
     },
     "execution_count": 141,
     "metadata": {},
     "output_type": "execute_result"
    }
   ],
   "source": [
    "ff_new_adj_0.shape"
   ]
  },
  {
   "cell_type": "code",
   "execution_count": 142,
   "metadata": {
    "ExecuteTime": {
     "end_time": "2019-12-04T13:17:13.612509Z",
     "start_time": "2019-12-04T13:17:13.607653Z"
    }
   },
   "outputs": [
    {
     "data": {
      "text/plain": [
       "11"
      ]
     },
     "execution_count": 142,
     "metadata": {},
     "output_type": "execute_result"
    }
   ],
   "source": [
    "len(group_0)"
   ]
  },
  {
   "cell_type": "code",
   "execution_count": 143,
   "metadata": {
    "ExecuteTime": {
     "end_time": "2019-12-04T13:17:19.920960Z",
     "start_time": "2019-12-04T13:17:19.917776Z"
    }
   },
   "outputs": [
    {
     "data": {
      "text/plain": [
       "True"
      ]
     },
     "execution_count": 143,
     "metadata": {},
     "output_type": "execute_result"
    }
   ],
   "source": [
    "np.all(ff_new_adj_0.T==ff_new_adj_0)"
   ]
  },
  {
   "cell_type": "code",
   "execution_count": 148,
   "metadata": {
    "ExecuteTime": {
     "end_time": "2019-12-04T13:17:23.371251Z",
     "start_time": "2019-12-04T13:17:23.367327Z"
    }
   },
   "outputs": [
    {
     "data": {
      "text/plain": [
       "array([2, 1, 3, 3, 1, 4, 1, 3, 2, 4, 2])"
      ]
     },
     "execution_count": 148,
     "metadata": {},
     "output_type": "execute_result"
    }
   ],
   "source": [
    "np.sum(ff_new_adj_0, axis=0)"
   ]
  },
  {
   "cell_type": "code",
   "execution_count": 150,
   "metadata": {
    "ExecuteTime": {
     "end_time": "2019-12-04T13:13:04.173301Z",
     "start_time": "2019-12-04T13:13:04.171200Z"
    }
   },
   "outputs": [],
   "source": [
    "ff_new_families_0=ff_new_families[group_0]"
   ]
  },
  {
   "cell_type": "code",
   "execution_count": 144,
   "metadata": {
    "ExecuteTime": {
     "end_time": "2019-12-04T13:10:47.733268Z",
     "start_time": "2019-12-04T13:10:47.730724Z"
    }
   },
   "outputs": [],
   "source": [
    "def laplacianer(adj):\n",
    "    deg=np.sum(adj, axis=1)\n",
    "    return np.diag(deg)-adj"
   ]
  },
  {
   "cell_type": "code",
   "execution_count": 145,
   "metadata": {
    "ExecuteTime": {
     "end_time": "2019-12-04T13:10:48.051832Z",
     "start_time": "2019-12-04T13:10:48.049645Z"
    }
   },
   "outputs": [],
   "source": [
    "ff_new_L_0=laplacianer(ff_new_adj_0)"
   ]
  },
  {
   "cell_type": "code",
   "execution_count": 146,
   "metadata": {
    "ExecuteTime": {
     "end_time": "2019-12-04T13:10:48.397548Z",
     "start_time": "2019-12-04T13:10:48.395239Z"
    }
   },
   "outputs": [],
   "source": [
    "ff_new_L_0_eigens=la.eigh(ff_new_L_0)"
   ]
  },
  {
   "cell_type": "code",
   "execution_count": 147,
   "metadata": {
    "ExecuteTime": {
     "end_time": "2019-12-04T13:10:48.925104Z",
     "start_time": "2019-12-04T13:10:48.921855Z"
    }
   },
   "outputs": [
    {
     "data": {
      "text/plain": [
       "array([1.38948074e-15, 2.73478502e-01, 5.86440285e-01, 8.69907821e-01,\n",
       "       1.28707587e+00, 2.16569056e+00, 2.74778307e+00, 3.14380590e+00,\n",
       "       4.29207459e+00, 5.11218075e+00, 5.52156266e+00])"
      ]
     },
     "execution_count": 147,
     "metadata": {},
     "output_type": "execute_result"
    }
   ],
   "source": [
    "ff_new_L_0_eigens[0]"
   ]
  },
  {
   "cell_type": "markdown",
   "metadata": {},
   "source": [
    "This cluster is connected."
   ]
  },
  {
   "cell_type": "code",
   "execution_count": 155,
   "metadata": {
    "ExecuteTime": {
     "end_time": "2019-12-04T13:14:36.401027Z",
     "start_time": "2019-12-04T13:14:36.398065Z"
    }
   },
   "outputs": [],
   "source": [
    "group_0_0=np.where(ff_new_L_0_eigens[1][:, 1]>=0)[0]\n",
    "group_0_1=np.where(ff_new_L_0_eigens[1][:, 1]<0)[0]"
   ]
  },
  {
   "cell_type": "code",
   "execution_count": 160,
   "metadata": {
    "ExecuteTime": {
     "end_time": "2019-12-04T13:15:11.686092Z",
     "start_time": "2019-12-04T13:15:11.683298Z"
    }
   },
   "outputs": [
    {
     "data": {
      "text/plain": [
       "array(['ALBIZZI\\n', 'BARBADORI\\n', 'BISCHERI\\n', 'CASTELLAN\\n',\n",
       "       'GINORI\\n', 'GUADAGNI\\n', 'LAMBERTES\\n', 'PERUZZI\\n', 'RIDOLFI\\n',\n",
       "       'STROZZI\\n', 'TORNABUON\\n'], dtype='<U10')"
      ]
     },
     "execution_count": 160,
     "metadata": {},
     "output_type": "execute_result"
    }
   ],
   "source": [
    "ff_new_families_0"
   ]
  },
  {
   "cell_type": "code",
   "execution_count": 159,
   "metadata": {
    "ExecuteTime": {
     "end_time": "2019-12-04T13:15:00.548070Z",
     "start_time": "2019-12-04T13:15:00.542282Z"
    }
   },
   "outputs": [
    {
     "name": "stdout",
     "output_type": "stream",
     "text": [
      "['ALBIZZI\\n' 'GINORI\\n' 'GUADAGNI\\n' 'LAMBERTES\\n' 'TORNABUON\\n']\n",
      "['BARBADORI\\n' 'BISCHERI\\n' 'CASTELLAN\\n' 'PERUZZI\\n' 'RIDOLFI\\n'\n",
      " 'STROZZI\\n']\n"
     ]
    }
   ],
   "source": [
    "print(ff_new_families_0[group_0_0])\n",
    "print(ff_new_families_0[group_0_1])"
   ]
  },
  {
   "cell_type": "markdown",
   "metadata": {},
   "source": [
    "##### group_1"
   ]
  },
  {
   "cell_type": "code",
   "execution_count": 163,
   "metadata": {
    "ExecuteTime": {
     "end_time": "2019-12-04T13:17:06.723493Z",
     "start_time": "2019-12-04T13:17:06.720925Z"
    }
   },
   "outputs": [],
   "source": [
    "ff_new_adj_1=ff_new_adj[group_1].T\n",
    "ff_new_adj_1=ff_new_adj_1[group_1]"
   ]
  },
  {
   "cell_type": "markdown",
   "metadata": {},
   "source": [
    "Check!"
   ]
  },
  {
   "cell_type": "code",
   "execution_count": 164,
   "metadata": {
    "ExecuteTime": {
     "end_time": "2019-12-04T13:17:09.684176Z",
     "start_time": "2019-12-04T13:17:09.679825Z"
    }
   },
   "outputs": [
    {
     "data": {
      "text/plain": [
       "(4, 4)"
      ]
     },
     "execution_count": 164,
     "metadata": {},
     "output_type": "execute_result"
    }
   ],
   "source": [
    "ff_new_adj_1.shape"
   ]
  },
  {
   "cell_type": "code",
   "execution_count": 165,
   "metadata": {
    "ExecuteTime": {
     "end_time": "2019-12-04T13:17:13.612509Z",
     "start_time": "2019-12-04T13:17:13.607653Z"
    }
   },
   "outputs": [
    {
     "data": {
      "text/plain": [
       "4"
      ]
     },
     "execution_count": 165,
     "metadata": {},
     "output_type": "execute_result"
    }
   ],
   "source": [
    "len(group_1)"
   ]
  },
  {
   "cell_type": "code",
   "execution_count": 166,
   "metadata": {
    "ExecuteTime": {
     "end_time": "2019-12-04T13:17:19.920960Z",
     "start_time": "2019-12-04T13:17:19.917776Z"
    }
   },
   "outputs": [
    {
     "data": {
      "text/plain": [
       "True"
      ]
     },
     "execution_count": 166,
     "metadata": {},
     "output_type": "execute_result"
    }
   ],
   "source": [
    "np.all(ff_new_adj_1.T==ff_new_adj_1)"
   ]
  },
  {
   "cell_type": "code",
   "execution_count": 167,
   "metadata": {
    "ExecuteTime": {
     "end_time": "2019-12-04T13:17:23.371251Z",
     "start_time": "2019-12-04T13:17:23.367327Z"
    }
   },
   "outputs": [
    {
     "data": {
      "text/plain": [
       "array([1, 2, 1, 2])"
      ]
     },
     "execution_count": 167,
     "metadata": {},
     "output_type": "execute_result"
    }
   ],
   "source": [
    "np.sum(ff_new_adj_1, axis=0)"
   ]
  },
  {
   "cell_type": "code",
   "execution_count": 168,
   "metadata": {
    "ExecuteTime": {
     "end_time": "2019-12-04T13:17:26.798442Z",
     "start_time": "2019-12-04T13:17:26.796433Z"
    }
   },
   "outputs": [],
   "source": [
    "ff_new_families_1=ff_new_families[group_1]"
   ]
  },
  {
   "cell_type": "code",
   "execution_count": 169,
   "metadata": {
    "ExecuteTime": {
     "end_time": "2019-12-04T13:17:28.535144Z",
     "start_time": "2019-12-04T13:17:28.532878Z"
    }
   },
   "outputs": [],
   "source": [
    "ff_new_L_1=laplacianer(ff_new_adj_1)"
   ]
  },
  {
   "cell_type": "code",
   "execution_count": 170,
   "metadata": {
    "ExecuteTime": {
     "end_time": "2019-12-04T13:17:36.174797Z",
     "start_time": "2019-12-04T13:17:36.172469Z"
    }
   },
   "outputs": [],
   "source": [
    "ff_new_L_1_eigens=la.eigh(ff_new_L_1)"
   ]
  },
  {
   "cell_type": "code",
   "execution_count": 171,
   "metadata": {
    "ExecuteTime": {
     "end_time": "2019-12-04T13:17:40.466388Z",
     "start_time": "2019-12-04T13:17:40.462987Z"
    }
   },
   "outputs": [
    {
     "data": {
      "text/plain": [
       "array([-9.74614466e-17,  5.85786438e-01,  2.00000000e+00,  3.41421356e+00])"
      ]
     },
     "execution_count": 171,
     "metadata": {},
     "output_type": "execute_result"
    }
   ],
   "source": [
    "ff_new_L_1_eigens[0]"
   ]
  },
  {
   "cell_type": "markdown",
   "metadata": {},
   "source": [
    "This cluster is connected."
   ]
  },
  {
   "cell_type": "code",
   "execution_count": 172,
   "metadata": {
    "ExecuteTime": {
     "end_time": "2019-12-04T13:18:16.186912Z",
     "start_time": "2019-12-04T13:18:16.184036Z"
    }
   },
   "outputs": [],
   "source": [
    "group_1_0=np.where(ff_new_L_1_eigens[1][:, 1]>=0)[0]\n",
    "group_1_1=np.where(ff_new_L_1_eigens[1][:, 1]<0)[0]"
   ]
  },
  {
   "cell_type": "code",
   "execution_count": 173,
   "metadata": {
    "ExecuteTime": {
     "end_time": "2019-12-04T13:18:18.505238Z",
     "start_time": "2019-12-04T13:18:18.502079Z"
    }
   },
   "outputs": [
    {
     "data": {
      "text/plain": [
       "array(['ACCIAIUOL\\n', 'MEDICI\\n', 'PAZZI\\n', 'SALVIATI\\n'], dtype='<U10')"
      ]
     },
     "execution_count": 173,
     "metadata": {},
     "output_type": "execute_result"
    }
   ],
   "source": [
    "ff_new_families_1"
   ]
  },
  {
   "cell_type": "code",
   "execution_count": 174,
   "metadata": {
    "ExecuteTime": {
     "end_time": "2019-12-04T13:18:28.911075Z",
     "start_time": "2019-12-04T13:18:28.908469Z"
    }
   },
   "outputs": [
    {
     "name": "stdout",
     "output_type": "stream",
     "text": [
      "['ACCIAIUOL\\n' 'MEDICI\\n']\n",
      "['PAZZI\\n' 'SALVIATI\\n']\n"
     ]
    }
   ],
   "source": [
    "print(ff_new_families_1[group_1_0])\n",
    "print(ff_new_families_1[group_1_1])"
   ]
  },
  {
   "cell_type": "markdown",
   "metadata": {},
   "source": [
    "Actually there is still space for reapplying the Fiedler vector algorithm!"
   ]
  },
  {
   "cell_type": "markdown",
   "metadata": {},
   "source": [
    "### Exercise: check if there is the possibility to partition nodes further"
   ]
  },
  {
   "cell_type": "code",
   "execution_count": null,
   "metadata": {},
   "outputs": [],
   "source": []
  },
  {
   "cell_type": "markdown",
   "metadata": {},
   "source": [
    "### Exercise: define a function that get as input the adjacency matrix and returns the iterated partition in terms of the Fiedler vector\n",
    "**Hint**: A *recursive* function is a function defined in terms of itself via self-referential expressions. Sometimes it helps..."
   ]
  },
  {
   "cell_type": "code",
   "execution_count": null,
   "metadata": {},
   "outputs": [],
   "source": []
  },
  {
   "cell_type": "markdown",
   "metadata": {},
   "source": [
    "### Exercise: apply the above function to the Zachary dataset"
   ]
  },
  {
   "cell_type": "code",
   "execution_count": null,
   "metadata": {},
   "outputs": [],
   "source": []
  }
 ],
 "metadata": {
  "kernelspec": {
   "display_name": "Python 3",
   "language": "python",
   "name": "python3"
  },
  "language_info": {
   "codemirror_mode": {
    "name": "ipython",
    "version": 3
   },
   "file_extension": ".py",
   "mimetype": "text/x-python",
   "name": "python",
   "nbconvert_exporter": "python",
   "pygments_lexer": "ipython3",
   "version": "3.5.2"
  },
  "latex_envs": {
   "LaTeX_envs_menu_present": true,
   "autoclose": false,
   "autocomplete": true,
   "bibliofile": "biblio.bib",
   "cite_by": "apalike",
   "current_citInitial": 1,
   "eqLabelWithNumbers": true,
   "eqNumInitial": 1,
   "hotkeys": {
    "equation": "Ctrl-E",
    "itemize": "Ctrl-I"
   },
   "labels_anchors": false,
   "latex_user_defs": false,
   "report_style_numbering": false,
   "user_envs_cfg": false
  },
  "toc": {
   "base_numbering": 1,
   "nav_menu": {
    "height": "12px",
    "width": "252px"
   },
   "number_sections": false,
   "sideBar": true,
   "skip_h1_title": true,
   "title_cell": "Table of Contents",
   "title_sidebar": "Contents",
   "toc_cell": false,
   "toc_position": {},
   "toc_section_display": "block",
   "toc_window_display": true
  },
  "varInspector": {
   "cols": {
    "lenName": 16,
    "lenType": 16,
    "lenVar": 40
   },
   "kernels_config": {
    "python": {
     "delete_cmd_postfix": "",
     "delete_cmd_prefix": "del ",
     "library": "var_list.py",
     "varRefreshCmd": "print(var_dic_list())"
    },
    "r": {
     "delete_cmd_postfix": ") ",
     "delete_cmd_prefix": "rm(",
     "library": "var_list.r",
     "varRefreshCmd": "cat(var_dic_list()) "
    }
   },
   "types_to_exclude": [
    "module",
    "function",
    "builtin_function_or_method",
    "instance",
    "_Feature"
   ],
   "window_display": false
  }
 },
 "nbformat": 4,
 "nbformat_minor": 2
}
